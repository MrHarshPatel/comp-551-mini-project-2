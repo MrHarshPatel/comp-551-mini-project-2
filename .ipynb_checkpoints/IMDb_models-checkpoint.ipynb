{
 "cells": [
  {
   "cell_type": "code",
   "execution_count": 41,
   "metadata": {},
   "outputs": [],
   "source": [
    "import numpy as np\n",
    "import time\n",
    "from sklearn.datasets import fetch_20newsgroups \n",
    "\n",
    "from sklearn.feature_extraction.text import CountVectorizer \n",
    "from sklearn.feature_extraction.text import TfidfTransformer \n",
    "\n",
    "from sklearn.linear_model import SGDClassifier \n",
    "from sklearn.pipeline import Pipeline\n",
    "from sklearn.svm import LinearSVC\n",
    "from sklearn.linear_model import LogisticRegression\n",
    "from sklearn.ensemble import AdaBoostClassifier\n",
    "from sklearn.tree import DecisionTreeClassifier\n",
    "from sklearn.ensemble import RandomForestClassifier\n",
    "\n",
    "from sklearn.model_selection import GridSearchCV,RandomizedSearchCV\n"
   ]
  },
  {
   "cell_type": "markdown",
   "metadata": {},
   "source": [
    "## Creating test + train sets"
   ]
  },
  {
   "cell_type": "code",
   "execution_count": 42,
   "metadata": {},
   "outputs": [],
   "source": [
    "# train = pd.read_csv('train_IMDb.csv')\n",
    "# test = pd.read_csv('test_IMDb.csv')\n",
    "\n",
    "allData = pd.read_csv('CombinedIMDb.csv')"
   ]
  },
  {
   "cell_type": "code",
   "execution_count": 43,
   "metadata": {},
   "outputs": [],
   "source": [
    "class IMBD:\n",
    "    \n",
    "    def __init__(self,trainSplit = 0.5):\n",
    "        self.dataset = allData.values #the entire dataset\n",
    "        np.random.shuffle(self.dataset)\n",
    "        (leng,x) = self.dataset.shape\n",
    "        \n",
    "        self.train = self.dataset[0:int(trainSplit*leng),:]\n",
    "        self.test = self.dataset[int(trainSplit*leng):,:] \n",
    "        #future ref: If there is Unknown label type: 'unknown' error, it's because the test target must be converted to int\n",
    "        \n",
    "        self.data = self.train[:,0]\n",
    "        self.target = self.train[:,1]\n",
    "        self.target = self.target.astype('int')"
   ]
  },
  {
   "cell_type": "code",
   "execution_count": 44,
   "metadata": {},
   "outputs": [],
   "source": [
    "# categories = ['alt.atheism', 'soc.religion.christian', \n",
    "#               'comp.graphics', 'sci.med']\n",
    "\n",
    "# currently looking at all categories \n",
    "# twenty_train = fetch_20newsgroups(subset='train', shuffle=True)\n",
    "# twenty_test = fetch_20newsgroups(subset='test', shuffle=True)\n",
    "\n",
    "imbd = IMBD()"
   ]
  },
  {
   "cell_type": "code",
   "execution_count": 65,
   "metadata": {},
   "outputs": [],
   "source": [
    "model_names = ['SVM', 'Logistic Regression', 'AdaBoost', 'Decision Tree', 'Random Forest']\n",
    "\n",
    "# just need to add randomforest \n",
    "models = [\n",
    "    LinearSVC(random_state=0,max_iter=2000),\n",
    "    LogisticRegression(random_state=0,max_iter=1000),\n",
    "    AdaBoostClassifier(n_estimators=50, learning_rate=1,random_state=0),\n",
    "    DecisionTreeClassifier(random_state=0),\n",
    "    RandomForestClassifier(max_depth=2, random_state=0)\n",
    "]\n",
    "\n",
    "\n",
    "parameters = [\n",
    "    {\n",
    "        'vect__ngram_range': [(1, 1), (1, 2)],\n",
    "        'tfidf__use_idf': (True, False),\n",
    "        'clf__loss': ('hinge', 'squared_hinge')\n",
    "    },\n",
    "    {\n",
    "        'vect__ngram_range': [(1, 1), (1, 2)],\n",
    "        'tfidf__use_idf': (True, False),\n",
    "        'clf__penalty': ('l2', 'l1')\n",
    "    },\n",
    "    {\n",
    "        'vect__ngram_range': [(1, 1), (1, 2)],\n",
    "        'tfidf__use_idf': (True, False),\n",
    "        'clf__learning_rate': (1, 2, 0.5),\n",
    "        'clf__n_estimators': (10, 50, 100)\n",
    "    },\n",
    "    {\n",
    "        'vect__ngram_range': [(1, 1), (1, 2)],\n",
    "        'tfidf__use_idf': (True, False),\n",
    "        'clf__criterion': ('gini', 'entropy'),\n",
    "    },\n",
    "    {\n",
    "        'vect__ngram_range': [(1, 1), (1, 2)],\n",
    "        'tfidf__use_idf': (True, False),\n",
    "        'clf__criterion': ('gini', 'entropy'),\n",
    "    }    \n",
    "]"
   ]
  },
  {
   "cell_type": "code",
   "execution_count": 66,
   "metadata": {},
   "outputs": [],
   "source": [
    "def runGridSearchCV(parameter_grids, models, model_names):\n",
    "    start = time.time()\n",
    "    i = 0\n",
    "    best_scores = []\n",
    "    best_params = []\n",
    "    for model in models: \n",
    "        print(\"Currently training model: \", model_names[i])\n",
    "\n",
    "        text_clf = Pipeline([('vect', CountVectorizer()),\n",
    "                            ('tfidf', TfidfTransformer()),\n",
    "                            ('clf', model)])\n",
    "\n",
    "        _  = text_clf.fit(imbd.data, imbd.target)   \n",
    "\n",
    "        gs_clf = GridSearchCV(text_clf, parameter_grids[i], n_jobs=-1, cv=3,error_score=0.0)\n",
    "        gs_clf = gs_clf.fit(imbd.data, imbd.target)\n",
    "\n",
    "        best_scores.append(gs_clf.best_score_)\n",
    "        best_params.append(gs_clf.best_params_)\n",
    "\n",
    "        print(\"Time taken: \", time.time()-start)\n",
    "        print(\"Best score : \", gs_clf.best_score_)\n",
    "        print(\"Best params: \", gs_clf.best_params_)\n",
    "        print(\"\\n\\n\")\n",
    "\n",
    "        i+=1\n"
   ]
  },
  {
   "cell_type": "code",
   "execution_count": 67,
   "metadata": {},
   "outputs": [],
   "source": [
    "def runRandomizedSearchCV(parameter_grids, models, model_names, num_iters=100):\n",
    "    start = time.time()\n",
    "    i = 0\n",
    "    best_scores = []\n",
    "    best_params = []\n",
    "    for model in models: \n",
    "        print(\"Currently training model: \", model_names[i])\n",
    "\n",
    "        text_clf = Pipeline([('vect', CountVectorizer()),\n",
    "                            ('tfidf', TfidfTransformer()),\n",
    "                            ('clf', model)])\n",
    "\n",
    "        _  = text_clf.fit(imbd.data, imbd.target)    \n",
    "\n",
    "        rs_clf = RandomizedSearchCV(text_clf, parameter_grids[i], n_jobs=1, cv=3,error_score=0.0,n_iter = num_iters, verbose = 2, random_state=0)\n",
    "        rs_clf = rs_clf.fit(imbd.data, imbd.target)\n",
    "\n",
    "        best_scores.append(rs_clf.best_score_)\n",
    "        best_params.append(rs_clf.best_params_)\n",
    "\n",
    "        print(\"Time taken: \", time.time()-start)\n",
    "        print(\"Best score : \", rs_clf.best_score_)\n",
    "        print(\"Best params: \", rs_clf.best_params_)\n",
    "        print(\"\\n\\n\")\n",
    "\n",
    "        i+=1"
   ]
  },
  {
   "cell_type": "markdown",
   "metadata": {},
   "source": [
    "## Finding Hyperparameters For Each Model"
   ]
  },
  {
   "cell_type": "markdown",
   "metadata": {},
   "source": [
    "### Linear SVC Parameters"
   ]
  },
  {
   "cell_type": "code",
   "execution_count": 68,
   "metadata": {},
   "outputs": [],
   "source": [
    "linear_svc_rs = [\n",
    "    {\n",
    "        'vect__ngram_range': [(1,1),(1,2)],\n",
    "        'vect__stop_words': ['english',None],\n",
    "        'tfidf__use_idf': [True,False],\n",
    "        'clf__C': [0.01, 0.05, 0.1, 0.5, 1.0, 10, 20 , 30, 40, 50, 60, 70, 80, 90, 100],\n",
    "        'clf__penalty': ['l2','l1'],\n",
    "        'clf__loss': ['hinge','squared_hinge'],\n",
    "    }\n",
    "]"
   ]
  },
  {
   "cell_type": "code",
   "execution_count": 69,
   "metadata": {},
   "outputs": [],
   "source": [
    "# Narrowed from randomized search\n",
    "linear_svc_gs = [\n",
    "    {\n",
    "        'vect__ngram_range': [(1,1),(1,2)],\n",
    "        'vect__stop_words': ['english',None],\n",
    "        \n",
    "        'tfidf__use_idf': [True,False],\n",
    "        'clf__C': [0.01, 1.0, 100.],\n",
    "        'clf__penalty': ['l2','l1'],\n",
    "        'clf__loss': ['hinge','squared_hinge'],\n",
    "    }\n",
    "]"
   ]
  },
  {
   "cell_type": "code",
   "execution_count": 70,
   "metadata": {},
   "outputs": [
    {
     "name": "stdout",
     "output_type": "stream",
     "text": [
      "Currently training model:  SVM\n",
      "Fitting 3 folds for each of 100 candidates, totalling 300 fits\n",
      "[CV] vect__stop_words=None, vect__ngram_range=(1, 2), tfidf__use_idf=False, clf__penalty=l1, clf__loss=hinge, clf__C=0.01 \n"
     ]
    },
    {
     "name": "stderr",
     "output_type": "stream",
     "text": [
      "/home/harsh/anaconda3/lib/python3.7/site-packages/sklearn/model_selection/_validation.py:479: FitFailedWarning: Classifier fit failed. The score on this train-test partition for these parameters will be set to 0.000000. Details: \n",
      "ValueError(\"Unsupported set of arguments: The combination of penalty='l1' and loss='hinge' is not supported, Parameters: penalty='l1', loss='hinge', dual=True\")\n",
      "  \"Details: \\n%r\" % (error_score, e), FitFailedWarning)\n",
      "[Parallel(n_jobs=1)]: Done   1 out of   1 | elapsed:    8.9s remaining:    0.0s\n"
     ]
    },
    {
     "name": "stdout",
     "output_type": "stream",
     "text": [
      "[CV]  vect__stop_words=None, vect__ngram_range=(1, 2), tfidf__use_idf=False, clf__penalty=l1, clf__loss=hinge, clf__C=0.01, total=   8.9s\n",
      "[CV] vect__stop_words=None, vect__ngram_range=(1, 2), tfidf__use_idf=False, clf__penalty=l1, clf__loss=hinge, clf__C=0.01 \n"
     ]
    },
    {
     "name": "stderr",
     "output_type": "stream",
     "text": [
      "/home/harsh/anaconda3/lib/python3.7/site-packages/sklearn/model_selection/_validation.py:479: FitFailedWarning: Classifier fit failed. The score on this train-test partition for these parameters will be set to 0.000000. Details: \n",
      "ValueError(\"Unsupported set of arguments: The combination of penalty='l1' and loss='hinge' is not supported, Parameters: penalty='l1', loss='hinge', dual=True\")\n",
      "  \"Details: \\n%r\" % (error_score, e), FitFailedWarning)\n"
     ]
    },
    {
     "name": "stdout",
     "output_type": "stream",
     "text": [
      "[CV]  vect__stop_words=None, vect__ngram_range=(1, 2), tfidf__use_idf=False, clf__penalty=l1, clf__loss=hinge, clf__C=0.01, total=   8.5s\n",
      "[CV] vect__stop_words=None, vect__ngram_range=(1, 2), tfidf__use_idf=False, clf__penalty=l1, clf__loss=hinge, clf__C=0.01 \n"
     ]
    },
    {
     "name": "stderr",
     "output_type": "stream",
     "text": [
      "/home/harsh/anaconda3/lib/python3.7/site-packages/sklearn/model_selection/_validation.py:479: FitFailedWarning: Classifier fit failed. The score on this train-test partition for these parameters will be set to 0.000000. Details: \n",
      "ValueError(\"Unsupported set of arguments: The combination of penalty='l1' and loss='hinge' is not supported, Parameters: penalty='l1', loss='hinge', dual=True\")\n",
      "  \"Details: \\n%r\" % (error_score, e), FitFailedWarning)\n"
     ]
    },
    {
     "name": "stdout",
     "output_type": "stream",
     "text": [
      "[CV]  vect__stop_words=None, vect__ngram_range=(1, 2), tfidf__use_idf=False, clf__penalty=l1, clf__loss=hinge, clf__C=0.01, total=   8.8s\n",
      "[CV] vect__stop_words=english, vect__ngram_range=(1, 1), tfidf__use_idf=False, clf__penalty=l1, clf__loss=squared_hinge, clf__C=0.5 \n"
     ]
    },
    {
     "name": "stderr",
     "output_type": "stream",
     "text": [
      "/home/harsh/anaconda3/lib/python3.7/site-packages/sklearn/model_selection/_validation.py:479: FitFailedWarning: Classifier fit failed. The score on this train-test partition for these parameters will be set to 0.000000. Details: \n",
      "ValueError(\"Unsupported set of arguments: The combination of penalty='l1' and loss='squared_hinge' are not supported when dual=True, Parameters: penalty='l1', loss='squared_hinge', dual=True\")\n",
      "  \"Details: \\n%r\" % (error_score, e), FitFailedWarning)\n"
     ]
    },
    {
     "name": "stdout",
     "output_type": "stream",
     "text": [
      "[CV]  vect__stop_words=english, vect__ngram_range=(1, 1), tfidf__use_idf=False, clf__penalty=l1, clf__loss=squared_hinge, clf__C=0.5, total=   1.8s\n",
      "[CV] vect__stop_words=english, vect__ngram_range=(1, 1), tfidf__use_idf=False, clf__penalty=l1, clf__loss=squared_hinge, clf__C=0.5 \n"
     ]
    },
    {
     "name": "stderr",
     "output_type": "stream",
     "text": [
      "/home/harsh/anaconda3/lib/python3.7/site-packages/sklearn/model_selection/_validation.py:479: FitFailedWarning: Classifier fit failed. The score on this train-test partition for these parameters will be set to 0.000000. Details: \n",
      "ValueError(\"Unsupported set of arguments: The combination of penalty='l1' and loss='squared_hinge' are not supported when dual=True, Parameters: penalty='l1', loss='squared_hinge', dual=True\")\n",
      "  \"Details: \\n%r\" % (error_score, e), FitFailedWarning)\n"
     ]
    },
    {
     "name": "stdout",
     "output_type": "stream",
     "text": [
      "[CV]  vect__stop_words=english, vect__ngram_range=(1, 1), tfidf__use_idf=False, clf__penalty=l1, clf__loss=squared_hinge, clf__C=0.5, total=   1.8s\n",
      "[CV] vect__stop_words=english, vect__ngram_range=(1, 1), tfidf__use_idf=False, clf__penalty=l1, clf__loss=squared_hinge, clf__C=0.5 \n"
     ]
    },
    {
     "name": "stderr",
     "output_type": "stream",
     "text": [
      "/home/harsh/anaconda3/lib/python3.7/site-packages/sklearn/model_selection/_validation.py:479: FitFailedWarning: Classifier fit failed. The score on this train-test partition for these parameters will be set to 0.000000. Details: \n",
      "ValueError(\"Unsupported set of arguments: The combination of penalty='l1' and loss='squared_hinge' are not supported when dual=True, Parameters: penalty='l1', loss='squared_hinge', dual=True\")\n",
      "  \"Details: \\n%r\" % (error_score, e), FitFailedWarning)\n"
     ]
    },
    {
     "name": "stdout",
     "output_type": "stream",
     "text": [
      "[CV]  vect__stop_words=english, vect__ngram_range=(1, 1), tfidf__use_idf=False, clf__penalty=l1, clf__loss=squared_hinge, clf__C=0.5, total=   1.8s\n",
      "[CV] vect__stop_words=None, vect__ngram_range=(1, 1), tfidf__use_idf=False, clf__penalty=l1, clf__loss=hinge, clf__C=1.0 \n"
     ]
    },
    {
     "name": "stderr",
     "output_type": "stream",
     "text": [
      "/home/harsh/anaconda3/lib/python3.7/site-packages/sklearn/model_selection/_validation.py:479: FitFailedWarning: Classifier fit failed. The score on this train-test partition for these parameters will be set to 0.000000. Details: \n",
      "ValueError(\"Unsupported set of arguments: The combination of penalty='l1' and loss='hinge' is not supported, Parameters: penalty='l1', loss='hinge', dual=True\")\n",
      "  \"Details: \\n%r\" % (error_score, e), FitFailedWarning)\n"
     ]
    },
    {
     "name": "stdout",
     "output_type": "stream",
     "text": [
      "[CV]  vect__stop_words=None, vect__ngram_range=(1, 1), tfidf__use_idf=False, clf__penalty=l1, clf__loss=hinge, clf__C=1.0, total=   2.0s\n",
      "[CV] vect__stop_words=None, vect__ngram_range=(1, 1), tfidf__use_idf=False, clf__penalty=l1, clf__loss=hinge, clf__C=1.0 \n"
     ]
    },
    {
     "name": "stderr",
     "output_type": "stream",
     "text": [
      "/home/harsh/anaconda3/lib/python3.7/site-packages/sklearn/model_selection/_validation.py:479: FitFailedWarning: Classifier fit failed. The score on this train-test partition for these parameters will be set to 0.000000. Details: \n",
      "ValueError(\"Unsupported set of arguments: The combination of penalty='l1' and loss='hinge' is not supported, Parameters: penalty='l1', loss='hinge', dual=True\")\n",
      "  \"Details: \\n%r\" % (error_score, e), FitFailedWarning)\n"
     ]
    },
    {
     "name": "stdout",
     "output_type": "stream",
     "text": [
      "[CV]  vect__stop_words=None, vect__ngram_range=(1, 1), tfidf__use_idf=False, clf__penalty=l1, clf__loss=hinge, clf__C=1.0, total=   2.0s\n",
      "[CV] vect__stop_words=None, vect__ngram_range=(1, 1), tfidf__use_idf=False, clf__penalty=l1, clf__loss=hinge, clf__C=1.0 \n"
     ]
    },
    {
     "name": "stderr",
     "output_type": "stream",
     "text": [
      "/home/harsh/anaconda3/lib/python3.7/site-packages/sklearn/model_selection/_validation.py:479: FitFailedWarning: Classifier fit failed. The score on this train-test partition for these parameters will be set to 0.000000. Details: \n",
      "ValueError(\"Unsupported set of arguments: The combination of penalty='l1' and loss='hinge' is not supported, Parameters: penalty='l1', loss='hinge', dual=True\")\n",
      "  \"Details: \\n%r\" % (error_score, e), FitFailedWarning)\n"
     ]
    },
    {
     "name": "stdout",
     "output_type": "stream",
     "text": [
      "[CV]  vect__stop_words=None, vect__ngram_range=(1, 1), tfidf__use_idf=False, clf__penalty=l1, clf__loss=hinge, clf__C=1.0, total=   2.0s\n",
      "[CV] vect__stop_words=None, vect__ngram_range=(1, 2), tfidf__use_idf=False, clf__penalty=l2, clf__loss=hinge, clf__C=40 \n",
      "[CV]  vect__stop_words=None, vect__ngram_range=(1, 2), tfidf__use_idf=False, clf__penalty=l2, clf__loss=hinge, clf__C=40, total=  17.8s\n",
      "[CV] vect__stop_words=None, vect__ngram_range=(1, 2), tfidf__use_idf=False, clf__penalty=l2, clf__loss=hinge, clf__C=40 \n",
      "[CV]  vect__stop_words=None, vect__ngram_range=(1, 2), tfidf__use_idf=False, clf__penalty=l2, clf__loss=hinge, clf__C=40, total=  29.4s\n",
      "[CV] vect__stop_words=None, vect__ngram_range=(1, 2), tfidf__use_idf=False, clf__penalty=l2, clf__loss=hinge, clf__C=40 \n",
      "[CV]  vect__stop_words=None, vect__ngram_range=(1, 2), tfidf__use_idf=False, clf__penalty=l2, clf__loss=hinge, clf__C=40, total=  18.8s\n",
      "[CV] vect__stop_words=english, vect__ngram_range=(1, 2), tfidf__use_idf=True, clf__penalty=l1, clf__loss=hinge, clf__C=10 \n"
     ]
    },
    {
     "name": "stderr",
     "output_type": "stream",
     "text": [
      "/home/harsh/anaconda3/lib/python3.7/site-packages/sklearn/model_selection/_validation.py:479: FitFailedWarning: Classifier fit failed. The score on this train-test partition for these parameters will be set to 0.000000. Details: \n",
      "ValueError(\"Unsupported set of arguments: The combination of penalty='l1' and loss='hinge' is not supported, Parameters: penalty='l1', loss='hinge', dual=True\")\n",
      "  \"Details: \\n%r\" % (error_score, e), FitFailedWarning)\n"
     ]
    },
    {
     "name": "stdout",
     "output_type": "stream",
     "text": [
      "[CV]  vect__stop_words=english, vect__ngram_range=(1, 2), tfidf__use_idf=True, clf__penalty=l1, clf__loss=hinge, clf__C=10, total=   8.6s\n",
      "[CV] vect__stop_words=english, vect__ngram_range=(1, 2), tfidf__use_idf=True, clf__penalty=l1, clf__loss=hinge, clf__C=10 \n"
     ]
    },
    {
     "name": "stderr",
     "output_type": "stream",
     "text": [
      "/home/harsh/anaconda3/lib/python3.7/site-packages/sklearn/model_selection/_validation.py:479: FitFailedWarning: Classifier fit failed. The score on this train-test partition for these parameters will be set to 0.000000. Details: \n",
      "ValueError(\"Unsupported set of arguments: The combination of penalty='l1' and loss='hinge' is not supported, Parameters: penalty='l1', loss='hinge', dual=True\")\n",
      "  \"Details: \\n%r\" % (error_score, e), FitFailedWarning)\n"
     ]
    },
    {
     "name": "stdout",
     "output_type": "stream",
     "text": [
      "[CV]  vect__stop_words=english, vect__ngram_range=(1, 2), tfidf__use_idf=True, clf__penalty=l1, clf__loss=hinge, clf__C=10, total=   7.7s\n",
      "[CV] vect__stop_words=english, vect__ngram_range=(1, 2), tfidf__use_idf=True, clf__penalty=l1, clf__loss=hinge, clf__C=10 \n"
     ]
    },
    {
     "name": "stderr",
     "output_type": "stream",
     "text": [
      "/home/harsh/anaconda3/lib/python3.7/site-packages/sklearn/model_selection/_validation.py:479: FitFailedWarning: Classifier fit failed. The score on this train-test partition for these parameters will be set to 0.000000. Details: \n",
      "ValueError(\"Unsupported set of arguments: The combination of penalty='l1' and loss='hinge' is not supported, Parameters: penalty='l1', loss='hinge', dual=True\")\n",
      "  \"Details: \\n%r\" % (error_score, e), FitFailedWarning)\n"
     ]
    },
    {
     "name": "stdout",
     "output_type": "stream",
     "text": [
      "[CV]  vect__stop_words=english, vect__ngram_range=(1, 2), tfidf__use_idf=True, clf__penalty=l1, clf__loss=hinge, clf__C=10, total=   8.0s\n",
      "[CV] vect__stop_words=english, vect__ngram_range=(1, 2), tfidf__use_idf=False, clf__penalty=l1, clf__loss=hinge, clf__C=1.0 \n"
     ]
    },
    {
     "name": "stderr",
     "output_type": "stream",
     "text": [
      "/home/harsh/anaconda3/lib/python3.7/site-packages/sklearn/model_selection/_validation.py:479: FitFailedWarning: Classifier fit failed. The score on this train-test partition for these parameters will be set to 0.000000. Details: \n",
      "ValueError(\"Unsupported set of arguments: The combination of penalty='l1' and loss='hinge' is not supported, Parameters: penalty='l1', loss='hinge', dual=True\")\n",
      "  \"Details: \\n%r\" % (error_score, e), FitFailedWarning)\n"
     ]
    },
    {
     "name": "stdout",
     "output_type": "stream",
     "text": [
      "[CV]  vect__stop_words=english, vect__ngram_range=(1, 2), tfidf__use_idf=False, clf__penalty=l1, clf__loss=hinge, clf__C=1.0, total=   7.6s\n",
      "[CV] vect__stop_words=english, vect__ngram_range=(1, 2), tfidf__use_idf=False, clf__penalty=l1, clf__loss=hinge, clf__C=1.0 \n"
     ]
    },
    {
     "name": "stderr",
     "output_type": "stream",
     "text": [
      "/home/harsh/anaconda3/lib/python3.7/site-packages/sklearn/model_selection/_validation.py:479: FitFailedWarning: Classifier fit failed. The score on this train-test partition for these parameters will be set to 0.000000. Details: \n",
      "ValueError(\"Unsupported set of arguments: The combination of penalty='l1' and loss='hinge' is not supported, Parameters: penalty='l1', loss='hinge', dual=True\")\n",
      "  \"Details: \\n%r\" % (error_score, e), FitFailedWarning)\n"
     ]
    },
    {
     "name": "stdout",
     "output_type": "stream",
     "text": [
      "[CV]  vect__stop_words=english, vect__ngram_range=(1, 2), tfidf__use_idf=False, clf__penalty=l1, clf__loss=hinge, clf__C=1.0, total=   7.3s\n",
      "[CV] vect__stop_words=english, vect__ngram_range=(1, 2), tfidf__use_idf=False, clf__penalty=l1, clf__loss=hinge, clf__C=1.0 \n"
     ]
    },
    {
     "name": "stderr",
     "output_type": "stream",
     "text": [
      "/home/harsh/anaconda3/lib/python3.7/site-packages/sklearn/model_selection/_validation.py:479: FitFailedWarning: Classifier fit failed. The score on this train-test partition for these parameters will be set to 0.000000. Details: \n",
      "ValueError(\"Unsupported set of arguments: The combination of penalty='l1' and loss='hinge' is not supported, Parameters: penalty='l1', loss='hinge', dual=True\")\n",
      "  \"Details: \\n%r\" % (error_score, e), FitFailedWarning)\n"
     ]
    },
    {
     "name": "stdout",
     "output_type": "stream",
     "text": [
      "[CV]  vect__stop_words=english, vect__ngram_range=(1, 2), tfidf__use_idf=False, clf__penalty=l1, clf__loss=hinge, clf__C=1.0, total=   7.5s\n",
      "[CV] vect__stop_words=None, vect__ngram_range=(1, 2), tfidf__use_idf=False, clf__penalty=l1, clf__loss=hinge, clf__C=80 \n"
     ]
    },
    {
     "name": "stderr",
     "output_type": "stream",
     "text": [
      "/home/harsh/anaconda3/lib/python3.7/site-packages/sklearn/model_selection/_validation.py:479: FitFailedWarning: Classifier fit failed. The score on this train-test partition for these parameters will be set to 0.000000. Details: \n",
      "ValueError(\"Unsupported set of arguments: The combination of penalty='l1' and loss='hinge' is not supported, Parameters: penalty='l1', loss='hinge', dual=True\")\n",
      "  \"Details: \\n%r\" % (error_score, e), FitFailedWarning)\n"
     ]
    },
    {
     "name": "stdout",
     "output_type": "stream",
     "text": [
      "[CV]  vect__stop_words=None, vect__ngram_range=(1, 2), tfidf__use_idf=False, clf__penalty=l1, clf__loss=hinge, clf__C=80, total=   9.0s\n",
      "[CV] vect__stop_words=None, vect__ngram_range=(1, 2), tfidf__use_idf=False, clf__penalty=l1, clf__loss=hinge, clf__C=80 \n"
     ]
    },
    {
     "name": "stderr",
     "output_type": "stream",
     "text": [
      "/home/harsh/anaconda3/lib/python3.7/site-packages/sklearn/model_selection/_validation.py:479: FitFailedWarning: Classifier fit failed. The score on this train-test partition for these parameters will be set to 0.000000. Details: \n",
      "ValueError(\"Unsupported set of arguments: The combination of penalty='l1' and loss='hinge' is not supported, Parameters: penalty='l1', loss='hinge', dual=True\")\n",
      "  \"Details: \\n%r\" % (error_score, e), FitFailedWarning)\n"
     ]
    },
    {
     "name": "stdout",
     "output_type": "stream",
     "text": [
      "[CV]  vect__stop_words=None, vect__ngram_range=(1, 2), tfidf__use_idf=False, clf__penalty=l1, clf__loss=hinge, clf__C=80, total=   8.8s\n",
      "[CV] vect__stop_words=None, vect__ngram_range=(1, 2), tfidf__use_idf=False, clf__penalty=l1, clf__loss=hinge, clf__C=80 \n"
     ]
    },
    {
     "name": "stderr",
     "output_type": "stream",
     "text": [
      "/home/harsh/anaconda3/lib/python3.7/site-packages/sklearn/model_selection/_validation.py:479: FitFailedWarning: Classifier fit failed. The score on this train-test partition for these parameters will be set to 0.000000. Details: \n",
      "ValueError(\"Unsupported set of arguments: The combination of penalty='l1' and loss='hinge' is not supported, Parameters: penalty='l1', loss='hinge', dual=True\")\n",
      "  \"Details: \\n%r\" % (error_score, e), FitFailedWarning)\n"
     ]
    },
    {
     "name": "stdout",
     "output_type": "stream",
     "text": [
      "[CV]  vect__stop_words=None, vect__ngram_range=(1, 2), tfidf__use_idf=False, clf__penalty=l1, clf__loss=hinge, clf__C=80, total=   8.8s\n",
      "[CV] vect__stop_words=None, vect__ngram_range=(1, 1), tfidf__use_idf=False, clf__penalty=l1, clf__loss=hinge, clf__C=90 \n"
     ]
    },
    {
     "name": "stderr",
     "output_type": "stream",
     "text": [
      "/home/harsh/anaconda3/lib/python3.7/site-packages/sklearn/model_selection/_validation.py:479: FitFailedWarning: Classifier fit failed. The score on this train-test partition for these parameters will be set to 0.000000. Details: \n",
      "ValueError(\"Unsupported set of arguments: The combination of penalty='l1' and loss='hinge' is not supported, Parameters: penalty='l1', loss='hinge', dual=True\")\n",
      "  \"Details: \\n%r\" % (error_score, e), FitFailedWarning)\n"
     ]
    },
    {
     "name": "stdout",
     "output_type": "stream",
     "text": [
      "[CV]  vect__stop_words=None, vect__ngram_range=(1, 1), tfidf__use_idf=False, clf__penalty=l1, clf__loss=hinge, clf__C=90, total=   2.0s\n",
      "[CV] vect__stop_words=None, vect__ngram_range=(1, 1), tfidf__use_idf=False, clf__penalty=l1, clf__loss=hinge, clf__C=90 \n"
     ]
    },
    {
     "name": "stderr",
     "output_type": "stream",
     "text": [
      "/home/harsh/anaconda3/lib/python3.7/site-packages/sklearn/model_selection/_validation.py:479: FitFailedWarning: Classifier fit failed. The score on this train-test partition for these parameters will be set to 0.000000. Details: \n",
      "ValueError(\"Unsupported set of arguments: The combination of penalty='l1' and loss='hinge' is not supported, Parameters: penalty='l1', loss='hinge', dual=True\")\n",
      "  \"Details: \\n%r\" % (error_score, e), FitFailedWarning)\n"
     ]
    },
    {
     "name": "stdout",
     "output_type": "stream",
     "text": [
      "[CV]  vect__stop_words=None, vect__ngram_range=(1, 1), tfidf__use_idf=False, clf__penalty=l1, clf__loss=hinge, clf__C=90, total=   2.0s\n",
      "[CV] vect__stop_words=None, vect__ngram_range=(1, 1), tfidf__use_idf=False, clf__penalty=l1, clf__loss=hinge, clf__C=90 \n"
     ]
    },
    {
     "name": "stderr",
     "output_type": "stream",
     "text": [
      "/home/harsh/anaconda3/lib/python3.7/site-packages/sklearn/model_selection/_validation.py:479: FitFailedWarning: Classifier fit failed. The score on this train-test partition for these parameters will be set to 0.000000. Details: \n",
      "ValueError(\"Unsupported set of arguments: The combination of penalty='l1' and loss='hinge' is not supported, Parameters: penalty='l1', loss='hinge', dual=True\")\n",
      "  \"Details: \\n%r\" % (error_score, e), FitFailedWarning)\n"
     ]
    },
    {
     "name": "stdout",
     "output_type": "stream",
     "text": [
      "[CV]  vect__stop_words=None, vect__ngram_range=(1, 1), tfidf__use_idf=False, clf__penalty=l1, clf__loss=hinge, clf__C=90, total=   2.0s\n",
      "[CV] vect__stop_words=None, vect__ngram_range=(1, 1), tfidf__use_idf=True, clf__penalty=l2, clf__loss=squared_hinge, clf__C=0.5 \n",
      "[CV]  vect__stop_words=None, vect__ngram_range=(1, 1), tfidf__use_idf=True, clf__penalty=l2, clf__loss=squared_hinge, clf__C=0.5, total=   3.3s\n",
      "[CV] vect__stop_words=None, vect__ngram_range=(1, 1), tfidf__use_idf=True, clf__penalty=l2, clf__loss=squared_hinge, clf__C=0.5 \n",
      "[CV]  vect__stop_words=None, vect__ngram_range=(1, 1), tfidf__use_idf=True, clf__penalty=l2, clf__loss=squared_hinge, clf__C=0.5, total=   3.3s\n",
      "[CV] vect__stop_words=None, vect__ngram_range=(1, 1), tfidf__use_idf=True, clf__penalty=l2, clf__loss=squared_hinge, clf__C=0.5 \n",
      "[CV]  vect__stop_words=None, vect__ngram_range=(1, 1), tfidf__use_idf=True, clf__penalty=l2, clf__loss=squared_hinge, clf__C=0.5, total=   3.2s\n",
      "[CV] vect__stop_words=None, vect__ngram_range=(1, 1), tfidf__use_idf=False, clf__penalty=l2, clf__loss=squared_hinge, clf__C=0.01 \n",
      "[CV]  vect__stop_words=None, vect__ngram_range=(1, 1), tfidf__use_idf=False, clf__penalty=l2, clf__loss=squared_hinge, clf__C=0.01, total=   3.1s\n",
      "[CV] vect__stop_words=None, vect__ngram_range=(1, 1), tfidf__use_idf=False, clf__penalty=l2, clf__loss=squared_hinge, clf__C=0.01 \n",
      "[CV]  vect__stop_words=None, vect__ngram_range=(1, 1), tfidf__use_idf=False, clf__penalty=l2, clf__loss=squared_hinge, clf__C=0.01, total=   3.1s\n",
      "[CV] vect__stop_words=None, vect__ngram_range=(1, 1), tfidf__use_idf=False, clf__penalty=l2, clf__loss=squared_hinge, clf__C=0.01 \n",
      "[CV]  vect__stop_words=None, vect__ngram_range=(1, 1), tfidf__use_idf=False, clf__penalty=l2, clf__loss=squared_hinge, clf__C=0.01, total=   3.1s\n",
      "[CV] vect__stop_words=english, vect__ngram_range=(1, 1), tfidf__use_idf=True, clf__penalty=l1, clf__loss=squared_hinge, clf__C=60 \n"
     ]
    },
    {
     "name": "stderr",
     "output_type": "stream",
     "text": [
      "/home/harsh/anaconda3/lib/python3.7/site-packages/sklearn/model_selection/_validation.py:479: FitFailedWarning: Classifier fit failed. The score on this train-test partition for these parameters will be set to 0.000000. Details: \n",
      "ValueError(\"Unsupported set of arguments: The combination of penalty='l1' and loss='squared_hinge' are not supported when dual=True, Parameters: penalty='l1', loss='squared_hinge', dual=True\")\n",
      "  \"Details: \\n%r\" % (error_score, e), FitFailedWarning)\n"
     ]
    },
    {
     "name": "stdout",
     "output_type": "stream",
     "text": [
      "[CV]  vect__stop_words=english, vect__ngram_range=(1, 1), tfidf__use_idf=True, clf__penalty=l1, clf__loss=squared_hinge, clf__C=60, total=   1.9s\n",
      "[CV] vect__stop_words=english, vect__ngram_range=(1, 1), tfidf__use_idf=True, clf__penalty=l1, clf__loss=squared_hinge, clf__C=60 \n"
     ]
    },
    {
     "name": "stderr",
     "output_type": "stream",
     "text": [
      "/home/harsh/anaconda3/lib/python3.7/site-packages/sklearn/model_selection/_validation.py:479: FitFailedWarning: Classifier fit failed. The score on this train-test partition for these parameters will be set to 0.000000. Details: \n",
      "ValueError(\"Unsupported set of arguments: The combination of penalty='l1' and loss='squared_hinge' are not supported when dual=True, Parameters: penalty='l1', loss='squared_hinge', dual=True\")\n",
      "  \"Details: \\n%r\" % (error_score, e), FitFailedWarning)\n"
     ]
    },
    {
     "name": "stdout",
     "output_type": "stream",
     "text": [
      "[CV]  vect__stop_words=english, vect__ngram_range=(1, 1), tfidf__use_idf=True, clf__penalty=l1, clf__loss=squared_hinge, clf__C=60, total=   1.9s\n",
      "[CV] vect__stop_words=english, vect__ngram_range=(1, 1), tfidf__use_idf=True, clf__penalty=l1, clf__loss=squared_hinge, clf__C=60 \n"
     ]
    },
    {
     "name": "stderr",
     "output_type": "stream",
     "text": [
      "/home/harsh/anaconda3/lib/python3.7/site-packages/sklearn/model_selection/_validation.py:479: FitFailedWarning: Classifier fit failed. The score on this train-test partition for these parameters will be set to 0.000000. Details: \n",
      "ValueError(\"Unsupported set of arguments: The combination of penalty='l1' and loss='squared_hinge' are not supported when dual=True, Parameters: penalty='l1', loss='squared_hinge', dual=True\")\n",
      "  \"Details: \\n%r\" % (error_score, e), FitFailedWarning)\n"
     ]
    },
    {
     "name": "stdout",
     "output_type": "stream",
     "text": [
      "[CV]  vect__stop_words=english, vect__ngram_range=(1, 1), tfidf__use_idf=True, clf__penalty=l1, clf__loss=squared_hinge, clf__C=60, total=   1.9s\n",
      "[CV] vect__stop_words=english, vect__ngram_range=(1, 2), tfidf__use_idf=False, clf__penalty=l2, clf__loss=squared_hinge, clf__C=0.5 \n",
      "[CV]  vect__stop_words=english, vect__ngram_range=(1, 2), tfidf__use_idf=False, clf__penalty=l2, clf__loss=squared_hinge, clf__C=0.5, total=   9.6s\n",
      "[CV] vect__stop_words=english, vect__ngram_range=(1, 2), tfidf__use_idf=False, clf__penalty=l2, clf__loss=squared_hinge, clf__C=0.5 \n",
      "[CV]  vect__stop_words=english, vect__ngram_range=(1, 2), tfidf__use_idf=False, clf__penalty=l2, clf__loss=squared_hinge, clf__C=0.5, total=   9.1s\n",
      "[CV] vect__stop_words=english, vect__ngram_range=(1, 2), tfidf__use_idf=False, clf__penalty=l2, clf__loss=squared_hinge, clf__C=0.5 \n",
      "[CV]  vect__stop_words=english, vect__ngram_range=(1, 2), tfidf__use_idf=False, clf__penalty=l2, clf__loss=squared_hinge, clf__C=0.5, total=   9.2s\n",
      "[CV] vect__stop_words=None, vect__ngram_range=(1, 1), tfidf__use_idf=True, clf__penalty=l1, clf__loss=squared_hinge, clf__C=90 \n"
     ]
    },
    {
     "name": "stderr",
     "output_type": "stream",
     "text": [
      "/home/harsh/anaconda3/lib/python3.7/site-packages/sklearn/model_selection/_validation.py:479: FitFailedWarning: Classifier fit failed. The score on this train-test partition for these parameters will be set to 0.000000. Details: \n",
      "ValueError(\"Unsupported set of arguments: The combination of penalty='l1' and loss='squared_hinge' are not supported when dual=True, Parameters: penalty='l1', loss='squared_hinge', dual=True\")\n",
      "  \"Details: \\n%r\" % (error_score, e), FitFailedWarning)\n"
     ]
    },
    {
     "name": "stdout",
     "output_type": "stream",
     "text": [
      "[CV]  vect__stop_words=None, vect__ngram_range=(1, 1), tfidf__use_idf=True, clf__penalty=l1, clf__loss=squared_hinge, clf__C=90, total=   2.1s\n",
      "[CV] vect__stop_words=None, vect__ngram_range=(1, 1), tfidf__use_idf=True, clf__penalty=l1, clf__loss=squared_hinge, clf__C=90 \n"
     ]
    },
    {
     "name": "stderr",
     "output_type": "stream",
     "text": [
      "/home/harsh/anaconda3/lib/python3.7/site-packages/sklearn/model_selection/_validation.py:479: FitFailedWarning: Classifier fit failed. The score on this train-test partition for these parameters will be set to 0.000000. Details: \n",
      "ValueError(\"Unsupported set of arguments: The combination of penalty='l1' and loss='squared_hinge' are not supported when dual=True, Parameters: penalty='l1', loss='squared_hinge', dual=True\")\n",
      "  \"Details: \\n%r\" % (error_score, e), FitFailedWarning)\n"
     ]
    },
    {
     "name": "stdout",
     "output_type": "stream",
     "text": [
      "[CV]  vect__stop_words=None, vect__ngram_range=(1, 1), tfidf__use_idf=True, clf__penalty=l1, clf__loss=squared_hinge, clf__C=90, total=   2.0s\n",
      "[CV] vect__stop_words=None, vect__ngram_range=(1, 1), tfidf__use_idf=True, clf__penalty=l1, clf__loss=squared_hinge, clf__C=90 \n"
     ]
    },
    {
     "name": "stderr",
     "output_type": "stream",
     "text": [
      "/home/harsh/anaconda3/lib/python3.7/site-packages/sklearn/model_selection/_validation.py:479: FitFailedWarning: Classifier fit failed. The score on this train-test partition for these parameters will be set to 0.000000. Details: \n",
      "ValueError(\"Unsupported set of arguments: The combination of penalty='l1' and loss='squared_hinge' are not supported when dual=True, Parameters: penalty='l1', loss='squared_hinge', dual=True\")\n",
      "  \"Details: \\n%r\" % (error_score, e), FitFailedWarning)\n"
     ]
    },
    {
     "name": "stdout",
     "output_type": "stream",
     "text": [
      "[CV]  vect__stop_words=None, vect__ngram_range=(1, 1), tfidf__use_idf=True, clf__penalty=l1, clf__loss=squared_hinge, clf__C=90, total=   2.0s\n",
      "[CV] vect__stop_words=None, vect__ngram_range=(1, 2), tfidf__use_idf=False, clf__penalty=l2, clf__loss=hinge, clf__C=60 \n",
      "[CV]  vect__stop_words=None, vect__ngram_range=(1, 2), tfidf__use_idf=False, clf__penalty=l2, clf__loss=hinge, clf__C=60, total=  17.6s\n",
      "[CV] vect__stop_words=None, vect__ngram_range=(1, 2), tfidf__use_idf=False, clf__penalty=l2, clf__loss=hinge, clf__C=60 \n",
      "[CV]  vect__stop_words=None, vect__ngram_range=(1, 2), tfidf__use_idf=False, clf__penalty=l2, clf__loss=hinge, clf__C=60, total=  29.6s\n",
      "[CV] vect__stop_words=None, vect__ngram_range=(1, 2), tfidf__use_idf=False, clf__penalty=l2, clf__loss=hinge, clf__C=60 \n",
      "[CV]  vect__stop_words=None, vect__ngram_range=(1, 2), tfidf__use_idf=False, clf__penalty=l2, clf__loss=hinge, clf__C=60, total=  19.1s\n",
      "[CV] vect__stop_words=english, vect__ngram_range=(1, 2), tfidf__use_idf=True, clf__penalty=l1, clf__loss=squared_hinge, clf__C=30 \n"
     ]
    },
    {
     "name": "stderr",
     "output_type": "stream",
     "text": [
      "/home/harsh/anaconda3/lib/python3.7/site-packages/sklearn/model_selection/_validation.py:479: FitFailedWarning: Classifier fit failed. The score on this train-test partition for these parameters will be set to 0.000000. Details: \n",
      "ValueError(\"Unsupported set of arguments: The combination of penalty='l1' and loss='squared_hinge' are not supported when dual=True, Parameters: penalty='l1', loss='squared_hinge', dual=True\")\n",
      "  \"Details: \\n%r\" % (error_score, e), FitFailedWarning)\n"
     ]
    },
    {
     "name": "stdout",
     "output_type": "stream",
     "text": [
      "[CV]  vect__stop_words=english, vect__ngram_range=(1, 2), tfidf__use_idf=True, clf__penalty=l1, clf__loss=squared_hinge, clf__C=30, total=   8.1s\n",
      "[CV] vect__stop_words=english, vect__ngram_range=(1, 2), tfidf__use_idf=True, clf__penalty=l1, clf__loss=squared_hinge, clf__C=30 \n"
     ]
    },
    {
     "name": "stderr",
     "output_type": "stream",
     "text": [
      "/home/harsh/anaconda3/lib/python3.7/site-packages/sklearn/model_selection/_validation.py:479: FitFailedWarning: Classifier fit failed. The score on this train-test partition for these parameters will be set to 0.000000. Details: \n",
      "ValueError(\"Unsupported set of arguments: The combination of penalty='l1' and loss='squared_hinge' are not supported when dual=True, Parameters: penalty='l1', loss='squared_hinge', dual=True\")\n",
      "  \"Details: \\n%r\" % (error_score, e), FitFailedWarning)\n"
     ]
    },
    {
     "name": "stdout",
     "output_type": "stream",
     "text": [
      "[CV]  vect__stop_words=english, vect__ngram_range=(1, 2), tfidf__use_idf=True, clf__penalty=l1, clf__loss=squared_hinge, clf__C=30, total=   7.9s\n",
      "[CV] vect__stop_words=english, vect__ngram_range=(1, 2), tfidf__use_idf=True, clf__penalty=l1, clf__loss=squared_hinge, clf__C=30 \n"
     ]
    },
    {
     "name": "stderr",
     "output_type": "stream",
     "text": [
      "/home/harsh/anaconda3/lib/python3.7/site-packages/sklearn/model_selection/_validation.py:479: FitFailedWarning: Classifier fit failed. The score on this train-test partition for these parameters will be set to 0.000000. Details: \n",
      "ValueError(\"Unsupported set of arguments: The combination of penalty='l1' and loss='squared_hinge' are not supported when dual=True, Parameters: penalty='l1', loss='squared_hinge', dual=True\")\n",
      "  \"Details: \\n%r\" % (error_score, e), FitFailedWarning)\n"
     ]
    },
    {
     "name": "stdout",
     "output_type": "stream",
     "text": [
      "[CV]  vect__stop_words=english, vect__ngram_range=(1, 2), tfidf__use_idf=True, clf__penalty=l1, clf__loss=squared_hinge, clf__C=30, total=   7.8s\n",
      "[CV] vect__stop_words=None, vect__ngram_range=(1, 1), tfidf__use_idf=True, clf__penalty=l2, clf__loss=hinge, clf__C=30 \n",
      "[CV]  vect__stop_words=None, vect__ngram_range=(1, 1), tfidf__use_idf=True, clf__penalty=l2, clf__loss=hinge, clf__C=30, total=   3.8s\n",
      "[CV] vect__stop_words=None, vect__ngram_range=(1, 1), tfidf__use_idf=True, clf__penalty=l2, clf__loss=hinge, clf__C=30 \n",
      "[CV]  vect__stop_words=None, vect__ngram_range=(1, 1), tfidf__use_idf=True, clf__penalty=l2, clf__loss=hinge, clf__C=30, total=   7.4s\n",
      "[CV] vect__stop_words=None, vect__ngram_range=(1, 1), tfidf__use_idf=True, clf__penalty=l2, clf__loss=hinge, clf__C=30 \n",
      "[CV]  vect__stop_words=None, vect__ngram_range=(1, 1), tfidf__use_idf=True, clf__penalty=l2, clf__loss=hinge, clf__C=30, total=   4.2s\n",
      "[CV] vect__stop_words=None, vect__ngram_range=(1, 2), tfidf__use_idf=True, clf__penalty=l1, clf__loss=hinge, clf__C=0.1 \n"
     ]
    },
    {
     "name": "stderr",
     "output_type": "stream",
     "text": [
      "/home/harsh/anaconda3/lib/python3.7/site-packages/sklearn/model_selection/_validation.py:479: FitFailedWarning: Classifier fit failed. The score on this train-test partition for these parameters will be set to 0.000000. Details: \n",
      "ValueError(\"Unsupported set of arguments: The combination of penalty='l1' and loss='hinge' is not supported, Parameters: penalty='l1', loss='hinge', dual=True\")\n",
      "  \"Details: \\n%r\" % (error_score, e), FitFailedWarning)\n"
     ]
    },
    {
     "name": "stdout",
     "output_type": "stream",
     "text": [
      "[CV]  vect__stop_words=None, vect__ngram_range=(1, 2), tfidf__use_idf=True, clf__penalty=l1, clf__loss=hinge, clf__C=0.1, total=   9.8s\n",
      "[CV] vect__stop_words=None, vect__ngram_range=(1, 2), tfidf__use_idf=True, clf__penalty=l1, clf__loss=hinge, clf__C=0.1 \n"
     ]
    },
    {
     "name": "stderr",
     "output_type": "stream",
     "text": [
      "/home/harsh/anaconda3/lib/python3.7/site-packages/sklearn/model_selection/_validation.py:479: FitFailedWarning: Classifier fit failed. The score on this train-test partition for these parameters will be set to 0.000000. Details: \n",
      "ValueError(\"Unsupported set of arguments: The combination of penalty='l1' and loss='hinge' is not supported, Parameters: penalty='l1', loss='hinge', dual=True\")\n",
      "  \"Details: \\n%r\" % (error_score, e), FitFailedWarning)\n"
     ]
    },
    {
     "name": "stdout",
     "output_type": "stream",
     "text": [
      "[CV]  vect__stop_words=None, vect__ngram_range=(1, 2), tfidf__use_idf=True, clf__penalty=l1, clf__loss=hinge, clf__C=0.1, total=   9.0s\n",
      "[CV] vect__stop_words=None, vect__ngram_range=(1, 2), tfidf__use_idf=True, clf__penalty=l1, clf__loss=hinge, clf__C=0.1 \n"
     ]
    },
    {
     "name": "stderr",
     "output_type": "stream",
     "text": [
      "/home/harsh/anaconda3/lib/python3.7/site-packages/sklearn/model_selection/_validation.py:479: FitFailedWarning: Classifier fit failed. The score on this train-test partition for these parameters will be set to 0.000000. Details: \n",
      "ValueError(\"Unsupported set of arguments: The combination of penalty='l1' and loss='hinge' is not supported, Parameters: penalty='l1', loss='hinge', dual=True\")\n",
      "  \"Details: \\n%r\" % (error_score, e), FitFailedWarning)\n"
     ]
    },
    {
     "name": "stdout",
     "output_type": "stream",
     "text": [
      "[CV]  vect__stop_words=None, vect__ngram_range=(1, 2), tfidf__use_idf=True, clf__penalty=l1, clf__loss=hinge, clf__C=0.1, total=   9.3s\n",
      "[CV] vect__stop_words=english, vect__ngram_range=(1, 2), tfidf__use_idf=False, clf__penalty=l2, clf__loss=hinge, clf__C=0.5 \n",
      "[CV]  vect__stop_words=english, vect__ngram_range=(1, 2), tfidf__use_idf=False, clf__penalty=l2, clf__loss=hinge, clf__C=0.5, total=   9.2s\n",
      "[CV] vect__stop_words=english, vect__ngram_range=(1, 2), tfidf__use_idf=False, clf__penalty=l2, clf__loss=hinge, clf__C=0.5 \n",
      "[CV]  vect__stop_words=english, vect__ngram_range=(1, 2), tfidf__use_idf=False, clf__penalty=l2, clf__loss=hinge, clf__C=0.5, total=   9.3s\n",
      "[CV] vect__stop_words=english, vect__ngram_range=(1, 2), tfidf__use_idf=False, clf__penalty=l2, clf__loss=hinge, clf__C=0.5 \n",
      "[CV]  vect__stop_words=english, vect__ngram_range=(1, 2), tfidf__use_idf=False, clf__penalty=l2, clf__loss=hinge, clf__C=0.5, total=   9.3s\n",
      "[CV] vect__stop_words=english, vect__ngram_range=(1, 2), tfidf__use_idf=False, clf__penalty=l2, clf__loss=squared_hinge, clf__C=50 \n",
      "[CV]  vect__stop_words=english, vect__ngram_range=(1, 2), tfidf__use_idf=False, clf__penalty=l2, clf__loss=squared_hinge, clf__C=50, total=  19.0s\n",
      "[CV] vect__stop_words=english, vect__ngram_range=(1, 2), tfidf__use_idf=False, clf__penalty=l2, clf__loss=squared_hinge, clf__C=50 \n",
      "[CV]  vect__stop_words=english, vect__ngram_range=(1, 2), tfidf__use_idf=False, clf__penalty=l2, clf__loss=squared_hinge, clf__C=50, total=  18.3s\n",
      "[CV] vect__stop_words=english, vect__ngram_range=(1, 2), tfidf__use_idf=False, clf__penalty=l2, clf__loss=squared_hinge, clf__C=50 \n",
      "[CV]  vect__stop_words=english, vect__ngram_range=(1, 2), tfidf__use_idf=False, clf__penalty=l2, clf__loss=squared_hinge, clf__C=50, total=  18.4s\n",
      "[CV] vect__stop_words=None, vect__ngram_range=(1, 2), tfidf__use_idf=True, clf__penalty=l2, clf__loss=hinge, clf__C=70 \n",
      "[CV]  vect__stop_words=None, vect__ngram_range=(1, 2), tfidf__use_idf=True, clf__penalty=l2, clf__loss=hinge, clf__C=70, total=  13.7s\n",
      "[CV] vect__stop_words=None, vect__ngram_range=(1, 2), tfidf__use_idf=True, clf__penalty=l2, clf__loss=hinge, clf__C=70 \n",
      "[CV]  vect__stop_words=None, vect__ngram_range=(1, 2), tfidf__use_idf=True, clf__penalty=l2, clf__loss=hinge, clf__C=70, total=  14.2s\n",
      "[CV] vect__stop_words=None, vect__ngram_range=(1, 2), tfidf__use_idf=True, clf__penalty=l2, clf__loss=hinge, clf__C=70 \n",
      "[CV]  vect__stop_words=None, vect__ngram_range=(1, 2), tfidf__use_idf=True, clf__penalty=l2, clf__loss=hinge, clf__C=70, total=  14.8s\n",
      "[CV] vect__stop_words=english, vect__ngram_range=(1, 1), tfidf__use_idf=False, clf__penalty=l2, clf__loss=squared_hinge, clf__C=100 \n",
      "[CV]  vect__stop_words=english, vect__ngram_range=(1, 1), tfidf__use_idf=False, clf__penalty=l2, clf__loss=squared_hinge, clf__C=100, total=   6.7s\n",
      "[CV] vect__stop_words=english, vect__ngram_range=(1, 1), tfidf__use_idf=False, clf__penalty=l2, clf__loss=squared_hinge, clf__C=100 \n",
      "[CV]  vect__stop_words=english, vect__ngram_range=(1, 1), tfidf__use_idf=False, clf__penalty=l2, clf__loss=squared_hinge, clf__C=100, total=   6.6s\n",
      "[CV] vect__stop_words=english, vect__ngram_range=(1, 1), tfidf__use_idf=False, clf__penalty=l2, clf__loss=squared_hinge, clf__C=100 \n",
      "[CV]  vect__stop_words=english, vect__ngram_range=(1, 1), tfidf__use_idf=False, clf__penalty=l2, clf__loss=squared_hinge, clf__C=100, total=   6.5s\n",
      "[CV] vect__stop_words=english, vect__ngram_range=(1, 1), tfidf__use_idf=False, clf__penalty=l2, clf__loss=hinge, clf__C=0.5 \n",
      "[CV]  vect__stop_words=english, vect__ngram_range=(1, 1), tfidf__use_idf=False, clf__penalty=l2, clf__loss=hinge, clf__C=0.5, total=   2.8s\n",
      "[CV] vect__stop_words=english, vect__ngram_range=(1, 1), tfidf__use_idf=False, clf__penalty=l2, clf__loss=hinge, clf__C=0.5 \n",
      "[CV]  vect__stop_words=english, vect__ngram_range=(1, 1), tfidf__use_idf=False, clf__penalty=l2, clf__loss=hinge, clf__C=0.5, total=   2.7s\n",
      "[CV] vect__stop_words=english, vect__ngram_range=(1, 1), tfidf__use_idf=False, clf__penalty=l2, clf__loss=hinge, clf__C=0.5 \n",
      "[CV]  vect__stop_words=english, vect__ngram_range=(1, 1), tfidf__use_idf=False, clf__penalty=l2, clf__loss=hinge, clf__C=0.5, total=   2.7s\n",
      "[CV] vect__stop_words=None, vect__ngram_range=(1, 1), tfidf__use_idf=False, clf__penalty=l2, clf__loss=squared_hinge, clf__C=30 \n",
      "[CV]  vect__stop_words=None, vect__ngram_range=(1, 1), tfidf__use_idf=False, clf__penalty=l2, clf__loss=squared_hinge, clf__C=30, total=   7.1s\n",
      "[CV] vect__stop_words=None, vect__ngram_range=(1, 1), tfidf__use_idf=False, clf__penalty=l2, clf__loss=squared_hinge, clf__C=30 \n",
      "[CV]  vect__stop_words=None, vect__ngram_range=(1, 1), tfidf__use_idf=False, clf__penalty=l2, clf__loss=squared_hinge, clf__C=30, total=   6.5s\n",
      "[CV] vect__stop_words=None, vect__ngram_range=(1, 1), tfidf__use_idf=False, clf__penalty=l2, clf__loss=squared_hinge, clf__C=30 \n",
      "[CV]  vect__stop_words=None, vect__ngram_range=(1, 1), tfidf__use_idf=False, clf__penalty=l2, clf__loss=squared_hinge, clf__C=30, total=   7.0s\n",
      "[CV] vect__stop_words=None, vect__ngram_range=(1, 1), tfidf__use_idf=False, clf__penalty=l2, clf__loss=hinge, clf__C=0.05 \n",
      "[CV]  vect__stop_words=None, vect__ngram_range=(1, 1), tfidf__use_idf=False, clf__penalty=l2, clf__loss=hinge, clf__C=0.05, total=   3.0s\n",
      "[CV] vect__stop_words=None, vect__ngram_range=(1, 1), tfidf__use_idf=False, clf__penalty=l2, clf__loss=hinge, clf__C=0.05 \n",
      "[CV]  vect__stop_words=None, vect__ngram_range=(1, 1), tfidf__use_idf=False, clf__penalty=l2, clf__loss=hinge, clf__C=0.05, total=   3.0s\n",
      "[CV] vect__stop_words=None, vect__ngram_range=(1, 1), tfidf__use_idf=False, clf__penalty=l2, clf__loss=hinge, clf__C=0.05 \n",
      "[CV]  vect__stop_words=None, vect__ngram_range=(1, 1), tfidf__use_idf=False, clf__penalty=l2, clf__loss=hinge, clf__C=0.05, total=   3.0s\n",
      "[CV] vect__stop_words=english, vect__ngram_range=(1, 2), tfidf__use_idf=False, clf__penalty=l2, clf__loss=hinge, clf__C=80 \n",
      "[CV]  vect__stop_words=english, vect__ngram_range=(1, 2), tfidf__use_idf=False, clf__penalty=l2, clf__loss=hinge, clf__C=80, total=  14.8s\n",
      "[CV] vect__stop_words=english, vect__ngram_range=(1, 2), tfidf__use_idf=False, clf__penalty=l2, clf__loss=hinge, clf__C=80 \n",
      "[CV]  vect__stop_words=english, vect__ngram_range=(1, 2), tfidf__use_idf=False, clf__penalty=l2, clf__loss=hinge, clf__C=80, total=  14.3s\n",
      "[CV] vect__stop_words=english, vect__ngram_range=(1, 2), tfidf__use_idf=False, clf__penalty=l2, clf__loss=hinge, clf__C=80 \n",
      "[CV]  vect__stop_words=english, vect__ngram_range=(1, 2), tfidf__use_idf=False, clf__penalty=l2, clf__loss=hinge, clf__C=80, total=  14.8s\n",
      "[CV] vect__stop_words=None, vect__ngram_range=(1, 2), tfidf__use_idf=False, clf__penalty=l1, clf__loss=squared_hinge, clf__C=50 \n"
     ]
    },
    {
     "name": "stderr",
     "output_type": "stream",
     "text": [
      "/home/harsh/anaconda3/lib/python3.7/site-packages/sklearn/model_selection/_validation.py:479: FitFailedWarning: Classifier fit failed. The score on this train-test partition for these parameters will be set to 0.000000. Details: \n",
      "ValueError(\"Unsupported set of arguments: The combination of penalty='l1' and loss='squared_hinge' are not supported when dual=True, Parameters: penalty='l1', loss='squared_hinge', dual=True\")\n",
      "  \"Details: \\n%r\" % (error_score, e), FitFailedWarning)\n"
     ]
    },
    {
     "name": "stdout",
     "output_type": "stream",
     "text": [
      "[CV]  vect__stop_words=None, vect__ngram_range=(1, 2), tfidf__use_idf=False, clf__penalty=l1, clf__loss=squared_hinge, clf__C=50, total=   9.0s\n",
      "[CV] vect__stop_words=None, vect__ngram_range=(1, 2), tfidf__use_idf=False, clf__penalty=l1, clf__loss=squared_hinge, clf__C=50 \n"
     ]
    },
    {
     "name": "stderr",
     "output_type": "stream",
     "text": [
      "/home/harsh/anaconda3/lib/python3.7/site-packages/sklearn/model_selection/_validation.py:479: FitFailedWarning: Classifier fit failed. The score on this train-test partition for these parameters will be set to 0.000000. Details: \n",
      "ValueError(\"Unsupported set of arguments: The combination of penalty='l1' and loss='squared_hinge' are not supported when dual=True, Parameters: penalty='l1', loss='squared_hinge', dual=True\")\n",
      "  \"Details: \\n%r\" % (error_score, e), FitFailedWarning)\n"
     ]
    },
    {
     "name": "stdout",
     "output_type": "stream",
     "text": [
      "[CV]  vect__stop_words=None, vect__ngram_range=(1, 2), tfidf__use_idf=False, clf__penalty=l1, clf__loss=squared_hinge, clf__C=50, total=   8.6s\n",
      "[CV] vect__stop_words=None, vect__ngram_range=(1, 2), tfidf__use_idf=False, clf__penalty=l1, clf__loss=squared_hinge, clf__C=50 \n"
     ]
    },
    {
     "name": "stderr",
     "output_type": "stream",
     "text": [
      "/home/harsh/anaconda3/lib/python3.7/site-packages/sklearn/model_selection/_validation.py:479: FitFailedWarning: Classifier fit failed. The score on this train-test partition for these parameters will be set to 0.000000. Details: \n",
      "ValueError(\"Unsupported set of arguments: The combination of penalty='l1' and loss='squared_hinge' are not supported when dual=True, Parameters: penalty='l1', loss='squared_hinge', dual=True\")\n",
      "  \"Details: \\n%r\" % (error_score, e), FitFailedWarning)\n"
     ]
    },
    {
     "name": "stdout",
     "output_type": "stream",
     "text": [
      "[CV]  vect__stop_words=None, vect__ngram_range=(1, 2), tfidf__use_idf=False, clf__penalty=l1, clf__loss=squared_hinge, clf__C=50, total=   9.4s\n",
      "[CV] vect__stop_words=None, vect__ngram_range=(1, 2), tfidf__use_idf=True, clf__penalty=l1, clf__loss=squared_hinge, clf__C=20 \n"
     ]
    },
    {
     "name": "stderr",
     "output_type": "stream",
     "text": [
      "/home/harsh/anaconda3/lib/python3.7/site-packages/sklearn/model_selection/_validation.py:479: FitFailedWarning: Classifier fit failed. The score on this train-test partition for these parameters will be set to 0.000000. Details: \n",
      "ValueError(\"Unsupported set of arguments: The combination of penalty='l1' and loss='squared_hinge' are not supported when dual=True, Parameters: penalty='l1', loss='squared_hinge', dual=True\")\n",
      "  \"Details: \\n%r\" % (error_score, e), FitFailedWarning)\n"
     ]
    },
    {
     "name": "stdout",
     "output_type": "stream",
     "text": [
      "[CV]  vect__stop_words=None, vect__ngram_range=(1, 2), tfidf__use_idf=True, clf__penalty=l1, clf__loss=squared_hinge, clf__C=20, total=  10.4s\n",
      "[CV] vect__stop_words=None, vect__ngram_range=(1, 2), tfidf__use_idf=True, clf__penalty=l1, clf__loss=squared_hinge, clf__C=20 \n"
     ]
    },
    {
     "name": "stderr",
     "output_type": "stream",
     "text": [
      "/home/harsh/anaconda3/lib/python3.7/site-packages/sklearn/model_selection/_validation.py:479: FitFailedWarning: Classifier fit failed. The score on this train-test partition for these parameters will be set to 0.000000. Details: \n",
      "ValueError(\"Unsupported set of arguments: The combination of penalty='l1' and loss='squared_hinge' are not supported when dual=True, Parameters: penalty='l1', loss='squared_hinge', dual=True\")\n",
      "  \"Details: \\n%r\" % (error_score, e), FitFailedWarning)\n"
     ]
    },
    {
     "name": "stdout",
     "output_type": "stream",
     "text": [
      "[CV]  vect__stop_words=None, vect__ngram_range=(1, 2), tfidf__use_idf=True, clf__penalty=l1, clf__loss=squared_hinge, clf__C=20, total=   9.9s\n",
      "[CV] vect__stop_words=None, vect__ngram_range=(1, 2), tfidf__use_idf=True, clf__penalty=l1, clf__loss=squared_hinge, clf__C=20 \n"
     ]
    },
    {
     "name": "stderr",
     "output_type": "stream",
     "text": [
      "/home/harsh/anaconda3/lib/python3.7/site-packages/sklearn/model_selection/_validation.py:479: FitFailedWarning: Classifier fit failed. The score on this train-test partition for these parameters will be set to 0.000000. Details: \n",
      "ValueError(\"Unsupported set of arguments: The combination of penalty='l1' and loss='squared_hinge' are not supported when dual=True, Parameters: penalty='l1', loss='squared_hinge', dual=True\")\n",
      "  \"Details: \\n%r\" % (error_score, e), FitFailedWarning)\n"
     ]
    },
    {
     "name": "stdout",
     "output_type": "stream",
     "text": [
      "[CV]  vect__stop_words=None, vect__ngram_range=(1, 2), tfidf__use_idf=True, clf__penalty=l1, clf__loss=squared_hinge, clf__C=20, total=  10.2s\n",
      "[CV] vect__stop_words=english, vect__ngram_range=(1, 1), tfidf__use_idf=False, clf__penalty=l1, clf__loss=squared_hinge, clf__C=100 \n"
     ]
    },
    {
     "name": "stderr",
     "output_type": "stream",
     "text": [
      "/home/harsh/anaconda3/lib/python3.7/site-packages/sklearn/model_selection/_validation.py:479: FitFailedWarning: Classifier fit failed. The score on this train-test partition for these parameters will be set to 0.000000. Details: \n",
      "ValueError(\"Unsupported set of arguments: The combination of penalty='l1' and loss='squared_hinge' are not supported when dual=True, Parameters: penalty='l1', loss='squared_hinge', dual=True\")\n",
      "  \"Details: \\n%r\" % (error_score, e), FitFailedWarning)\n"
     ]
    },
    {
     "name": "stdout",
     "output_type": "stream",
     "text": [
      "[CV]  vect__stop_words=english, vect__ngram_range=(1, 1), tfidf__use_idf=False, clf__penalty=l1, clf__loss=squared_hinge, clf__C=100, total=   1.8s\n",
      "[CV] vect__stop_words=english, vect__ngram_range=(1, 1), tfidf__use_idf=False, clf__penalty=l1, clf__loss=squared_hinge, clf__C=100 \n"
     ]
    },
    {
     "name": "stderr",
     "output_type": "stream",
     "text": [
      "/home/harsh/anaconda3/lib/python3.7/site-packages/sklearn/model_selection/_validation.py:479: FitFailedWarning: Classifier fit failed. The score on this train-test partition for these parameters will be set to 0.000000. Details: \n",
      "ValueError(\"Unsupported set of arguments: The combination of penalty='l1' and loss='squared_hinge' are not supported when dual=True, Parameters: penalty='l1', loss='squared_hinge', dual=True\")\n",
      "  \"Details: \\n%r\" % (error_score, e), FitFailedWarning)\n"
     ]
    },
    {
     "name": "stdout",
     "output_type": "stream",
     "text": [
      "[CV]  vect__stop_words=english, vect__ngram_range=(1, 1), tfidf__use_idf=False, clf__penalty=l1, clf__loss=squared_hinge, clf__C=100, total=   1.9s\n",
      "[CV] vect__stop_words=english, vect__ngram_range=(1, 1), tfidf__use_idf=False, clf__penalty=l1, clf__loss=squared_hinge, clf__C=100 \n"
     ]
    },
    {
     "name": "stderr",
     "output_type": "stream",
     "text": [
      "/home/harsh/anaconda3/lib/python3.7/site-packages/sklearn/model_selection/_validation.py:479: FitFailedWarning: Classifier fit failed. The score on this train-test partition for these parameters will be set to 0.000000. Details: \n",
      "ValueError(\"Unsupported set of arguments: The combination of penalty='l1' and loss='squared_hinge' are not supported when dual=True, Parameters: penalty='l1', loss='squared_hinge', dual=True\")\n",
      "  \"Details: \\n%r\" % (error_score, e), FitFailedWarning)\n"
     ]
    },
    {
     "name": "stdout",
     "output_type": "stream",
     "text": [
      "[CV]  vect__stop_words=english, vect__ngram_range=(1, 1), tfidf__use_idf=False, clf__penalty=l1, clf__loss=squared_hinge, clf__C=100, total=   1.9s\n",
      "[CV] vect__stop_words=None, vect__ngram_range=(1, 2), tfidf__use_idf=True, clf__penalty=l2, clf__loss=squared_hinge, clf__C=90 \n",
      "[CV]  vect__stop_words=None, vect__ngram_range=(1, 2), tfidf__use_idf=True, clf__penalty=l2, clf__loss=squared_hinge, clf__C=90, total=  40.0s\n",
      "[CV] vect__stop_words=None, vect__ngram_range=(1, 2), tfidf__use_idf=True, clf__penalty=l2, clf__loss=squared_hinge, clf__C=90 \n",
      "[CV]  vect__stop_words=None, vect__ngram_range=(1, 2), tfidf__use_idf=True, clf__penalty=l2, clf__loss=squared_hinge, clf__C=90, total=  36.6s\n",
      "[CV] vect__stop_words=None, vect__ngram_range=(1, 2), tfidf__use_idf=True, clf__penalty=l2, clf__loss=squared_hinge, clf__C=90 \n",
      "[CV]  vect__stop_words=None, vect__ngram_range=(1, 2), tfidf__use_idf=True, clf__penalty=l2, clf__loss=squared_hinge, clf__C=90, total=  38.7s\n",
      "[CV] vect__stop_words=english, vect__ngram_range=(1, 1), tfidf__use_idf=False, clf__penalty=l1, clf__loss=squared_hinge, clf__C=60 \n"
     ]
    },
    {
     "name": "stderr",
     "output_type": "stream",
     "text": [
      "/home/harsh/anaconda3/lib/python3.7/site-packages/sklearn/model_selection/_validation.py:479: FitFailedWarning: Classifier fit failed. The score on this train-test partition for these parameters will be set to 0.000000. Details: \n",
      "ValueError(\"Unsupported set of arguments: The combination of penalty='l1' and loss='squared_hinge' are not supported when dual=True, Parameters: penalty='l1', loss='squared_hinge', dual=True\")\n",
      "  \"Details: \\n%r\" % (error_score, e), FitFailedWarning)\n"
     ]
    },
    {
     "name": "stdout",
     "output_type": "stream",
     "text": [
      "[CV]  vect__stop_words=english, vect__ngram_range=(1, 1), tfidf__use_idf=False, clf__penalty=l1, clf__loss=squared_hinge, clf__C=60, total=   2.0s\n",
      "[CV] vect__stop_words=english, vect__ngram_range=(1, 1), tfidf__use_idf=False, clf__penalty=l1, clf__loss=squared_hinge, clf__C=60 \n"
     ]
    },
    {
     "name": "stderr",
     "output_type": "stream",
     "text": [
      "/home/harsh/anaconda3/lib/python3.7/site-packages/sklearn/model_selection/_validation.py:479: FitFailedWarning: Classifier fit failed. The score on this train-test partition for these parameters will be set to 0.000000. Details: \n",
      "ValueError(\"Unsupported set of arguments: The combination of penalty='l1' and loss='squared_hinge' are not supported when dual=True, Parameters: penalty='l1', loss='squared_hinge', dual=True\")\n",
      "  \"Details: \\n%r\" % (error_score, e), FitFailedWarning)\n"
     ]
    },
    {
     "name": "stdout",
     "output_type": "stream",
     "text": [
      "[CV]  vect__stop_words=english, vect__ngram_range=(1, 1), tfidf__use_idf=False, clf__penalty=l1, clf__loss=squared_hinge, clf__C=60, total=   2.0s\n",
      "[CV] vect__stop_words=english, vect__ngram_range=(1, 1), tfidf__use_idf=False, clf__penalty=l1, clf__loss=squared_hinge, clf__C=60 \n"
     ]
    },
    {
     "name": "stderr",
     "output_type": "stream",
     "text": [
      "/home/harsh/anaconda3/lib/python3.7/site-packages/sklearn/model_selection/_validation.py:479: FitFailedWarning: Classifier fit failed. The score on this train-test partition for these parameters will be set to 0.000000. Details: \n",
      "ValueError(\"Unsupported set of arguments: The combination of penalty='l1' and loss='squared_hinge' are not supported when dual=True, Parameters: penalty='l1', loss='squared_hinge', dual=True\")\n",
      "  \"Details: \\n%r\" % (error_score, e), FitFailedWarning)\n"
     ]
    },
    {
     "name": "stdout",
     "output_type": "stream",
     "text": [
      "[CV]  vect__stop_words=english, vect__ngram_range=(1, 1), tfidf__use_idf=False, clf__penalty=l1, clf__loss=squared_hinge, clf__C=60, total=   2.0s\n",
      "[CV] vect__stop_words=None, vect__ngram_range=(1, 1), tfidf__use_idf=True, clf__penalty=l2, clf__loss=squared_hinge, clf__C=90 \n",
      "[CV]  vect__stop_words=None, vect__ngram_range=(1, 1), tfidf__use_idf=True, clf__penalty=l2, clf__loss=squared_hinge, clf__C=90, total=  10.4s\n",
      "[CV] vect__stop_words=None, vect__ngram_range=(1, 1), tfidf__use_idf=True, clf__penalty=l2, clf__loss=squared_hinge, clf__C=90 \n",
      "[CV]  vect__stop_words=None, vect__ngram_range=(1, 1), tfidf__use_idf=True, clf__penalty=l2, clf__loss=squared_hinge, clf__C=90, total=  10.5s\n",
      "[CV] vect__stop_words=None, vect__ngram_range=(1, 1), tfidf__use_idf=True, clf__penalty=l2, clf__loss=squared_hinge, clf__C=90 \n",
      "[CV]  vect__stop_words=None, vect__ngram_range=(1, 1), tfidf__use_idf=True, clf__penalty=l2, clf__loss=squared_hinge, clf__C=90, total=  10.3s\n",
      "[CV] vect__stop_words=english, vect__ngram_range=(1, 1), tfidf__use_idf=False, clf__penalty=l1, clf__loss=hinge, clf__C=0.01 \n"
     ]
    },
    {
     "name": "stderr",
     "output_type": "stream",
     "text": [
      "/home/harsh/anaconda3/lib/python3.7/site-packages/sklearn/model_selection/_validation.py:479: FitFailedWarning: Classifier fit failed. The score on this train-test partition for these parameters will be set to 0.000000. Details: \n",
      "ValueError(\"Unsupported set of arguments: The combination of penalty='l1' and loss='hinge' is not supported, Parameters: penalty='l1', loss='hinge', dual=True\")\n",
      "  \"Details: \\n%r\" % (error_score, e), FitFailedWarning)\n"
     ]
    },
    {
     "name": "stdout",
     "output_type": "stream",
     "text": [
      "[CV]  vect__stop_words=english, vect__ngram_range=(1, 1), tfidf__use_idf=False, clf__penalty=l1, clf__loss=hinge, clf__C=0.01, total=   2.0s\n",
      "[CV] vect__stop_words=english, vect__ngram_range=(1, 1), tfidf__use_idf=False, clf__penalty=l1, clf__loss=hinge, clf__C=0.01 \n"
     ]
    },
    {
     "name": "stderr",
     "output_type": "stream",
     "text": [
      "/home/harsh/anaconda3/lib/python3.7/site-packages/sklearn/model_selection/_validation.py:479: FitFailedWarning: Classifier fit failed. The score on this train-test partition for these parameters will be set to 0.000000. Details: \n",
      "ValueError(\"Unsupported set of arguments: The combination of penalty='l1' and loss='hinge' is not supported, Parameters: penalty='l1', loss='hinge', dual=True\")\n",
      "  \"Details: \\n%r\" % (error_score, e), FitFailedWarning)\n"
     ]
    },
    {
     "name": "stdout",
     "output_type": "stream",
     "text": [
      "[CV]  vect__stop_words=english, vect__ngram_range=(1, 1), tfidf__use_idf=False, clf__penalty=l1, clf__loss=hinge, clf__C=0.01, total=   2.0s\n",
      "[CV] vect__stop_words=english, vect__ngram_range=(1, 1), tfidf__use_idf=False, clf__penalty=l1, clf__loss=hinge, clf__C=0.01 \n"
     ]
    },
    {
     "name": "stderr",
     "output_type": "stream",
     "text": [
      "/home/harsh/anaconda3/lib/python3.7/site-packages/sklearn/model_selection/_validation.py:479: FitFailedWarning: Classifier fit failed. The score on this train-test partition for these parameters will be set to 0.000000. Details: \n",
      "ValueError(\"Unsupported set of arguments: The combination of penalty='l1' and loss='hinge' is not supported, Parameters: penalty='l1', loss='hinge', dual=True\")\n",
      "  \"Details: \\n%r\" % (error_score, e), FitFailedWarning)\n"
     ]
    },
    {
     "name": "stdout",
     "output_type": "stream",
     "text": [
      "[CV]  vect__stop_words=english, vect__ngram_range=(1, 1), tfidf__use_idf=False, clf__penalty=l1, clf__loss=hinge, clf__C=0.01, total=   2.0s\n",
      "[CV] vect__stop_words=english, vect__ngram_range=(1, 2), tfidf__use_idf=True, clf__penalty=l2, clf__loss=hinge, clf__C=90 \n",
      "[CV]  vect__stop_words=english, vect__ngram_range=(1, 2), tfidf__use_idf=True, clf__penalty=l2, clf__loss=hinge, clf__C=90, total=  12.3s\n",
      "[CV] vect__stop_words=english, vect__ngram_range=(1, 2), tfidf__use_idf=True, clf__penalty=l2, clf__loss=hinge, clf__C=90 \n",
      "[CV]  vect__stop_words=english, vect__ngram_range=(1, 2), tfidf__use_idf=True, clf__penalty=l2, clf__loss=hinge, clf__C=90, total=  16.1s\n",
      "[CV] vect__stop_words=english, vect__ngram_range=(1, 2), tfidf__use_idf=True, clf__penalty=l2, clf__loss=hinge, clf__C=90 \n",
      "[CV]  vect__stop_words=english, vect__ngram_range=(1, 2), tfidf__use_idf=True, clf__penalty=l2, clf__loss=hinge, clf__C=90, total=  13.4s\n",
      "[CV] vect__stop_words=None, vect__ngram_range=(1, 1), tfidf__use_idf=False, clf__penalty=l2, clf__loss=hinge, clf__C=70 \n",
      "[CV]  vect__stop_words=None, vect__ngram_range=(1, 1), tfidf__use_idf=False, clf__penalty=l2, clf__loss=hinge, clf__C=70, total=  11.6s\n",
      "[CV] vect__stop_words=None, vect__ngram_range=(1, 1), tfidf__use_idf=False, clf__penalty=l2, clf__loss=hinge, clf__C=70 \n",
      "[CV]  vect__stop_words=None, vect__ngram_range=(1, 1), tfidf__use_idf=False, clf__penalty=l2, clf__loss=hinge, clf__C=70, total=  11.8s\n",
      "[CV] vect__stop_words=None, vect__ngram_range=(1, 1), tfidf__use_idf=False, clf__penalty=l2, clf__loss=hinge, clf__C=70 \n",
      "[CV]  vect__stop_words=None, vect__ngram_range=(1, 1), tfidf__use_idf=False, clf__penalty=l2, clf__loss=hinge, clf__C=70, total=  11.6s\n",
      "[CV] vect__stop_words=None, vect__ngram_range=(1, 2), tfidf__use_idf=True, clf__penalty=l2, clf__loss=hinge, clf__C=80 \n",
      "[CV]  vect__stop_words=None, vect__ngram_range=(1, 2), tfidf__use_idf=True, clf__penalty=l2, clf__loss=hinge, clf__C=80, total=  17.3s\n",
      "[CV] vect__stop_words=None, vect__ngram_range=(1, 2), tfidf__use_idf=True, clf__penalty=l2, clf__loss=hinge, clf__C=80 \n",
      "[CV]  vect__stop_words=None, vect__ngram_range=(1, 2), tfidf__use_idf=True, clf__penalty=l2, clf__loss=hinge, clf__C=80, total=  17.6s\n",
      "[CV] vect__stop_words=None, vect__ngram_range=(1, 2), tfidf__use_idf=True, clf__penalty=l2, clf__loss=hinge, clf__C=80 \n",
      "[CV]  vect__stop_words=None, vect__ngram_range=(1, 2), tfidf__use_idf=True, clf__penalty=l2, clf__loss=hinge, clf__C=80, total=  15.0s\n",
      "[CV] vect__stop_words=None, vect__ngram_range=(1, 2), tfidf__use_idf=True, clf__penalty=l2, clf__loss=squared_hinge, clf__C=10 \n",
      "[CV]  vect__stop_words=None, vect__ngram_range=(1, 2), tfidf__use_idf=True, clf__penalty=l2, clf__loss=squared_hinge, clf__C=10, total=  19.8s\n",
      "[CV] vect__stop_words=None, vect__ngram_range=(1, 2), tfidf__use_idf=True, clf__penalty=l2, clf__loss=squared_hinge, clf__C=10 \n",
      "[CV]  vect__stop_words=None, vect__ngram_range=(1, 2), tfidf__use_idf=True, clf__penalty=l2, clf__loss=squared_hinge, clf__C=10, total=  18.0s\n",
      "[CV] vect__stop_words=None, vect__ngram_range=(1, 2), tfidf__use_idf=True, clf__penalty=l2, clf__loss=squared_hinge, clf__C=10 \n",
      "[CV]  vect__stop_words=None, vect__ngram_range=(1, 2), tfidf__use_idf=True, clf__penalty=l2, clf__loss=squared_hinge, clf__C=10, total=  20.5s\n",
      "[CV] vect__stop_words=english, vect__ngram_range=(1, 1), tfidf__use_idf=False, clf__penalty=l1, clf__loss=squared_hinge, clf__C=50 \n"
     ]
    },
    {
     "name": "stderr",
     "output_type": "stream",
     "text": [
      "/home/harsh/anaconda3/lib/python3.7/site-packages/sklearn/model_selection/_validation.py:479: FitFailedWarning: Classifier fit failed. The score on this train-test partition for these parameters will be set to 0.000000. Details: \n",
      "ValueError(\"Unsupported set of arguments: The combination of penalty='l1' and loss='squared_hinge' are not supported when dual=True, Parameters: penalty='l1', loss='squared_hinge', dual=True\")\n",
      "  \"Details: \\n%r\" % (error_score, e), FitFailedWarning)\n"
     ]
    },
    {
     "name": "stdout",
     "output_type": "stream",
     "text": [
      "[CV]  vect__stop_words=english, vect__ngram_range=(1, 1), tfidf__use_idf=False, clf__penalty=l1, clf__loss=squared_hinge, clf__C=50, total=   1.9s\n",
      "[CV] vect__stop_words=english, vect__ngram_range=(1, 1), tfidf__use_idf=False, clf__penalty=l1, clf__loss=squared_hinge, clf__C=50 \n"
     ]
    },
    {
     "name": "stderr",
     "output_type": "stream",
     "text": [
      "/home/harsh/anaconda3/lib/python3.7/site-packages/sklearn/model_selection/_validation.py:479: FitFailedWarning: Classifier fit failed. The score on this train-test partition for these parameters will be set to 0.000000. Details: \n",
      "ValueError(\"Unsupported set of arguments: The combination of penalty='l1' and loss='squared_hinge' are not supported when dual=True, Parameters: penalty='l1', loss='squared_hinge', dual=True\")\n",
      "  \"Details: \\n%r\" % (error_score, e), FitFailedWarning)\n"
     ]
    },
    {
     "name": "stdout",
     "output_type": "stream",
     "text": [
      "[CV]  vect__stop_words=english, vect__ngram_range=(1, 1), tfidf__use_idf=False, clf__penalty=l1, clf__loss=squared_hinge, clf__C=50, total=   1.9s\n",
      "[CV] vect__stop_words=english, vect__ngram_range=(1, 1), tfidf__use_idf=False, clf__penalty=l1, clf__loss=squared_hinge, clf__C=50 \n"
     ]
    },
    {
     "name": "stderr",
     "output_type": "stream",
     "text": [
      "/home/harsh/anaconda3/lib/python3.7/site-packages/sklearn/model_selection/_validation.py:479: FitFailedWarning: Classifier fit failed. The score on this train-test partition for these parameters will be set to 0.000000. Details: \n",
      "ValueError(\"Unsupported set of arguments: The combination of penalty='l1' and loss='squared_hinge' are not supported when dual=True, Parameters: penalty='l1', loss='squared_hinge', dual=True\")\n",
      "  \"Details: \\n%r\" % (error_score, e), FitFailedWarning)\n"
     ]
    },
    {
     "name": "stdout",
     "output_type": "stream",
     "text": [
      "[CV]  vect__stop_words=english, vect__ngram_range=(1, 1), tfidf__use_idf=False, clf__penalty=l1, clf__loss=squared_hinge, clf__C=50, total=   1.9s\n",
      "[CV] vect__stop_words=english, vect__ngram_range=(1, 1), tfidf__use_idf=True, clf__penalty=l2, clf__loss=squared_hinge, clf__C=30 \n",
      "[CV]  vect__stop_words=english, vect__ngram_range=(1, 1), tfidf__use_idf=True, clf__penalty=l2, clf__loss=squared_hinge, clf__C=30, total=   4.4s\n",
      "[CV] vect__stop_words=english, vect__ngram_range=(1, 1), tfidf__use_idf=True, clf__penalty=l2, clf__loss=squared_hinge, clf__C=30 \n",
      "[CV]  vect__stop_words=english, vect__ngram_range=(1, 1), tfidf__use_idf=True, clf__penalty=l2, clf__loss=squared_hinge, clf__C=30, total=   4.6s\n",
      "[CV] vect__stop_words=english, vect__ngram_range=(1, 1), tfidf__use_idf=True, clf__penalty=l2, clf__loss=squared_hinge, clf__C=30 \n",
      "[CV]  vect__stop_words=english, vect__ngram_range=(1, 1), tfidf__use_idf=True, clf__penalty=l2, clf__loss=squared_hinge, clf__C=30, total=   4.6s\n",
      "[CV] vect__stop_words=english, vect__ngram_range=(1, 1), tfidf__use_idf=False, clf__penalty=l2, clf__loss=squared_hinge, clf__C=50 \n",
      "[CV]  vect__stop_words=english, vect__ngram_range=(1, 1), tfidf__use_idf=False, clf__penalty=l2, clf__loss=squared_hinge, clf__C=50, total=   5.4s\n",
      "[CV] vect__stop_words=english, vect__ngram_range=(1, 1), tfidf__use_idf=False, clf__penalty=l2, clf__loss=squared_hinge, clf__C=50 \n",
      "[CV]  vect__stop_words=english, vect__ngram_range=(1, 1), tfidf__use_idf=False, clf__penalty=l2, clf__loss=squared_hinge, clf__C=50, total=   5.1s\n",
      "[CV] vect__stop_words=english, vect__ngram_range=(1, 1), tfidf__use_idf=False, clf__penalty=l2, clf__loss=squared_hinge, clf__C=50 \n",
      "[CV]  vect__stop_words=english, vect__ngram_range=(1, 1), tfidf__use_idf=False, clf__penalty=l2, clf__loss=squared_hinge, clf__C=50, total=   5.3s\n",
      "[CV] vect__stop_words=None, vect__ngram_range=(1, 2), tfidf__use_idf=False, clf__penalty=l1, clf__loss=hinge, clf__C=70 \n"
     ]
    },
    {
     "name": "stderr",
     "output_type": "stream",
     "text": [
      "/home/harsh/anaconda3/lib/python3.7/site-packages/sklearn/model_selection/_validation.py:479: FitFailedWarning: Classifier fit failed. The score on this train-test partition for these parameters will be set to 0.000000. Details: \n",
      "ValueError(\"Unsupported set of arguments: The combination of penalty='l1' and loss='hinge' is not supported, Parameters: penalty='l1', loss='hinge', dual=True\")\n",
      "  \"Details: \\n%r\" % (error_score, e), FitFailedWarning)\n"
     ]
    },
    {
     "name": "stdout",
     "output_type": "stream",
     "text": [
      "[CV]  vect__stop_words=None, vect__ngram_range=(1, 2), tfidf__use_idf=False, clf__penalty=l1, clf__loss=hinge, clf__C=70, total=   9.8s\n",
      "[CV] vect__stop_words=None, vect__ngram_range=(1, 2), tfidf__use_idf=False, clf__penalty=l1, clf__loss=hinge, clf__C=70 \n"
     ]
    },
    {
     "name": "stderr",
     "output_type": "stream",
     "text": [
      "/home/harsh/anaconda3/lib/python3.7/site-packages/sklearn/model_selection/_validation.py:479: FitFailedWarning: Classifier fit failed. The score on this train-test partition for these parameters will be set to 0.000000. Details: \n",
      "ValueError(\"Unsupported set of arguments: The combination of penalty='l1' and loss='hinge' is not supported, Parameters: penalty='l1', loss='hinge', dual=True\")\n",
      "  \"Details: \\n%r\" % (error_score, e), FitFailedWarning)\n"
     ]
    },
    {
     "name": "stdout",
     "output_type": "stream",
     "text": [
      "[CV]  vect__stop_words=None, vect__ngram_range=(1, 2), tfidf__use_idf=False, clf__penalty=l1, clf__loss=hinge, clf__C=70, total=  10.3s\n",
      "[CV] vect__stop_words=None, vect__ngram_range=(1, 2), tfidf__use_idf=False, clf__penalty=l1, clf__loss=hinge, clf__C=70 \n"
     ]
    },
    {
     "name": "stderr",
     "output_type": "stream",
     "text": [
      "/home/harsh/anaconda3/lib/python3.7/site-packages/sklearn/model_selection/_validation.py:479: FitFailedWarning: Classifier fit failed. The score on this train-test partition for these parameters will be set to 0.000000. Details: \n",
      "ValueError(\"Unsupported set of arguments: The combination of penalty='l1' and loss='hinge' is not supported, Parameters: penalty='l1', loss='hinge', dual=True\")\n",
      "  \"Details: \\n%r\" % (error_score, e), FitFailedWarning)\n"
     ]
    },
    {
     "name": "stdout",
     "output_type": "stream",
     "text": [
      "[CV]  vect__stop_words=None, vect__ngram_range=(1, 2), tfidf__use_idf=False, clf__penalty=l1, clf__loss=hinge, clf__C=70, total=   9.4s\n",
      "[CV] vect__stop_words=english, vect__ngram_range=(1, 2), tfidf__use_idf=True, clf__penalty=l1, clf__loss=hinge, clf__C=0.01 \n"
     ]
    },
    {
     "name": "stderr",
     "output_type": "stream",
     "text": [
      "/home/harsh/anaconda3/lib/python3.7/site-packages/sklearn/model_selection/_validation.py:479: FitFailedWarning: Classifier fit failed. The score on this train-test partition for these parameters will be set to 0.000000. Details: \n",
      "ValueError(\"Unsupported set of arguments: The combination of penalty='l1' and loss='hinge' is not supported, Parameters: penalty='l1', loss='hinge', dual=True\")\n",
      "  \"Details: \\n%r\" % (error_score, e), FitFailedWarning)\n"
     ]
    },
    {
     "name": "stdout",
     "output_type": "stream",
     "text": [
      "[CV]  vect__stop_words=english, vect__ngram_range=(1, 2), tfidf__use_idf=True, clf__penalty=l1, clf__loss=hinge, clf__C=0.01, total=   8.7s\n",
      "[CV] vect__stop_words=english, vect__ngram_range=(1, 2), tfidf__use_idf=True, clf__penalty=l1, clf__loss=hinge, clf__C=0.01 \n"
     ]
    },
    {
     "name": "stderr",
     "output_type": "stream",
     "text": [
      "/home/harsh/anaconda3/lib/python3.7/site-packages/sklearn/model_selection/_validation.py:479: FitFailedWarning: Classifier fit failed. The score on this train-test partition for these parameters will be set to 0.000000. Details: \n",
      "ValueError(\"Unsupported set of arguments: The combination of penalty='l1' and loss='hinge' is not supported, Parameters: penalty='l1', loss='hinge', dual=True\")\n",
      "  \"Details: \\n%r\" % (error_score, e), FitFailedWarning)\n"
     ]
    },
    {
     "name": "stdout",
     "output_type": "stream",
     "text": [
      "[CV]  vect__stop_words=english, vect__ngram_range=(1, 2), tfidf__use_idf=True, clf__penalty=l1, clf__loss=hinge, clf__C=0.01, total=   8.1s\n",
      "[CV] vect__stop_words=english, vect__ngram_range=(1, 2), tfidf__use_idf=True, clf__penalty=l1, clf__loss=hinge, clf__C=0.01 \n"
     ]
    },
    {
     "name": "stderr",
     "output_type": "stream",
     "text": [
      "/home/harsh/anaconda3/lib/python3.7/site-packages/sklearn/model_selection/_validation.py:479: FitFailedWarning: Classifier fit failed. The score on this train-test partition for these parameters will be set to 0.000000. Details: \n",
      "ValueError(\"Unsupported set of arguments: The combination of penalty='l1' and loss='hinge' is not supported, Parameters: penalty='l1', loss='hinge', dual=True\")\n",
      "  \"Details: \\n%r\" % (error_score, e), FitFailedWarning)\n"
     ]
    },
    {
     "name": "stdout",
     "output_type": "stream",
     "text": [
      "[CV]  vect__stop_words=english, vect__ngram_range=(1, 2), tfidf__use_idf=True, clf__penalty=l1, clf__loss=hinge, clf__C=0.01, total=   8.1s\n",
      "[CV] vect__stop_words=english, vect__ngram_range=(1, 2), tfidf__use_idf=False, clf__penalty=l1, clf__loss=hinge, clf__C=0.1 \n"
     ]
    },
    {
     "name": "stderr",
     "output_type": "stream",
     "text": [
      "/home/harsh/anaconda3/lib/python3.7/site-packages/sklearn/model_selection/_validation.py:479: FitFailedWarning: Classifier fit failed. The score on this train-test partition for these parameters will be set to 0.000000. Details: \n",
      "ValueError(\"Unsupported set of arguments: The combination of penalty='l1' and loss='hinge' is not supported, Parameters: penalty='l1', loss='hinge', dual=True\")\n",
      "  \"Details: \\n%r\" % (error_score, e), FitFailedWarning)\n"
     ]
    },
    {
     "name": "stdout",
     "output_type": "stream",
     "text": [
      "[CV]  vect__stop_words=english, vect__ngram_range=(1, 2), tfidf__use_idf=False, clf__penalty=l1, clf__loss=hinge, clf__C=0.1, total=   7.6s\n",
      "[CV] vect__stop_words=english, vect__ngram_range=(1, 2), tfidf__use_idf=False, clf__penalty=l1, clf__loss=hinge, clf__C=0.1 \n"
     ]
    },
    {
     "name": "stderr",
     "output_type": "stream",
     "text": [
      "/home/harsh/anaconda3/lib/python3.7/site-packages/sklearn/model_selection/_validation.py:479: FitFailedWarning: Classifier fit failed. The score on this train-test partition for these parameters will be set to 0.000000. Details: \n",
      "ValueError(\"Unsupported set of arguments: The combination of penalty='l1' and loss='hinge' is not supported, Parameters: penalty='l1', loss='hinge', dual=True\")\n",
      "  \"Details: \\n%r\" % (error_score, e), FitFailedWarning)\n"
     ]
    },
    {
     "name": "stdout",
     "output_type": "stream",
     "text": [
      "[CV]  vect__stop_words=english, vect__ngram_range=(1, 2), tfidf__use_idf=False, clf__penalty=l1, clf__loss=hinge, clf__C=0.1, total=   8.1s\n",
      "[CV] vect__stop_words=english, vect__ngram_range=(1, 2), tfidf__use_idf=False, clf__penalty=l1, clf__loss=hinge, clf__C=0.1 \n"
     ]
    },
    {
     "name": "stderr",
     "output_type": "stream",
     "text": [
      "/home/harsh/anaconda3/lib/python3.7/site-packages/sklearn/model_selection/_validation.py:479: FitFailedWarning: Classifier fit failed. The score on this train-test partition for these parameters will be set to 0.000000. Details: \n",
      "ValueError(\"Unsupported set of arguments: The combination of penalty='l1' and loss='hinge' is not supported, Parameters: penalty='l1', loss='hinge', dual=True\")\n",
      "  \"Details: \\n%r\" % (error_score, e), FitFailedWarning)\n"
     ]
    },
    {
     "name": "stdout",
     "output_type": "stream",
     "text": [
      "[CV]  vect__stop_words=english, vect__ngram_range=(1, 2), tfidf__use_idf=False, clf__penalty=l1, clf__loss=hinge, clf__C=0.1, total=   9.2s\n",
      "[CV] vect__stop_words=english, vect__ngram_range=(1, 1), tfidf__use_idf=True, clf__penalty=l1, clf__loss=squared_hinge, clf__C=90 \n"
     ]
    },
    {
     "name": "stderr",
     "output_type": "stream",
     "text": [
      "/home/harsh/anaconda3/lib/python3.7/site-packages/sklearn/model_selection/_validation.py:479: FitFailedWarning: Classifier fit failed. The score on this train-test partition for these parameters will be set to 0.000000. Details: \n",
      "ValueError(\"Unsupported set of arguments: The combination of penalty='l1' and loss='squared_hinge' are not supported when dual=True, Parameters: penalty='l1', loss='squared_hinge', dual=True\")\n",
      "  \"Details: \\n%r\" % (error_score, e), FitFailedWarning)\n"
     ]
    },
    {
     "name": "stdout",
     "output_type": "stream",
     "text": [
      "[CV]  vect__stop_words=english, vect__ngram_range=(1, 1), tfidf__use_idf=True, clf__penalty=l1, clf__loss=squared_hinge, clf__C=90, total=   2.0s\n",
      "[CV] vect__stop_words=english, vect__ngram_range=(1, 1), tfidf__use_idf=True, clf__penalty=l1, clf__loss=squared_hinge, clf__C=90 \n"
     ]
    },
    {
     "name": "stderr",
     "output_type": "stream",
     "text": [
      "/home/harsh/anaconda3/lib/python3.7/site-packages/sklearn/model_selection/_validation.py:479: FitFailedWarning: Classifier fit failed. The score on this train-test partition for these parameters will be set to 0.000000. Details: \n",
      "ValueError(\"Unsupported set of arguments: The combination of penalty='l1' and loss='squared_hinge' are not supported when dual=True, Parameters: penalty='l1', loss='squared_hinge', dual=True\")\n",
      "  \"Details: \\n%r\" % (error_score, e), FitFailedWarning)\n"
     ]
    },
    {
     "name": "stdout",
     "output_type": "stream",
     "text": [
      "[CV]  vect__stop_words=english, vect__ngram_range=(1, 1), tfidf__use_idf=True, clf__penalty=l1, clf__loss=squared_hinge, clf__C=90, total=   2.0s\n",
      "[CV] vect__stop_words=english, vect__ngram_range=(1, 1), tfidf__use_idf=True, clf__penalty=l1, clf__loss=squared_hinge, clf__C=90 \n"
     ]
    },
    {
     "name": "stderr",
     "output_type": "stream",
     "text": [
      "/home/harsh/anaconda3/lib/python3.7/site-packages/sklearn/model_selection/_validation.py:479: FitFailedWarning: Classifier fit failed. The score on this train-test partition for these parameters will be set to 0.000000. Details: \n",
      "ValueError(\"Unsupported set of arguments: The combination of penalty='l1' and loss='squared_hinge' are not supported when dual=True, Parameters: penalty='l1', loss='squared_hinge', dual=True\")\n",
      "  \"Details: \\n%r\" % (error_score, e), FitFailedWarning)\n"
     ]
    },
    {
     "name": "stdout",
     "output_type": "stream",
     "text": [
      "[CV]  vect__stop_words=english, vect__ngram_range=(1, 1), tfidf__use_idf=True, clf__penalty=l1, clf__loss=squared_hinge, clf__C=90, total=   2.0s\n",
      "[CV] vect__stop_words=english, vect__ngram_range=(1, 1), tfidf__use_idf=True, clf__penalty=l1, clf__loss=hinge, clf__C=90 \n"
     ]
    },
    {
     "name": "stderr",
     "output_type": "stream",
     "text": [
      "/home/harsh/anaconda3/lib/python3.7/site-packages/sklearn/model_selection/_validation.py:479: FitFailedWarning: Classifier fit failed. The score on this train-test partition for these parameters will be set to 0.000000. Details: \n",
      "ValueError(\"Unsupported set of arguments: The combination of penalty='l1' and loss='hinge' is not supported, Parameters: penalty='l1', loss='hinge', dual=True\")\n",
      "  \"Details: \\n%r\" % (error_score, e), FitFailedWarning)\n"
     ]
    },
    {
     "name": "stdout",
     "output_type": "stream",
     "text": [
      "[CV]  vect__stop_words=english, vect__ngram_range=(1, 1), tfidf__use_idf=True, clf__penalty=l1, clf__loss=hinge, clf__C=90, total=   2.0s\n",
      "[CV] vect__stop_words=english, vect__ngram_range=(1, 1), tfidf__use_idf=True, clf__penalty=l1, clf__loss=hinge, clf__C=90 \n"
     ]
    },
    {
     "name": "stderr",
     "output_type": "stream",
     "text": [
      "/home/harsh/anaconda3/lib/python3.7/site-packages/sklearn/model_selection/_validation.py:479: FitFailedWarning: Classifier fit failed. The score on this train-test partition for these parameters will be set to 0.000000. Details: \n",
      "ValueError(\"Unsupported set of arguments: The combination of penalty='l1' and loss='hinge' is not supported, Parameters: penalty='l1', loss='hinge', dual=True\")\n",
      "  \"Details: \\n%r\" % (error_score, e), FitFailedWarning)\n"
     ]
    },
    {
     "name": "stdout",
     "output_type": "stream",
     "text": [
      "[CV]  vect__stop_words=english, vect__ngram_range=(1, 1), tfidf__use_idf=True, clf__penalty=l1, clf__loss=hinge, clf__C=90, total=   2.0s\n",
      "[CV] vect__stop_words=english, vect__ngram_range=(1, 1), tfidf__use_idf=True, clf__penalty=l1, clf__loss=hinge, clf__C=90 \n"
     ]
    },
    {
     "name": "stderr",
     "output_type": "stream",
     "text": [
      "/home/harsh/anaconda3/lib/python3.7/site-packages/sklearn/model_selection/_validation.py:479: FitFailedWarning: Classifier fit failed. The score on this train-test partition for these parameters will be set to 0.000000. Details: \n",
      "ValueError(\"Unsupported set of arguments: The combination of penalty='l1' and loss='hinge' is not supported, Parameters: penalty='l1', loss='hinge', dual=True\")\n",
      "  \"Details: \\n%r\" % (error_score, e), FitFailedWarning)\n"
     ]
    },
    {
     "name": "stdout",
     "output_type": "stream",
     "text": [
      "[CV]  vect__stop_words=english, vect__ngram_range=(1, 1), tfidf__use_idf=True, clf__penalty=l1, clf__loss=hinge, clf__C=90, total=   2.1s\n",
      "[CV] vect__stop_words=english, vect__ngram_range=(1, 2), tfidf__use_idf=False, clf__penalty=l2, clf__loss=hinge, clf__C=1.0 \n",
      "[CV]  vect__stop_words=english, vect__ngram_range=(1, 2), tfidf__use_idf=False, clf__penalty=l2, clf__loss=hinge, clf__C=1.0, total=  12.0s\n",
      "[CV] vect__stop_words=english, vect__ngram_range=(1, 2), tfidf__use_idf=False, clf__penalty=l2, clf__loss=hinge, clf__C=1.0 \n",
      "[CV]  vect__stop_words=english, vect__ngram_range=(1, 2), tfidf__use_idf=False, clf__penalty=l2, clf__loss=hinge, clf__C=1.0, total=  11.9s\n",
      "[CV] vect__stop_words=english, vect__ngram_range=(1, 2), tfidf__use_idf=False, clf__penalty=l2, clf__loss=hinge, clf__C=1.0 \n",
      "[CV]  vect__stop_words=english, vect__ngram_range=(1, 2), tfidf__use_idf=False, clf__penalty=l2, clf__loss=hinge, clf__C=1.0, total=  10.3s\n",
      "[CV] vect__stop_words=None, vect__ngram_range=(1, 1), tfidf__use_idf=True, clf__penalty=l2, clf__loss=hinge, clf__C=0.01 \n",
      "[CV]  vect__stop_words=None, vect__ngram_range=(1, 1), tfidf__use_idf=True, clf__penalty=l2, clf__loss=hinge, clf__C=0.01, total=   3.5s\n",
      "[CV] vect__stop_words=None, vect__ngram_range=(1, 1), tfidf__use_idf=True, clf__penalty=l2, clf__loss=hinge, clf__C=0.01 \n",
      "[CV]  vect__stop_words=None, vect__ngram_range=(1, 1), tfidf__use_idf=True, clf__penalty=l2, clf__loss=hinge, clf__C=0.01, total=   3.4s\n",
      "[CV] vect__stop_words=None, vect__ngram_range=(1, 1), tfidf__use_idf=True, clf__penalty=l2, clf__loss=hinge, clf__C=0.01 \n",
      "[CV]  vect__stop_words=None, vect__ngram_range=(1, 1), tfidf__use_idf=True, clf__penalty=l2, clf__loss=hinge, clf__C=0.01, total=   3.6s\n",
      "[CV] vect__stop_words=None, vect__ngram_range=(1, 1), tfidf__use_idf=True, clf__penalty=l1, clf__loss=hinge, clf__C=60 \n"
     ]
    },
    {
     "name": "stderr",
     "output_type": "stream",
     "text": [
      "/home/harsh/anaconda3/lib/python3.7/site-packages/sklearn/model_selection/_validation.py:479: FitFailedWarning: Classifier fit failed. The score on this train-test partition for these parameters will be set to 0.000000. Details: \n",
      "ValueError(\"Unsupported set of arguments: The combination of penalty='l1' and loss='hinge' is not supported, Parameters: penalty='l1', loss='hinge', dual=True\")\n",
      "  \"Details: \\n%r\" % (error_score, e), FitFailedWarning)\n"
     ]
    },
    {
     "name": "stdout",
     "output_type": "stream",
     "text": [
      "[CV]  vect__stop_words=None, vect__ngram_range=(1, 1), tfidf__use_idf=True, clf__penalty=l1, clf__loss=hinge, clf__C=60, total=   2.3s\n",
      "[CV] vect__stop_words=None, vect__ngram_range=(1, 1), tfidf__use_idf=True, clf__penalty=l1, clf__loss=hinge, clf__C=60 \n"
     ]
    },
    {
     "name": "stderr",
     "output_type": "stream",
     "text": [
      "/home/harsh/anaconda3/lib/python3.7/site-packages/sklearn/model_selection/_validation.py:479: FitFailedWarning: Classifier fit failed. The score on this train-test partition for these parameters will be set to 0.000000. Details: \n",
      "ValueError(\"Unsupported set of arguments: The combination of penalty='l1' and loss='hinge' is not supported, Parameters: penalty='l1', loss='hinge', dual=True\")\n",
      "  \"Details: \\n%r\" % (error_score, e), FitFailedWarning)\n"
     ]
    },
    {
     "name": "stdout",
     "output_type": "stream",
     "text": [
      "[CV]  vect__stop_words=None, vect__ngram_range=(1, 1), tfidf__use_idf=True, clf__penalty=l1, clf__loss=hinge, clf__C=60, total=   2.3s\n",
      "[CV] vect__stop_words=None, vect__ngram_range=(1, 1), tfidf__use_idf=True, clf__penalty=l1, clf__loss=hinge, clf__C=60 \n"
     ]
    },
    {
     "name": "stderr",
     "output_type": "stream",
     "text": [
      "/home/harsh/anaconda3/lib/python3.7/site-packages/sklearn/model_selection/_validation.py:479: FitFailedWarning: Classifier fit failed. The score on this train-test partition for these parameters will be set to 0.000000. Details: \n",
      "ValueError(\"Unsupported set of arguments: The combination of penalty='l1' and loss='hinge' is not supported, Parameters: penalty='l1', loss='hinge', dual=True\")\n",
      "  \"Details: \\n%r\" % (error_score, e), FitFailedWarning)\n"
     ]
    },
    {
     "name": "stdout",
     "output_type": "stream",
     "text": [
      "[CV]  vect__stop_words=None, vect__ngram_range=(1, 1), tfidf__use_idf=True, clf__penalty=l1, clf__loss=hinge, clf__C=60, total=   2.3s\n",
      "[CV] vect__stop_words=None, vect__ngram_range=(1, 1), tfidf__use_idf=True, clf__penalty=l2, clf__loss=squared_hinge, clf__C=30 \n",
      "[CV]  vect__stop_words=None, vect__ngram_range=(1, 1), tfidf__use_idf=True, clf__penalty=l2, clf__loss=squared_hinge, clf__C=30, total=   5.9s\n",
      "[CV] vect__stop_words=None, vect__ngram_range=(1, 1), tfidf__use_idf=True, clf__penalty=l2, clf__loss=squared_hinge, clf__C=30 \n",
      "[CV]  vect__stop_words=None, vect__ngram_range=(1, 1), tfidf__use_idf=True, clf__penalty=l2, clf__loss=squared_hinge, clf__C=30, total=   5.8s\n",
      "[CV] vect__stop_words=None, vect__ngram_range=(1, 1), tfidf__use_idf=True, clf__penalty=l2, clf__loss=squared_hinge, clf__C=30 \n",
      "[CV]  vect__stop_words=None, vect__ngram_range=(1, 1), tfidf__use_idf=True, clf__penalty=l2, clf__loss=squared_hinge, clf__C=30, total=   6.2s\n",
      "[CV] vect__stop_words=english, vect__ngram_range=(1, 1), tfidf__use_idf=False, clf__penalty=l1, clf__loss=hinge, clf__C=40 \n"
     ]
    },
    {
     "name": "stderr",
     "output_type": "stream",
     "text": [
      "/home/harsh/anaconda3/lib/python3.7/site-packages/sklearn/model_selection/_validation.py:479: FitFailedWarning: Classifier fit failed. The score on this train-test partition for these parameters will be set to 0.000000. Details: \n",
      "ValueError(\"Unsupported set of arguments: The combination of penalty='l1' and loss='hinge' is not supported, Parameters: penalty='l1', loss='hinge', dual=True\")\n",
      "  \"Details: \\n%r\" % (error_score, e), FitFailedWarning)\n"
     ]
    },
    {
     "name": "stdout",
     "output_type": "stream",
     "text": [
      "[CV]  vect__stop_words=english, vect__ngram_range=(1, 1), tfidf__use_idf=False, clf__penalty=l1, clf__loss=hinge, clf__C=40, total=   1.9s\n",
      "[CV] vect__stop_words=english, vect__ngram_range=(1, 1), tfidf__use_idf=False, clf__penalty=l1, clf__loss=hinge, clf__C=40 \n"
     ]
    },
    {
     "name": "stderr",
     "output_type": "stream",
     "text": [
      "/home/harsh/anaconda3/lib/python3.7/site-packages/sklearn/model_selection/_validation.py:479: FitFailedWarning: Classifier fit failed. The score on this train-test partition for these parameters will be set to 0.000000. Details: \n",
      "ValueError(\"Unsupported set of arguments: The combination of penalty='l1' and loss='hinge' is not supported, Parameters: penalty='l1', loss='hinge', dual=True\")\n",
      "  \"Details: \\n%r\" % (error_score, e), FitFailedWarning)\n"
     ]
    },
    {
     "name": "stdout",
     "output_type": "stream",
     "text": [
      "[CV]  vect__stop_words=english, vect__ngram_range=(1, 1), tfidf__use_idf=False, clf__penalty=l1, clf__loss=hinge, clf__C=40, total=   2.0s\n",
      "[CV] vect__stop_words=english, vect__ngram_range=(1, 1), tfidf__use_idf=False, clf__penalty=l1, clf__loss=hinge, clf__C=40 \n"
     ]
    },
    {
     "name": "stderr",
     "output_type": "stream",
     "text": [
      "/home/harsh/anaconda3/lib/python3.7/site-packages/sklearn/model_selection/_validation.py:479: FitFailedWarning: Classifier fit failed. The score on this train-test partition for these parameters will be set to 0.000000. Details: \n",
      "ValueError(\"Unsupported set of arguments: The combination of penalty='l1' and loss='hinge' is not supported, Parameters: penalty='l1', loss='hinge', dual=True\")\n",
      "  \"Details: \\n%r\" % (error_score, e), FitFailedWarning)\n"
     ]
    },
    {
     "name": "stdout",
     "output_type": "stream",
     "text": [
      "[CV]  vect__stop_words=english, vect__ngram_range=(1, 1), tfidf__use_idf=False, clf__penalty=l1, clf__loss=hinge, clf__C=40, total=   2.0s\n",
      "[CV] vect__stop_words=None, vect__ngram_range=(1, 2), tfidf__use_idf=False, clf__penalty=l1, clf__loss=squared_hinge, clf__C=10 \n"
     ]
    },
    {
     "name": "stderr",
     "output_type": "stream",
     "text": [
      "/home/harsh/anaconda3/lib/python3.7/site-packages/sklearn/model_selection/_validation.py:479: FitFailedWarning: Classifier fit failed. The score on this train-test partition for these parameters will be set to 0.000000. Details: \n",
      "ValueError(\"Unsupported set of arguments: The combination of penalty='l1' and loss='squared_hinge' are not supported when dual=True, Parameters: penalty='l1', loss='squared_hinge', dual=True\")\n",
      "  \"Details: \\n%r\" % (error_score, e), FitFailedWarning)\n"
     ]
    },
    {
     "name": "stdout",
     "output_type": "stream",
     "text": [
      "[CV]  vect__stop_words=None, vect__ngram_range=(1, 2), tfidf__use_idf=False, clf__penalty=l1, clf__loss=squared_hinge, clf__C=10, total=  10.6s\n",
      "[CV] vect__stop_words=None, vect__ngram_range=(1, 2), tfidf__use_idf=False, clf__penalty=l1, clf__loss=squared_hinge, clf__C=10 \n"
     ]
    },
    {
     "name": "stderr",
     "output_type": "stream",
     "text": [
      "/home/harsh/anaconda3/lib/python3.7/site-packages/sklearn/model_selection/_validation.py:479: FitFailedWarning: Classifier fit failed. The score on this train-test partition for these parameters will be set to 0.000000. Details: \n",
      "ValueError(\"Unsupported set of arguments: The combination of penalty='l1' and loss='squared_hinge' are not supported when dual=True, Parameters: penalty='l1', loss='squared_hinge', dual=True\")\n",
      "  \"Details: \\n%r\" % (error_score, e), FitFailedWarning)\n"
     ]
    },
    {
     "name": "stdout",
     "output_type": "stream",
     "text": [
      "[CV]  vect__stop_words=None, vect__ngram_range=(1, 2), tfidf__use_idf=False, clf__penalty=l1, clf__loss=squared_hinge, clf__C=10, total=  10.4s\n",
      "[CV] vect__stop_words=None, vect__ngram_range=(1, 2), tfidf__use_idf=False, clf__penalty=l1, clf__loss=squared_hinge, clf__C=10 \n"
     ]
    },
    {
     "name": "stderr",
     "output_type": "stream",
     "text": [
      "/home/harsh/anaconda3/lib/python3.7/site-packages/sklearn/model_selection/_validation.py:479: FitFailedWarning: Classifier fit failed. The score on this train-test partition for these parameters will be set to 0.000000. Details: \n",
      "ValueError(\"Unsupported set of arguments: The combination of penalty='l1' and loss='squared_hinge' are not supported when dual=True, Parameters: penalty='l1', loss='squared_hinge', dual=True\")\n",
      "  \"Details: \\n%r\" % (error_score, e), FitFailedWarning)\n"
     ]
    },
    {
     "name": "stdout",
     "output_type": "stream",
     "text": [
      "[CV]  vect__stop_words=None, vect__ngram_range=(1, 2), tfidf__use_idf=False, clf__penalty=l1, clf__loss=squared_hinge, clf__C=10, total=  10.3s\n",
      "[CV] vect__stop_words=english, vect__ngram_range=(1, 2), tfidf__use_idf=True, clf__penalty=l2, clf__loss=hinge, clf__C=20 \n",
      "[CV]  vect__stop_words=english, vect__ngram_range=(1, 2), tfidf__use_idf=True, clf__penalty=l2, clf__loss=hinge, clf__C=20, total=  11.4s\n",
      "[CV] vect__stop_words=english, vect__ngram_range=(1, 2), tfidf__use_idf=True, clf__penalty=l2, clf__loss=hinge, clf__C=20 \n",
      "[CV]  vect__stop_words=english, vect__ngram_range=(1, 2), tfidf__use_idf=True, clf__penalty=l2, clf__loss=hinge, clf__C=20, total=  16.1s\n",
      "[CV] vect__stop_words=english, vect__ngram_range=(1, 2), tfidf__use_idf=True, clf__penalty=l2, clf__loss=hinge, clf__C=20 \n",
      "[CV]  vect__stop_words=english, vect__ngram_range=(1, 2), tfidf__use_idf=True, clf__penalty=l2, clf__loss=hinge, clf__C=20, total=  13.4s\n",
      "[CV] vect__stop_words=None, vect__ngram_range=(1, 1), tfidf__use_idf=False, clf__penalty=l1, clf__loss=hinge, clf__C=20 \n"
     ]
    },
    {
     "name": "stderr",
     "output_type": "stream",
     "text": [
      "/home/harsh/anaconda3/lib/python3.7/site-packages/sklearn/model_selection/_validation.py:479: FitFailedWarning: Classifier fit failed. The score on this train-test partition for these parameters will be set to 0.000000. Details: \n",
      "ValueError(\"Unsupported set of arguments: The combination of penalty='l1' and loss='hinge' is not supported, Parameters: penalty='l1', loss='hinge', dual=True\")\n",
      "  \"Details: \\n%r\" % (error_score, e), FitFailedWarning)\n"
     ]
    },
    {
     "name": "stdout",
     "output_type": "stream",
     "text": [
      "[CV]  vect__stop_words=None, vect__ngram_range=(1, 1), tfidf__use_idf=False, clf__penalty=l1, clf__loss=hinge, clf__C=20, total=   2.1s\n",
      "[CV] vect__stop_words=None, vect__ngram_range=(1, 1), tfidf__use_idf=False, clf__penalty=l1, clf__loss=hinge, clf__C=20 \n"
     ]
    },
    {
     "name": "stderr",
     "output_type": "stream",
     "text": [
      "/home/harsh/anaconda3/lib/python3.7/site-packages/sklearn/model_selection/_validation.py:479: FitFailedWarning: Classifier fit failed. The score on this train-test partition for these parameters will be set to 0.000000. Details: \n",
      "ValueError(\"Unsupported set of arguments: The combination of penalty='l1' and loss='hinge' is not supported, Parameters: penalty='l1', loss='hinge', dual=True\")\n",
      "  \"Details: \\n%r\" % (error_score, e), FitFailedWarning)\n"
     ]
    },
    {
     "name": "stdout",
     "output_type": "stream",
     "text": [
      "[CV]  vect__stop_words=None, vect__ngram_range=(1, 1), tfidf__use_idf=False, clf__penalty=l1, clf__loss=hinge, clf__C=20, total=   2.2s\n",
      "[CV] vect__stop_words=None, vect__ngram_range=(1, 1), tfidf__use_idf=False, clf__penalty=l1, clf__loss=hinge, clf__C=20 \n"
     ]
    },
    {
     "name": "stderr",
     "output_type": "stream",
     "text": [
      "/home/harsh/anaconda3/lib/python3.7/site-packages/sklearn/model_selection/_validation.py:479: FitFailedWarning: Classifier fit failed. The score on this train-test partition for these parameters will be set to 0.000000. Details: \n",
      "ValueError(\"Unsupported set of arguments: The combination of penalty='l1' and loss='hinge' is not supported, Parameters: penalty='l1', loss='hinge', dual=True\")\n",
      "  \"Details: \\n%r\" % (error_score, e), FitFailedWarning)\n"
     ]
    },
    {
     "name": "stdout",
     "output_type": "stream",
     "text": [
      "[CV]  vect__stop_words=None, vect__ngram_range=(1, 1), tfidf__use_idf=False, clf__penalty=l1, clf__loss=hinge, clf__C=20, total=   2.1s\n",
      "[CV] vect__stop_words=None, vect__ngram_range=(1, 1), tfidf__use_idf=False, clf__penalty=l1, clf__loss=squared_hinge, clf__C=50 \n"
     ]
    },
    {
     "name": "stderr",
     "output_type": "stream",
     "text": [
      "/home/harsh/anaconda3/lib/python3.7/site-packages/sklearn/model_selection/_validation.py:479: FitFailedWarning: Classifier fit failed. The score on this train-test partition for these parameters will be set to 0.000000. Details: \n",
      "ValueError(\"Unsupported set of arguments: The combination of penalty='l1' and loss='squared_hinge' are not supported when dual=True, Parameters: penalty='l1', loss='squared_hinge', dual=True\")\n",
      "  \"Details: \\n%r\" % (error_score, e), FitFailedWarning)\n"
     ]
    },
    {
     "name": "stdout",
     "output_type": "stream",
     "text": [
      "[CV]  vect__stop_words=None, vect__ngram_range=(1, 1), tfidf__use_idf=False, clf__penalty=l1, clf__loss=squared_hinge, clf__C=50, total=   2.2s\n",
      "[CV] vect__stop_words=None, vect__ngram_range=(1, 1), tfidf__use_idf=False, clf__penalty=l1, clf__loss=squared_hinge, clf__C=50 \n"
     ]
    },
    {
     "name": "stderr",
     "output_type": "stream",
     "text": [
      "/home/harsh/anaconda3/lib/python3.7/site-packages/sklearn/model_selection/_validation.py:479: FitFailedWarning: Classifier fit failed. The score on this train-test partition for these parameters will be set to 0.000000. Details: \n",
      "ValueError(\"Unsupported set of arguments: The combination of penalty='l1' and loss='squared_hinge' are not supported when dual=True, Parameters: penalty='l1', loss='squared_hinge', dual=True\")\n",
      "  \"Details: \\n%r\" % (error_score, e), FitFailedWarning)\n"
     ]
    },
    {
     "name": "stdout",
     "output_type": "stream",
     "text": [
      "[CV]  vect__stop_words=None, vect__ngram_range=(1, 1), tfidf__use_idf=False, clf__penalty=l1, clf__loss=squared_hinge, clf__C=50, total=   2.2s\n",
      "[CV] vect__stop_words=None, vect__ngram_range=(1, 1), tfidf__use_idf=False, clf__penalty=l1, clf__loss=squared_hinge, clf__C=50 \n"
     ]
    },
    {
     "name": "stderr",
     "output_type": "stream",
     "text": [
      "/home/harsh/anaconda3/lib/python3.7/site-packages/sklearn/model_selection/_validation.py:479: FitFailedWarning: Classifier fit failed. The score on this train-test partition for these parameters will be set to 0.000000. Details: \n",
      "ValueError(\"Unsupported set of arguments: The combination of penalty='l1' and loss='squared_hinge' are not supported when dual=True, Parameters: penalty='l1', loss='squared_hinge', dual=True\")\n",
      "  \"Details: \\n%r\" % (error_score, e), FitFailedWarning)\n"
     ]
    },
    {
     "name": "stdout",
     "output_type": "stream",
     "text": [
      "[CV]  vect__stop_words=None, vect__ngram_range=(1, 1), tfidf__use_idf=False, clf__penalty=l1, clf__loss=squared_hinge, clf__C=50, total=   2.1s\n",
      "[CV] vect__stop_words=english, vect__ngram_range=(1, 1), tfidf__use_idf=False, clf__penalty=l2, clf__loss=hinge, clf__C=1.0 \n",
      "[CV]  vect__stop_words=english, vect__ngram_range=(1, 1), tfidf__use_idf=False, clf__penalty=l2, clf__loss=hinge, clf__C=1.0, total=   3.2s\n",
      "[CV] vect__stop_words=english, vect__ngram_range=(1, 1), tfidf__use_idf=False, clf__penalty=l2, clf__loss=hinge, clf__C=1.0 \n",
      "[CV]  vect__stop_words=english, vect__ngram_range=(1, 1), tfidf__use_idf=False, clf__penalty=l2, clf__loss=hinge, clf__C=1.0, total=   3.1s\n",
      "[CV] vect__stop_words=english, vect__ngram_range=(1, 1), tfidf__use_idf=False, clf__penalty=l2, clf__loss=hinge, clf__C=1.0 \n",
      "[CV]  vect__stop_words=english, vect__ngram_range=(1, 1), tfidf__use_idf=False, clf__penalty=l2, clf__loss=hinge, clf__C=1.0, total=   3.2s\n",
      "[CV] vect__stop_words=None, vect__ngram_range=(1, 2), tfidf__use_idf=False, clf__penalty=l1, clf__loss=hinge, clf__C=30 \n"
     ]
    },
    {
     "name": "stderr",
     "output_type": "stream",
     "text": [
      "/home/harsh/anaconda3/lib/python3.7/site-packages/sklearn/model_selection/_validation.py:479: FitFailedWarning: Classifier fit failed. The score on this train-test partition for these parameters will be set to 0.000000. Details: \n",
      "ValueError(\"Unsupported set of arguments: The combination of penalty='l1' and loss='hinge' is not supported, Parameters: penalty='l1', loss='hinge', dual=True\")\n",
      "  \"Details: \\n%r\" % (error_score, e), FitFailedWarning)\n"
     ]
    },
    {
     "name": "stdout",
     "output_type": "stream",
     "text": [
      "[CV]  vect__stop_words=None, vect__ngram_range=(1, 2), tfidf__use_idf=False, clf__penalty=l1, clf__loss=hinge, clf__C=30, total=  10.7s\n",
      "[CV] vect__stop_words=None, vect__ngram_range=(1, 2), tfidf__use_idf=False, clf__penalty=l1, clf__loss=hinge, clf__C=30 \n"
     ]
    },
    {
     "name": "stderr",
     "output_type": "stream",
     "text": [
      "/home/harsh/anaconda3/lib/python3.7/site-packages/sklearn/model_selection/_validation.py:479: FitFailedWarning: Classifier fit failed. The score on this train-test partition for these parameters will be set to 0.000000. Details: \n",
      "ValueError(\"Unsupported set of arguments: The combination of penalty='l1' and loss='hinge' is not supported, Parameters: penalty='l1', loss='hinge', dual=True\")\n",
      "  \"Details: \\n%r\" % (error_score, e), FitFailedWarning)\n"
     ]
    },
    {
     "name": "stdout",
     "output_type": "stream",
     "text": [
      "[CV]  vect__stop_words=None, vect__ngram_range=(1, 2), tfidf__use_idf=False, clf__penalty=l1, clf__loss=hinge, clf__C=30, total=  10.4s\n",
      "[CV] vect__stop_words=None, vect__ngram_range=(1, 2), tfidf__use_idf=False, clf__penalty=l1, clf__loss=hinge, clf__C=30 \n"
     ]
    },
    {
     "name": "stderr",
     "output_type": "stream",
     "text": [
      "/home/harsh/anaconda3/lib/python3.7/site-packages/sklearn/model_selection/_validation.py:479: FitFailedWarning: Classifier fit failed. The score on this train-test partition for these parameters will be set to 0.000000. Details: \n",
      "ValueError(\"Unsupported set of arguments: The combination of penalty='l1' and loss='hinge' is not supported, Parameters: penalty='l1', loss='hinge', dual=True\")\n",
      "  \"Details: \\n%r\" % (error_score, e), FitFailedWarning)\n"
     ]
    },
    {
     "name": "stdout",
     "output_type": "stream",
     "text": [
      "[CV]  vect__stop_words=None, vect__ngram_range=(1, 2), tfidf__use_idf=False, clf__penalty=l1, clf__loss=hinge, clf__C=30, total=   9.8s\n",
      "[CV] vect__stop_words=english, vect__ngram_range=(1, 1), tfidf__use_idf=True, clf__penalty=l2, clf__loss=hinge, clf__C=0.5 \n",
      "[CV]  vect__stop_words=english, vect__ngram_range=(1, 1), tfidf__use_idf=True, clf__penalty=l2, clf__loss=hinge, clf__C=0.5, total=   2.8s\n",
      "[CV] vect__stop_words=english, vect__ngram_range=(1, 1), tfidf__use_idf=True, clf__penalty=l2, clf__loss=hinge, clf__C=0.5 \n",
      "[CV]  vect__stop_words=english, vect__ngram_range=(1, 1), tfidf__use_idf=True, clf__penalty=l2, clf__loss=hinge, clf__C=0.5, total=   3.0s\n",
      "[CV] vect__stop_words=english, vect__ngram_range=(1, 1), tfidf__use_idf=True, clf__penalty=l2, clf__loss=hinge, clf__C=0.5 \n",
      "[CV]  vect__stop_words=english, vect__ngram_range=(1, 1), tfidf__use_idf=True, clf__penalty=l2, clf__loss=hinge, clf__C=0.5, total=   2.9s\n",
      "[CV] vect__stop_words=english, vect__ngram_range=(1, 1), tfidf__use_idf=False, clf__penalty=l1, clf__loss=hinge, clf__C=30 \n"
     ]
    },
    {
     "name": "stderr",
     "output_type": "stream",
     "text": [
      "/home/harsh/anaconda3/lib/python3.7/site-packages/sklearn/model_selection/_validation.py:479: FitFailedWarning: Classifier fit failed. The score on this train-test partition for these parameters will be set to 0.000000. Details: \n",
      "ValueError(\"Unsupported set of arguments: The combination of penalty='l1' and loss='hinge' is not supported, Parameters: penalty='l1', loss='hinge', dual=True\")\n",
      "  \"Details: \\n%r\" % (error_score, e), FitFailedWarning)\n"
     ]
    },
    {
     "name": "stdout",
     "output_type": "stream",
     "text": [
      "[CV]  vect__stop_words=english, vect__ngram_range=(1, 1), tfidf__use_idf=False, clf__penalty=l1, clf__loss=hinge, clf__C=30, total=   1.8s\n",
      "[CV] vect__stop_words=english, vect__ngram_range=(1, 1), tfidf__use_idf=False, clf__penalty=l1, clf__loss=hinge, clf__C=30 \n"
     ]
    },
    {
     "name": "stderr",
     "output_type": "stream",
     "text": [
      "/home/harsh/anaconda3/lib/python3.7/site-packages/sklearn/model_selection/_validation.py:479: FitFailedWarning: Classifier fit failed. The score on this train-test partition for these parameters will be set to 0.000000. Details: \n",
      "ValueError(\"Unsupported set of arguments: The combination of penalty='l1' and loss='hinge' is not supported, Parameters: penalty='l1', loss='hinge', dual=True\")\n",
      "  \"Details: \\n%r\" % (error_score, e), FitFailedWarning)\n"
     ]
    },
    {
     "name": "stdout",
     "output_type": "stream",
     "text": [
      "[CV]  vect__stop_words=english, vect__ngram_range=(1, 1), tfidf__use_idf=False, clf__penalty=l1, clf__loss=hinge, clf__C=30, total=   1.8s\n",
      "[CV] vect__stop_words=english, vect__ngram_range=(1, 1), tfidf__use_idf=False, clf__penalty=l1, clf__loss=hinge, clf__C=30 \n"
     ]
    },
    {
     "name": "stderr",
     "output_type": "stream",
     "text": [
      "/home/harsh/anaconda3/lib/python3.7/site-packages/sklearn/model_selection/_validation.py:479: FitFailedWarning: Classifier fit failed. The score on this train-test partition for these parameters will be set to 0.000000. Details: \n",
      "ValueError(\"Unsupported set of arguments: The combination of penalty='l1' and loss='hinge' is not supported, Parameters: penalty='l1', loss='hinge', dual=True\")\n",
      "  \"Details: \\n%r\" % (error_score, e), FitFailedWarning)\n"
     ]
    },
    {
     "name": "stdout",
     "output_type": "stream",
     "text": [
      "[CV]  vect__stop_words=english, vect__ngram_range=(1, 1), tfidf__use_idf=False, clf__penalty=l1, clf__loss=hinge, clf__C=30, total=   1.8s\n",
      "[CV] vect__stop_words=None, vect__ngram_range=(1, 2), tfidf__use_idf=False, clf__penalty=l1, clf__loss=squared_hinge, clf__C=60 \n"
     ]
    },
    {
     "name": "stderr",
     "output_type": "stream",
     "text": [
      "/home/harsh/anaconda3/lib/python3.7/site-packages/sklearn/model_selection/_validation.py:479: FitFailedWarning: Classifier fit failed. The score on this train-test partition for these parameters will be set to 0.000000. Details: \n",
      "ValueError(\"Unsupported set of arguments: The combination of penalty='l1' and loss='squared_hinge' are not supported when dual=True, Parameters: penalty='l1', loss='squared_hinge', dual=True\")\n",
      "  \"Details: \\n%r\" % (error_score, e), FitFailedWarning)\n"
     ]
    },
    {
     "name": "stdout",
     "output_type": "stream",
     "text": [
      "[CV]  vect__stop_words=None, vect__ngram_range=(1, 2), tfidf__use_idf=False, clf__penalty=l1, clf__loss=squared_hinge, clf__C=60, total=   9.0s\n",
      "[CV] vect__stop_words=None, vect__ngram_range=(1, 2), tfidf__use_idf=False, clf__penalty=l1, clf__loss=squared_hinge, clf__C=60 \n"
     ]
    },
    {
     "name": "stderr",
     "output_type": "stream",
     "text": [
      "/home/harsh/anaconda3/lib/python3.7/site-packages/sklearn/model_selection/_validation.py:479: FitFailedWarning: Classifier fit failed. The score on this train-test partition for these parameters will be set to 0.000000. Details: \n",
      "ValueError(\"Unsupported set of arguments: The combination of penalty='l1' and loss='squared_hinge' are not supported when dual=True, Parameters: penalty='l1', loss='squared_hinge', dual=True\")\n",
      "  \"Details: \\n%r\" % (error_score, e), FitFailedWarning)\n"
     ]
    },
    {
     "name": "stdout",
     "output_type": "stream",
     "text": [
      "[CV]  vect__stop_words=None, vect__ngram_range=(1, 2), tfidf__use_idf=False, clf__penalty=l1, clf__loss=squared_hinge, clf__C=60, total=   8.9s\n",
      "[CV] vect__stop_words=None, vect__ngram_range=(1, 2), tfidf__use_idf=False, clf__penalty=l1, clf__loss=squared_hinge, clf__C=60 \n"
     ]
    },
    {
     "name": "stderr",
     "output_type": "stream",
     "text": [
      "/home/harsh/anaconda3/lib/python3.7/site-packages/sklearn/model_selection/_validation.py:479: FitFailedWarning: Classifier fit failed. The score on this train-test partition for these parameters will be set to 0.000000. Details: \n",
      "ValueError(\"Unsupported set of arguments: The combination of penalty='l1' and loss='squared_hinge' are not supported when dual=True, Parameters: penalty='l1', loss='squared_hinge', dual=True\")\n",
      "  \"Details: \\n%r\" % (error_score, e), FitFailedWarning)\n"
     ]
    },
    {
     "name": "stdout",
     "output_type": "stream",
     "text": [
      "[CV]  vect__stop_words=None, vect__ngram_range=(1, 2), tfidf__use_idf=False, clf__penalty=l1, clf__loss=squared_hinge, clf__C=60, total=   9.6s\n",
      "[CV] vect__stop_words=english, vect__ngram_range=(1, 1), tfidf__use_idf=True, clf__penalty=l2, clf__loss=hinge, clf__C=70 \n",
      "[CV]  vect__stop_words=english, vect__ngram_range=(1, 1), tfidf__use_idf=True, clf__penalty=l2, clf__loss=hinge, clf__C=70, total=   3.2s\n",
      "[CV] vect__stop_words=english, vect__ngram_range=(1, 1), tfidf__use_idf=True, clf__penalty=l2, clf__loss=hinge, clf__C=70 \n",
      "[CV]  vect__stop_words=english, vect__ngram_range=(1, 1), tfidf__use_idf=True, clf__penalty=l2, clf__loss=hinge, clf__C=70, total=   3.5s\n",
      "[CV] vect__stop_words=english, vect__ngram_range=(1, 1), tfidf__use_idf=True, clf__penalty=l2, clf__loss=hinge, clf__C=70 \n",
      "[CV]  vect__stop_words=english, vect__ngram_range=(1, 1), tfidf__use_idf=True, clf__penalty=l2, clf__loss=hinge, clf__C=70, total=   3.6s\n",
      "[CV] vect__stop_words=None, vect__ngram_range=(1, 1), tfidf__use_idf=False, clf__penalty=l2, clf__loss=squared_hinge, clf__C=50 \n",
      "[CV]  vect__stop_words=None, vect__ngram_range=(1, 1), tfidf__use_idf=False, clf__penalty=l2, clf__loss=squared_hinge, clf__C=50, total=   8.8s\n",
      "[CV] vect__stop_words=None, vect__ngram_range=(1, 1), tfidf__use_idf=False, clf__penalty=l2, clf__loss=squared_hinge, clf__C=50 \n",
      "[CV]  vect__stop_words=None, vect__ngram_range=(1, 1), tfidf__use_idf=False, clf__penalty=l2, clf__loss=squared_hinge, clf__C=50, total=   9.6s\n",
      "[CV] vect__stop_words=None, vect__ngram_range=(1, 1), tfidf__use_idf=False, clf__penalty=l2, clf__loss=squared_hinge, clf__C=50 \n",
      "[CV]  vect__stop_words=None, vect__ngram_range=(1, 1), tfidf__use_idf=False, clf__penalty=l2, clf__loss=squared_hinge, clf__C=50, total=   9.2s\n",
      "[CV] vect__stop_words=None, vect__ngram_range=(1, 2), tfidf__use_idf=False, clf__penalty=l2, clf__loss=hinge, clf__C=100 \n",
      "[CV]  vect__stop_words=None, vect__ngram_range=(1, 2), tfidf__use_idf=False, clf__penalty=l2, clf__loss=hinge, clf__C=100, total=  19.9s\n",
      "[CV] vect__stop_words=None, vect__ngram_range=(1, 2), tfidf__use_idf=False, clf__penalty=l2, clf__loss=hinge, clf__C=100 \n",
      "[CV]  vect__stop_words=None, vect__ngram_range=(1, 2), tfidf__use_idf=False, clf__penalty=l2, clf__loss=hinge, clf__C=100, total=  33.7s\n",
      "[CV] vect__stop_words=None, vect__ngram_range=(1, 2), tfidf__use_idf=False, clf__penalty=l2, clf__loss=hinge, clf__C=100 \n",
      "[CV]  vect__stop_words=None, vect__ngram_range=(1, 2), tfidf__use_idf=False, clf__penalty=l2, clf__loss=hinge, clf__C=100, total=  20.6s\n",
      "[CV] vect__stop_words=english, vect__ngram_range=(1, 2), tfidf__use_idf=False, clf__penalty=l2, clf__loss=squared_hinge, clf__C=100 \n",
      "[CV]  vect__stop_words=english, vect__ngram_range=(1, 2), tfidf__use_idf=False, clf__penalty=l2, clf__loss=squared_hinge, clf__C=100, total=  29.3s\n",
      "[CV] vect__stop_words=english, vect__ngram_range=(1, 2), tfidf__use_idf=False, clf__penalty=l2, clf__loss=squared_hinge, clf__C=100 \n",
      "[CV]  vect__stop_words=english, vect__ngram_range=(1, 2), tfidf__use_idf=False, clf__penalty=l2, clf__loss=squared_hinge, clf__C=100, total=  27.9s\n",
      "[CV] vect__stop_words=english, vect__ngram_range=(1, 2), tfidf__use_idf=False, clf__penalty=l2, clf__loss=squared_hinge, clf__C=100 \n",
      "[CV]  vect__stop_words=english, vect__ngram_range=(1, 2), tfidf__use_idf=False, clf__penalty=l2, clf__loss=squared_hinge, clf__C=100, total=  27.4s\n",
      "[CV] vect__stop_words=english, vect__ngram_range=(1, 2), tfidf__use_idf=False, clf__penalty=l1, clf__loss=squared_hinge, clf__C=50 \n"
     ]
    },
    {
     "name": "stderr",
     "output_type": "stream",
     "text": [
      "/home/harsh/anaconda3/lib/python3.7/site-packages/sklearn/model_selection/_validation.py:479: FitFailedWarning: Classifier fit failed. The score on this train-test partition for these parameters will be set to 0.000000. Details: \n",
      "ValueError(\"Unsupported set of arguments: The combination of penalty='l1' and loss='squared_hinge' are not supported when dual=True, Parameters: penalty='l1', loss='squared_hinge', dual=True\")\n",
      "  \"Details: \\n%r\" % (error_score, e), FitFailedWarning)\n"
     ]
    },
    {
     "name": "stdout",
     "output_type": "stream",
     "text": [
      "[CV]  vect__stop_words=english, vect__ngram_range=(1, 2), tfidf__use_idf=False, clf__penalty=l1, clf__loss=squared_hinge, clf__C=50, total=   8.2s\n",
      "[CV] vect__stop_words=english, vect__ngram_range=(1, 2), tfidf__use_idf=False, clf__penalty=l1, clf__loss=squared_hinge, clf__C=50 \n"
     ]
    },
    {
     "name": "stderr",
     "output_type": "stream",
     "text": [
      "/home/harsh/anaconda3/lib/python3.7/site-packages/sklearn/model_selection/_validation.py:479: FitFailedWarning: Classifier fit failed. The score on this train-test partition for these parameters will be set to 0.000000. Details: \n",
      "ValueError(\"Unsupported set of arguments: The combination of penalty='l1' and loss='squared_hinge' are not supported when dual=True, Parameters: penalty='l1', loss='squared_hinge', dual=True\")\n",
      "  \"Details: \\n%r\" % (error_score, e), FitFailedWarning)\n"
     ]
    },
    {
     "name": "stdout",
     "output_type": "stream",
     "text": [
      "[CV]  vect__stop_words=english, vect__ngram_range=(1, 2), tfidf__use_idf=False, clf__penalty=l1, clf__loss=squared_hinge, clf__C=50, total=   7.6s\n",
      "[CV] vect__stop_words=english, vect__ngram_range=(1, 2), tfidf__use_idf=False, clf__penalty=l1, clf__loss=squared_hinge, clf__C=50 \n"
     ]
    },
    {
     "name": "stderr",
     "output_type": "stream",
     "text": [
      "/home/harsh/anaconda3/lib/python3.7/site-packages/sklearn/model_selection/_validation.py:479: FitFailedWarning: Classifier fit failed. The score on this train-test partition for these parameters will be set to 0.000000. Details: \n",
      "ValueError(\"Unsupported set of arguments: The combination of penalty='l1' and loss='squared_hinge' are not supported when dual=True, Parameters: penalty='l1', loss='squared_hinge', dual=True\")\n",
      "  \"Details: \\n%r\" % (error_score, e), FitFailedWarning)\n"
     ]
    },
    {
     "name": "stdout",
     "output_type": "stream",
     "text": [
      "[CV]  vect__stop_words=english, vect__ngram_range=(1, 2), tfidf__use_idf=False, clf__penalty=l1, clf__loss=squared_hinge, clf__C=50, total=   7.8s\n",
      "[CV] vect__stop_words=None, vect__ngram_range=(1, 2), tfidf__use_idf=True, clf__penalty=l2, clf__loss=squared_hinge, clf__C=80 \n",
      "[CV]  vect__stop_words=None, vect__ngram_range=(1, 2), tfidf__use_idf=True, clf__penalty=l2, clf__loss=squared_hinge, clf__C=80, total=  37.6s\n",
      "[CV] vect__stop_words=None, vect__ngram_range=(1, 2), tfidf__use_idf=True, clf__penalty=l2, clf__loss=squared_hinge, clf__C=80 \n",
      "[CV]  vect__stop_words=None, vect__ngram_range=(1, 2), tfidf__use_idf=True, clf__penalty=l2, clf__loss=squared_hinge, clf__C=80, total=  33.6s\n",
      "[CV] vect__stop_words=None, vect__ngram_range=(1, 2), tfidf__use_idf=True, clf__penalty=l2, clf__loss=squared_hinge, clf__C=80 \n",
      "[CV]  vect__stop_words=None, vect__ngram_range=(1, 2), tfidf__use_idf=True, clf__penalty=l2, clf__loss=squared_hinge, clf__C=80, total=  39.6s\n",
      "[CV] vect__stop_words=english, vect__ngram_range=(1, 1), tfidf__use_idf=False, clf__penalty=l2, clf__loss=hinge, clf__C=20 \n",
      "[CV]  vect__stop_words=english, vect__ngram_range=(1, 1), tfidf__use_idf=False, clf__penalty=l2, clf__loss=hinge, clf__C=20, total=   5.8s\n",
      "[CV] vect__stop_words=english, vect__ngram_range=(1, 1), tfidf__use_idf=False, clf__penalty=l2, clf__loss=hinge, clf__C=20 \n",
      "[CV]  vect__stop_words=english, vect__ngram_range=(1, 1), tfidf__use_idf=False, clf__penalty=l2, clf__loss=hinge, clf__C=20, total=   5.6s\n",
      "[CV] vect__stop_words=english, vect__ngram_range=(1, 1), tfidf__use_idf=False, clf__penalty=l2, clf__loss=hinge, clf__C=20 \n",
      "[CV]  vect__stop_words=english, vect__ngram_range=(1, 1), tfidf__use_idf=False, clf__penalty=l2, clf__loss=hinge, clf__C=20, total=   6.4s\n",
      "[CV] vect__stop_words=english, vect__ngram_range=(1, 1), tfidf__use_idf=False, clf__penalty=l1, clf__loss=squared_hinge, clf__C=20 \n"
     ]
    },
    {
     "name": "stderr",
     "output_type": "stream",
     "text": [
      "/home/harsh/anaconda3/lib/python3.7/site-packages/sklearn/model_selection/_validation.py:479: FitFailedWarning: Classifier fit failed. The score on this train-test partition for these parameters will be set to 0.000000. Details: \n",
      "ValueError(\"Unsupported set of arguments: The combination of penalty='l1' and loss='squared_hinge' are not supported when dual=True, Parameters: penalty='l1', loss='squared_hinge', dual=True\")\n",
      "  \"Details: \\n%r\" % (error_score, e), FitFailedWarning)\n"
     ]
    },
    {
     "name": "stdout",
     "output_type": "stream",
     "text": [
      "[CV]  vect__stop_words=english, vect__ngram_range=(1, 1), tfidf__use_idf=False, clf__penalty=l1, clf__loss=squared_hinge, clf__C=20, total=   2.0s\n",
      "[CV] vect__stop_words=english, vect__ngram_range=(1, 1), tfidf__use_idf=False, clf__penalty=l1, clf__loss=squared_hinge, clf__C=20 \n"
     ]
    },
    {
     "name": "stderr",
     "output_type": "stream",
     "text": [
      "/home/harsh/anaconda3/lib/python3.7/site-packages/sklearn/model_selection/_validation.py:479: FitFailedWarning: Classifier fit failed. The score on this train-test partition for these parameters will be set to 0.000000. Details: \n",
      "ValueError(\"Unsupported set of arguments: The combination of penalty='l1' and loss='squared_hinge' are not supported when dual=True, Parameters: penalty='l1', loss='squared_hinge', dual=True\")\n",
      "  \"Details: \\n%r\" % (error_score, e), FitFailedWarning)\n"
     ]
    },
    {
     "name": "stdout",
     "output_type": "stream",
     "text": [
      "[CV]  vect__stop_words=english, vect__ngram_range=(1, 1), tfidf__use_idf=False, clf__penalty=l1, clf__loss=squared_hinge, clf__C=20, total=   2.0s\n",
      "[CV] vect__stop_words=english, vect__ngram_range=(1, 1), tfidf__use_idf=False, clf__penalty=l1, clf__loss=squared_hinge, clf__C=20 \n"
     ]
    },
    {
     "name": "stderr",
     "output_type": "stream",
     "text": [
      "/home/harsh/anaconda3/lib/python3.7/site-packages/sklearn/model_selection/_validation.py:479: FitFailedWarning: Classifier fit failed. The score on this train-test partition for these parameters will be set to 0.000000. Details: \n",
      "ValueError(\"Unsupported set of arguments: The combination of penalty='l1' and loss='squared_hinge' are not supported when dual=True, Parameters: penalty='l1', loss='squared_hinge', dual=True\")\n",
      "  \"Details: \\n%r\" % (error_score, e), FitFailedWarning)\n"
     ]
    },
    {
     "name": "stdout",
     "output_type": "stream",
     "text": [
      "[CV]  vect__stop_words=english, vect__ngram_range=(1, 1), tfidf__use_idf=False, clf__penalty=l1, clf__loss=squared_hinge, clf__C=20, total=   1.9s\n",
      "[CV] vect__stop_words=None, vect__ngram_range=(1, 2), tfidf__use_idf=False, clf__penalty=l2, clf__loss=squared_hinge, clf__C=50 \n"
     ]
    },
    {
     "ename": "KeyboardInterrupt",
     "evalue": "",
     "output_type": "error",
     "traceback": [
      "\u001b[0;31m---------------------------------------------------------------------------\u001b[0m",
      "\u001b[0;31mKeyboardInterrupt\u001b[0m                         Traceback (most recent call last)",
      "\u001b[0;32m<ipython-input-70-851f2548f86f>\u001b[0m in \u001b[0;36m<module>\u001b[0;34m()\u001b[0m\n\u001b[0;32m----> 1\u001b[0;31m \u001b[0mrunRandomizedSearchCV\u001b[0m\u001b[0;34m(\u001b[0m\u001b[0mlinear_svc_rs\u001b[0m\u001b[0;34m,\u001b[0m \u001b[0;34m[\u001b[0m\u001b[0mmodels\u001b[0m\u001b[0;34m[\u001b[0m\u001b[0;36m0\u001b[0m\u001b[0;34m]\u001b[0m\u001b[0;34m]\u001b[0m\u001b[0;34m,\u001b[0m \u001b[0;34m[\u001b[0m\u001b[0mmodel_names\u001b[0m\u001b[0;34m[\u001b[0m\u001b[0;36m0\u001b[0m\u001b[0;34m]\u001b[0m\u001b[0;34m]\u001b[0m\u001b[0;34m)\u001b[0m\u001b[0;34m\u001b[0m\u001b[0m\n\u001b[0m",
      "\u001b[0;32m<ipython-input-67-4a18a76cb7e9>\u001b[0m in \u001b[0;36mrunRandomizedSearchCV\u001b[0;34m(parameter_grids, models, model_names, num_iters)\u001b[0m\n\u001b[1;32m     14\u001b[0m \u001b[0;34m\u001b[0m\u001b[0m\n\u001b[1;32m     15\u001b[0m         \u001b[0mrs_clf\u001b[0m \u001b[0;34m=\u001b[0m \u001b[0mRandomizedSearchCV\u001b[0m\u001b[0;34m(\u001b[0m\u001b[0mtext_clf\u001b[0m\u001b[0;34m,\u001b[0m \u001b[0mparameter_grids\u001b[0m\u001b[0;34m[\u001b[0m\u001b[0mi\u001b[0m\u001b[0;34m]\u001b[0m\u001b[0;34m,\u001b[0m \u001b[0mn_jobs\u001b[0m\u001b[0;34m=\u001b[0m\u001b[0;36m1\u001b[0m\u001b[0;34m,\u001b[0m \u001b[0mcv\u001b[0m\u001b[0;34m=\u001b[0m\u001b[0;36m3\u001b[0m\u001b[0;34m,\u001b[0m\u001b[0merror_score\u001b[0m\u001b[0;34m=\u001b[0m\u001b[0;36m0.0\u001b[0m\u001b[0;34m,\u001b[0m\u001b[0mn_iter\u001b[0m \u001b[0;34m=\u001b[0m \u001b[0mnum_iters\u001b[0m\u001b[0;34m,\u001b[0m \u001b[0mverbose\u001b[0m \u001b[0;34m=\u001b[0m \u001b[0;36m2\u001b[0m\u001b[0;34m,\u001b[0m \u001b[0mrandom_state\u001b[0m\u001b[0;34m=\u001b[0m\u001b[0;36m0\u001b[0m\u001b[0;34m)\u001b[0m\u001b[0;34m\u001b[0m\u001b[0m\n\u001b[0;32m---> 16\u001b[0;31m         \u001b[0mrs_clf\u001b[0m \u001b[0;34m=\u001b[0m \u001b[0mrs_clf\u001b[0m\u001b[0;34m.\u001b[0m\u001b[0mfit\u001b[0m\u001b[0;34m(\u001b[0m\u001b[0mimbd\u001b[0m\u001b[0;34m.\u001b[0m\u001b[0mdata\u001b[0m\u001b[0;34m,\u001b[0m \u001b[0mimbd\u001b[0m\u001b[0;34m.\u001b[0m\u001b[0mtarget\u001b[0m\u001b[0;34m)\u001b[0m\u001b[0;34m\u001b[0m\u001b[0m\n\u001b[0m\u001b[1;32m     17\u001b[0m \u001b[0;34m\u001b[0m\u001b[0m\n\u001b[1;32m     18\u001b[0m         \u001b[0mbest_scores\u001b[0m\u001b[0;34m.\u001b[0m\u001b[0mappend\u001b[0m\u001b[0;34m(\u001b[0m\u001b[0mrs_clf\u001b[0m\u001b[0;34m.\u001b[0m\u001b[0mbest_score_\u001b[0m\u001b[0;34m)\u001b[0m\u001b[0;34m\u001b[0m\u001b[0m\n",
      "\u001b[0;32m~/anaconda3/lib/python3.7/site-packages/sklearn/model_selection/_search.py\u001b[0m in \u001b[0;36mfit\u001b[0;34m(self, X, y, groups, **fit_params)\u001b[0m\n\u001b[1;32m    638\u001b[0m                                   error_score=self.error_score)\n\u001b[1;32m    639\u001b[0m           for parameters, (train, test) in product(candidate_params,\n\u001b[0;32m--> 640\u001b[0;31m                                                    cv.split(X, y, groups)))\n\u001b[0m\u001b[1;32m    641\u001b[0m \u001b[0;34m\u001b[0m\u001b[0m\n\u001b[1;32m    642\u001b[0m         \u001b[0;31m# if one choose to see train score, \"out\" will contain train score info\u001b[0m\u001b[0;34m\u001b[0m\u001b[0;34m\u001b[0m\u001b[0m\n",
      "\u001b[0;32m~/anaconda3/lib/python3.7/site-packages/sklearn/externals/joblib/parallel.py\u001b[0m in \u001b[0;36m__call__\u001b[0;34m(self, iterable)\u001b[0m\n\u001b[1;32m    777\u001b[0m             \u001b[0;31m# was dispatched. In particular this covers the edge\u001b[0m\u001b[0;34m\u001b[0m\u001b[0;34m\u001b[0m\u001b[0m\n\u001b[1;32m    778\u001b[0m             \u001b[0;31m# case of Parallel used with an exhausted iterator.\u001b[0m\u001b[0;34m\u001b[0m\u001b[0;34m\u001b[0m\u001b[0m\n\u001b[0;32m--> 779\u001b[0;31m             \u001b[0;32mwhile\u001b[0m \u001b[0mself\u001b[0m\u001b[0;34m.\u001b[0m\u001b[0mdispatch_one_batch\u001b[0m\u001b[0;34m(\u001b[0m\u001b[0miterator\u001b[0m\u001b[0;34m)\u001b[0m\u001b[0;34m:\u001b[0m\u001b[0;34m\u001b[0m\u001b[0m\n\u001b[0m\u001b[1;32m    780\u001b[0m                 \u001b[0mself\u001b[0m\u001b[0;34m.\u001b[0m\u001b[0m_iterating\u001b[0m \u001b[0;34m=\u001b[0m \u001b[0;32mTrue\u001b[0m\u001b[0;34m\u001b[0m\u001b[0m\n\u001b[1;32m    781\u001b[0m             \u001b[0;32melse\u001b[0m\u001b[0;34m:\u001b[0m\u001b[0;34m\u001b[0m\u001b[0m\n",
      "\u001b[0;32m~/anaconda3/lib/python3.7/site-packages/sklearn/externals/joblib/parallel.py\u001b[0m in \u001b[0;36mdispatch_one_batch\u001b[0;34m(self, iterator)\u001b[0m\n\u001b[1;32m    623\u001b[0m                 \u001b[0;32mreturn\u001b[0m \u001b[0;32mFalse\u001b[0m\u001b[0;34m\u001b[0m\u001b[0m\n\u001b[1;32m    624\u001b[0m             \u001b[0;32melse\u001b[0m\u001b[0;34m:\u001b[0m\u001b[0;34m\u001b[0m\u001b[0m\n\u001b[0;32m--> 625\u001b[0;31m                 \u001b[0mself\u001b[0m\u001b[0;34m.\u001b[0m\u001b[0m_dispatch\u001b[0m\u001b[0;34m(\u001b[0m\u001b[0mtasks\u001b[0m\u001b[0;34m)\u001b[0m\u001b[0;34m\u001b[0m\u001b[0m\n\u001b[0m\u001b[1;32m    626\u001b[0m                 \u001b[0;32mreturn\u001b[0m \u001b[0;32mTrue\u001b[0m\u001b[0;34m\u001b[0m\u001b[0m\n\u001b[1;32m    627\u001b[0m \u001b[0;34m\u001b[0m\u001b[0m\n",
      "\u001b[0;32m~/anaconda3/lib/python3.7/site-packages/sklearn/externals/joblib/parallel.py\u001b[0m in \u001b[0;36m_dispatch\u001b[0;34m(self, batch)\u001b[0m\n\u001b[1;32m    586\u001b[0m         \u001b[0mdispatch_timestamp\u001b[0m \u001b[0;34m=\u001b[0m \u001b[0mtime\u001b[0m\u001b[0;34m.\u001b[0m\u001b[0mtime\u001b[0m\u001b[0;34m(\u001b[0m\u001b[0;34m)\u001b[0m\u001b[0;34m\u001b[0m\u001b[0m\n\u001b[1;32m    587\u001b[0m         \u001b[0mcb\u001b[0m \u001b[0;34m=\u001b[0m \u001b[0mBatchCompletionCallBack\u001b[0m\u001b[0;34m(\u001b[0m\u001b[0mdispatch_timestamp\u001b[0m\u001b[0;34m,\u001b[0m \u001b[0mlen\u001b[0m\u001b[0;34m(\u001b[0m\u001b[0mbatch\u001b[0m\u001b[0;34m)\u001b[0m\u001b[0;34m,\u001b[0m \u001b[0mself\u001b[0m\u001b[0;34m)\u001b[0m\u001b[0;34m\u001b[0m\u001b[0m\n\u001b[0;32m--> 588\u001b[0;31m         \u001b[0mjob\u001b[0m \u001b[0;34m=\u001b[0m \u001b[0mself\u001b[0m\u001b[0;34m.\u001b[0m\u001b[0m_backend\u001b[0m\u001b[0;34m.\u001b[0m\u001b[0mapply_async\u001b[0m\u001b[0;34m(\u001b[0m\u001b[0mbatch\u001b[0m\u001b[0;34m,\u001b[0m \u001b[0mcallback\u001b[0m\u001b[0;34m=\u001b[0m\u001b[0mcb\u001b[0m\u001b[0;34m)\u001b[0m\u001b[0;34m\u001b[0m\u001b[0m\n\u001b[0m\u001b[1;32m    589\u001b[0m         \u001b[0mself\u001b[0m\u001b[0;34m.\u001b[0m\u001b[0m_jobs\u001b[0m\u001b[0;34m.\u001b[0m\u001b[0mappend\u001b[0m\u001b[0;34m(\u001b[0m\u001b[0mjob\u001b[0m\u001b[0;34m)\u001b[0m\u001b[0;34m\u001b[0m\u001b[0m\n\u001b[1;32m    590\u001b[0m \u001b[0;34m\u001b[0m\u001b[0m\n",
      "\u001b[0;32m~/anaconda3/lib/python3.7/site-packages/sklearn/externals/joblib/_parallel_backends.py\u001b[0m in \u001b[0;36mapply_async\u001b[0;34m(self, func, callback)\u001b[0m\n\u001b[1;32m    109\u001b[0m     \u001b[0;32mdef\u001b[0m \u001b[0mapply_async\u001b[0m\u001b[0;34m(\u001b[0m\u001b[0mself\u001b[0m\u001b[0;34m,\u001b[0m \u001b[0mfunc\u001b[0m\u001b[0;34m,\u001b[0m \u001b[0mcallback\u001b[0m\u001b[0;34m=\u001b[0m\u001b[0;32mNone\u001b[0m\u001b[0;34m)\u001b[0m\u001b[0;34m:\u001b[0m\u001b[0;34m\u001b[0m\u001b[0m\n\u001b[1;32m    110\u001b[0m         \u001b[0;34m\"\"\"Schedule a func to be run\"\"\"\u001b[0m\u001b[0;34m\u001b[0m\u001b[0m\n\u001b[0;32m--> 111\u001b[0;31m         \u001b[0mresult\u001b[0m \u001b[0;34m=\u001b[0m \u001b[0mImmediateResult\u001b[0m\u001b[0;34m(\u001b[0m\u001b[0mfunc\u001b[0m\u001b[0;34m)\u001b[0m\u001b[0;34m\u001b[0m\u001b[0m\n\u001b[0m\u001b[1;32m    112\u001b[0m         \u001b[0;32mif\u001b[0m \u001b[0mcallback\u001b[0m\u001b[0;34m:\u001b[0m\u001b[0;34m\u001b[0m\u001b[0m\n\u001b[1;32m    113\u001b[0m             \u001b[0mcallback\u001b[0m\u001b[0;34m(\u001b[0m\u001b[0mresult\u001b[0m\u001b[0;34m)\u001b[0m\u001b[0;34m\u001b[0m\u001b[0m\n",
      "\u001b[0;32m~/anaconda3/lib/python3.7/site-packages/sklearn/externals/joblib/_parallel_backends.py\u001b[0m in \u001b[0;36m__init__\u001b[0;34m(self, batch)\u001b[0m\n\u001b[1;32m    330\u001b[0m         \u001b[0;31m# Don't delay the application, to avoid keeping the input\u001b[0m\u001b[0;34m\u001b[0m\u001b[0;34m\u001b[0m\u001b[0m\n\u001b[1;32m    331\u001b[0m         \u001b[0;31m# arguments in memory\u001b[0m\u001b[0;34m\u001b[0m\u001b[0;34m\u001b[0m\u001b[0m\n\u001b[0;32m--> 332\u001b[0;31m         \u001b[0mself\u001b[0m\u001b[0;34m.\u001b[0m\u001b[0mresults\u001b[0m \u001b[0;34m=\u001b[0m \u001b[0mbatch\u001b[0m\u001b[0;34m(\u001b[0m\u001b[0;34m)\u001b[0m\u001b[0;34m\u001b[0m\u001b[0m\n\u001b[0m\u001b[1;32m    333\u001b[0m \u001b[0;34m\u001b[0m\u001b[0m\n\u001b[1;32m    334\u001b[0m     \u001b[0;32mdef\u001b[0m \u001b[0mget\u001b[0m\u001b[0;34m(\u001b[0m\u001b[0mself\u001b[0m\u001b[0;34m)\u001b[0m\u001b[0;34m:\u001b[0m\u001b[0;34m\u001b[0m\u001b[0m\n",
      "\u001b[0;32m~/anaconda3/lib/python3.7/site-packages/sklearn/externals/joblib/parallel.py\u001b[0m in \u001b[0;36m__call__\u001b[0;34m(self)\u001b[0m\n\u001b[1;32m    129\u001b[0m \u001b[0;34m\u001b[0m\u001b[0m\n\u001b[1;32m    130\u001b[0m     \u001b[0;32mdef\u001b[0m \u001b[0m__call__\u001b[0m\u001b[0;34m(\u001b[0m\u001b[0mself\u001b[0m\u001b[0;34m)\u001b[0m\u001b[0;34m:\u001b[0m\u001b[0;34m\u001b[0m\u001b[0m\n\u001b[0;32m--> 131\u001b[0;31m         \u001b[0;32mreturn\u001b[0m \u001b[0;34m[\u001b[0m\u001b[0mfunc\u001b[0m\u001b[0;34m(\u001b[0m\u001b[0;34m*\u001b[0m\u001b[0margs\u001b[0m\u001b[0;34m,\u001b[0m \u001b[0;34m**\u001b[0m\u001b[0mkwargs\u001b[0m\u001b[0;34m)\u001b[0m \u001b[0;32mfor\u001b[0m \u001b[0mfunc\u001b[0m\u001b[0;34m,\u001b[0m \u001b[0margs\u001b[0m\u001b[0;34m,\u001b[0m \u001b[0mkwargs\u001b[0m \u001b[0;32min\u001b[0m \u001b[0mself\u001b[0m\u001b[0;34m.\u001b[0m\u001b[0mitems\u001b[0m\u001b[0;34m]\u001b[0m\u001b[0;34m\u001b[0m\u001b[0m\n\u001b[0m\u001b[1;32m    132\u001b[0m \u001b[0;34m\u001b[0m\u001b[0m\n\u001b[1;32m    133\u001b[0m     \u001b[0;32mdef\u001b[0m \u001b[0m__len__\u001b[0m\u001b[0;34m(\u001b[0m\u001b[0mself\u001b[0m\u001b[0;34m)\u001b[0m\u001b[0;34m:\u001b[0m\u001b[0;34m\u001b[0m\u001b[0m\n",
      "\u001b[0;32m~/anaconda3/lib/python3.7/site-packages/sklearn/externals/joblib/parallel.py\u001b[0m in \u001b[0;36m<listcomp>\u001b[0;34m(.0)\u001b[0m\n\u001b[1;32m    129\u001b[0m \u001b[0;34m\u001b[0m\u001b[0m\n\u001b[1;32m    130\u001b[0m     \u001b[0;32mdef\u001b[0m \u001b[0m__call__\u001b[0m\u001b[0;34m(\u001b[0m\u001b[0mself\u001b[0m\u001b[0;34m)\u001b[0m\u001b[0;34m:\u001b[0m\u001b[0;34m\u001b[0m\u001b[0m\n\u001b[0;32m--> 131\u001b[0;31m         \u001b[0;32mreturn\u001b[0m \u001b[0;34m[\u001b[0m\u001b[0mfunc\u001b[0m\u001b[0;34m(\u001b[0m\u001b[0;34m*\u001b[0m\u001b[0margs\u001b[0m\u001b[0;34m,\u001b[0m \u001b[0;34m**\u001b[0m\u001b[0mkwargs\u001b[0m\u001b[0;34m)\u001b[0m \u001b[0;32mfor\u001b[0m \u001b[0mfunc\u001b[0m\u001b[0;34m,\u001b[0m \u001b[0margs\u001b[0m\u001b[0;34m,\u001b[0m \u001b[0mkwargs\u001b[0m \u001b[0;32min\u001b[0m \u001b[0mself\u001b[0m\u001b[0;34m.\u001b[0m\u001b[0mitems\u001b[0m\u001b[0;34m]\u001b[0m\u001b[0;34m\u001b[0m\u001b[0m\n\u001b[0m\u001b[1;32m    132\u001b[0m \u001b[0;34m\u001b[0m\u001b[0m\n\u001b[1;32m    133\u001b[0m     \u001b[0;32mdef\u001b[0m \u001b[0m__len__\u001b[0m\u001b[0;34m(\u001b[0m\u001b[0mself\u001b[0m\u001b[0;34m)\u001b[0m\u001b[0;34m:\u001b[0m\u001b[0;34m\u001b[0m\u001b[0m\n",
      "\u001b[0;32m~/anaconda3/lib/python3.7/site-packages/sklearn/model_selection/_validation.py\u001b[0m in \u001b[0;36m_fit_and_score\u001b[0;34m(estimator, X, y, scorer, train, test, verbose, parameters, fit_params, return_train_score, return_parameters, return_n_test_samples, return_times, error_score)\u001b[0m\n\u001b[1;32m    456\u001b[0m             \u001b[0mestimator\u001b[0m\u001b[0;34m.\u001b[0m\u001b[0mfit\u001b[0m\u001b[0;34m(\u001b[0m\u001b[0mX_train\u001b[0m\u001b[0;34m,\u001b[0m \u001b[0;34m**\u001b[0m\u001b[0mfit_params\u001b[0m\u001b[0;34m)\u001b[0m\u001b[0;34m\u001b[0m\u001b[0m\n\u001b[1;32m    457\u001b[0m         \u001b[0;32melse\u001b[0m\u001b[0;34m:\u001b[0m\u001b[0;34m\u001b[0m\u001b[0m\n\u001b[0;32m--> 458\u001b[0;31m             \u001b[0mestimator\u001b[0m\u001b[0;34m.\u001b[0m\u001b[0mfit\u001b[0m\u001b[0;34m(\u001b[0m\u001b[0mX_train\u001b[0m\u001b[0;34m,\u001b[0m \u001b[0my_train\u001b[0m\u001b[0;34m,\u001b[0m \u001b[0;34m**\u001b[0m\u001b[0mfit_params\u001b[0m\u001b[0;34m)\u001b[0m\u001b[0;34m\u001b[0m\u001b[0m\n\u001b[0m\u001b[1;32m    459\u001b[0m \u001b[0;34m\u001b[0m\u001b[0m\n\u001b[1;32m    460\u001b[0m     \u001b[0;32mexcept\u001b[0m \u001b[0mException\u001b[0m \u001b[0;32mas\u001b[0m \u001b[0me\u001b[0m\u001b[0;34m:\u001b[0m\u001b[0;34m\u001b[0m\u001b[0m\n",
      "\u001b[0;32m~/anaconda3/lib/python3.7/site-packages/sklearn/pipeline.py\u001b[0m in \u001b[0;36mfit\u001b[0;34m(self, X, y, **fit_params)\u001b[0m\n\u001b[1;32m    248\u001b[0m         \u001b[0mXt\u001b[0m\u001b[0;34m,\u001b[0m \u001b[0mfit_params\u001b[0m \u001b[0;34m=\u001b[0m \u001b[0mself\u001b[0m\u001b[0;34m.\u001b[0m\u001b[0m_fit\u001b[0m\u001b[0;34m(\u001b[0m\u001b[0mX\u001b[0m\u001b[0;34m,\u001b[0m \u001b[0my\u001b[0m\u001b[0;34m,\u001b[0m \u001b[0;34m**\u001b[0m\u001b[0mfit_params\u001b[0m\u001b[0;34m)\u001b[0m\u001b[0;34m\u001b[0m\u001b[0m\n\u001b[1;32m    249\u001b[0m         \u001b[0;32mif\u001b[0m \u001b[0mself\u001b[0m\u001b[0;34m.\u001b[0m\u001b[0m_final_estimator\u001b[0m \u001b[0;32mis\u001b[0m \u001b[0;32mnot\u001b[0m \u001b[0;32mNone\u001b[0m\u001b[0;34m:\u001b[0m\u001b[0;34m\u001b[0m\u001b[0m\n\u001b[0;32m--> 250\u001b[0;31m             \u001b[0mself\u001b[0m\u001b[0;34m.\u001b[0m\u001b[0m_final_estimator\u001b[0m\u001b[0;34m.\u001b[0m\u001b[0mfit\u001b[0m\u001b[0;34m(\u001b[0m\u001b[0mXt\u001b[0m\u001b[0;34m,\u001b[0m \u001b[0my\u001b[0m\u001b[0;34m,\u001b[0m \u001b[0;34m**\u001b[0m\u001b[0mfit_params\u001b[0m\u001b[0;34m)\u001b[0m\u001b[0;34m\u001b[0m\u001b[0m\n\u001b[0m\u001b[1;32m    251\u001b[0m         \u001b[0;32mreturn\u001b[0m \u001b[0mself\u001b[0m\u001b[0;34m\u001b[0m\u001b[0m\n\u001b[1;32m    252\u001b[0m \u001b[0;34m\u001b[0m\u001b[0m\n",
      "\u001b[0;32m~/anaconda3/lib/python3.7/site-packages/sklearn/svm/classes.py\u001b[0m in \u001b[0;36mfit\u001b[0;34m(self, X, y, sample_weight)\u001b[0m\n\u001b[1;32m    233\u001b[0m             \u001b[0mself\u001b[0m\u001b[0;34m.\u001b[0m\u001b[0mclass_weight\u001b[0m\u001b[0;34m,\u001b[0m \u001b[0mself\u001b[0m\u001b[0;34m.\u001b[0m\u001b[0mpenalty\u001b[0m\u001b[0;34m,\u001b[0m \u001b[0mself\u001b[0m\u001b[0;34m.\u001b[0m\u001b[0mdual\u001b[0m\u001b[0;34m,\u001b[0m \u001b[0mself\u001b[0m\u001b[0;34m.\u001b[0m\u001b[0mverbose\u001b[0m\u001b[0;34m,\u001b[0m\u001b[0;34m\u001b[0m\u001b[0m\n\u001b[1;32m    234\u001b[0m             \u001b[0mself\u001b[0m\u001b[0;34m.\u001b[0m\u001b[0mmax_iter\u001b[0m\u001b[0;34m,\u001b[0m \u001b[0mself\u001b[0m\u001b[0;34m.\u001b[0m\u001b[0mtol\u001b[0m\u001b[0;34m,\u001b[0m \u001b[0mself\u001b[0m\u001b[0;34m.\u001b[0m\u001b[0mrandom_state\u001b[0m\u001b[0;34m,\u001b[0m \u001b[0mself\u001b[0m\u001b[0;34m.\u001b[0m\u001b[0mmulti_class\u001b[0m\u001b[0;34m,\u001b[0m\u001b[0;34m\u001b[0m\u001b[0m\n\u001b[0;32m--> 235\u001b[0;31m             self.loss, sample_weight=sample_weight)\n\u001b[0m\u001b[1;32m    236\u001b[0m \u001b[0;34m\u001b[0m\u001b[0m\n\u001b[1;32m    237\u001b[0m         \u001b[0;32mif\u001b[0m \u001b[0mself\u001b[0m\u001b[0;34m.\u001b[0m\u001b[0mmulti_class\u001b[0m \u001b[0;34m==\u001b[0m \u001b[0;34m\"crammer_singer\"\u001b[0m \u001b[0;32mand\u001b[0m \u001b[0mlen\u001b[0m\u001b[0;34m(\u001b[0m\u001b[0mself\u001b[0m\u001b[0;34m.\u001b[0m\u001b[0mclasses_\u001b[0m\u001b[0;34m)\u001b[0m \u001b[0;34m==\u001b[0m \u001b[0;36m2\u001b[0m\u001b[0;34m:\u001b[0m\u001b[0;34m\u001b[0m\u001b[0m\n",
      "\u001b[0;32m~/anaconda3/lib/python3.7/site-packages/sklearn/svm/base.py\u001b[0m in \u001b[0;36m_fit_liblinear\u001b[0;34m(X, y, C, fit_intercept, intercept_scaling, class_weight, penalty, dual, verbose, max_iter, tol, random_state, multi_class, loss, epsilon, sample_weight)\u001b[0m\n\u001b[1;32m    888\u001b[0m         \u001b[0mX\u001b[0m\u001b[0;34m,\u001b[0m \u001b[0my_ind\u001b[0m\u001b[0;34m,\u001b[0m \u001b[0msp\u001b[0m\u001b[0;34m.\u001b[0m\u001b[0misspmatrix\u001b[0m\u001b[0;34m(\u001b[0m\u001b[0mX\u001b[0m\u001b[0;34m)\u001b[0m\u001b[0;34m,\u001b[0m \u001b[0msolver_type\u001b[0m\u001b[0;34m,\u001b[0m \u001b[0mtol\u001b[0m\u001b[0;34m,\u001b[0m \u001b[0mbias\u001b[0m\u001b[0;34m,\u001b[0m \u001b[0mC\u001b[0m\u001b[0;34m,\u001b[0m\u001b[0;34m\u001b[0m\u001b[0m\n\u001b[1;32m    889\u001b[0m         \u001b[0mclass_weight_\u001b[0m\u001b[0;34m,\u001b[0m \u001b[0mmax_iter\u001b[0m\u001b[0;34m,\u001b[0m \u001b[0mrnd\u001b[0m\u001b[0;34m.\u001b[0m\u001b[0mrandint\u001b[0m\u001b[0;34m(\u001b[0m\u001b[0mnp\u001b[0m\u001b[0;34m.\u001b[0m\u001b[0miinfo\u001b[0m\u001b[0;34m(\u001b[0m\u001b[0;34m'i'\u001b[0m\u001b[0;34m)\u001b[0m\u001b[0;34m.\u001b[0m\u001b[0mmax\u001b[0m\u001b[0;34m)\u001b[0m\u001b[0;34m,\u001b[0m\u001b[0;34m\u001b[0m\u001b[0m\n\u001b[0;32m--> 890\u001b[0;31m         epsilon, sample_weight)\n\u001b[0m\u001b[1;32m    891\u001b[0m     \u001b[0;31m# Regarding rnd.randint(..) in the above signature:\u001b[0m\u001b[0;34m\u001b[0m\u001b[0;34m\u001b[0m\u001b[0m\n\u001b[1;32m    892\u001b[0m     \u001b[0;31m# seed for srand in range [0..INT_MAX); due to limitations in Numpy\u001b[0m\u001b[0;34m\u001b[0m\u001b[0;34m\u001b[0m\u001b[0m\n",
      "\u001b[0;31mKeyboardInterrupt\u001b[0m: "
     ]
    }
   ],
   "source": [
    "runRandomizedSearchCV(linear_svc_rs, [models[0]], [model_names[0]])"
   ]
  },
  {
   "cell_type": "code",
   "execution_count": null,
   "metadata": {},
   "outputs": [],
   "source": [
    "runGridSearchCV(linear_svc_pg, [models[0]], [model_names[0]])"
   ]
  },
  {
   "cell_type": "markdown",
   "metadata": {},
   "source": [
    "### Logistic Regression Parameters"
   ]
  },
  {
   "cell_type": "code",
   "execution_count": null,
   "metadata": {},
   "outputs": [],
   "source": [
    "logistic_regression_rs = [\n",
    "        {\n",
    "            'vect__ngram_range': [(1,1),(1,2)],\n",
    "            'vect__stop_words': ['english',None],\n",
    "            'tfidf__use_idf': [True,False],\n",
    "            'clf__C': [0.01, 0.05, 0.1, 0.5, 1.0, 10, 20 , 30, 40, 50, 60, 70, 80, 90, 100],\n",
    "            'clf__penalty': ['l2','l1','elasticnet'],\n",
    "            'clf__solver': ['newton-cg','sag','lbfgs','liblinear','saga'],\n",
    "        }\n",
    "]"
   ]
  },
  {
   "cell_type": "code",
   "execution_count": null,
   "metadata": {},
   "outputs": [],
   "source": [
    "runRandomizedSearchCV(logistic_regression_rs, [models[1]], [model_names[1]])"
   ]
  },
  {
   "cell_type": "code",
   "execution_count": null,
   "metadata": {},
   "outputs": [],
   "source": [
    "runGridSearchCV(logistic_regression_pg, [models[1]], [model_names[1]])"
   ]
  },
  {
   "cell_type": "markdown",
   "metadata": {},
   "source": [
    "### Random Forest Parameters"
   ]
  },
  {
   "cell_type": "code",
   "execution_count": null,
   "metadata": {},
   "outputs": [],
   "source": [
    "random_forest_rs = [\n",
    "        {\n",
    "            'vect__ngram_range': [(1,1),(1,2)],\n",
    "            'vect__stop_words': ['english',None],\n",
    "            'tfidf__use_idf': [True,False],\n",
    "            'clf__bootstrap': [True,False],\n",
    "            'clf__max_depth' : [10,20,30,40,50,60,70,80,90,100,None],\n",
    "            'clf__n_estimators' : [100, 200, 400, 700, 800, 1000, 1200, 1400, 1600, 1800, 2000],\n",
    "#             'clf__C': [0.01, 0.05, 0.1, 0.5, 1.0, 10, 20 , 30, 40, 50, 60, 70, 80, 90, 100],\n",
    "            'clf__min_samples_split': [2,5,10],\n",
    "            'clf__max_features': ['auto','sqrt'],\n",
    "#             'clf__penalty': ['l2','l1','elasticnet'],\n",
    "#             'clf__solver': ['newton-cg','sag','lbfgs','liblinear','saga'],\n",
    "        }\n",
    "]"
   ]
  },
  {
   "cell_type": "code",
   "execution_count": null,
   "metadata": {},
   "outputs": [],
   "source": [
    "runRandomizedSearchCV(random_forest_rs, [models[4]], [model_names[4]])"
   ]
  },
  {
   "cell_type": "markdown",
   "metadata": {},
   "source": [
    "### Decision Tree Parameters"
   ]
  },
  {
   "cell_type": "code",
   "execution_count": 71,
   "metadata": {},
   "outputs": [
    {
     "ename": "SyntaxError",
     "evalue": "invalid syntax (<ipython-input-71-cdadc0d73a0c>, line 8)",
     "output_type": "error",
     "traceback": [
      "\u001b[0;36m  File \u001b[0;32m\"<ipython-input-71-cdadc0d73a0c>\"\u001b[0;36m, line \u001b[0;32m8\u001b[0m\n\u001b[0;31m    'clf__min_impurity_decrease': [0.00005,0.0001,0.0002,0.0005,0.001,0.0015,0.002,0.005,0.01]\u001b[0m\n\u001b[0m                               ^\u001b[0m\n\u001b[0;31mSyntaxError\u001b[0m\u001b[0;31m:\u001b[0m invalid syntax\n"
     ]
    }
   ],
   "source": [
    "decision_tree_rs = [\n",
    "        {\n",
    "            'vect__ngram_range': [(1,1),(1,2)],\n",
    "            'vect__stop_words': ['english',None],\n",
    "            'tfidf__use_idf': [True,False],\n",
    "            'clf__max_features': [None,'auto','sqrt','log2'],\n",
    "            'clf__max_depth': [1,2,3,4,5,6,7,8,9,10,11,12,13,14,15],\n",
    "            'clf__min_impurity_decrease': [0.00005,0.0001,0.0002,0.0005,0.001,0.0015,0.002,0.005,0.01]\n",
    "        }\n",
    "]"
   ]
  },
  {
   "cell_type": "code",
   "execution_count": null,
   "metadata": {},
   "outputs": [],
   "source": [
    "runRandomizedSearchCV(decision_tree_rs, [models[3]], [model_names[3]])"
   ]
  },
  {
   "cell_type": "code",
   "execution_count": null,
   "metadata": {},
   "outputs": [],
   "source": []
  }
 ],
 "metadata": {
  "kernelspec": {
   "display_name": "Python 3",
   "language": "python",
   "name": "python3"
  },
  "language_info": {
   "codemirror_mode": {
    "name": "ipython",
    "version": 3
   },
   "file_extension": ".py",
   "mimetype": "text/x-python",
   "name": "python",
   "nbconvert_exporter": "python",
   "pygments_lexer": "ipython3",
   "version": "3.7.0"
  }
 },
 "nbformat": 4,
 "nbformat_minor": 2
}
