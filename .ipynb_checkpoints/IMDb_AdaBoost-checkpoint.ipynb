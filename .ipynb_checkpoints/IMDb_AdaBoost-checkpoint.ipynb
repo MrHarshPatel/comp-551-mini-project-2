{
 "cells": [
  {
   "cell_type": "code",
   "execution_count": 1,
   "metadata": {},
   "outputs": [],
   "source": [
    "import numpy as np\n",
    "import time\n",
    "import pandas as pd \n",
    "\n",
    "from sklearn.datasets import fetch_20newsgroups \n",
    "\n",
    "from sklearn.feature_extraction.text import CountVectorizer \n",
    "from sklearn.feature_extraction.text import TfidfTransformer \n",
    "\n",
    "from sklearn.linear_model import SGDClassifier \n",
    "from sklearn.pipeline import Pipeline\n",
    "from sklearn.svm import LinearSVC\n",
    "from sklearn.linear_model import LogisticRegression\n",
    "from sklearn.ensemble import AdaBoostClassifier\n",
    "from sklearn.tree import DecisionTreeClassifier\n",
    "from sklearn.ensemble import RandomForestClassifier\n",
    "\n",
    "from sklearn.model_selection import GridSearchCV,RandomizedSearchCV"
   ]
  },
  {
   "cell_type": "code",
   "execution_count": 2,
   "metadata": {},
   "outputs": [],
   "source": [
    "train = pd.read_csv('train_IMDb.csv')\n",
    "test = pd.read_csv('test_IMDb.csv')\n"
   ]
  },
  {
   "cell_type": "code",
   "execution_count": 3,
   "metadata": {},
   "outputs": [],
   "source": [
    "class IMBD:\n",
    "    \n",
    "    def __init__(self,subset = 'train'):\n",
    "        if (subset == 'train'):\n",
    "            self.allData = train.to_numpy()\n",
    "        else:\n",
    "            self.allData = test.to_numpy()\n",
    "\n",
    "        np.random.shuffle(self.allData)\n",
    "\n",
    "        self.data = self.allData[:,0]\n",
    "        self.target = self.allData[:,1]\n",
    "        self.target=self.target.astype('int')\n",
    "      "
   ]
  },
  {
   "cell_type": "code",
   "execution_count": 4,
   "metadata": {},
   "outputs": [],
   "source": [
    "imdb = IMBD()"
   ]
  },
  {
   "cell_type": "code",
   "execution_count": 5,
   "metadata": {},
   "outputs": [],
   "source": [
    "ensembleModels_names = ['AdaBoost']#we can add bagging here if we want later\n",
    "\n",
    "ensembleModels = [\n",
    "    AdaBoostClassifier(random_state=0)\n",
    "]\n",
    "\n",
    "baseEstimators_names = ['SVM', 'Logistic Regression', 'Random Forest','Decision Tree']\n",
    "\n",
    "#add the optimal paramaters once we finish our gridSearch\n",
    "baseEstimators = [\n",
    "    LinearSVC(C=80,penalty = 'l2',loss = 'squared_hinge',random_state=0),\n",
    "    LogisticRegression(C = 55, penalty = 'l2', solver = 'saga', random_state=0),\n",
    "    RandomForestClassifier(n_estimators = 700, min_samples_split = 10, max_depth=None, max_features = 'auto', criterion = 'gini',bootstrap = False, random_state=0),\n",
    "    DecisionTreeClassifier(max_depth= None, max_features = None, min_impurity_decrease= 0.0005,random_state=0)\n",
    "]"
   ]
  },
  {
   "cell_type": "code",
   "execution_count": 6,
   "metadata": {},
   "outputs": [],
   "source": [
    "def runAdaBoost(parameter_grids, models, model_names):\n",
    "    start = time.time()\n",
    "    i = 0\n",
    "    best_scores = []\n",
    "    best_params = []\n",
    "    for model in models: \n",
    "        print(\"Currently training model: \", model_names[i])\n",
    "\n",
    "        text_clf = Pipeline([('vect', CountVectorizer()),\n",
    "                            ('tfidf', TfidfTransformer()),\n",
    "                            ('clf', model)])\n",
    "\n",
    "        _  = text_clf.fit(imdb.data, imdb.target)    \n",
    "\n",
    "        gs_clf = GridSearchCV(text_clf, parameter_grids[i], n_jobs=-1, cv=3,error_score=0.0)\n",
    "        gs_clf = gs_clf.fit(imdb.data, imdb.target)\n",
    "\n",
    "        best_scores.append(gs_clf.best_score_)\n",
    "        best_params.append(gs_clf.best_params_)\n",
    "\n",
    "        print(\"Time taken: \", time.time()-start)\n",
    "        print(\"Best score : \", gs_clf.best_score_)\n",
    "        print(\"Best params: \", gs_clf.best_params_)\n",
    "        print(\"\\n\\n\")\n",
    "\n",
    "        i+=1\n",
    "    "
   ]
  },
  {
   "cell_type": "markdown",
   "metadata": {},
   "source": [
    "### Linear AdaBoost "
   ]
  },
  {
   "cell_type": "code",
   "execution_count": 7,
   "metadata": {},
   "outputs": [
    {
     "name": "stdout",
     "output_type": "stream",
     "text": [
      "LinearSVC(C=80, class_weight=None, dual=True, fit_intercept=True,\n",
      "          intercept_scaling=1, loss='squared_hinge', max_iter=1000,\n",
      "          multi_class='ovr', penalty='l2', random_state=0, tol=0.0001,\n",
      "          verbose=0)\n"
     ]
    }
   ],
   "source": [
    "#adjust the vect/tfidf to be optimal for each model (stop words, ngram)\n",
    "i = 0\n",
    "Ada_linear_svc = [\n",
    "    {\n",
    "        'vect__ngram_range': [(1,2)],\n",
    "        'vect__stop_words': ['english'],\n",
    "        'tfidf__use_idf': [True],\n",
    "        'clf__base_estimator': [baseEstimators[i]], #adjust the index to switch to other base_estimators\n",
    "        \n",
    "        #AdaBoost Paramaters\n",
    "        'clf__algorithm': ['SAMME'], #SVC is a strong learner, so this is needed, possibly will overfit\n",
    "        'clf__n_estimators': [50, 100],\n",
    "        'clf__learning_rate' : [0.01,0.05,0.1,0.3,1],\n",
    "    }\n",
    "]\n",
    "print(baseEstimators[i])"
   ]
  },
  {
   "cell_type": "code",
   "execution_count": null,
   "metadata": {},
   "outputs": [
    {
     "name": "stdout",
     "output_type": "stream",
     "text": [
      "Currently training model:  AdaBoost\n"
     ]
    }
   ],
   "source": [
    "runAdaBoost(Ada_linear_svc, [ensembleModels[i]], [ensembleModels_names[i]])"
   ]
  },
  {
   "cell_type": "markdown",
   "metadata": {},
   "source": [
    "### Logistic Regression AdaBoost"
   ]
  },
  {
   "cell_type": "code",
   "execution_count": 7,
   "metadata": {},
   "outputs": [
    {
     "name": "stdout",
     "output_type": "stream",
     "text": [
      "LogisticRegression(C=55, class_weight=None, dual=False, fit_intercept=True,\n",
      "                   intercept_scaling=1, l1_ratio=None, max_iter=100,\n",
      "                   multi_class='warn', n_jobs=None, penalty='l2',\n",
      "                   random_state=0, solver='saga', tol=0.0001, verbose=0,\n",
      "                   warm_start=False)\n"
     ]
    }
   ],
   "source": [
    "#adjust the vect/tfidf to be optimal for each model (stop words, ngram)\n",
    "i=1\n",
    "Ada_Logistic_Reg = [\n",
    "    {\n",
    "        'vect__ngram_range': [(1,2)],\n",
    "        'vect__stop_words': ['english'],\n",
    "        'tfidf__use_idf': [True],\n",
    "        'clf__base_estimator': [baseEstimators[i]], #adjust the index to switch to other base_estimators\n",
    "        \n",
    "        #AdaBoost Paramaters\n",
    "        'clf__n_estimators': [50],\n",
    "        'clf__learning_rate' : [1],\n",
    "    }\n",
    "]\n",
    "print(baseEstimators[i])"
   ]
  },
  {
   "cell_type": "code",
   "execution_count": null,
   "metadata": {},
   "outputs": [
    {
     "name": "stdout",
     "output_type": "stream",
     "text": [
      "Currently training model:  AdaBoost\n"
     ]
    }
   ],
   "source": [
    "runAdaBoost(Ada_Logistic_Reg, [ensembleModels[0]], [ensembleModels_names[0]])"
   ]
  },
  {
   "cell_type": "markdown",
   "metadata": {},
   "source": [
    "### Random Forest"
   ]
  },
  {
   "cell_type": "code",
   "execution_count": 19,
   "metadata": {},
   "outputs": [
    {
     "name": "stdout",
     "output_type": "stream",
     "text": [
      "RandomForestClassifier(bootstrap=False, class_weight=None, criterion='gini',\n",
      "                       max_depth=None, max_features='auto', max_leaf_nodes=None,\n",
      "                       min_impurity_decrease=0.0, min_impurity_split=None,\n",
      "                       min_samples_leaf=1, min_samples_split=10,\n",
      "                       min_weight_fraction_leaf=0.0, n_estimators=700,\n",
      "                       n_jobs=None, oob_score=False, random_state=0, verbose=0,\n",
      "                       warm_start=False)\n"
     ]
    }
   ],
   "source": [
    "i = 2\n",
    "Ada_Random_Forest = [\n",
    "    {\n",
    "        'vect__ngram_range': [(1,2)],\n",
    "        'vect__stop_words': ['english'],\n",
    "        'tfidf__use_idf': [True],\n",
    "        'clf__base_estimator': [baseEstimators[i]], #adjust the index to switch to other base_estimators\n",
    "        \n",
    "        #AdaBoost Paramaters\n",
    "        'clf__n_estimators': [50],\n",
    "        'clf__learning_rate' : [1],\n",
    "    }\n",
    "]\n",
    "print(baseEstimators[i])"
   ]
  },
  {
   "cell_type": "code",
   "execution_count": null,
   "metadata": {},
   "outputs": [],
   "source": [
    "runAdaBoost(Ada_Random_Forest, [ensembleModels[0]], [ensembleModels_names[0]])"
   ]
  },
  {
   "cell_type": "markdown",
   "metadata": {},
   "source": [
    "### Decision Tree"
   ]
  },
  {
   "cell_type": "code",
   "execution_count": 17,
   "metadata": {},
   "outputs": [
    {
     "name": "stdout",
     "output_type": "stream",
     "text": [
      "DecisionTreeClassifier(class_weight=None, criterion='gini', max_depth=None,\n",
      "                       max_features=None, max_leaf_nodes=None,\n",
      "                       min_impurity_decrease=0.0005, min_impurity_split=None,\n",
      "                       min_samples_leaf=1, min_samples_split=2,\n",
      "                       min_weight_fraction_leaf=0.0, presort=False,\n",
      "                       random_state=0, splitter='best')\n"
     ]
    }
   ],
   "source": [
    "i = 3\n",
    "Ada_Decision_Tree = [\n",
    "    {\n",
    "        'vect__ngram_range': [(1,2)],\n",
    "        'vect__stop_words': [None],\n",
    "        'tfidf__use_idf': [False],\n",
    "        'clf__base_estimator': [baseEstimators[i]], #adjust the index to switch to other base_estimators\n",
    "        \n",
    "        #AdaBoost Paramaters\n",
    "        'clf__n_estimators': [50],\n",
    "        'clf__learning_rate' : [1],\n",
    "    }\n",
    "]\n",
    "print(baseEstimators[i])"
   ]
  },
  {
   "cell_type": "code",
   "execution_count": null,
   "metadata": {},
   "outputs": [],
   "source": [
    "runAdaBoost(Ada_Decision_Tree, [ensembleModels[0]], [ensembleModels_names[0]])"
   ]
  },
  {
   "cell_type": "code",
   "execution_count": null,
   "metadata": {},
   "outputs": [],
   "source": []
  }
 ],
 "metadata": {
  "kernelspec": {
   "display_name": "Python 3",
   "language": "python",
   "name": "python3"
  },
  "language_info": {
   "codemirror_mode": {
    "name": "ipython",
    "version": 3
   },
   "file_extension": ".py",
   "mimetype": "text/x-python",
   "name": "python",
   "nbconvert_exporter": "python",
   "pygments_lexer": "ipython3",
   "version": "3.7.4"
  }
 },
 "nbformat": 4,
 "nbformat_minor": 2
}
