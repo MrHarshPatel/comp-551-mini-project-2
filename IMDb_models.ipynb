{
 "cells": [
  {
   "cell_type": "code",
   "execution_count": 1,
   "metadata": {},
   "outputs": [],
   "source": [
    "import numpy as np\n",
    "import time\n",
    "import pandas as pd\n",
    "from sklearn.datasets import fetch_20newsgroups \n",
    "\n",
    "from sklearn.feature_extraction.text import CountVectorizer \n",
    "from sklearn.feature_extraction.text import TfidfTransformer \n",
    "\n",
    "from sklearn.linear_model import SGDClassifier \n",
    "from sklearn.pipeline import Pipeline\n",
    "from sklearn.svm import LinearSVC\n",
    "from sklearn.linear_model import LogisticRegression\n",
    "from sklearn.ensemble import AdaBoostClassifier\n",
    "from sklearn.tree import DecisionTreeClassifier\n",
    "from sklearn.ensemble import RandomForestClassifier\n",
    "\n",
    "from sklearn.model_selection import GridSearchCV,RandomizedSearchCV\n"
   ]
  },
  {
   "cell_type": "markdown",
   "metadata": {},
   "source": [
    "## Creating test + train sets"
   ]
  },
  {
   "cell_type": "code",
   "execution_count": 2,
   "metadata": {},
   "outputs": [],
   "source": [
    "train = pd.read_csv('train_IMDb.csv')\n",
    "test = pd.read_csv('test_IMDb.csv')\n",
    "\n",
    "# allData = pd.read_csv('CombinedIMDb.csv')"
   ]
  },
  {
   "cell_type": "code",
   "execution_count": 3,
   "metadata": {},
   "outputs": [],
   "source": [
    "class IMBD:\n",
    "    \n",
    "    def __init__(self,subset = 'train'):\n",
    "        if (subset == 'train'):\n",
    "            self.allData = train.to_numpy()\n",
    "        else:\n",
    "            self.allData = test.to_numpy()\n",
    "\n",
    "        np.random.shuffle(self.allData)\n",
    "\n",
    "        self.data = self.allData[:,0]\n",
    "        self.target = self.allData[:,1]\n",
    "        self.target=self.target.astype('int')\n",
    "      "
   ]
  },
  {
   "cell_type": "code",
   "execution_count": 4,
   "metadata": {},
   "outputs": [],
   "source": [
    "# categories = ['alt.atheism', 'soc.religion.christian', \n",
    "#               'comp.graphics', 'sci.med']\n",
    "\n",
    "# currently looking at all categories \n",
    "# twenty_train = fetch_20newsgroups(subset='train', shuffle=True)\n",
    "# twenty_test = fetch_20newsgroups(subset='test', shuffle=True)\n",
    "\n",
    "imbd = IMBD()"
   ]
  },
  {
   "cell_type": "code",
   "execution_count": 5,
   "metadata": {},
   "outputs": [],
   "source": [
    "model_names = ['SVM', 'Logistic Regression', 'AdaBoost', 'Decision Tree', 'Random Forest']\n",
    "\n",
    "# just need to add randomforest \n",
    "models = [\n",
    "    LinearSVC(random_state=0,max_iter=2000),\n",
    "    LogisticRegression(random_state=0,max_iter=1000),\n",
    "    AdaBoostClassifier(n_estimators=50, learning_rate=1,random_state=0),\n",
    "    DecisionTreeClassifier(random_state=0),\n",
    "    RandomForestClassifier(max_depth=2, random_state=0)\n",
    "]\n",
    "\n",
    "\n",
    "parameters = [\n",
    "    {\n",
    "        'vect__ngram_range': [(1, 1), (1, 2)],\n",
    "        'tfidf__use_idf': (True, False),\n",
    "        'clf__loss': ('hinge', 'squared_hinge')\n",
    "    },\n",
    "    {\n",
    "        'vect__ngram_range': [(1, 1), (1, 2)],\n",
    "        'tfidf__use_idf': (True, False),\n",
    "        'clf__penalty': ('l2', 'l1')\n",
    "    },\n",
    "    {\n",
    "        'vect__ngram_range': [(1, 1), (1, 2)],\n",
    "        'tfidf__use_idf': (True, False),\n",
    "        'clf__learning_rate': (1, 2, 0.5),\n",
    "        'clf__n_estimators': (10, 50, 100)\n",
    "    },\n",
    "    {\n",
    "        'vect__ngram_range': [(1, 1), (1, 2)],\n",
    "        'tfidf__use_idf': (True, False),\n",
    "        'clf__criterion': ('gini', 'entropy'),\n",
    "    },\n",
    "    {\n",
    "        'vect__ngram_range': [(1, 1), (1, 2)],\n",
    "        'tfidf__use_idf': (True, False),\n",
    "        'clf__criterion': ('gini', 'entropy'),\n",
    "    }    \n",
    "]"
   ]
  },
  {
   "cell_type": "code",
   "execution_count": 6,
   "metadata": {},
   "outputs": [],
   "source": [
    "def runGridSearchCV(parameter_grids, models, model_names):\n",
    "    start = time.time()\n",
    "    i = 0\n",
    "    best_scores = []\n",
    "    best_params = []\n",
    "    for model in models: \n",
    "        print(\"Currently training model: \", model_names[i])\n",
    "\n",
    "        text_clf = Pipeline([('vect', CountVectorizer()),\n",
    "                            ('tfidf', TfidfTransformer()),\n",
    "                            ('clf', model)])\n",
    "\n",
    "        _  = text_clf.fit(imbd.data, imbd.target)   \n",
    "\n",
    "        gs_clf = GridSearchCV(text_clf, parameter_grids[i], n_jobs=-1, cv=3,error_score=0.0)\n",
    "        gs_clf = gs_clf.fit(imbd.data, imbd.target)\n",
    "\n",
    "        best_scores.append(gs_clf.best_score_)\n",
    "        best_params.append(gs_clf.best_params_)\n",
    "\n",
    "        print(\"Time taken: \", time.time()-start)\n",
    "        print(\"Best score : \", gs_clf.best_score_)\n",
    "        print(\"Best params: \", gs_clf.best_params_)\n",
    "        print(\"\\n\\n\")\n",
    "\n",
    "        i+=1\n"
   ]
  },
  {
   "cell_type": "code",
   "execution_count": 7,
   "metadata": {},
   "outputs": [],
   "source": [
    "def runRandomizedSearchCV(parameter_grids, models, model_names, num_iters=100):\n",
    "    start = time.time()\n",
    "    i = 0\n",
    "    best_scores = []\n",
    "    best_params = []\n",
    "    for model in models: \n",
    "        print(\"Currently training model: \", model_names[i])\n",
    "\n",
    "        text_clf = Pipeline([('vect', CountVectorizer()),\n",
    "                            ('tfidf', TfidfTransformer()),\n",
    "                            ('clf', model)])\n",
    "\n",
    "        _  = text_clf.fit(imbd.data, imbd.target)    \n",
    "\n",
    "        rs_clf = RandomizedSearchCV(text_clf, parameter_grids[i], n_jobs=1, cv=3,error_score=0.0,n_iter = num_iters, verbose = 2, random_state=0)\n",
    "        rs_clf = rs_clf.fit(imbd.data, imbd.target)\n",
    "\n",
    "        best_scores.append(rs_clf.best_score_)\n",
    "        best_params.append(rs_clf.best_params_)\n",
    "\n",
    "        print(\"Time taken: \", time.time()-start)\n",
    "        print(\"Best score : \", rs_clf.best_score_)\n",
    "        print(\"Best params: \", rs_clf.best_params_)\n",
    "        print(\"\\n\\n\")\n",
    "\n",
    "        i+=1"
   ]
  },
  {
   "cell_type": "markdown",
   "metadata": {},
   "source": [
    "## Finding Hyperparameters For Each Model"
   ]
  },
  {
   "cell_type": "markdown",
   "metadata": {},
   "source": [
    "### Linear SVC Parameters"
   ]
  },
  {
   "cell_type": "code",
   "execution_count": 81,
   "metadata": {},
   "outputs": [],
   "source": [
    "linear_svc_rs = [\n",
    "    {\n",
    "        'vect__ngram_range': [(1,1),(1,2)],\n",
    "        'vect__stop_words': ['english',None],\n",
    "        'tfidf__use_idf': [True,False],\n",
    "        'clf__C': [0.01, 0.05, 0.1, 0.5, 1.0, 10, 20 , 30, 40, 50, 60, 70, 80, 90, 100],\n",
    "        'clf__penalty': ['l2','l1'],\n",
    "        'clf__loss': ['hinge','squared_hinge'],\n",
    "    }\n",
    "]"
   ]
  },
  {
   "cell_type": "code",
   "execution_count": 82,
   "metadata": {},
   "outputs": [],
   "source": [
    "# Narrowed from randomized search\n",
    "linear_svc_gs = [\n",
    "    {\n",
    "        'vect__ngram_range': [(1,1),(1,2)],\n",
    "        'vect__stop_words': ['english',None],\n",
    "        \n",
    "        'tfidf__use_idf': [True,False],\n",
    "        'clf__C': [0.01, 1.0, 100.],\n",
    "        'clf__penalty': ['l2','l1'],\n",
    "        'clf__loss': ['hinge','squared_hinge'],\n",
    "    }\n",
    "]"
   ]
  },
  {
   "cell_type": "code",
   "execution_count": 83,
   "metadata": {},
   "outputs": [
    {
     "name": "stdout",
     "output_type": "stream",
     "text": [
      "Currently training model:  SVM\n",
      "Fitting 3 folds for each of 100 candidates, totalling 300 fits\n",
      "[CV] vect__stop_words=None, vect__ngram_range=(1, 2), tfidf__use_idf=False, clf__penalty=l1, clf__loss=hinge, clf__C=0.01 \n"
     ]
    },
    {
     "name": "stderr",
     "output_type": "stream",
     "text": [
      "/home/harsh/anaconda3/lib/python3.7/site-packages/sklearn/model_selection/_validation.py:479: FitFailedWarning: Classifier fit failed. The score on this train-test partition for these parameters will be set to 0.000000. Details: \n",
      "ValueError(\"Unsupported set of arguments: The combination of penalty='l1' and loss='hinge' is not supported, Parameters: penalty='l1', loss='hinge', dual=True\")\n",
      "  \"Details: \\n%r\" % (error_score, e), FitFailedWarning)\n",
      "[Parallel(n_jobs=1)]: Done   1 out of   1 | elapsed:    8.8s remaining:    0.0s\n"
     ]
    },
    {
     "name": "stdout",
     "output_type": "stream",
     "text": [
      "[CV]  vect__stop_words=None, vect__ngram_range=(1, 2), tfidf__use_idf=False, clf__penalty=l1, clf__loss=hinge, clf__C=0.01, total=   8.8s\n",
      "[CV] vect__stop_words=None, vect__ngram_range=(1, 2), tfidf__use_idf=False, clf__penalty=l1, clf__loss=hinge, clf__C=0.01 \n"
     ]
    },
    {
     "name": "stderr",
     "output_type": "stream",
     "text": [
      "/home/harsh/anaconda3/lib/python3.7/site-packages/sklearn/model_selection/_validation.py:479: FitFailedWarning: Classifier fit failed. The score on this train-test partition for these parameters will be set to 0.000000. Details: \n",
      "ValueError(\"Unsupported set of arguments: The combination of penalty='l1' and loss='hinge' is not supported, Parameters: penalty='l1', loss='hinge', dual=True\")\n",
      "  \"Details: \\n%r\" % (error_score, e), FitFailedWarning)\n"
     ]
    },
    {
     "name": "stdout",
     "output_type": "stream",
     "text": [
      "[CV]  vect__stop_words=None, vect__ngram_range=(1, 2), tfidf__use_idf=False, clf__penalty=l1, clf__loss=hinge, clf__C=0.01, total=   9.0s\n",
      "[CV] vect__stop_words=None, vect__ngram_range=(1, 2), tfidf__use_idf=False, clf__penalty=l1, clf__loss=hinge, clf__C=0.01 \n"
     ]
    },
    {
     "name": "stderr",
     "output_type": "stream",
     "text": [
      "/home/harsh/anaconda3/lib/python3.7/site-packages/sklearn/model_selection/_validation.py:479: FitFailedWarning: Classifier fit failed. The score on this train-test partition for these parameters will be set to 0.000000. Details: \n",
      "ValueError(\"Unsupported set of arguments: The combination of penalty='l1' and loss='hinge' is not supported, Parameters: penalty='l1', loss='hinge', dual=True\")\n",
      "  \"Details: \\n%r\" % (error_score, e), FitFailedWarning)\n"
     ]
    },
    {
     "name": "stdout",
     "output_type": "stream",
     "text": [
      "[CV]  vect__stop_words=None, vect__ngram_range=(1, 2), tfidf__use_idf=False, clf__penalty=l1, clf__loss=hinge, clf__C=0.01, total=   8.9s\n",
      "[CV] vect__stop_words=english, vect__ngram_range=(1, 1), tfidf__use_idf=False, clf__penalty=l1, clf__loss=squared_hinge, clf__C=0.5 \n"
     ]
    },
    {
     "name": "stderr",
     "output_type": "stream",
     "text": [
      "/home/harsh/anaconda3/lib/python3.7/site-packages/sklearn/model_selection/_validation.py:479: FitFailedWarning: Classifier fit failed. The score on this train-test partition for these parameters will be set to 0.000000. Details: \n",
      "ValueError(\"Unsupported set of arguments: The combination of penalty='l1' and loss='squared_hinge' are not supported when dual=True, Parameters: penalty='l1', loss='squared_hinge', dual=True\")\n",
      "  \"Details: \\n%r\" % (error_score, e), FitFailedWarning)\n"
     ]
    },
    {
     "name": "stdout",
     "output_type": "stream",
     "text": [
      "[CV]  vect__stop_words=english, vect__ngram_range=(1, 1), tfidf__use_idf=False, clf__penalty=l1, clf__loss=squared_hinge, clf__C=0.5, total=   1.8s\n",
      "[CV] vect__stop_words=english, vect__ngram_range=(1, 1), tfidf__use_idf=False, clf__penalty=l1, clf__loss=squared_hinge, clf__C=0.5 \n"
     ]
    },
    {
     "name": "stderr",
     "output_type": "stream",
     "text": [
      "/home/harsh/anaconda3/lib/python3.7/site-packages/sklearn/model_selection/_validation.py:479: FitFailedWarning: Classifier fit failed. The score on this train-test partition for these parameters will be set to 0.000000. Details: \n",
      "ValueError(\"Unsupported set of arguments: The combination of penalty='l1' and loss='squared_hinge' are not supported when dual=True, Parameters: penalty='l1', loss='squared_hinge', dual=True\")\n",
      "  \"Details: \\n%r\" % (error_score, e), FitFailedWarning)\n"
     ]
    },
    {
     "name": "stdout",
     "output_type": "stream",
     "text": [
      "[CV]  vect__stop_words=english, vect__ngram_range=(1, 1), tfidf__use_idf=False, clf__penalty=l1, clf__loss=squared_hinge, clf__C=0.5, total=   1.9s\n",
      "[CV] vect__stop_words=english, vect__ngram_range=(1, 1), tfidf__use_idf=False, clf__penalty=l1, clf__loss=squared_hinge, clf__C=0.5 \n"
     ]
    },
    {
     "name": "stderr",
     "output_type": "stream",
     "text": [
      "/home/harsh/anaconda3/lib/python3.7/site-packages/sklearn/model_selection/_validation.py:479: FitFailedWarning: Classifier fit failed. The score on this train-test partition for these parameters will be set to 0.000000. Details: \n",
      "ValueError(\"Unsupported set of arguments: The combination of penalty='l1' and loss='squared_hinge' are not supported when dual=True, Parameters: penalty='l1', loss='squared_hinge', dual=True\")\n",
      "  \"Details: \\n%r\" % (error_score, e), FitFailedWarning)\n"
     ]
    },
    {
     "name": "stdout",
     "output_type": "stream",
     "text": [
      "[CV]  vect__stop_words=english, vect__ngram_range=(1, 1), tfidf__use_idf=False, clf__penalty=l1, clf__loss=squared_hinge, clf__C=0.5, total=   1.8s\n",
      "[CV] vect__stop_words=None, vect__ngram_range=(1, 1), tfidf__use_idf=False, clf__penalty=l1, clf__loss=hinge, clf__C=1.0 \n"
     ]
    },
    {
     "name": "stderr",
     "output_type": "stream",
     "text": [
      "/home/harsh/anaconda3/lib/python3.7/site-packages/sklearn/model_selection/_validation.py:479: FitFailedWarning: Classifier fit failed. The score on this train-test partition for these parameters will be set to 0.000000. Details: \n",
      "ValueError(\"Unsupported set of arguments: The combination of penalty='l1' and loss='hinge' is not supported, Parameters: penalty='l1', loss='hinge', dual=True\")\n",
      "  \"Details: \\n%r\" % (error_score, e), FitFailedWarning)\n"
     ]
    },
    {
     "name": "stdout",
     "output_type": "stream",
     "text": [
      "[CV]  vect__stop_words=None, vect__ngram_range=(1, 1), tfidf__use_idf=False, clf__penalty=l1, clf__loss=hinge, clf__C=1.0, total=   2.2s\n",
      "[CV] vect__stop_words=None, vect__ngram_range=(1, 1), tfidf__use_idf=False, clf__penalty=l1, clf__loss=hinge, clf__C=1.0 \n"
     ]
    },
    {
     "name": "stderr",
     "output_type": "stream",
     "text": [
      "/home/harsh/anaconda3/lib/python3.7/site-packages/sklearn/model_selection/_validation.py:479: FitFailedWarning: Classifier fit failed. The score on this train-test partition for these parameters will be set to 0.000000. Details: \n",
      "ValueError(\"Unsupported set of arguments: The combination of penalty='l1' and loss='hinge' is not supported, Parameters: penalty='l1', loss='hinge', dual=True\")\n",
      "  \"Details: \\n%r\" % (error_score, e), FitFailedWarning)\n"
     ]
    },
    {
     "name": "stdout",
     "output_type": "stream",
     "text": [
      "[CV]  vect__stop_words=None, vect__ngram_range=(1, 1), tfidf__use_idf=False, clf__penalty=l1, clf__loss=hinge, clf__C=1.0, total=   2.1s\n",
      "[CV] vect__stop_words=None, vect__ngram_range=(1, 1), tfidf__use_idf=False, clf__penalty=l1, clf__loss=hinge, clf__C=1.0 \n"
     ]
    },
    {
     "name": "stderr",
     "output_type": "stream",
     "text": [
      "/home/harsh/anaconda3/lib/python3.7/site-packages/sklearn/model_selection/_validation.py:479: FitFailedWarning: Classifier fit failed. The score on this train-test partition for these parameters will be set to 0.000000. Details: \n",
      "ValueError(\"Unsupported set of arguments: The combination of penalty='l1' and loss='hinge' is not supported, Parameters: penalty='l1', loss='hinge', dual=True\")\n",
      "  \"Details: \\n%r\" % (error_score, e), FitFailedWarning)\n"
     ]
    },
    {
     "name": "stdout",
     "output_type": "stream",
     "text": [
      "[CV]  vect__stop_words=None, vect__ngram_range=(1, 1), tfidf__use_idf=False, clf__penalty=l1, clf__loss=hinge, clf__C=1.0, total=   2.0s\n",
      "[CV] vect__stop_words=None, vect__ngram_range=(1, 2), tfidf__use_idf=False, clf__penalty=l2, clf__loss=hinge, clf__C=40 \n",
      "[CV]  vect__stop_words=None, vect__ngram_range=(1, 2), tfidf__use_idf=False, clf__penalty=l2, clf__loss=hinge, clf__C=40, total=  20.5s\n",
      "[CV] vect__stop_words=None, vect__ngram_range=(1, 2), tfidf__use_idf=False, clf__penalty=l2, clf__loss=hinge, clf__C=40 \n",
      "[CV]  vect__stop_words=None, vect__ngram_range=(1, 2), tfidf__use_idf=False, clf__penalty=l2, clf__loss=hinge, clf__C=40, total=  17.7s\n",
      "[CV] vect__stop_words=None, vect__ngram_range=(1, 2), tfidf__use_idf=False, clf__penalty=l2, clf__loss=hinge, clf__C=40 \n",
      "[CV]  vect__stop_words=None, vect__ngram_range=(1, 2), tfidf__use_idf=False, clf__penalty=l2, clf__loss=hinge, clf__C=40, total=  28.4s\n",
      "[CV] vect__stop_words=english, vect__ngram_range=(1, 2), tfidf__use_idf=True, clf__penalty=l1, clf__loss=hinge, clf__C=10 \n"
     ]
    },
    {
     "name": "stderr",
     "output_type": "stream",
     "text": [
      "/home/harsh/anaconda3/lib/python3.7/site-packages/sklearn/model_selection/_validation.py:479: FitFailedWarning: Classifier fit failed. The score on this train-test partition for these parameters will be set to 0.000000. Details: \n",
      "ValueError(\"Unsupported set of arguments: The combination of penalty='l1' and loss='hinge' is not supported, Parameters: penalty='l1', loss='hinge', dual=True\")\n",
      "  \"Details: \\n%r\" % (error_score, e), FitFailedWarning)\n"
     ]
    },
    {
     "name": "stdout",
     "output_type": "stream",
     "text": [
      "[CV]  vect__stop_words=english, vect__ngram_range=(1, 2), tfidf__use_idf=True, clf__penalty=l1, clf__loss=hinge, clf__C=10, total=   9.2s\n",
      "[CV] vect__stop_words=english, vect__ngram_range=(1, 2), tfidf__use_idf=True, clf__penalty=l1, clf__loss=hinge, clf__C=10 \n"
     ]
    },
    {
     "name": "stderr",
     "output_type": "stream",
     "text": [
      "/home/harsh/anaconda3/lib/python3.7/site-packages/sklearn/model_selection/_validation.py:479: FitFailedWarning: Classifier fit failed. The score on this train-test partition for these parameters will be set to 0.000000. Details: \n",
      "ValueError(\"Unsupported set of arguments: The combination of penalty='l1' and loss='hinge' is not supported, Parameters: penalty='l1', loss='hinge', dual=True\")\n",
      "  \"Details: \\n%r\" % (error_score, e), FitFailedWarning)\n"
     ]
    },
    {
     "name": "stdout",
     "output_type": "stream",
     "text": [
      "[CV]  vect__stop_words=english, vect__ngram_range=(1, 2), tfidf__use_idf=True, clf__penalty=l1, clf__loss=hinge, clf__C=10, total=   9.3s\n",
      "[CV] vect__stop_words=english, vect__ngram_range=(1, 2), tfidf__use_idf=True, clf__penalty=l1, clf__loss=hinge, clf__C=10 \n"
     ]
    },
    {
     "name": "stderr",
     "output_type": "stream",
     "text": [
      "/home/harsh/anaconda3/lib/python3.7/site-packages/sklearn/model_selection/_validation.py:479: FitFailedWarning: Classifier fit failed. The score on this train-test partition for these parameters will be set to 0.000000. Details: \n",
      "ValueError(\"Unsupported set of arguments: The combination of penalty='l1' and loss='hinge' is not supported, Parameters: penalty='l1', loss='hinge', dual=True\")\n",
      "  \"Details: \\n%r\" % (error_score, e), FitFailedWarning)\n"
     ]
    },
    {
     "name": "stdout",
     "output_type": "stream",
     "text": [
      "[CV]  vect__stop_words=english, vect__ngram_range=(1, 2), tfidf__use_idf=True, clf__penalty=l1, clf__loss=hinge, clf__C=10, total=   9.3s\n",
      "[CV] vect__stop_words=english, vect__ngram_range=(1, 2), tfidf__use_idf=False, clf__penalty=l1, clf__loss=hinge, clf__C=1.0 \n"
     ]
    },
    {
     "name": "stderr",
     "output_type": "stream",
     "text": [
      "/home/harsh/anaconda3/lib/python3.7/site-packages/sklearn/model_selection/_validation.py:479: FitFailedWarning: Classifier fit failed. The score on this train-test partition for these parameters will be set to 0.000000. Details: \n",
      "ValueError(\"Unsupported set of arguments: The combination of penalty='l1' and loss='hinge' is not supported, Parameters: penalty='l1', loss='hinge', dual=True\")\n",
      "  \"Details: \\n%r\" % (error_score, e), FitFailedWarning)\n"
     ]
    },
    {
     "name": "stdout",
     "output_type": "stream",
     "text": [
      "[CV]  vect__stop_words=english, vect__ngram_range=(1, 2), tfidf__use_idf=False, clf__penalty=l1, clf__loss=hinge, clf__C=1.0, total=   8.8s\n",
      "[CV] vect__stop_words=english, vect__ngram_range=(1, 2), tfidf__use_idf=False, clf__penalty=l1, clf__loss=hinge, clf__C=1.0 \n"
     ]
    },
    {
     "name": "stderr",
     "output_type": "stream",
     "text": [
      "/home/harsh/anaconda3/lib/python3.7/site-packages/sklearn/model_selection/_validation.py:479: FitFailedWarning: Classifier fit failed. The score on this train-test partition for these parameters will be set to 0.000000. Details: \n",
      "ValueError(\"Unsupported set of arguments: The combination of penalty='l1' and loss='hinge' is not supported, Parameters: penalty='l1', loss='hinge', dual=True\")\n",
      "  \"Details: \\n%r\" % (error_score, e), FitFailedWarning)\n"
     ]
    },
    {
     "name": "stdout",
     "output_type": "stream",
     "text": [
      "[CV]  vect__stop_words=english, vect__ngram_range=(1, 2), tfidf__use_idf=False, clf__penalty=l1, clf__loss=hinge, clf__C=1.0, total=   9.2s\n",
      "[CV] vect__stop_words=english, vect__ngram_range=(1, 2), tfidf__use_idf=False, clf__penalty=l1, clf__loss=hinge, clf__C=1.0 \n"
     ]
    },
    {
     "name": "stderr",
     "output_type": "stream",
     "text": [
      "/home/harsh/anaconda3/lib/python3.7/site-packages/sklearn/model_selection/_validation.py:479: FitFailedWarning: Classifier fit failed. The score on this train-test partition for these parameters will be set to 0.000000. Details: \n",
      "ValueError(\"Unsupported set of arguments: The combination of penalty='l1' and loss='hinge' is not supported, Parameters: penalty='l1', loss='hinge', dual=True\")\n",
      "  \"Details: \\n%r\" % (error_score, e), FitFailedWarning)\n"
     ]
    },
    {
     "name": "stdout",
     "output_type": "stream",
     "text": [
      "[CV]  vect__stop_words=english, vect__ngram_range=(1, 2), tfidf__use_idf=False, clf__penalty=l1, clf__loss=hinge, clf__C=1.0, total=   9.1s\n",
      "[CV] vect__stop_words=None, vect__ngram_range=(1, 2), tfidf__use_idf=False, clf__penalty=l1, clf__loss=hinge, clf__C=80 \n"
     ]
    },
    {
     "name": "stderr",
     "output_type": "stream",
     "text": [
      "/home/harsh/anaconda3/lib/python3.7/site-packages/sklearn/model_selection/_validation.py:479: FitFailedWarning: Classifier fit failed. The score on this train-test partition for these parameters will be set to 0.000000. Details: \n",
      "ValueError(\"Unsupported set of arguments: The combination of penalty='l1' and loss='hinge' is not supported, Parameters: penalty='l1', loss='hinge', dual=True\")\n",
      "  \"Details: \\n%r\" % (error_score, e), FitFailedWarning)\n"
     ]
    },
    {
     "name": "stdout",
     "output_type": "stream",
     "text": [
      "[CV]  vect__stop_words=None, vect__ngram_range=(1, 2), tfidf__use_idf=False, clf__penalty=l1, clf__loss=hinge, clf__C=80, total=   9.9s\n",
      "[CV] vect__stop_words=None, vect__ngram_range=(1, 2), tfidf__use_idf=False, clf__penalty=l1, clf__loss=hinge, clf__C=80 \n"
     ]
    },
    {
     "name": "stderr",
     "output_type": "stream",
     "text": [
      "/home/harsh/anaconda3/lib/python3.7/site-packages/sklearn/model_selection/_validation.py:479: FitFailedWarning: Classifier fit failed. The score on this train-test partition for these parameters will be set to 0.000000. Details: \n",
      "ValueError(\"Unsupported set of arguments: The combination of penalty='l1' and loss='hinge' is not supported, Parameters: penalty='l1', loss='hinge', dual=True\")\n",
      "  \"Details: \\n%r\" % (error_score, e), FitFailedWarning)\n"
     ]
    },
    {
     "name": "stdout",
     "output_type": "stream",
     "text": [
      "[CV]  vect__stop_words=None, vect__ngram_range=(1, 2), tfidf__use_idf=False, clf__penalty=l1, clf__loss=hinge, clf__C=80, total=   9.5s\n",
      "[CV] vect__stop_words=None, vect__ngram_range=(1, 2), tfidf__use_idf=False, clf__penalty=l1, clf__loss=hinge, clf__C=80 \n"
     ]
    },
    {
     "name": "stderr",
     "output_type": "stream",
     "text": [
      "/home/harsh/anaconda3/lib/python3.7/site-packages/sklearn/model_selection/_validation.py:479: FitFailedWarning: Classifier fit failed. The score on this train-test partition for these parameters will be set to 0.000000. Details: \n",
      "ValueError(\"Unsupported set of arguments: The combination of penalty='l1' and loss='hinge' is not supported, Parameters: penalty='l1', loss='hinge', dual=True\")\n",
      "  \"Details: \\n%r\" % (error_score, e), FitFailedWarning)\n"
     ]
    },
    {
     "name": "stdout",
     "output_type": "stream",
     "text": [
      "[CV]  vect__stop_words=None, vect__ngram_range=(1, 2), tfidf__use_idf=False, clf__penalty=l1, clf__loss=hinge, clf__C=80, total=   9.5s\n",
      "[CV] vect__stop_words=None, vect__ngram_range=(1, 1), tfidf__use_idf=False, clf__penalty=l1, clf__loss=hinge, clf__C=90 \n"
     ]
    },
    {
     "name": "stderr",
     "output_type": "stream",
     "text": [
      "/home/harsh/anaconda3/lib/python3.7/site-packages/sklearn/model_selection/_validation.py:479: FitFailedWarning: Classifier fit failed. The score on this train-test partition for these parameters will be set to 0.000000. Details: \n",
      "ValueError(\"Unsupported set of arguments: The combination of penalty='l1' and loss='hinge' is not supported, Parameters: penalty='l1', loss='hinge', dual=True\")\n",
      "  \"Details: \\n%r\" % (error_score, e), FitFailedWarning)\n"
     ]
    },
    {
     "name": "stdout",
     "output_type": "stream",
     "text": [
      "[CV]  vect__stop_words=None, vect__ngram_range=(1, 1), tfidf__use_idf=False, clf__penalty=l1, clf__loss=hinge, clf__C=90, total=   2.1s\n",
      "[CV] vect__stop_words=None, vect__ngram_range=(1, 1), tfidf__use_idf=False, clf__penalty=l1, clf__loss=hinge, clf__C=90 \n"
     ]
    },
    {
     "name": "stderr",
     "output_type": "stream",
     "text": [
      "/home/harsh/anaconda3/lib/python3.7/site-packages/sklearn/model_selection/_validation.py:479: FitFailedWarning: Classifier fit failed. The score on this train-test partition for these parameters will be set to 0.000000. Details: \n",
      "ValueError(\"Unsupported set of arguments: The combination of penalty='l1' and loss='hinge' is not supported, Parameters: penalty='l1', loss='hinge', dual=True\")\n",
      "  \"Details: \\n%r\" % (error_score, e), FitFailedWarning)\n"
     ]
    },
    {
     "name": "stdout",
     "output_type": "stream",
     "text": [
      "[CV]  vect__stop_words=None, vect__ngram_range=(1, 1), tfidf__use_idf=False, clf__penalty=l1, clf__loss=hinge, clf__C=90, total=   2.1s\n",
      "[CV] vect__stop_words=None, vect__ngram_range=(1, 1), tfidf__use_idf=False, clf__penalty=l1, clf__loss=hinge, clf__C=90 \n"
     ]
    },
    {
     "name": "stderr",
     "output_type": "stream",
     "text": [
      "/home/harsh/anaconda3/lib/python3.7/site-packages/sklearn/model_selection/_validation.py:479: FitFailedWarning: Classifier fit failed. The score on this train-test partition for these parameters will be set to 0.000000. Details: \n",
      "ValueError(\"Unsupported set of arguments: The combination of penalty='l1' and loss='hinge' is not supported, Parameters: penalty='l1', loss='hinge', dual=True\")\n",
      "  \"Details: \\n%r\" % (error_score, e), FitFailedWarning)\n"
     ]
    },
    {
     "name": "stdout",
     "output_type": "stream",
     "text": [
      "[CV]  vect__stop_words=None, vect__ngram_range=(1, 1), tfidf__use_idf=False, clf__penalty=l1, clf__loss=hinge, clf__C=90, total=   2.1s\n",
      "[CV] vect__stop_words=None, vect__ngram_range=(1, 1), tfidf__use_idf=True, clf__penalty=l2, clf__loss=squared_hinge, clf__C=0.5 \n",
      "[CV]  vect__stop_words=None, vect__ngram_range=(1, 1), tfidf__use_idf=True, clf__penalty=l2, clf__loss=squared_hinge, clf__C=0.5, total=   3.5s\n",
      "[CV] vect__stop_words=None, vect__ngram_range=(1, 1), tfidf__use_idf=True, clf__penalty=l2, clf__loss=squared_hinge, clf__C=0.5 \n",
      "[CV]  vect__stop_words=None, vect__ngram_range=(1, 1), tfidf__use_idf=True, clf__penalty=l2, clf__loss=squared_hinge, clf__C=0.5, total=   3.7s\n",
      "[CV] vect__stop_words=None, vect__ngram_range=(1, 1), tfidf__use_idf=True, clf__penalty=l2, clf__loss=squared_hinge, clf__C=0.5 \n",
      "[CV]  vect__stop_words=None, vect__ngram_range=(1, 1), tfidf__use_idf=True, clf__penalty=l2, clf__loss=squared_hinge, clf__C=0.5, total=   3.7s\n",
      "[CV] vect__stop_words=None, vect__ngram_range=(1, 1), tfidf__use_idf=False, clf__penalty=l2, clf__loss=squared_hinge, clf__C=0.01 \n",
      "[CV]  vect__stop_words=None, vect__ngram_range=(1, 1), tfidf__use_idf=False, clf__penalty=l2, clf__loss=squared_hinge, clf__C=0.01, total=   3.7s\n",
      "[CV] vect__stop_words=None, vect__ngram_range=(1, 1), tfidf__use_idf=False, clf__penalty=l2, clf__loss=squared_hinge, clf__C=0.01 \n",
      "[CV]  vect__stop_words=None, vect__ngram_range=(1, 1), tfidf__use_idf=False, clf__penalty=l2, clf__loss=squared_hinge, clf__C=0.01, total=   3.5s\n",
      "[CV] vect__stop_words=None, vect__ngram_range=(1, 1), tfidf__use_idf=False, clf__penalty=l2, clf__loss=squared_hinge, clf__C=0.01 \n",
      "[CV]  vect__stop_words=None, vect__ngram_range=(1, 1), tfidf__use_idf=False, clf__penalty=l2, clf__loss=squared_hinge, clf__C=0.01, total=   3.5s\n",
      "[CV] vect__stop_words=english, vect__ngram_range=(1, 1), tfidf__use_idf=True, clf__penalty=l1, clf__loss=squared_hinge, clf__C=60 \n"
     ]
    },
    {
     "name": "stderr",
     "output_type": "stream",
     "text": [
      "/home/harsh/anaconda3/lib/python3.7/site-packages/sklearn/model_selection/_validation.py:479: FitFailedWarning: Classifier fit failed. The score on this train-test partition for these parameters will be set to 0.000000. Details: \n",
      "ValueError(\"Unsupported set of arguments: The combination of penalty='l1' and loss='squared_hinge' are not supported when dual=True, Parameters: penalty='l1', loss='squared_hinge', dual=True\")\n",
      "  \"Details: \\n%r\" % (error_score, e), FitFailedWarning)\n"
     ]
    },
    {
     "name": "stdout",
     "output_type": "stream",
     "text": [
      "[CV]  vect__stop_words=english, vect__ngram_range=(1, 1), tfidf__use_idf=True, clf__penalty=l1, clf__loss=squared_hinge, clf__C=60, total=   2.1s\n",
      "[CV] vect__stop_words=english, vect__ngram_range=(1, 1), tfidf__use_idf=True, clf__penalty=l1, clf__loss=squared_hinge, clf__C=60 \n"
     ]
    },
    {
     "name": "stderr",
     "output_type": "stream",
     "text": [
      "/home/harsh/anaconda3/lib/python3.7/site-packages/sklearn/model_selection/_validation.py:479: FitFailedWarning: Classifier fit failed. The score on this train-test partition for these parameters will be set to 0.000000. Details: \n",
      "ValueError(\"Unsupported set of arguments: The combination of penalty='l1' and loss='squared_hinge' are not supported when dual=True, Parameters: penalty='l1', loss='squared_hinge', dual=True\")\n",
      "  \"Details: \\n%r\" % (error_score, e), FitFailedWarning)\n"
     ]
    },
    {
     "name": "stdout",
     "output_type": "stream",
     "text": [
      "[CV]  vect__stop_words=english, vect__ngram_range=(1, 1), tfidf__use_idf=True, clf__penalty=l1, clf__loss=squared_hinge, clf__C=60, total=   2.5s\n",
      "[CV] vect__stop_words=english, vect__ngram_range=(1, 1), tfidf__use_idf=True, clf__penalty=l1, clf__loss=squared_hinge, clf__C=60 \n"
     ]
    },
    {
     "name": "stderr",
     "output_type": "stream",
     "text": [
      "/home/harsh/anaconda3/lib/python3.7/site-packages/sklearn/model_selection/_validation.py:479: FitFailedWarning: Classifier fit failed. The score on this train-test partition for these parameters will be set to 0.000000. Details: \n",
      "ValueError(\"Unsupported set of arguments: The combination of penalty='l1' and loss='squared_hinge' are not supported when dual=True, Parameters: penalty='l1', loss='squared_hinge', dual=True\")\n",
      "  \"Details: \\n%r\" % (error_score, e), FitFailedWarning)\n"
     ]
    },
    {
     "name": "stdout",
     "output_type": "stream",
     "text": [
      "[CV]  vect__stop_words=english, vect__ngram_range=(1, 1), tfidf__use_idf=True, clf__penalty=l1, clf__loss=squared_hinge, clf__C=60, total=   2.2s\n",
      "[CV] vect__stop_words=english, vect__ngram_range=(1, 2), tfidf__use_idf=False, clf__penalty=l2, clf__loss=squared_hinge, clf__C=0.5 \n",
      "[CV]  vect__stop_words=english, vect__ngram_range=(1, 2), tfidf__use_idf=False, clf__penalty=l2, clf__loss=squared_hinge, clf__C=0.5, total=  12.0s\n",
      "[CV] vect__stop_words=english, vect__ngram_range=(1, 2), tfidf__use_idf=False, clf__penalty=l2, clf__loss=squared_hinge, clf__C=0.5 \n",
      "[CV]  vect__stop_words=english, vect__ngram_range=(1, 2), tfidf__use_idf=False, clf__penalty=l2, clf__loss=squared_hinge, clf__C=0.5, total=  11.4s\n",
      "[CV] vect__stop_words=english, vect__ngram_range=(1, 2), tfidf__use_idf=False, clf__penalty=l2, clf__loss=squared_hinge, clf__C=0.5 \n",
      "[CV]  vect__stop_words=english, vect__ngram_range=(1, 2), tfidf__use_idf=False, clf__penalty=l2, clf__loss=squared_hinge, clf__C=0.5, total=  11.2s\n",
      "[CV] vect__stop_words=None, vect__ngram_range=(1, 1), tfidf__use_idf=True, clf__penalty=l1, clf__loss=squared_hinge, clf__C=90 \n"
     ]
    },
    {
     "name": "stderr",
     "output_type": "stream",
     "text": [
      "/home/harsh/anaconda3/lib/python3.7/site-packages/sklearn/model_selection/_validation.py:479: FitFailedWarning: Classifier fit failed. The score on this train-test partition for these parameters will be set to 0.000000. Details: \n",
      "ValueError(\"Unsupported set of arguments: The combination of penalty='l1' and loss='squared_hinge' are not supported when dual=True, Parameters: penalty='l1', loss='squared_hinge', dual=True\")\n",
      "  \"Details: \\n%r\" % (error_score, e), FitFailedWarning)\n"
     ]
    },
    {
     "name": "stdout",
     "output_type": "stream",
     "text": [
      "[CV]  vect__stop_words=None, vect__ngram_range=(1, 1), tfidf__use_idf=True, clf__penalty=l1, clf__loss=squared_hinge, clf__C=90, total=   2.3s\n",
      "[CV] vect__stop_words=None, vect__ngram_range=(1, 1), tfidf__use_idf=True, clf__penalty=l1, clf__loss=squared_hinge, clf__C=90 \n"
     ]
    },
    {
     "name": "stderr",
     "output_type": "stream",
     "text": [
      "/home/harsh/anaconda3/lib/python3.7/site-packages/sklearn/model_selection/_validation.py:479: FitFailedWarning: Classifier fit failed. The score on this train-test partition for these parameters will be set to 0.000000. Details: \n",
      "ValueError(\"Unsupported set of arguments: The combination of penalty='l1' and loss='squared_hinge' are not supported when dual=True, Parameters: penalty='l1', loss='squared_hinge', dual=True\")\n",
      "  \"Details: \\n%r\" % (error_score, e), FitFailedWarning)\n"
     ]
    },
    {
     "name": "stdout",
     "output_type": "stream",
     "text": [
      "[CV]  vect__stop_words=None, vect__ngram_range=(1, 1), tfidf__use_idf=True, clf__penalty=l1, clf__loss=squared_hinge, clf__C=90, total=   2.3s\n",
      "[CV] vect__stop_words=None, vect__ngram_range=(1, 1), tfidf__use_idf=True, clf__penalty=l1, clf__loss=squared_hinge, clf__C=90 \n"
     ]
    },
    {
     "name": "stderr",
     "output_type": "stream",
     "text": [
      "/home/harsh/anaconda3/lib/python3.7/site-packages/sklearn/model_selection/_validation.py:479: FitFailedWarning: Classifier fit failed. The score on this train-test partition for these parameters will be set to 0.000000. Details: \n",
      "ValueError(\"Unsupported set of arguments: The combination of penalty='l1' and loss='squared_hinge' are not supported when dual=True, Parameters: penalty='l1', loss='squared_hinge', dual=True\")\n",
      "  \"Details: \\n%r\" % (error_score, e), FitFailedWarning)\n"
     ]
    },
    {
     "name": "stdout",
     "output_type": "stream",
     "text": [
      "[CV]  vect__stop_words=None, vect__ngram_range=(1, 1), tfidf__use_idf=True, clf__penalty=l1, clf__loss=squared_hinge, clf__C=90, total=   2.3s\n",
      "[CV] vect__stop_words=None, vect__ngram_range=(1, 2), tfidf__use_idf=False, clf__penalty=l2, clf__loss=hinge, clf__C=60 \n",
      "[CV]  vect__stop_words=None, vect__ngram_range=(1, 2), tfidf__use_idf=False, clf__penalty=l2, clf__loss=hinge, clf__C=60, total=  24.1s\n",
      "[CV] vect__stop_words=None, vect__ngram_range=(1, 2), tfidf__use_idf=False, clf__penalty=l2, clf__loss=hinge, clf__C=60 \n",
      "[CV]  vect__stop_words=None, vect__ngram_range=(1, 2), tfidf__use_idf=False, clf__penalty=l2, clf__loss=hinge, clf__C=60, total=  20.7s\n",
      "[CV] vect__stop_words=None, vect__ngram_range=(1, 2), tfidf__use_idf=False, clf__penalty=l2, clf__loss=hinge, clf__C=60 \n",
      "[CV]  vect__stop_words=None, vect__ngram_range=(1, 2), tfidf__use_idf=False, clf__penalty=l2, clf__loss=hinge, clf__C=60, total=  32.4s\n",
      "[CV] vect__stop_words=english, vect__ngram_range=(1, 2), tfidf__use_idf=True, clf__penalty=l1, clf__loss=squared_hinge, clf__C=30 \n"
     ]
    },
    {
     "name": "stderr",
     "output_type": "stream",
     "text": [
      "/home/harsh/anaconda3/lib/python3.7/site-packages/sklearn/model_selection/_validation.py:479: FitFailedWarning: Classifier fit failed. The score on this train-test partition for these parameters will be set to 0.000000. Details: \n",
      "ValueError(\"Unsupported set of arguments: The combination of penalty='l1' and loss='squared_hinge' are not supported when dual=True, Parameters: penalty='l1', loss='squared_hinge', dual=True\")\n",
      "  \"Details: \\n%r\" % (error_score, e), FitFailedWarning)\n"
     ]
    },
    {
     "name": "stdout",
     "output_type": "stream",
     "text": [
      "[CV]  vect__stop_words=english, vect__ngram_range=(1, 2), tfidf__use_idf=True, clf__penalty=l1, clf__loss=squared_hinge, clf__C=30, total=   9.1s\n",
      "[CV] vect__stop_words=english, vect__ngram_range=(1, 2), tfidf__use_idf=True, clf__penalty=l1, clf__loss=squared_hinge, clf__C=30 \n"
     ]
    },
    {
     "name": "stderr",
     "output_type": "stream",
     "text": [
      "/home/harsh/anaconda3/lib/python3.7/site-packages/sklearn/model_selection/_validation.py:479: FitFailedWarning: Classifier fit failed. The score on this train-test partition for these parameters will be set to 0.000000. Details: \n",
      "ValueError(\"Unsupported set of arguments: The combination of penalty='l1' and loss='squared_hinge' are not supported when dual=True, Parameters: penalty='l1', loss='squared_hinge', dual=True\")\n",
      "  \"Details: \\n%r\" % (error_score, e), FitFailedWarning)\n"
     ]
    },
    {
     "name": "stdout",
     "output_type": "stream",
     "text": [
      "[CV]  vect__stop_words=english, vect__ngram_range=(1, 2), tfidf__use_idf=True, clf__penalty=l1, clf__loss=squared_hinge, clf__C=30, total=   9.5s\n",
      "[CV] vect__stop_words=english, vect__ngram_range=(1, 2), tfidf__use_idf=True, clf__penalty=l1, clf__loss=squared_hinge, clf__C=30 \n"
     ]
    },
    {
     "name": "stderr",
     "output_type": "stream",
     "text": [
      "/home/harsh/anaconda3/lib/python3.7/site-packages/sklearn/model_selection/_validation.py:479: FitFailedWarning: Classifier fit failed. The score on this train-test partition for these parameters will be set to 0.000000. Details: \n",
      "ValueError(\"Unsupported set of arguments: The combination of penalty='l1' and loss='squared_hinge' are not supported when dual=True, Parameters: penalty='l1', loss='squared_hinge', dual=True\")\n",
      "  \"Details: \\n%r\" % (error_score, e), FitFailedWarning)\n"
     ]
    },
    {
     "name": "stdout",
     "output_type": "stream",
     "text": [
      "[CV]  vect__stop_words=english, vect__ngram_range=(1, 2), tfidf__use_idf=True, clf__penalty=l1, clf__loss=squared_hinge, clf__C=30, total=   9.2s\n",
      "[CV] vect__stop_words=None, vect__ngram_range=(1, 1), tfidf__use_idf=True, clf__penalty=l2, clf__loss=hinge, clf__C=30 \n",
      "[CV]  vect__stop_words=None, vect__ngram_range=(1, 1), tfidf__use_idf=True, clf__penalty=l2, clf__loss=hinge, clf__C=30, total=   7.9s\n",
      "[CV] vect__stop_words=None, vect__ngram_range=(1, 1), tfidf__use_idf=True, clf__penalty=l2, clf__loss=hinge, clf__C=30 \n",
      "[CV]  vect__stop_words=None, vect__ngram_range=(1, 1), tfidf__use_idf=True, clf__penalty=l2, clf__loss=hinge, clf__C=30, total=   4.4s\n",
      "[CV] vect__stop_words=None, vect__ngram_range=(1, 1), tfidf__use_idf=True, clf__penalty=l2, clf__loss=hinge, clf__C=30 \n",
      "[CV]  vect__stop_words=None, vect__ngram_range=(1, 1), tfidf__use_idf=True, clf__penalty=l2, clf__loss=hinge, clf__C=30, total=   6.2s\n",
      "[CV] vect__stop_words=None, vect__ngram_range=(1, 2), tfidf__use_idf=True, clf__penalty=l1, clf__loss=hinge, clf__C=0.1 \n"
     ]
    },
    {
     "name": "stderr",
     "output_type": "stream",
     "text": [
      "/home/harsh/anaconda3/lib/python3.7/site-packages/sklearn/model_selection/_validation.py:479: FitFailedWarning: Classifier fit failed. The score on this train-test partition for these parameters will be set to 0.000000. Details: \n",
      "ValueError(\"Unsupported set of arguments: The combination of penalty='l1' and loss='hinge' is not supported, Parameters: penalty='l1', loss='hinge', dual=True\")\n",
      "  \"Details: \\n%r\" % (error_score, e), FitFailedWarning)\n"
     ]
    },
    {
     "name": "stdout",
     "output_type": "stream",
     "text": [
      "[CV]  vect__stop_words=None, vect__ngram_range=(1, 2), tfidf__use_idf=True, clf__penalty=l1, clf__loss=hinge, clf__C=0.1, total=  11.4s\n",
      "[CV] vect__stop_words=None, vect__ngram_range=(1, 2), tfidf__use_idf=True, clf__penalty=l1, clf__loss=hinge, clf__C=0.1 \n"
     ]
    },
    {
     "name": "stderr",
     "output_type": "stream",
     "text": [
      "/home/harsh/anaconda3/lib/python3.7/site-packages/sklearn/model_selection/_validation.py:479: FitFailedWarning: Classifier fit failed. The score on this train-test partition for these parameters will be set to 0.000000. Details: \n",
      "ValueError(\"Unsupported set of arguments: The combination of penalty='l1' and loss='hinge' is not supported, Parameters: penalty='l1', loss='hinge', dual=True\")\n",
      "  \"Details: \\n%r\" % (error_score, e), FitFailedWarning)\n"
     ]
    },
    {
     "name": "stdout",
     "output_type": "stream",
     "text": [
      "[CV]  vect__stop_words=None, vect__ngram_range=(1, 2), tfidf__use_idf=True, clf__penalty=l1, clf__loss=hinge, clf__C=0.1, total=  11.6s\n",
      "[CV] vect__stop_words=None, vect__ngram_range=(1, 2), tfidf__use_idf=True, clf__penalty=l1, clf__loss=hinge, clf__C=0.1 \n"
     ]
    },
    {
     "name": "stderr",
     "output_type": "stream",
     "text": [
      "/home/harsh/anaconda3/lib/python3.7/site-packages/sklearn/model_selection/_validation.py:479: FitFailedWarning: Classifier fit failed. The score on this train-test partition for these parameters will be set to 0.000000. Details: \n",
      "ValueError(\"Unsupported set of arguments: The combination of penalty='l1' and loss='hinge' is not supported, Parameters: penalty='l1', loss='hinge', dual=True\")\n",
      "  \"Details: \\n%r\" % (error_score, e), FitFailedWarning)\n"
     ]
    },
    {
     "name": "stdout",
     "output_type": "stream",
     "text": [
      "[CV]  vect__stop_words=None, vect__ngram_range=(1, 2), tfidf__use_idf=True, clf__penalty=l1, clf__loss=hinge, clf__C=0.1, total=  11.5s\n",
      "[CV] vect__stop_words=english, vect__ngram_range=(1, 2), tfidf__use_idf=False, clf__penalty=l2, clf__loss=hinge, clf__C=0.5 \n",
      "[CV]  vect__stop_words=english, vect__ngram_range=(1, 2), tfidf__use_idf=False, clf__penalty=l2, clf__loss=hinge, clf__C=0.5, total=  11.1s\n",
      "[CV] vect__stop_words=english, vect__ngram_range=(1, 2), tfidf__use_idf=False, clf__penalty=l2, clf__loss=hinge, clf__C=0.5 \n",
      "[CV]  vect__stop_words=english, vect__ngram_range=(1, 2), tfidf__use_idf=False, clf__penalty=l2, clf__loss=hinge, clf__C=0.5, total=  11.2s\n",
      "[CV] vect__stop_words=english, vect__ngram_range=(1, 2), tfidf__use_idf=False, clf__penalty=l2, clf__loss=hinge, clf__C=0.5 \n",
      "[CV]  vect__stop_words=english, vect__ngram_range=(1, 2), tfidf__use_idf=False, clf__penalty=l2, clf__loss=hinge, clf__C=0.5, total=  11.3s\n",
      "[CV] vect__stop_words=english, vect__ngram_range=(1, 2), tfidf__use_idf=False, clf__penalty=l2, clf__loss=squared_hinge, clf__C=50 \n",
      "[CV]  vect__stop_words=english, vect__ngram_range=(1, 2), tfidf__use_idf=False, clf__penalty=l2, clf__loss=squared_hinge, clf__C=50, total=  24.3s\n",
      "[CV] vect__stop_words=english, vect__ngram_range=(1, 2), tfidf__use_idf=False, clf__penalty=l2, clf__loss=squared_hinge, clf__C=50 \n",
      "[CV]  vect__stop_words=english, vect__ngram_range=(1, 2), tfidf__use_idf=False, clf__penalty=l2, clf__loss=squared_hinge, clf__C=50, total=  24.0s\n",
      "[CV] vect__stop_words=english, vect__ngram_range=(1, 2), tfidf__use_idf=False, clf__penalty=l2, clf__loss=squared_hinge, clf__C=50 \n",
      "[CV]  vect__stop_words=english, vect__ngram_range=(1, 2), tfidf__use_idf=False, clf__penalty=l2, clf__loss=squared_hinge, clf__C=50, total=  23.8s\n",
      "[CV] vect__stop_words=None, vect__ngram_range=(1, 2), tfidf__use_idf=True, clf__penalty=l2, clf__loss=hinge, clf__C=70 \n",
      "[CV]  vect__stop_words=None, vect__ngram_range=(1, 2), tfidf__use_idf=True, clf__penalty=l2, clf__loss=hinge, clf__C=70, total=  18.1s\n",
      "[CV] vect__stop_words=None, vect__ngram_range=(1, 2), tfidf__use_idf=True, clf__penalty=l2, clf__loss=hinge, clf__C=70 \n",
      "[CV]  vect__stop_words=None, vect__ngram_range=(1, 2), tfidf__use_idf=True, clf__penalty=l2, clf__loss=hinge, clf__C=70, total=  16.6s\n",
      "[CV] vect__stop_words=None, vect__ngram_range=(1, 2), tfidf__use_idf=True, clf__penalty=l2, clf__loss=hinge, clf__C=70 \n",
      "[CV]  vect__stop_words=None, vect__ngram_range=(1, 2), tfidf__use_idf=True, clf__penalty=l2, clf__loss=hinge, clf__C=70, total=  28.2s\n",
      "[CV] vect__stop_words=english, vect__ngram_range=(1, 1), tfidf__use_idf=False, clf__penalty=l2, clf__loss=squared_hinge, clf__C=100 \n",
      "[CV]  vect__stop_words=english, vect__ngram_range=(1, 1), tfidf__use_idf=False, clf__penalty=l2, clf__loss=squared_hinge, clf__C=100, total=   7.9s\n",
      "[CV] vect__stop_words=english, vect__ngram_range=(1, 1), tfidf__use_idf=False, clf__penalty=l2, clf__loss=squared_hinge, clf__C=100 \n",
      "[CV]  vect__stop_words=english, vect__ngram_range=(1, 1), tfidf__use_idf=False, clf__penalty=l2, clf__loss=squared_hinge, clf__C=100, total=   8.4s\n",
      "[CV] vect__stop_words=english, vect__ngram_range=(1, 1), tfidf__use_idf=False, clf__penalty=l2, clf__loss=squared_hinge, clf__C=100 \n",
      "[CV]  vect__stop_words=english, vect__ngram_range=(1, 1), tfidf__use_idf=False, clf__penalty=l2, clf__loss=squared_hinge, clf__C=100, total=   8.6s\n",
      "[CV] vect__stop_words=english, vect__ngram_range=(1, 1), tfidf__use_idf=False, clf__penalty=l2, clf__loss=hinge, clf__C=0.5 \n",
      "[CV]  vect__stop_words=english, vect__ngram_range=(1, 1), tfidf__use_idf=False, clf__penalty=l2, clf__loss=hinge, clf__C=0.5, total=   3.3s\n",
      "[CV] vect__stop_words=english, vect__ngram_range=(1, 1), tfidf__use_idf=False, clf__penalty=l2, clf__loss=hinge, clf__C=0.5 \n",
      "[CV]  vect__stop_words=english, vect__ngram_range=(1, 1), tfidf__use_idf=False, clf__penalty=l2, clf__loss=hinge, clf__C=0.5, total=   3.5s\n",
      "[CV] vect__stop_words=english, vect__ngram_range=(1, 1), tfidf__use_idf=False, clf__penalty=l2, clf__loss=hinge, clf__C=0.5 \n",
      "[CV]  vect__stop_words=english, vect__ngram_range=(1, 1), tfidf__use_idf=False, clf__penalty=l2, clf__loss=hinge, clf__C=0.5, total=   3.2s\n",
      "[CV] vect__stop_words=None, vect__ngram_range=(1, 1), tfidf__use_idf=False, clf__penalty=l2, clf__loss=squared_hinge, clf__C=30 \n",
      "[CV]  vect__stop_words=None, vect__ngram_range=(1, 1), tfidf__use_idf=False, clf__penalty=l2, clf__loss=squared_hinge, clf__C=30, total=   7.5s\n",
      "[CV] vect__stop_words=None, vect__ngram_range=(1, 1), tfidf__use_idf=False, clf__penalty=l2, clf__loss=squared_hinge, clf__C=30 \n",
      "[CV]  vect__stop_words=None, vect__ngram_range=(1, 1), tfidf__use_idf=False, clf__penalty=l2, clf__loss=squared_hinge, clf__C=30, total=   7.1s\n",
      "[CV] vect__stop_words=None, vect__ngram_range=(1, 1), tfidf__use_idf=False, clf__penalty=l2, clf__loss=squared_hinge, clf__C=30 \n",
      "[CV]  vect__stop_words=None, vect__ngram_range=(1, 1), tfidf__use_idf=False, clf__penalty=l2, clf__loss=squared_hinge, clf__C=30, total=   7.3s\n",
      "[CV] vect__stop_words=None, vect__ngram_range=(1, 1), tfidf__use_idf=False, clf__penalty=l2, clf__loss=hinge, clf__C=0.05 \n",
      "[CV]  vect__stop_words=None, vect__ngram_range=(1, 1), tfidf__use_idf=False, clf__penalty=l2, clf__loss=hinge, clf__C=0.05, total=   3.4s\n",
      "[CV] vect__stop_words=None, vect__ngram_range=(1, 1), tfidf__use_idf=False, clf__penalty=l2, clf__loss=hinge, clf__C=0.05 \n",
      "[CV]  vect__stop_words=None, vect__ngram_range=(1, 1), tfidf__use_idf=False, clf__penalty=l2, clf__loss=hinge, clf__C=0.05, total=   3.6s\n",
      "[CV] vect__stop_words=None, vect__ngram_range=(1, 1), tfidf__use_idf=False, clf__penalty=l2, clf__loss=hinge, clf__C=0.05 \n",
      "[CV]  vect__stop_words=None, vect__ngram_range=(1, 1), tfidf__use_idf=False, clf__penalty=l2, clf__loss=hinge, clf__C=0.05, total=   3.4s\n",
      "[CV] vect__stop_words=english, vect__ngram_range=(1, 2), tfidf__use_idf=False, clf__penalty=l2, clf__loss=hinge, clf__C=80 \n",
      "[CV]  vect__stop_words=english, vect__ngram_range=(1, 2), tfidf__use_idf=False, clf__penalty=l2, clf__loss=hinge, clf__C=80, total=  19.0s\n",
      "[CV] vect__stop_words=english, vect__ngram_range=(1, 2), tfidf__use_idf=False, clf__penalty=l2, clf__loss=hinge, clf__C=80 \n",
      "[CV]  vect__stop_words=english, vect__ngram_range=(1, 2), tfidf__use_idf=False, clf__penalty=l2, clf__loss=hinge, clf__C=80, total=  16.2s\n",
      "[CV] vect__stop_words=english, vect__ngram_range=(1, 2), tfidf__use_idf=False, clf__penalty=l2, clf__loss=hinge, clf__C=80 \n",
      "[CV]  vect__stop_words=english, vect__ngram_range=(1, 2), tfidf__use_idf=False, clf__penalty=l2, clf__loss=hinge, clf__C=80, total=  18.3s\n",
      "[CV] vect__stop_words=None, vect__ngram_range=(1, 2), tfidf__use_idf=False, clf__penalty=l1, clf__loss=squared_hinge, clf__C=50 \n"
     ]
    },
    {
     "name": "stderr",
     "output_type": "stream",
     "text": [
      "/home/harsh/anaconda3/lib/python3.7/site-packages/sklearn/model_selection/_validation.py:479: FitFailedWarning: Classifier fit failed. The score on this train-test partition for these parameters will be set to 0.000000. Details: \n",
      "ValueError(\"Unsupported set of arguments: The combination of penalty='l1' and loss='squared_hinge' are not supported when dual=True, Parameters: penalty='l1', loss='squared_hinge', dual=True\")\n",
      "  \"Details: \\n%r\" % (error_score, e), FitFailedWarning)\n"
     ]
    },
    {
     "name": "stdout",
     "output_type": "stream",
     "text": [
      "[CV]  vect__stop_words=None, vect__ngram_range=(1, 2), tfidf__use_idf=False, clf__penalty=l1, clf__loss=squared_hinge, clf__C=50, total=  11.0s\n",
      "[CV] vect__stop_words=None, vect__ngram_range=(1, 2), tfidf__use_idf=False, clf__penalty=l1, clf__loss=squared_hinge, clf__C=50 \n"
     ]
    },
    {
     "name": "stderr",
     "output_type": "stream",
     "text": [
      "/home/harsh/anaconda3/lib/python3.7/site-packages/sklearn/model_selection/_validation.py:479: FitFailedWarning: Classifier fit failed. The score on this train-test partition for these parameters will be set to 0.000000. Details: \n",
      "ValueError(\"Unsupported set of arguments: The combination of penalty='l1' and loss='squared_hinge' are not supported when dual=True, Parameters: penalty='l1', loss='squared_hinge', dual=True\")\n",
      "  \"Details: \\n%r\" % (error_score, e), FitFailedWarning)\n"
     ]
    },
    {
     "name": "stdout",
     "output_type": "stream",
     "text": [
      "[CV]  vect__stop_words=None, vect__ngram_range=(1, 2), tfidf__use_idf=False, clf__penalty=l1, clf__loss=squared_hinge, clf__C=50, total=  11.0s\n",
      "[CV] vect__stop_words=None, vect__ngram_range=(1, 2), tfidf__use_idf=False, clf__penalty=l1, clf__loss=squared_hinge, clf__C=50 \n"
     ]
    },
    {
     "name": "stderr",
     "output_type": "stream",
     "text": [
      "/home/harsh/anaconda3/lib/python3.7/site-packages/sklearn/model_selection/_validation.py:479: FitFailedWarning: Classifier fit failed. The score on this train-test partition for these parameters will be set to 0.000000. Details: \n",
      "ValueError(\"Unsupported set of arguments: The combination of penalty='l1' and loss='squared_hinge' are not supported when dual=True, Parameters: penalty='l1', loss='squared_hinge', dual=True\")\n",
      "  \"Details: \\n%r\" % (error_score, e), FitFailedWarning)\n"
     ]
    },
    {
     "name": "stdout",
     "output_type": "stream",
     "text": [
      "[CV]  vect__stop_words=None, vect__ngram_range=(1, 2), tfidf__use_idf=False, clf__penalty=l1, clf__loss=squared_hinge, clf__C=50, total=  11.0s\n",
      "[CV] vect__stop_words=None, vect__ngram_range=(1, 2), tfidf__use_idf=True, clf__penalty=l1, clf__loss=squared_hinge, clf__C=20 \n"
     ]
    },
    {
     "name": "stderr",
     "output_type": "stream",
     "text": [
      "/home/harsh/anaconda3/lib/python3.7/site-packages/sklearn/model_selection/_validation.py:479: FitFailedWarning: Classifier fit failed. The score on this train-test partition for these parameters will be set to 0.000000. Details: \n",
      "ValueError(\"Unsupported set of arguments: The combination of penalty='l1' and loss='squared_hinge' are not supported when dual=True, Parameters: penalty='l1', loss='squared_hinge', dual=True\")\n",
      "  \"Details: \\n%r\" % (error_score, e), FitFailedWarning)\n"
     ]
    },
    {
     "name": "stdout",
     "output_type": "stream",
     "text": [
      "[CV]  vect__stop_words=None, vect__ngram_range=(1, 2), tfidf__use_idf=True, clf__penalty=l1, clf__loss=squared_hinge, clf__C=20, total=  12.1s\n",
      "[CV] vect__stop_words=None, vect__ngram_range=(1, 2), tfidf__use_idf=True, clf__penalty=l1, clf__loss=squared_hinge, clf__C=20 \n"
     ]
    },
    {
     "name": "stderr",
     "output_type": "stream",
     "text": [
      "/home/harsh/anaconda3/lib/python3.7/site-packages/sklearn/model_selection/_validation.py:479: FitFailedWarning: Classifier fit failed. The score on this train-test partition for these parameters will be set to 0.000000. Details: \n",
      "ValueError(\"Unsupported set of arguments: The combination of penalty='l1' and loss='squared_hinge' are not supported when dual=True, Parameters: penalty='l1', loss='squared_hinge', dual=True\")\n",
      "  \"Details: \\n%r\" % (error_score, e), FitFailedWarning)\n"
     ]
    },
    {
     "name": "stdout",
     "output_type": "stream",
     "text": [
      "[CV]  vect__stop_words=None, vect__ngram_range=(1, 2), tfidf__use_idf=True, clf__penalty=l1, clf__loss=squared_hinge, clf__C=20, total=  11.8s\n",
      "[CV] vect__stop_words=None, vect__ngram_range=(1, 2), tfidf__use_idf=True, clf__penalty=l1, clf__loss=squared_hinge, clf__C=20 \n"
     ]
    },
    {
     "name": "stderr",
     "output_type": "stream",
     "text": [
      "/home/harsh/anaconda3/lib/python3.7/site-packages/sklearn/model_selection/_validation.py:479: FitFailedWarning: Classifier fit failed. The score on this train-test partition for these parameters will be set to 0.000000. Details: \n",
      "ValueError(\"Unsupported set of arguments: The combination of penalty='l1' and loss='squared_hinge' are not supported when dual=True, Parameters: penalty='l1', loss='squared_hinge', dual=True\")\n",
      "  \"Details: \\n%r\" % (error_score, e), FitFailedWarning)\n"
     ]
    },
    {
     "name": "stdout",
     "output_type": "stream",
     "text": [
      "[CV]  vect__stop_words=None, vect__ngram_range=(1, 2), tfidf__use_idf=True, clf__penalty=l1, clf__loss=squared_hinge, clf__C=20, total=  11.3s\n",
      "[CV] vect__stop_words=english, vect__ngram_range=(1, 1), tfidf__use_idf=False, clf__penalty=l1, clf__loss=squared_hinge, clf__C=100 \n"
     ]
    },
    {
     "name": "stderr",
     "output_type": "stream",
     "text": [
      "/home/harsh/anaconda3/lib/python3.7/site-packages/sklearn/model_selection/_validation.py:479: FitFailedWarning: Classifier fit failed. The score on this train-test partition for these parameters will be set to 0.000000. Details: \n",
      "ValueError(\"Unsupported set of arguments: The combination of penalty='l1' and loss='squared_hinge' are not supported when dual=True, Parameters: penalty='l1', loss='squared_hinge', dual=True\")\n",
      "  \"Details: \\n%r\" % (error_score, e), FitFailedWarning)\n"
     ]
    },
    {
     "name": "stdout",
     "output_type": "stream",
     "text": [
      "[CV]  vect__stop_words=english, vect__ngram_range=(1, 1), tfidf__use_idf=False, clf__penalty=l1, clf__loss=squared_hinge, clf__C=100, total=   2.0s\n",
      "[CV] vect__stop_words=english, vect__ngram_range=(1, 1), tfidf__use_idf=False, clf__penalty=l1, clf__loss=squared_hinge, clf__C=100 \n"
     ]
    },
    {
     "name": "stderr",
     "output_type": "stream",
     "text": [
      "/home/harsh/anaconda3/lib/python3.7/site-packages/sklearn/model_selection/_validation.py:479: FitFailedWarning: Classifier fit failed. The score on this train-test partition for these parameters will be set to 0.000000. Details: \n",
      "ValueError(\"Unsupported set of arguments: The combination of penalty='l1' and loss='squared_hinge' are not supported when dual=True, Parameters: penalty='l1', loss='squared_hinge', dual=True\")\n",
      "  \"Details: \\n%r\" % (error_score, e), FitFailedWarning)\n"
     ]
    },
    {
     "name": "stdout",
     "output_type": "stream",
     "text": [
      "[CV]  vect__stop_words=english, vect__ngram_range=(1, 1), tfidf__use_idf=False, clf__penalty=l1, clf__loss=squared_hinge, clf__C=100, total=   2.0s\n",
      "[CV] vect__stop_words=english, vect__ngram_range=(1, 1), tfidf__use_idf=False, clf__penalty=l1, clf__loss=squared_hinge, clf__C=100 \n"
     ]
    },
    {
     "name": "stderr",
     "output_type": "stream",
     "text": [
      "/home/harsh/anaconda3/lib/python3.7/site-packages/sklearn/model_selection/_validation.py:479: FitFailedWarning: Classifier fit failed. The score on this train-test partition for these parameters will be set to 0.000000. Details: \n",
      "ValueError(\"Unsupported set of arguments: The combination of penalty='l1' and loss='squared_hinge' are not supported when dual=True, Parameters: penalty='l1', loss='squared_hinge', dual=True\")\n",
      "  \"Details: \\n%r\" % (error_score, e), FitFailedWarning)\n"
     ]
    },
    {
     "name": "stdout",
     "output_type": "stream",
     "text": [
      "[CV]  vect__stop_words=english, vect__ngram_range=(1, 1), tfidf__use_idf=False, clf__penalty=l1, clf__loss=squared_hinge, clf__C=100, total=   2.1s\n",
      "[CV] vect__stop_words=None, vect__ngram_range=(1, 2), tfidf__use_idf=True, clf__penalty=l2, clf__loss=squared_hinge, clf__C=90 \n",
      "[CV]  vect__stop_words=None, vect__ngram_range=(1, 2), tfidf__use_idf=True, clf__penalty=l2, clf__loss=squared_hinge, clf__C=90, total=  46.3s\n",
      "[CV] vect__stop_words=None, vect__ngram_range=(1, 2), tfidf__use_idf=True, clf__penalty=l2, clf__loss=squared_hinge, clf__C=90 \n",
      "[CV]  vect__stop_words=None, vect__ngram_range=(1, 2), tfidf__use_idf=True, clf__penalty=l2, clf__loss=squared_hinge, clf__C=90, total=  46.4s\n",
      "[CV] vect__stop_words=None, vect__ngram_range=(1, 2), tfidf__use_idf=True, clf__penalty=l2, clf__loss=squared_hinge, clf__C=90 \n",
      "[CV]  vect__stop_words=None, vect__ngram_range=(1, 2), tfidf__use_idf=True, clf__penalty=l2, clf__loss=squared_hinge, clf__C=90, total=  44.6s\n",
      "[CV] vect__stop_words=english, vect__ngram_range=(1, 1), tfidf__use_idf=False, clf__penalty=l1, clf__loss=squared_hinge, clf__C=60 \n"
     ]
    },
    {
     "name": "stderr",
     "output_type": "stream",
     "text": [
      "/home/harsh/anaconda3/lib/python3.7/site-packages/sklearn/model_selection/_validation.py:479: FitFailedWarning: Classifier fit failed. The score on this train-test partition for these parameters will be set to 0.000000. Details: \n",
      "ValueError(\"Unsupported set of arguments: The combination of penalty='l1' and loss='squared_hinge' are not supported when dual=True, Parameters: penalty='l1', loss='squared_hinge', dual=True\")\n",
      "  \"Details: \\n%r\" % (error_score, e), FitFailedWarning)\n"
     ]
    },
    {
     "name": "stdout",
     "output_type": "stream",
     "text": [
      "[CV]  vect__stop_words=english, vect__ngram_range=(1, 1), tfidf__use_idf=False, clf__penalty=l1, clf__loss=squared_hinge, clf__C=60, total=   2.0s\n",
      "[CV] vect__stop_words=english, vect__ngram_range=(1, 1), tfidf__use_idf=False, clf__penalty=l1, clf__loss=squared_hinge, clf__C=60 \n"
     ]
    },
    {
     "name": "stderr",
     "output_type": "stream",
     "text": [
      "/home/harsh/anaconda3/lib/python3.7/site-packages/sklearn/model_selection/_validation.py:479: FitFailedWarning: Classifier fit failed. The score on this train-test partition for these parameters will be set to 0.000000. Details: \n",
      "ValueError(\"Unsupported set of arguments: The combination of penalty='l1' and loss='squared_hinge' are not supported when dual=True, Parameters: penalty='l1', loss='squared_hinge', dual=True\")\n",
      "  \"Details: \\n%r\" % (error_score, e), FitFailedWarning)\n"
     ]
    },
    {
     "name": "stdout",
     "output_type": "stream",
     "text": [
      "[CV]  vect__stop_words=english, vect__ngram_range=(1, 1), tfidf__use_idf=False, clf__penalty=l1, clf__loss=squared_hinge, clf__C=60, total=   2.0s\n",
      "[CV] vect__stop_words=english, vect__ngram_range=(1, 1), tfidf__use_idf=False, clf__penalty=l1, clf__loss=squared_hinge, clf__C=60 \n"
     ]
    },
    {
     "name": "stderr",
     "output_type": "stream",
     "text": [
      "/home/harsh/anaconda3/lib/python3.7/site-packages/sklearn/model_selection/_validation.py:479: FitFailedWarning: Classifier fit failed. The score on this train-test partition for these parameters will be set to 0.000000. Details: \n",
      "ValueError(\"Unsupported set of arguments: The combination of penalty='l1' and loss='squared_hinge' are not supported when dual=True, Parameters: penalty='l1', loss='squared_hinge', dual=True\")\n",
      "  \"Details: \\n%r\" % (error_score, e), FitFailedWarning)\n"
     ]
    },
    {
     "name": "stdout",
     "output_type": "stream",
     "text": [
      "[CV]  vect__stop_words=english, vect__ngram_range=(1, 1), tfidf__use_idf=False, clf__penalty=l1, clf__loss=squared_hinge, clf__C=60, total=   2.0s\n",
      "[CV] vect__stop_words=None, vect__ngram_range=(1, 1), tfidf__use_idf=True, clf__penalty=l2, clf__loss=squared_hinge, clf__C=90 \n",
      "[CV]  vect__stop_words=None, vect__ngram_range=(1, 1), tfidf__use_idf=True, clf__penalty=l2, clf__loss=squared_hinge, clf__C=90, total=   9.9s\n",
      "[CV] vect__stop_words=None, vect__ngram_range=(1, 1), tfidf__use_idf=True, clf__penalty=l2, clf__loss=squared_hinge, clf__C=90 \n",
      "[CV]  vect__stop_words=None, vect__ngram_range=(1, 1), tfidf__use_idf=True, clf__penalty=l2, clf__loss=squared_hinge, clf__C=90, total=  10.3s\n",
      "[CV] vect__stop_words=None, vect__ngram_range=(1, 1), tfidf__use_idf=True, clf__penalty=l2, clf__loss=squared_hinge, clf__C=90 \n",
      "[CV]  vect__stop_words=None, vect__ngram_range=(1, 1), tfidf__use_idf=True, clf__penalty=l2, clf__loss=squared_hinge, clf__C=90, total=   9.5s\n",
      "[CV] vect__stop_words=english, vect__ngram_range=(1, 1), tfidf__use_idf=False, clf__penalty=l1, clf__loss=hinge, clf__C=0.01 \n"
     ]
    },
    {
     "name": "stderr",
     "output_type": "stream",
     "text": [
      "/home/harsh/anaconda3/lib/python3.7/site-packages/sklearn/model_selection/_validation.py:479: FitFailedWarning: Classifier fit failed. The score on this train-test partition for these parameters will be set to 0.000000. Details: \n",
      "ValueError(\"Unsupported set of arguments: The combination of penalty='l1' and loss='hinge' is not supported, Parameters: penalty='l1', loss='hinge', dual=True\")\n",
      "  \"Details: \\n%r\" % (error_score, e), FitFailedWarning)\n"
     ]
    },
    {
     "name": "stdout",
     "output_type": "stream",
     "text": [
      "[CV]  vect__stop_words=english, vect__ngram_range=(1, 1), tfidf__use_idf=False, clf__penalty=l1, clf__loss=hinge, clf__C=0.01, total=   2.0s\n",
      "[CV] vect__stop_words=english, vect__ngram_range=(1, 1), tfidf__use_idf=False, clf__penalty=l1, clf__loss=hinge, clf__C=0.01 \n"
     ]
    },
    {
     "name": "stderr",
     "output_type": "stream",
     "text": [
      "/home/harsh/anaconda3/lib/python3.7/site-packages/sklearn/model_selection/_validation.py:479: FitFailedWarning: Classifier fit failed. The score on this train-test partition for these parameters will be set to 0.000000. Details: \n",
      "ValueError(\"Unsupported set of arguments: The combination of penalty='l1' and loss='hinge' is not supported, Parameters: penalty='l1', loss='hinge', dual=True\")\n",
      "  \"Details: \\n%r\" % (error_score, e), FitFailedWarning)\n"
     ]
    },
    {
     "name": "stdout",
     "output_type": "stream",
     "text": [
      "[CV]  vect__stop_words=english, vect__ngram_range=(1, 1), tfidf__use_idf=False, clf__penalty=l1, clf__loss=hinge, clf__C=0.01, total=   2.0s\n",
      "[CV] vect__stop_words=english, vect__ngram_range=(1, 1), tfidf__use_idf=False, clf__penalty=l1, clf__loss=hinge, clf__C=0.01 \n"
     ]
    },
    {
     "name": "stderr",
     "output_type": "stream",
     "text": [
      "/home/harsh/anaconda3/lib/python3.7/site-packages/sklearn/model_selection/_validation.py:479: FitFailedWarning: Classifier fit failed. The score on this train-test partition for these parameters will be set to 0.000000. Details: \n",
      "ValueError(\"Unsupported set of arguments: The combination of penalty='l1' and loss='hinge' is not supported, Parameters: penalty='l1', loss='hinge', dual=True\")\n",
      "  \"Details: \\n%r\" % (error_score, e), FitFailedWarning)\n"
     ]
    },
    {
     "name": "stdout",
     "output_type": "stream",
     "text": [
      "[CV]  vect__stop_words=english, vect__ngram_range=(1, 1), tfidf__use_idf=False, clf__penalty=l1, clf__loss=hinge, clf__C=0.01, total=   2.0s\n",
      "[CV] vect__stop_words=english, vect__ngram_range=(1, 2), tfidf__use_idf=True, clf__penalty=l2, clf__loss=hinge, clf__C=90 \n",
      "[CV]  vect__stop_words=english, vect__ngram_range=(1, 2), tfidf__use_idf=True, clf__penalty=l2, clf__loss=hinge, clf__C=90, total=  13.8s\n",
      "[CV] vect__stop_words=english, vect__ngram_range=(1, 2), tfidf__use_idf=True, clf__penalty=l2, clf__loss=hinge, clf__C=90 \n",
      "[CV]  vect__stop_words=english, vect__ngram_range=(1, 2), tfidf__use_idf=True, clf__penalty=l2, clf__loss=hinge, clf__C=90, total=  12.1s\n",
      "[CV] vect__stop_words=english, vect__ngram_range=(1, 2), tfidf__use_idf=True, clf__penalty=l2, clf__loss=hinge, clf__C=90 \n",
      "[CV]  vect__stop_words=english, vect__ngram_range=(1, 2), tfidf__use_idf=True, clf__penalty=l2, clf__loss=hinge, clf__C=90, total=  26.2s\n",
      "[CV] vect__stop_words=None, vect__ngram_range=(1, 1), tfidf__use_idf=False, clf__penalty=l2, clf__loss=hinge, clf__C=70 \n",
      "[CV]  vect__stop_words=None, vect__ngram_range=(1, 1), tfidf__use_idf=False, clf__penalty=l2, clf__loss=hinge, clf__C=70, total=  11.6s\n",
      "[CV] vect__stop_words=None, vect__ngram_range=(1, 1), tfidf__use_idf=False, clf__penalty=l2, clf__loss=hinge, clf__C=70 \n",
      "[CV]  vect__stop_words=None, vect__ngram_range=(1, 1), tfidf__use_idf=False, clf__penalty=l2, clf__loss=hinge, clf__C=70, total=  11.7s\n",
      "[CV] vect__stop_words=None, vect__ngram_range=(1, 1), tfidf__use_idf=False, clf__penalty=l2, clf__loss=hinge, clf__C=70 \n",
      "[CV]  vect__stop_words=None, vect__ngram_range=(1, 1), tfidf__use_idf=False, clf__penalty=l2, clf__loss=hinge, clf__C=70, total=  11.6s\n",
      "[CV] vect__stop_words=None, vect__ngram_range=(1, 2), tfidf__use_idf=True, clf__penalty=l2, clf__loss=hinge, clf__C=80 \n",
      "[CV]  vect__stop_words=None, vect__ngram_range=(1, 2), tfidf__use_idf=True, clf__penalty=l2, clf__loss=hinge, clf__C=80, total=  18.2s\n",
      "[CV] vect__stop_words=None, vect__ngram_range=(1, 2), tfidf__use_idf=True, clf__penalty=l2, clf__loss=hinge, clf__C=80 \n",
      "[CV]  vect__stop_words=None, vect__ngram_range=(1, 2), tfidf__use_idf=True, clf__penalty=l2, clf__loss=hinge, clf__C=80, total=  16.3s\n",
      "[CV] vect__stop_words=None, vect__ngram_range=(1, 2), tfidf__use_idf=True, clf__penalty=l2, clf__loss=hinge, clf__C=80 \n",
      "[CV]  vect__stop_words=None, vect__ngram_range=(1, 2), tfidf__use_idf=True, clf__penalty=l2, clf__loss=hinge, clf__C=80, total=  28.5s\n",
      "[CV] vect__stop_words=None, vect__ngram_range=(1, 2), tfidf__use_idf=True, clf__penalty=l2, clf__loss=squared_hinge, clf__C=10 \n",
      "[CV]  vect__stop_words=None, vect__ngram_range=(1, 2), tfidf__use_idf=True, clf__penalty=l2, clf__loss=squared_hinge, clf__C=10, total=  20.1s\n",
      "[CV] vect__stop_words=None, vect__ngram_range=(1, 2), tfidf__use_idf=True, clf__penalty=l2, clf__loss=squared_hinge, clf__C=10 \n",
      "[CV]  vect__stop_words=None, vect__ngram_range=(1, 2), tfidf__use_idf=True, clf__penalty=l2, clf__loss=squared_hinge, clf__C=10, total=  20.2s\n",
      "[CV] vect__stop_words=None, vect__ngram_range=(1, 2), tfidf__use_idf=True, clf__penalty=l2, clf__loss=squared_hinge, clf__C=10 \n",
      "[CV]  vect__stop_words=None, vect__ngram_range=(1, 2), tfidf__use_idf=True, clf__penalty=l2, clf__loss=squared_hinge, clf__C=10, total=  19.9s\n",
      "[CV] vect__stop_words=english, vect__ngram_range=(1, 1), tfidf__use_idf=False, clf__penalty=l1, clf__loss=squared_hinge, clf__C=50 \n"
     ]
    },
    {
     "name": "stderr",
     "output_type": "stream",
     "text": [
      "/home/harsh/anaconda3/lib/python3.7/site-packages/sklearn/model_selection/_validation.py:479: FitFailedWarning: Classifier fit failed. The score on this train-test partition for these parameters will be set to 0.000000. Details: \n",
      "ValueError(\"Unsupported set of arguments: The combination of penalty='l1' and loss='squared_hinge' are not supported when dual=True, Parameters: penalty='l1', loss='squared_hinge', dual=True\")\n",
      "  \"Details: \\n%r\" % (error_score, e), FitFailedWarning)\n"
     ]
    },
    {
     "name": "stdout",
     "output_type": "stream",
     "text": [
      "[CV]  vect__stop_words=english, vect__ngram_range=(1, 1), tfidf__use_idf=False, clf__penalty=l1, clf__loss=squared_hinge, clf__C=50, total=   2.0s\n",
      "[CV] vect__stop_words=english, vect__ngram_range=(1, 1), tfidf__use_idf=False, clf__penalty=l1, clf__loss=squared_hinge, clf__C=50 \n"
     ]
    },
    {
     "name": "stderr",
     "output_type": "stream",
     "text": [
      "/home/harsh/anaconda3/lib/python3.7/site-packages/sklearn/model_selection/_validation.py:479: FitFailedWarning: Classifier fit failed. The score on this train-test partition for these parameters will be set to 0.000000. Details: \n",
      "ValueError(\"Unsupported set of arguments: The combination of penalty='l1' and loss='squared_hinge' are not supported when dual=True, Parameters: penalty='l1', loss='squared_hinge', dual=True\")\n",
      "  \"Details: \\n%r\" % (error_score, e), FitFailedWarning)\n"
     ]
    },
    {
     "name": "stdout",
     "output_type": "stream",
     "text": [
      "[CV]  vect__stop_words=english, vect__ngram_range=(1, 1), tfidf__use_idf=False, clf__penalty=l1, clf__loss=squared_hinge, clf__C=50, total=   2.0s\n",
      "[CV] vect__stop_words=english, vect__ngram_range=(1, 1), tfidf__use_idf=False, clf__penalty=l1, clf__loss=squared_hinge, clf__C=50 \n"
     ]
    },
    {
     "name": "stderr",
     "output_type": "stream",
     "text": [
      "/home/harsh/anaconda3/lib/python3.7/site-packages/sklearn/model_selection/_validation.py:479: FitFailedWarning: Classifier fit failed. The score on this train-test partition for these parameters will be set to 0.000000. Details: \n",
      "ValueError(\"Unsupported set of arguments: The combination of penalty='l1' and loss='squared_hinge' are not supported when dual=True, Parameters: penalty='l1', loss='squared_hinge', dual=True\")\n",
      "  \"Details: \\n%r\" % (error_score, e), FitFailedWarning)\n"
     ]
    },
    {
     "name": "stdout",
     "output_type": "stream",
     "text": [
      "[CV]  vect__stop_words=english, vect__ngram_range=(1, 1), tfidf__use_idf=False, clf__penalty=l1, clf__loss=squared_hinge, clf__C=50, total=   2.1s\n",
      "[CV] vect__stop_words=english, vect__ngram_range=(1, 1), tfidf__use_idf=True, clf__penalty=l2, clf__loss=squared_hinge, clf__C=30 \n",
      "[CV]  vect__stop_words=english, vect__ngram_range=(1, 1), tfidf__use_idf=True, clf__penalty=l2, clf__loss=squared_hinge, clf__C=30, total=   5.1s\n",
      "[CV] vect__stop_words=english, vect__ngram_range=(1, 1), tfidf__use_idf=True, clf__penalty=l2, clf__loss=squared_hinge, clf__C=30 \n",
      "[CV]  vect__stop_words=english, vect__ngram_range=(1, 1), tfidf__use_idf=True, clf__penalty=l2, clf__loss=squared_hinge, clf__C=30, total=   5.0s\n",
      "[CV] vect__stop_words=english, vect__ngram_range=(1, 1), tfidf__use_idf=True, clf__penalty=l2, clf__loss=squared_hinge, clf__C=30 \n",
      "[CV]  vect__stop_words=english, vect__ngram_range=(1, 1), tfidf__use_idf=True, clf__penalty=l2, clf__loss=squared_hinge, clf__C=30, total=   5.2s\n",
      "[CV] vect__stop_words=english, vect__ngram_range=(1, 1), tfidf__use_idf=False, clf__penalty=l2, clf__loss=squared_hinge, clf__C=50 \n",
      "[CV]  vect__stop_words=english, vect__ngram_range=(1, 1), tfidf__use_idf=False, clf__penalty=l2, clf__loss=squared_hinge, clf__C=50, total=   6.4s\n",
      "[CV] vect__stop_words=english, vect__ngram_range=(1, 1), tfidf__use_idf=False, clf__penalty=l2, clf__loss=squared_hinge, clf__C=50 \n",
      "[CV]  vect__stop_words=english, vect__ngram_range=(1, 1), tfidf__use_idf=False, clf__penalty=l2, clf__loss=squared_hinge, clf__C=50, total=   6.3s\n",
      "[CV] vect__stop_words=english, vect__ngram_range=(1, 1), tfidf__use_idf=False, clf__penalty=l2, clf__loss=squared_hinge, clf__C=50 \n",
      "[CV]  vect__stop_words=english, vect__ngram_range=(1, 1), tfidf__use_idf=False, clf__penalty=l2, clf__loss=squared_hinge, clf__C=50, total=   6.3s\n",
      "[CV] vect__stop_words=None, vect__ngram_range=(1, 2), tfidf__use_idf=False, clf__penalty=l1, clf__loss=hinge, clf__C=70 \n"
     ]
    },
    {
     "name": "stderr",
     "output_type": "stream",
     "text": [
      "/home/harsh/anaconda3/lib/python3.7/site-packages/sklearn/model_selection/_validation.py:479: FitFailedWarning: Classifier fit failed. The score on this train-test partition for these parameters will be set to 0.000000. Details: \n",
      "ValueError(\"Unsupported set of arguments: The combination of penalty='l1' and loss='hinge' is not supported, Parameters: penalty='l1', loss='hinge', dual=True\")\n",
      "  \"Details: \\n%r\" % (error_score, e), FitFailedWarning)\n"
     ]
    },
    {
     "name": "stdout",
     "output_type": "stream",
     "text": [
      "[CV]  vect__stop_words=None, vect__ngram_range=(1, 2), tfidf__use_idf=False, clf__penalty=l1, clf__loss=hinge, clf__C=70, total=  10.4s\n",
      "[CV] vect__stop_words=None, vect__ngram_range=(1, 2), tfidf__use_idf=False, clf__penalty=l1, clf__loss=hinge, clf__C=70 \n"
     ]
    },
    {
     "name": "stderr",
     "output_type": "stream",
     "text": [
      "/home/harsh/anaconda3/lib/python3.7/site-packages/sklearn/model_selection/_validation.py:479: FitFailedWarning: Classifier fit failed. The score on this train-test partition for these parameters will be set to 0.000000. Details: \n",
      "ValueError(\"Unsupported set of arguments: The combination of penalty='l1' and loss='hinge' is not supported, Parameters: penalty='l1', loss='hinge', dual=True\")\n",
      "  \"Details: \\n%r\" % (error_score, e), FitFailedWarning)\n"
     ]
    },
    {
     "name": "stdout",
     "output_type": "stream",
     "text": [
      "[CV]  vect__stop_words=None, vect__ngram_range=(1, 2), tfidf__use_idf=False, clf__penalty=l1, clf__loss=hinge, clf__C=70, total=  10.6s\n",
      "[CV] vect__stop_words=None, vect__ngram_range=(1, 2), tfidf__use_idf=False, clf__penalty=l1, clf__loss=hinge, clf__C=70 \n"
     ]
    },
    {
     "name": "stderr",
     "output_type": "stream",
     "text": [
      "/home/harsh/anaconda3/lib/python3.7/site-packages/sklearn/model_selection/_validation.py:479: FitFailedWarning: Classifier fit failed. The score on this train-test partition for these parameters will be set to 0.000000. Details: \n",
      "ValueError(\"Unsupported set of arguments: The combination of penalty='l1' and loss='hinge' is not supported, Parameters: penalty='l1', loss='hinge', dual=True\")\n",
      "  \"Details: \\n%r\" % (error_score, e), FitFailedWarning)\n"
     ]
    },
    {
     "name": "stdout",
     "output_type": "stream",
     "text": [
      "[CV]  vect__stop_words=None, vect__ngram_range=(1, 2), tfidf__use_idf=False, clf__penalty=l1, clf__loss=hinge, clf__C=70, total=  10.6s\n",
      "[CV] vect__stop_words=english, vect__ngram_range=(1, 2), tfidf__use_idf=True, clf__penalty=l1, clf__loss=hinge, clf__C=0.01 \n"
     ]
    },
    {
     "name": "stderr",
     "output_type": "stream",
     "text": [
      "/home/harsh/anaconda3/lib/python3.7/site-packages/sklearn/model_selection/_validation.py:479: FitFailedWarning: Classifier fit failed. The score on this train-test partition for these parameters will be set to 0.000000. Details: \n",
      "ValueError(\"Unsupported set of arguments: The combination of penalty='l1' and loss='hinge' is not supported, Parameters: penalty='l1', loss='hinge', dual=True\")\n",
      "  \"Details: \\n%r\" % (error_score, e), FitFailedWarning)\n"
     ]
    },
    {
     "name": "stdout",
     "output_type": "stream",
     "text": [
      "[CV]  vect__stop_words=english, vect__ngram_range=(1, 2), tfidf__use_idf=True, clf__penalty=l1, clf__loss=hinge, clf__C=0.01, total=   9.2s\n",
      "[CV] vect__stop_words=english, vect__ngram_range=(1, 2), tfidf__use_idf=True, clf__penalty=l1, clf__loss=hinge, clf__C=0.01 \n"
     ]
    },
    {
     "name": "stderr",
     "output_type": "stream",
     "text": [
      "/home/harsh/anaconda3/lib/python3.7/site-packages/sklearn/model_selection/_validation.py:479: FitFailedWarning: Classifier fit failed. The score on this train-test partition for these parameters will be set to 0.000000. Details: \n",
      "ValueError(\"Unsupported set of arguments: The combination of penalty='l1' and loss='hinge' is not supported, Parameters: penalty='l1', loss='hinge', dual=True\")\n",
      "  \"Details: \\n%r\" % (error_score, e), FitFailedWarning)\n"
     ]
    },
    {
     "name": "stdout",
     "output_type": "stream",
     "text": [
      "[CV]  vect__stop_words=english, vect__ngram_range=(1, 2), tfidf__use_idf=True, clf__penalty=l1, clf__loss=hinge, clf__C=0.01, total=   9.4s\n",
      "[CV] vect__stop_words=english, vect__ngram_range=(1, 2), tfidf__use_idf=True, clf__penalty=l1, clf__loss=hinge, clf__C=0.01 \n"
     ]
    },
    {
     "name": "stderr",
     "output_type": "stream",
     "text": [
      "/home/harsh/anaconda3/lib/python3.7/site-packages/sklearn/model_selection/_validation.py:479: FitFailedWarning: Classifier fit failed. The score on this train-test partition for these parameters will be set to 0.000000. Details: \n",
      "ValueError(\"Unsupported set of arguments: The combination of penalty='l1' and loss='hinge' is not supported, Parameters: penalty='l1', loss='hinge', dual=True\")\n",
      "  \"Details: \\n%r\" % (error_score, e), FitFailedWarning)\n"
     ]
    },
    {
     "name": "stdout",
     "output_type": "stream",
     "text": [
      "[CV]  vect__stop_words=english, vect__ngram_range=(1, 2), tfidf__use_idf=True, clf__penalty=l1, clf__loss=hinge, clf__C=0.01, total=   9.3s\n",
      "[CV] vect__stop_words=english, vect__ngram_range=(1, 2), tfidf__use_idf=False, clf__penalty=l1, clf__loss=hinge, clf__C=0.1 \n"
     ]
    },
    {
     "name": "stderr",
     "output_type": "stream",
     "text": [
      "/home/harsh/anaconda3/lib/python3.7/site-packages/sklearn/model_selection/_validation.py:479: FitFailedWarning: Classifier fit failed. The score on this train-test partition for these parameters will be set to 0.000000. Details: \n",
      "ValueError(\"Unsupported set of arguments: The combination of penalty='l1' and loss='hinge' is not supported, Parameters: penalty='l1', loss='hinge', dual=True\")\n",
      "  \"Details: \\n%r\" % (error_score, e), FitFailedWarning)\n"
     ]
    },
    {
     "name": "stdout",
     "output_type": "stream",
     "text": [
      "[CV]  vect__stop_words=english, vect__ngram_range=(1, 2), tfidf__use_idf=False, clf__penalty=l1, clf__loss=hinge, clf__C=0.1, total=   8.8s\n",
      "[CV] vect__stop_words=english, vect__ngram_range=(1, 2), tfidf__use_idf=False, clf__penalty=l1, clf__loss=hinge, clf__C=0.1 \n"
     ]
    },
    {
     "name": "stderr",
     "output_type": "stream",
     "text": [
      "/home/harsh/anaconda3/lib/python3.7/site-packages/sklearn/model_selection/_validation.py:479: FitFailedWarning: Classifier fit failed. The score on this train-test partition for these parameters will be set to 0.000000. Details: \n",
      "ValueError(\"Unsupported set of arguments: The combination of penalty='l1' and loss='hinge' is not supported, Parameters: penalty='l1', loss='hinge', dual=True\")\n",
      "  \"Details: \\n%r\" % (error_score, e), FitFailedWarning)\n"
     ]
    },
    {
     "name": "stdout",
     "output_type": "stream",
     "text": [
      "[CV]  vect__stop_words=english, vect__ngram_range=(1, 2), tfidf__use_idf=False, clf__penalty=l1, clf__loss=hinge, clf__C=0.1, total=   9.0s\n",
      "[CV] vect__stop_words=english, vect__ngram_range=(1, 2), tfidf__use_idf=False, clf__penalty=l1, clf__loss=hinge, clf__C=0.1 \n"
     ]
    },
    {
     "name": "stderr",
     "output_type": "stream",
     "text": [
      "/home/harsh/anaconda3/lib/python3.7/site-packages/sklearn/model_selection/_validation.py:479: FitFailedWarning: Classifier fit failed. The score on this train-test partition for these parameters will be set to 0.000000. Details: \n",
      "ValueError(\"Unsupported set of arguments: The combination of penalty='l1' and loss='hinge' is not supported, Parameters: penalty='l1', loss='hinge', dual=True\")\n",
      "  \"Details: \\n%r\" % (error_score, e), FitFailedWarning)\n"
     ]
    },
    {
     "name": "stdout",
     "output_type": "stream",
     "text": [
      "[CV]  vect__stop_words=english, vect__ngram_range=(1, 2), tfidf__use_idf=False, clf__penalty=l1, clf__loss=hinge, clf__C=0.1, total=   8.8s\n",
      "[CV] vect__stop_words=english, vect__ngram_range=(1, 1), tfidf__use_idf=True, clf__penalty=l1, clf__loss=squared_hinge, clf__C=90 \n"
     ]
    },
    {
     "name": "stderr",
     "output_type": "stream",
     "text": [
      "/home/harsh/anaconda3/lib/python3.7/site-packages/sklearn/model_selection/_validation.py:479: FitFailedWarning: Classifier fit failed. The score on this train-test partition for these parameters will be set to 0.000000. Details: \n",
      "ValueError(\"Unsupported set of arguments: The combination of penalty='l1' and loss='squared_hinge' are not supported when dual=True, Parameters: penalty='l1', loss='squared_hinge', dual=True\")\n",
      "  \"Details: \\n%r\" % (error_score, e), FitFailedWarning)\n"
     ]
    },
    {
     "name": "stdout",
     "output_type": "stream",
     "text": [
      "[CV]  vect__stop_words=english, vect__ngram_range=(1, 1), tfidf__use_idf=True, clf__penalty=l1, clf__loss=squared_hinge, clf__C=90, total=   2.0s\n",
      "[CV] vect__stop_words=english, vect__ngram_range=(1, 1), tfidf__use_idf=True, clf__penalty=l1, clf__loss=squared_hinge, clf__C=90 \n"
     ]
    },
    {
     "name": "stderr",
     "output_type": "stream",
     "text": [
      "/home/harsh/anaconda3/lib/python3.7/site-packages/sklearn/model_selection/_validation.py:479: FitFailedWarning: Classifier fit failed. The score on this train-test partition for these parameters will be set to 0.000000. Details: \n",
      "ValueError(\"Unsupported set of arguments: The combination of penalty='l1' and loss='squared_hinge' are not supported when dual=True, Parameters: penalty='l1', loss='squared_hinge', dual=True\")\n",
      "  \"Details: \\n%r\" % (error_score, e), FitFailedWarning)\n"
     ]
    },
    {
     "name": "stdout",
     "output_type": "stream",
     "text": [
      "[CV]  vect__stop_words=english, vect__ngram_range=(1, 1), tfidf__use_idf=True, clf__penalty=l1, clf__loss=squared_hinge, clf__C=90, total=   2.1s\n",
      "[CV] vect__stop_words=english, vect__ngram_range=(1, 1), tfidf__use_idf=True, clf__penalty=l1, clf__loss=squared_hinge, clf__C=90 \n"
     ]
    },
    {
     "name": "stderr",
     "output_type": "stream",
     "text": [
      "/home/harsh/anaconda3/lib/python3.7/site-packages/sklearn/model_selection/_validation.py:479: FitFailedWarning: Classifier fit failed. The score on this train-test partition for these parameters will be set to 0.000000. Details: \n",
      "ValueError(\"Unsupported set of arguments: The combination of penalty='l1' and loss='squared_hinge' are not supported when dual=True, Parameters: penalty='l1', loss='squared_hinge', dual=True\")\n",
      "  \"Details: \\n%r\" % (error_score, e), FitFailedWarning)\n"
     ]
    },
    {
     "name": "stdout",
     "output_type": "stream",
     "text": [
      "[CV]  vect__stop_words=english, vect__ngram_range=(1, 1), tfidf__use_idf=True, clf__penalty=l1, clf__loss=squared_hinge, clf__C=90, total=   2.1s\n",
      "[CV] vect__stop_words=english, vect__ngram_range=(1, 1), tfidf__use_idf=True, clf__penalty=l1, clf__loss=hinge, clf__C=90 \n"
     ]
    },
    {
     "name": "stderr",
     "output_type": "stream",
     "text": [
      "/home/harsh/anaconda3/lib/python3.7/site-packages/sklearn/model_selection/_validation.py:479: FitFailedWarning: Classifier fit failed. The score on this train-test partition for these parameters will be set to 0.000000. Details: \n",
      "ValueError(\"Unsupported set of arguments: The combination of penalty='l1' and loss='hinge' is not supported, Parameters: penalty='l1', loss='hinge', dual=True\")\n",
      "  \"Details: \\n%r\" % (error_score, e), FitFailedWarning)\n"
     ]
    },
    {
     "name": "stdout",
     "output_type": "stream",
     "text": [
      "[CV]  vect__stop_words=english, vect__ngram_range=(1, 1), tfidf__use_idf=True, clf__penalty=l1, clf__loss=hinge, clf__C=90, total=   2.0s\n",
      "[CV] vect__stop_words=english, vect__ngram_range=(1, 1), tfidf__use_idf=True, clf__penalty=l1, clf__loss=hinge, clf__C=90 \n"
     ]
    },
    {
     "name": "stderr",
     "output_type": "stream",
     "text": [
      "/home/harsh/anaconda3/lib/python3.7/site-packages/sklearn/model_selection/_validation.py:479: FitFailedWarning: Classifier fit failed. The score on this train-test partition for these parameters will be set to 0.000000. Details: \n",
      "ValueError(\"Unsupported set of arguments: The combination of penalty='l1' and loss='hinge' is not supported, Parameters: penalty='l1', loss='hinge', dual=True\")\n",
      "  \"Details: \\n%r\" % (error_score, e), FitFailedWarning)\n"
     ]
    },
    {
     "name": "stdout",
     "output_type": "stream",
     "text": [
      "[CV]  vect__stop_words=english, vect__ngram_range=(1, 1), tfidf__use_idf=True, clf__penalty=l1, clf__loss=hinge, clf__C=90, total=   2.1s\n",
      "[CV] vect__stop_words=english, vect__ngram_range=(1, 1), tfidf__use_idf=True, clf__penalty=l1, clf__loss=hinge, clf__C=90 \n"
     ]
    },
    {
     "name": "stderr",
     "output_type": "stream",
     "text": [
      "/home/harsh/anaconda3/lib/python3.7/site-packages/sklearn/model_selection/_validation.py:479: FitFailedWarning: Classifier fit failed. The score on this train-test partition for these parameters will be set to 0.000000. Details: \n",
      "ValueError(\"Unsupported set of arguments: The combination of penalty='l1' and loss='hinge' is not supported, Parameters: penalty='l1', loss='hinge', dual=True\")\n",
      "  \"Details: \\n%r\" % (error_score, e), FitFailedWarning)\n"
     ]
    },
    {
     "name": "stdout",
     "output_type": "stream",
     "text": [
      "[CV]  vect__stop_words=english, vect__ngram_range=(1, 1), tfidf__use_idf=True, clf__penalty=l1, clf__loss=hinge, clf__C=90, total=   2.0s\n",
      "[CV] vect__stop_words=english, vect__ngram_range=(1, 2), tfidf__use_idf=False, clf__penalty=l2, clf__loss=hinge, clf__C=1.0 \n",
      "[CV]  vect__stop_words=english, vect__ngram_range=(1, 2), tfidf__use_idf=False, clf__penalty=l2, clf__loss=hinge, clf__C=1.0, total=  11.5s\n",
      "[CV] vect__stop_words=english, vect__ngram_range=(1, 2), tfidf__use_idf=False, clf__penalty=l2, clf__loss=hinge, clf__C=1.0 \n",
      "[CV]  vect__stop_words=english, vect__ngram_range=(1, 2), tfidf__use_idf=False, clf__penalty=l2, clf__loss=hinge, clf__C=1.0, total=  11.4s\n",
      "[CV] vect__stop_words=english, vect__ngram_range=(1, 2), tfidf__use_idf=False, clf__penalty=l2, clf__loss=hinge, clf__C=1.0 \n",
      "[CV]  vect__stop_words=english, vect__ngram_range=(1, 2), tfidf__use_idf=False, clf__penalty=l2, clf__loss=hinge, clf__C=1.0, total=  11.7s\n",
      "[CV] vect__stop_words=None, vect__ngram_range=(1, 1), tfidf__use_idf=True, clf__penalty=l2, clf__loss=hinge, clf__C=0.01 \n",
      "[CV]  vect__stop_words=None, vect__ngram_range=(1, 1), tfidf__use_idf=True, clf__penalty=l2, clf__loss=hinge, clf__C=0.01, total=   3.4s\n",
      "[CV] vect__stop_words=None, vect__ngram_range=(1, 1), tfidf__use_idf=True, clf__penalty=l2, clf__loss=hinge, clf__C=0.01 \n",
      "[CV]  vect__stop_words=None, vect__ngram_range=(1, 1), tfidf__use_idf=True, clf__penalty=l2, clf__loss=hinge, clf__C=0.01, total=   3.5s\n",
      "[CV] vect__stop_words=None, vect__ngram_range=(1, 1), tfidf__use_idf=True, clf__penalty=l2, clf__loss=hinge, clf__C=0.01 \n",
      "[CV]  vect__stop_words=None, vect__ngram_range=(1, 1), tfidf__use_idf=True, clf__penalty=l2, clf__loss=hinge, clf__C=0.01, total=   3.5s\n",
      "[CV] vect__stop_words=None, vect__ngram_range=(1, 1), tfidf__use_idf=True, clf__penalty=l1, clf__loss=hinge, clf__C=60 \n"
     ]
    },
    {
     "name": "stderr",
     "output_type": "stream",
     "text": [
      "/home/harsh/anaconda3/lib/python3.7/site-packages/sklearn/model_selection/_validation.py:479: FitFailedWarning: Classifier fit failed. The score on this train-test partition for these parameters will be set to 0.000000. Details: \n",
      "ValueError(\"Unsupported set of arguments: The combination of penalty='l1' and loss='hinge' is not supported, Parameters: penalty='l1', loss='hinge', dual=True\")\n",
      "  \"Details: \\n%r\" % (error_score, e), FitFailedWarning)\n"
     ]
    },
    {
     "name": "stdout",
     "output_type": "stream",
     "text": [
      "[CV]  vect__stop_words=None, vect__ngram_range=(1, 1), tfidf__use_idf=True, clf__penalty=l1, clf__loss=hinge, clf__C=60, total=   2.3s\n",
      "[CV] vect__stop_words=None, vect__ngram_range=(1, 1), tfidf__use_idf=True, clf__penalty=l1, clf__loss=hinge, clf__C=60 \n"
     ]
    },
    {
     "name": "stderr",
     "output_type": "stream",
     "text": [
      "/home/harsh/anaconda3/lib/python3.7/site-packages/sklearn/model_selection/_validation.py:479: FitFailedWarning: Classifier fit failed. The score on this train-test partition for these parameters will be set to 0.000000. Details: \n",
      "ValueError(\"Unsupported set of arguments: The combination of penalty='l1' and loss='hinge' is not supported, Parameters: penalty='l1', loss='hinge', dual=True\")\n",
      "  \"Details: \\n%r\" % (error_score, e), FitFailedWarning)\n"
     ]
    },
    {
     "name": "stdout",
     "output_type": "stream",
     "text": [
      "[CV]  vect__stop_words=None, vect__ngram_range=(1, 1), tfidf__use_idf=True, clf__penalty=l1, clf__loss=hinge, clf__C=60, total=   2.3s\n",
      "[CV] vect__stop_words=None, vect__ngram_range=(1, 1), tfidf__use_idf=True, clf__penalty=l1, clf__loss=hinge, clf__C=60 \n"
     ]
    },
    {
     "name": "stderr",
     "output_type": "stream",
     "text": [
      "/home/harsh/anaconda3/lib/python3.7/site-packages/sklearn/model_selection/_validation.py:479: FitFailedWarning: Classifier fit failed. The score on this train-test partition for these parameters will be set to 0.000000. Details: \n",
      "ValueError(\"Unsupported set of arguments: The combination of penalty='l1' and loss='hinge' is not supported, Parameters: penalty='l1', loss='hinge', dual=True\")\n",
      "  \"Details: \\n%r\" % (error_score, e), FitFailedWarning)\n"
     ]
    },
    {
     "name": "stdout",
     "output_type": "stream",
     "text": [
      "[CV]  vect__stop_words=None, vect__ngram_range=(1, 1), tfidf__use_idf=True, clf__penalty=l1, clf__loss=hinge, clf__C=60, total=   2.2s\n",
      "[CV] vect__stop_words=None, vect__ngram_range=(1, 1), tfidf__use_idf=True, clf__penalty=l2, clf__loss=squared_hinge, clf__C=30 \n",
      "[CV]  vect__stop_words=None, vect__ngram_range=(1, 1), tfidf__use_idf=True, clf__penalty=l2, clf__loss=squared_hinge, clf__C=30, total=   6.0s\n",
      "[CV] vect__stop_words=None, vect__ngram_range=(1, 1), tfidf__use_idf=True, clf__penalty=l2, clf__loss=squared_hinge, clf__C=30 \n",
      "[CV]  vect__stop_words=None, vect__ngram_range=(1, 1), tfidf__use_idf=True, clf__penalty=l2, clf__loss=squared_hinge, clf__C=30, total=   5.9s\n",
      "[CV] vect__stop_words=None, vect__ngram_range=(1, 1), tfidf__use_idf=True, clf__penalty=l2, clf__loss=squared_hinge, clf__C=30 \n",
      "[CV]  vect__stop_words=None, vect__ngram_range=(1, 1), tfidf__use_idf=True, clf__penalty=l2, clf__loss=squared_hinge, clf__C=30, total=   6.0s\n",
      "[CV] vect__stop_words=english, vect__ngram_range=(1, 1), tfidf__use_idf=False, clf__penalty=l1, clf__loss=hinge, clf__C=40 \n"
     ]
    },
    {
     "name": "stderr",
     "output_type": "stream",
     "text": [
      "/home/harsh/anaconda3/lib/python3.7/site-packages/sklearn/model_selection/_validation.py:479: FitFailedWarning: Classifier fit failed. The score on this train-test partition for these parameters will be set to 0.000000. Details: \n",
      "ValueError(\"Unsupported set of arguments: The combination of penalty='l1' and loss='hinge' is not supported, Parameters: penalty='l1', loss='hinge', dual=True\")\n",
      "  \"Details: \\n%r\" % (error_score, e), FitFailedWarning)\n"
     ]
    },
    {
     "name": "stdout",
     "output_type": "stream",
     "text": [
      "[CV]  vect__stop_words=english, vect__ngram_range=(1, 1), tfidf__use_idf=False, clf__penalty=l1, clf__loss=hinge, clf__C=40, total=   2.0s\n",
      "[CV] vect__stop_words=english, vect__ngram_range=(1, 1), tfidf__use_idf=False, clf__penalty=l1, clf__loss=hinge, clf__C=40 \n"
     ]
    },
    {
     "name": "stderr",
     "output_type": "stream",
     "text": [
      "/home/harsh/anaconda3/lib/python3.7/site-packages/sklearn/model_selection/_validation.py:479: FitFailedWarning: Classifier fit failed. The score on this train-test partition for these parameters will be set to 0.000000. Details: \n",
      "ValueError(\"Unsupported set of arguments: The combination of penalty='l1' and loss='hinge' is not supported, Parameters: penalty='l1', loss='hinge', dual=True\")\n",
      "  \"Details: \\n%r\" % (error_score, e), FitFailedWarning)\n"
     ]
    },
    {
     "name": "stdout",
     "output_type": "stream",
     "text": [
      "[CV]  vect__stop_words=english, vect__ngram_range=(1, 1), tfidf__use_idf=False, clf__penalty=l1, clf__loss=hinge, clf__C=40, total=   2.1s\n",
      "[CV] vect__stop_words=english, vect__ngram_range=(1, 1), tfidf__use_idf=False, clf__penalty=l1, clf__loss=hinge, clf__C=40 \n"
     ]
    },
    {
     "name": "stderr",
     "output_type": "stream",
     "text": [
      "/home/harsh/anaconda3/lib/python3.7/site-packages/sklearn/model_selection/_validation.py:479: FitFailedWarning: Classifier fit failed. The score on this train-test partition for these parameters will be set to 0.000000. Details: \n",
      "ValueError(\"Unsupported set of arguments: The combination of penalty='l1' and loss='hinge' is not supported, Parameters: penalty='l1', loss='hinge', dual=True\")\n",
      "  \"Details: \\n%r\" % (error_score, e), FitFailedWarning)\n"
     ]
    },
    {
     "name": "stdout",
     "output_type": "stream",
     "text": [
      "[CV]  vect__stop_words=english, vect__ngram_range=(1, 1), tfidf__use_idf=False, clf__penalty=l1, clf__loss=hinge, clf__C=40, total=   2.0s\n",
      "[CV] vect__stop_words=None, vect__ngram_range=(1, 2), tfidf__use_idf=False, clf__penalty=l1, clf__loss=squared_hinge, clf__C=10 \n"
     ]
    },
    {
     "name": "stderr",
     "output_type": "stream",
     "text": [
      "/home/harsh/anaconda3/lib/python3.7/site-packages/sklearn/model_selection/_validation.py:479: FitFailedWarning: Classifier fit failed. The score on this train-test partition for these parameters will be set to 0.000000. Details: \n",
      "ValueError(\"Unsupported set of arguments: The combination of penalty='l1' and loss='squared_hinge' are not supported when dual=True, Parameters: penalty='l1', loss='squared_hinge', dual=True\")\n",
      "  \"Details: \\n%r\" % (error_score, e), FitFailedWarning)\n"
     ]
    },
    {
     "name": "stdout",
     "output_type": "stream",
     "text": [
      "[CV]  vect__stop_words=None, vect__ngram_range=(1, 2), tfidf__use_idf=False, clf__penalty=l1, clf__loss=squared_hinge, clf__C=10, total=  10.5s\n",
      "[CV] vect__stop_words=None, vect__ngram_range=(1, 2), tfidf__use_idf=False, clf__penalty=l1, clf__loss=squared_hinge, clf__C=10 \n"
     ]
    },
    {
     "name": "stderr",
     "output_type": "stream",
     "text": [
      "/home/harsh/anaconda3/lib/python3.7/site-packages/sklearn/model_selection/_validation.py:479: FitFailedWarning: Classifier fit failed. The score on this train-test partition for these parameters will be set to 0.000000. Details: \n",
      "ValueError(\"Unsupported set of arguments: The combination of penalty='l1' and loss='squared_hinge' are not supported when dual=True, Parameters: penalty='l1', loss='squared_hinge', dual=True\")\n",
      "  \"Details: \\n%r\" % (error_score, e), FitFailedWarning)\n"
     ]
    },
    {
     "name": "stdout",
     "output_type": "stream",
     "text": [
      "[CV]  vect__stop_words=None, vect__ngram_range=(1, 2), tfidf__use_idf=False, clf__penalty=l1, clf__loss=squared_hinge, clf__C=10, total=  11.1s\n",
      "[CV] vect__stop_words=None, vect__ngram_range=(1, 2), tfidf__use_idf=False, clf__penalty=l1, clf__loss=squared_hinge, clf__C=10 \n"
     ]
    },
    {
     "name": "stderr",
     "output_type": "stream",
     "text": [
      "/home/harsh/anaconda3/lib/python3.7/site-packages/sklearn/model_selection/_validation.py:479: FitFailedWarning: Classifier fit failed. The score on this train-test partition for these parameters will be set to 0.000000. Details: \n",
      "ValueError(\"Unsupported set of arguments: The combination of penalty='l1' and loss='squared_hinge' are not supported when dual=True, Parameters: penalty='l1', loss='squared_hinge', dual=True\")\n",
      "  \"Details: \\n%r\" % (error_score, e), FitFailedWarning)\n"
     ]
    },
    {
     "name": "stdout",
     "output_type": "stream",
     "text": [
      "[CV]  vect__stop_words=None, vect__ngram_range=(1, 2), tfidf__use_idf=False, clf__penalty=l1, clf__loss=squared_hinge, clf__C=10, total=  10.7s\n",
      "[CV] vect__stop_words=english, vect__ngram_range=(1, 2), tfidf__use_idf=True, clf__penalty=l2, clf__loss=hinge, clf__C=20 \n",
      "[CV]  vect__stop_words=english, vect__ngram_range=(1, 2), tfidf__use_idf=True, clf__penalty=l2, clf__loss=hinge, clf__C=20, total=  14.2s\n",
      "[CV] vect__stop_words=english, vect__ngram_range=(1, 2), tfidf__use_idf=True, clf__penalty=l2, clf__loss=hinge, clf__C=20 \n",
      "[CV]  vect__stop_words=english, vect__ngram_range=(1, 2), tfidf__use_idf=True, clf__penalty=l2, clf__loss=hinge, clf__C=20, total=  12.5s\n",
      "[CV] vect__stop_words=english, vect__ngram_range=(1, 2), tfidf__use_idf=True, clf__penalty=l2, clf__loss=hinge, clf__C=20 \n",
      "[CV]  vect__stop_words=english, vect__ngram_range=(1, 2), tfidf__use_idf=True, clf__penalty=l2, clf__loss=hinge, clf__C=20, total=  23.6s\n",
      "[CV] vect__stop_words=None, vect__ngram_range=(1, 1), tfidf__use_idf=False, clf__penalty=l1, clf__loss=hinge, clf__C=20 \n"
     ]
    },
    {
     "name": "stderr",
     "output_type": "stream",
     "text": [
      "/home/harsh/anaconda3/lib/python3.7/site-packages/sklearn/model_selection/_validation.py:479: FitFailedWarning: Classifier fit failed. The score on this train-test partition for these parameters will be set to 0.000000. Details: \n",
      "ValueError(\"Unsupported set of arguments: The combination of penalty='l1' and loss='hinge' is not supported, Parameters: penalty='l1', loss='hinge', dual=True\")\n",
      "  \"Details: \\n%r\" % (error_score, e), FitFailedWarning)\n"
     ]
    },
    {
     "name": "stdout",
     "output_type": "stream",
     "text": [
      "[CV]  vect__stop_words=None, vect__ngram_range=(1, 1), tfidf__use_idf=False, clf__penalty=l1, clf__loss=hinge, clf__C=20, total=   2.2s\n",
      "[CV] vect__stop_words=None, vect__ngram_range=(1, 1), tfidf__use_idf=False, clf__penalty=l1, clf__loss=hinge, clf__C=20 \n"
     ]
    },
    {
     "name": "stderr",
     "output_type": "stream",
     "text": [
      "/home/harsh/anaconda3/lib/python3.7/site-packages/sklearn/model_selection/_validation.py:479: FitFailedWarning: Classifier fit failed. The score on this train-test partition for these parameters will be set to 0.000000. Details: \n",
      "ValueError(\"Unsupported set of arguments: The combination of penalty='l1' and loss='hinge' is not supported, Parameters: penalty='l1', loss='hinge', dual=True\")\n",
      "  \"Details: \\n%r\" % (error_score, e), FitFailedWarning)\n"
     ]
    },
    {
     "name": "stdout",
     "output_type": "stream",
     "text": [
      "[CV]  vect__stop_words=None, vect__ngram_range=(1, 1), tfidf__use_idf=False, clf__penalty=l1, clf__loss=hinge, clf__C=20, total=   2.3s\n",
      "[CV] vect__stop_words=None, vect__ngram_range=(1, 1), tfidf__use_idf=False, clf__penalty=l1, clf__loss=hinge, clf__C=20 \n"
     ]
    },
    {
     "name": "stderr",
     "output_type": "stream",
     "text": [
      "/home/harsh/anaconda3/lib/python3.7/site-packages/sklearn/model_selection/_validation.py:479: FitFailedWarning: Classifier fit failed. The score on this train-test partition for these parameters will be set to 0.000000. Details: \n",
      "ValueError(\"Unsupported set of arguments: The combination of penalty='l1' and loss='hinge' is not supported, Parameters: penalty='l1', loss='hinge', dual=True\")\n",
      "  \"Details: \\n%r\" % (error_score, e), FitFailedWarning)\n"
     ]
    },
    {
     "name": "stdout",
     "output_type": "stream",
     "text": [
      "[CV]  vect__stop_words=None, vect__ngram_range=(1, 1), tfidf__use_idf=False, clf__penalty=l1, clf__loss=hinge, clf__C=20, total=   2.2s\n",
      "[CV] vect__stop_words=None, vect__ngram_range=(1, 1), tfidf__use_idf=False, clf__penalty=l1, clf__loss=squared_hinge, clf__C=50 \n"
     ]
    },
    {
     "name": "stderr",
     "output_type": "stream",
     "text": [
      "/home/harsh/anaconda3/lib/python3.7/site-packages/sklearn/model_selection/_validation.py:479: FitFailedWarning: Classifier fit failed. The score on this train-test partition for these parameters will be set to 0.000000. Details: \n",
      "ValueError(\"Unsupported set of arguments: The combination of penalty='l1' and loss='squared_hinge' are not supported when dual=True, Parameters: penalty='l1', loss='squared_hinge', dual=True\")\n",
      "  \"Details: \\n%r\" % (error_score, e), FitFailedWarning)\n"
     ]
    },
    {
     "name": "stdout",
     "output_type": "stream",
     "text": [
      "[CV]  vect__stop_words=None, vect__ngram_range=(1, 1), tfidf__use_idf=False, clf__penalty=l1, clf__loss=squared_hinge, clf__C=50, total=   2.2s\n",
      "[CV] vect__stop_words=None, vect__ngram_range=(1, 1), tfidf__use_idf=False, clf__penalty=l1, clf__loss=squared_hinge, clf__C=50 \n"
     ]
    },
    {
     "name": "stderr",
     "output_type": "stream",
     "text": [
      "/home/harsh/anaconda3/lib/python3.7/site-packages/sklearn/model_selection/_validation.py:479: FitFailedWarning: Classifier fit failed. The score on this train-test partition for these parameters will be set to 0.000000. Details: \n",
      "ValueError(\"Unsupported set of arguments: The combination of penalty='l1' and loss='squared_hinge' are not supported when dual=True, Parameters: penalty='l1', loss='squared_hinge', dual=True\")\n",
      "  \"Details: \\n%r\" % (error_score, e), FitFailedWarning)\n"
     ]
    },
    {
     "name": "stdout",
     "output_type": "stream",
     "text": [
      "[CV]  vect__stop_words=None, vect__ngram_range=(1, 1), tfidf__use_idf=False, clf__penalty=l1, clf__loss=squared_hinge, clf__C=50, total=   2.3s\n",
      "[CV] vect__stop_words=None, vect__ngram_range=(1, 1), tfidf__use_idf=False, clf__penalty=l1, clf__loss=squared_hinge, clf__C=50 \n"
     ]
    },
    {
     "name": "stderr",
     "output_type": "stream",
     "text": [
      "/home/harsh/anaconda3/lib/python3.7/site-packages/sklearn/model_selection/_validation.py:479: FitFailedWarning: Classifier fit failed. The score on this train-test partition for these parameters will be set to 0.000000. Details: \n",
      "ValueError(\"Unsupported set of arguments: The combination of penalty='l1' and loss='squared_hinge' are not supported when dual=True, Parameters: penalty='l1', loss='squared_hinge', dual=True\")\n",
      "  \"Details: \\n%r\" % (error_score, e), FitFailedWarning)\n"
     ]
    },
    {
     "name": "stdout",
     "output_type": "stream",
     "text": [
      "[CV]  vect__stop_words=None, vect__ngram_range=(1, 1), tfidf__use_idf=False, clf__penalty=l1, clf__loss=squared_hinge, clf__C=50, total=   2.3s\n",
      "[CV] vect__stop_words=english, vect__ngram_range=(1, 1), tfidf__use_idf=False, clf__penalty=l2, clf__loss=hinge, clf__C=1.0 \n",
      "[CV]  vect__stop_words=english, vect__ngram_range=(1, 1), tfidf__use_idf=False, clf__penalty=l2, clf__loss=hinge, clf__C=1.0, total=   3.3s\n",
      "[CV] vect__stop_words=english, vect__ngram_range=(1, 1), tfidf__use_idf=False, clf__penalty=l2, clf__loss=hinge, clf__C=1.0 \n",
      "[CV]  vect__stop_words=english, vect__ngram_range=(1, 1), tfidf__use_idf=False, clf__penalty=l2, clf__loss=hinge, clf__C=1.0, total=   3.3s\n",
      "[CV] vect__stop_words=english, vect__ngram_range=(1, 1), tfidf__use_idf=False, clf__penalty=l2, clf__loss=hinge, clf__C=1.0 \n",
      "[CV]  vect__stop_words=english, vect__ngram_range=(1, 1), tfidf__use_idf=False, clf__penalty=l2, clf__loss=hinge, clf__C=1.0, total=   3.3s\n",
      "[CV] vect__stop_words=None, vect__ngram_range=(1, 2), tfidf__use_idf=False, clf__penalty=l1, clf__loss=hinge, clf__C=30 \n"
     ]
    },
    {
     "name": "stderr",
     "output_type": "stream",
     "text": [
      "/home/harsh/anaconda3/lib/python3.7/site-packages/sklearn/model_selection/_validation.py:479: FitFailedWarning: Classifier fit failed. The score on this train-test partition for these parameters will be set to 0.000000. Details: \n",
      "ValueError(\"Unsupported set of arguments: The combination of penalty='l1' and loss='hinge' is not supported, Parameters: penalty='l1', loss='hinge', dual=True\")\n",
      "  \"Details: \\n%r\" % (error_score, e), FitFailedWarning)\n"
     ]
    },
    {
     "name": "stdout",
     "output_type": "stream",
     "text": [
      "[CV]  vect__stop_words=None, vect__ngram_range=(1, 2), tfidf__use_idf=False, clf__penalty=l1, clf__loss=hinge, clf__C=30, total=  10.3s\n",
      "[CV] vect__stop_words=None, vect__ngram_range=(1, 2), tfidf__use_idf=False, clf__penalty=l1, clf__loss=hinge, clf__C=30 \n"
     ]
    },
    {
     "name": "stderr",
     "output_type": "stream",
     "text": [
      "/home/harsh/anaconda3/lib/python3.7/site-packages/sklearn/model_selection/_validation.py:479: FitFailedWarning: Classifier fit failed. The score on this train-test partition for these parameters will be set to 0.000000. Details: \n",
      "ValueError(\"Unsupported set of arguments: The combination of penalty='l1' and loss='hinge' is not supported, Parameters: penalty='l1', loss='hinge', dual=True\")\n",
      "  \"Details: \\n%r\" % (error_score, e), FitFailedWarning)\n"
     ]
    },
    {
     "name": "stdout",
     "output_type": "stream",
     "text": [
      "[CV]  vect__stop_words=None, vect__ngram_range=(1, 2), tfidf__use_idf=False, clf__penalty=l1, clf__loss=hinge, clf__C=30, total=  10.8s\n",
      "[CV] vect__stop_words=None, vect__ngram_range=(1, 2), tfidf__use_idf=False, clf__penalty=l1, clf__loss=hinge, clf__C=30 \n"
     ]
    },
    {
     "name": "stderr",
     "output_type": "stream",
     "text": [
      "/home/harsh/anaconda3/lib/python3.7/site-packages/sklearn/model_selection/_validation.py:479: FitFailedWarning: Classifier fit failed. The score on this train-test partition for these parameters will be set to 0.000000. Details: \n",
      "ValueError(\"Unsupported set of arguments: The combination of penalty='l1' and loss='hinge' is not supported, Parameters: penalty='l1', loss='hinge', dual=True\")\n",
      "  \"Details: \\n%r\" % (error_score, e), FitFailedWarning)\n"
     ]
    },
    {
     "name": "stdout",
     "output_type": "stream",
     "text": [
      "[CV]  vect__stop_words=None, vect__ngram_range=(1, 2), tfidf__use_idf=False, clf__penalty=l1, clf__loss=hinge, clf__C=30, total=  10.4s\n",
      "[CV] vect__stop_words=english, vect__ngram_range=(1, 1), tfidf__use_idf=True, clf__penalty=l2, clf__loss=hinge, clf__C=0.5 \n",
      "[CV]  vect__stop_words=english, vect__ngram_range=(1, 1), tfidf__use_idf=True, clf__penalty=l2, clf__loss=hinge, clf__C=0.5, total=   3.2s\n",
      "[CV] vect__stop_words=english, vect__ngram_range=(1, 1), tfidf__use_idf=True, clf__penalty=l2, clf__loss=hinge, clf__C=0.5 \n",
      "[CV]  vect__stop_words=english, vect__ngram_range=(1, 1), tfidf__use_idf=True, clf__penalty=l2, clf__loss=hinge, clf__C=0.5, total=   3.2s\n",
      "[CV] vect__stop_words=english, vect__ngram_range=(1, 1), tfidf__use_idf=True, clf__penalty=l2, clf__loss=hinge, clf__C=0.5 \n",
      "[CV]  vect__stop_words=english, vect__ngram_range=(1, 1), tfidf__use_idf=True, clf__penalty=l2, clf__loss=hinge, clf__C=0.5, total=   3.1s\n",
      "[CV] vect__stop_words=english, vect__ngram_range=(1, 1), tfidf__use_idf=False, clf__penalty=l1, clf__loss=hinge, clf__C=30 \n"
     ]
    },
    {
     "name": "stderr",
     "output_type": "stream",
     "text": [
      "/home/harsh/anaconda3/lib/python3.7/site-packages/sklearn/model_selection/_validation.py:479: FitFailedWarning: Classifier fit failed. The score on this train-test partition for these parameters will be set to 0.000000. Details: \n",
      "ValueError(\"Unsupported set of arguments: The combination of penalty='l1' and loss='hinge' is not supported, Parameters: penalty='l1', loss='hinge', dual=True\")\n",
      "  \"Details: \\n%r\" % (error_score, e), FitFailedWarning)\n"
     ]
    },
    {
     "name": "stdout",
     "output_type": "stream",
     "text": [
      "[CV]  vect__stop_words=english, vect__ngram_range=(1, 1), tfidf__use_idf=False, clf__penalty=l1, clf__loss=hinge, clf__C=30, total=   2.0s\n",
      "[CV] vect__stop_words=english, vect__ngram_range=(1, 1), tfidf__use_idf=False, clf__penalty=l1, clf__loss=hinge, clf__C=30 \n"
     ]
    },
    {
     "name": "stderr",
     "output_type": "stream",
     "text": [
      "/home/harsh/anaconda3/lib/python3.7/site-packages/sklearn/model_selection/_validation.py:479: FitFailedWarning: Classifier fit failed. The score on this train-test partition for these parameters will be set to 0.000000. Details: \n",
      "ValueError(\"Unsupported set of arguments: The combination of penalty='l1' and loss='hinge' is not supported, Parameters: penalty='l1', loss='hinge', dual=True\")\n",
      "  \"Details: \\n%r\" % (error_score, e), FitFailedWarning)\n"
     ]
    },
    {
     "name": "stdout",
     "output_type": "stream",
     "text": [
      "[CV]  vect__stop_words=english, vect__ngram_range=(1, 1), tfidf__use_idf=False, clf__penalty=l1, clf__loss=hinge, clf__C=30, total=   2.0s\n",
      "[CV] vect__stop_words=english, vect__ngram_range=(1, 1), tfidf__use_idf=False, clf__penalty=l1, clf__loss=hinge, clf__C=30 \n"
     ]
    },
    {
     "name": "stderr",
     "output_type": "stream",
     "text": [
      "/home/harsh/anaconda3/lib/python3.7/site-packages/sklearn/model_selection/_validation.py:479: FitFailedWarning: Classifier fit failed. The score on this train-test partition for these parameters will be set to 0.000000. Details: \n",
      "ValueError(\"Unsupported set of arguments: The combination of penalty='l1' and loss='hinge' is not supported, Parameters: penalty='l1', loss='hinge', dual=True\")\n",
      "  \"Details: \\n%r\" % (error_score, e), FitFailedWarning)\n"
     ]
    },
    {
     "name": "stdout",
     "output_type": "stream",
     "text": [
      "[CV]  vect__stop_words=english, vect__ngram_range=(1, 1), tfidf__use_idf=False, clf__penalty=l1, clf__loss=hinge, clf__C=30, total=   2.0s\n",
      "[CV] vect__stop_words=None, vect__ngram_range=(1, 2), tfidf__use_idf=False, clf__penalty=l1, clf__loss=squared_hinge, clf__C=60 \n"
     ]
    },
    {
     "name": "stderr",
     "output_type": "stream",
     "text": [
      "/home/harsh/anaconda3/lib/python3.7/site-packages/sklearn/model_selection/_validation.py:479: FitFailedWarning: Classifier fit failed. The score on this train-test partition for these parameters will be set to 0.000000. Details: \n",
      "ValueError(\"Unsupported set of arguments: The combination of penalty='l1' and loss='squared_hinge' are not supported when dual=True, Parameters: penalty='l1', loss='squared_hinge', dual=True\")\n",
      "  \"Details: \\n%r\" % (error_score, e), FitFailedWarning)\n"
     ]
    },
    {
     "name": "stdout",
     "output_type": "stream",
     "text": [
      "[CV]  vect__stop_words=None, vect__ngram_range=(1, 2), tfidf__use_idf=False, clf__penalty=l1, clf__loss=squared_hinge, clf__C=60, total=  10.4s\n",
      "[CV] vect__stop_words=None, vect__ngram_range=(1, 2), tfidf__use_idf=False, clf__penalty=l1, clf__loss=squared_hinge, clf__C=60 \n"
     ]
    },
    {
     "name": "stderr",
     "output_type": "stream",
     "text": [
      "/home/harsh/anaconda3/lib/python3.7/site-packages/sklearn/model_selection/_validation.py:479: FitFailedWarning: Classifier fit failed. The score on this train-test partition for these parameters will be set to 0.000000. Details: \n",
      "ValueError(\"Unsupported set of arguments: The combination of penalty='l1' and loss='squared_hinge' are not supported when dual=True, Parameters: penalty='l1', loss='squared_hinge', dual=True\")\n",
      "  \"Details: \\n%r\" % (error_score, e), FitFailedWarning)\n"
     ]
    },
    {
     "name": "stdout",
     "output_type": "stream",
     "text": [
      "[CV]  vect__stop_words=None, vect__ngram_range=(1, 2), tfidf__use_idf=False, clf__penalty=l1, clf__loss=squared_hinge, clf__C=60, total=  10.5s\n",
      "[CV] vect__stop_words=None, vect__ngram_range=(1, 2), tfidf__use_idf=False, clf__penalty=l1, clf__loss=squared_hinge, clf__C=60 \n"
     ]
    },
    {
     "name": "stderr",
     "output_type": "stream",
     "text": [
      "/home/harsh/anaconda3/lib/python3.7/site-packages/sklearn/model_selection/_validation.py:479: FitFailedWarning: Classifier fit failed. The score on this train-test partition for these parameters will be set to 0.000000. Details: \n",
      "ValueError(\"Unsupported set of arguments: The combination of penalty='l1' and loss='squared_hinge' are not supported when dual=True, Parameters: penalty='l1', loss='squared_hinge', dual=True\")\n",
      "  \"Details: \\n%r\" % (error_score, e), FitFailedWarning)\n"
     ]
    },
    {
     "name": "stdout",
     "output_type": "stream",
     "text": [
      "[CV]  vect__stop_words=None, vect__ngram_range=(1, 2), tfidf__use_idf=False, clf__penalty=l1, clf__loss=squared_hinge, clf__C=60, total=  10.8s\n",
      "[CV] vect__stop_words=english, vect__ngram_range=(1, 1), tfidf__use_idf=True, clf__penalty=l2, clf__loss=hinge, clf__C=70 \n",
      "[CV]  vect__stop_words=english, vect__ngram_range=(1, 1), tfidf__use_idf=True, clf__penalty=l2, clf__loss=hinge, clf__C=70, total=   4.0s\n",
      "[CV] vect__stop_words=english, vect__ngram_range=(1, 1), tfidf__use_idf=True, clf__penalty=l2, clf__loss=hinge, clf__C=70 \n",
      "[CV]  vect__stop_words=english, vect__ngram_range=(1, 1), tfidf__use_idf=True, clf__penalty=l2, clf__loss=hinge, clf__C=70, total=   3.7s\n",
      "[CV] vect__stop_words=english, vect__ngram_range=(1, 1), tfidf__use_idf=True, clf__penalty=l2, clf__loss=hinge, clf__C=70 \n",
      "[CV]  vect__stop_words=english, vect__ngram_range=(1, 1), tfidf__use_idf=True, clf__penalty=l2, clf__loss=hinge, clf__C=70, total=   3.9s\n",
      "[CV] vect__stop_words=None, vect__ngram_range=(1, 1), tfidf__use_idf=False, clf__penalty=l2, clf__loss=squared_hinge, clf__C=50 \n",
      "[CV]  vect__stop_words=None, vect__ngram_range=(1, 1), tfidf__use_idf=False, clf__penalty=l2, clf__loss=squared_hinge, clf__C=50, total=   9.2s\n",
      "[CV] vect__stop_words=None, vect__ngram_range=(1, 1), tfidf__use_idf=False, clf__penalty=l2, clf__loss=squared_hinge, clf__C=50 \n",
      "[CV]  vect__stop_words=None, vect__ngram_range=(1, 1), tfidf__use_idf=False, clf__penalty=l2, clf__loss=squared_hinge, clf__C=50, total=   9.9s\n",
      "[CV] vect__stop_words=None, vect__ngram_range=(1, 1), tfidf__use_idf=False, clf__penalty=l2, clf__loss=squared_hinge, clf__C=50 \n",
      "[CV]  vect__stop_words=None, vect__ngram_range=(1, 1), tfidf__use_idf=False, clf__penalty=l2, clf__loss=squared_hinge, clf__C=50, total=  11.4s\n",
      "[CV] vect__stop_words=None, vect__ngram_range=(1, 2), tfidf__use_idf=False, clf__penalty=l2, clf__loss=hinge, clf__C=100 \n",
      "[CV]  vect__stop_words=None, vect__ngram_range=(1, 2), tfidf__use_idf=False, clf__penalty=l2, clf__loss=hinge, clf__C=100, total=  24.7s\n",
      "[CV] vect__stop_words=None, vect__ngram_range=(1, 2), tfidf__use_idf=False, clf__penalty=l2, clf__loss=hinge, clf__C=100 \n",
      "[CV]  vect__stop_words=None, vect__ngram_range=(1, 2), tfidf__use_idf=False, clf__penalty=l2, clf__loss=hinge, clf__C=100, total=  20.7s\n",
      "[CV] vect__stop_words=None, vect__ngram_range=(1, 2), tfidf__use_idf=False, clf__penalty=l2, clf__loss=hinge, clf__C=100 \n",
      "[CV]  vect__stop_words=None, vect__ngram_range=(1, 2), tfidf__use_idf=False, clf__penalty=l2, clf__loss=hinge, clf__C=100, total=  33.1s\n",
      "[CV] vect__stop_words=english, vect__ngram_range=(1, 2), tfidf__use_idf=False, clf__penalty=l2, clf__loss=squared_hinge, clf__C=100 \n",
      "[CV]  vect__stop_words=english, vect__ngram_range=(1, 2), tfidf__use_idf=False, clf__penalty=l2, clf__loss=squared_hinge, clf__C=100, total=  35.3s\n",
      "[CV] vect__stop_words=english, vect__ngram_range=(1, 2), tfidf__use_idf=False, clf__penalty=l2, clf__loss=squared_hinge, clf__C=100 \n",
      "[CV]  vect__stop_words=english, vect__ngram_range=(1, 2), tfidf__use_idf=False, clf__penalty=l2, clf__loss=squared_hinge, clf__C=100, total=  34.0s\n",
      "[CV] vect__stop_words=english, vect__ngram_range=(1, 2), tfidf__use_idf=False, clf__penalty=l2, clf__loss=squared_hinge, clf__C=100 \n",
      "[CV]  vect__stop_words=english, vect__ngram_range=(1, 2), tfidf__use_idf=False, clf__penalty=l2, clf__loss=squared_hinge, clf__C=100, total=  31.8s\n",
      "[CV] vect__stop_words=english, vect__ngram_range=(1, 2), tfidf__use_idf=False, clf__penalty=l1, clf__loss=squared_hinge, clf__C=50 \n"
     ]
    },
    {
     "name": "stderr",
     "output_type": "stream",
     "text": [
      "/home/harsh/anaconda3/lib/python3.7/site-packages/sklearn/model_selection/_validation.py:479: FitFailedWarning: Classifier fit failed. The score on this train-test partition for these parameters will be set to 0.000000. Details: \n",
      "ValueError(\"Unsupported set of arguments: The combination of penalty='l1' and loss='squared_hinge' are not supported when dual=True, Parameters: penalty='l1', loss='squared_hinge', dual=True\")\n",
      "  \"Details: \\n%r\" % (error_score, e), FitFailedWarning)\n"
     ]
    },
    {
     "name": "stdout",
     "output_type": "stream",
     "text": [
      "[CV]  vect__stop_words=english, vect__ngram_range=(1, 2), tfidf__use_idf=False, clf__penalty=l1, clf__loss=squared_hinge, clf__C=50, total=   8.5s\n",
      "[CV] vect__stop_words=english, vect__ngram_range=(1, 2), tfidf__use_idf=False, clf__penalty=l1, clf__loss=squared_hinge, clf__C=50 \n"
     ]
    },
    {
     "name": "stderr",
     "output_type": "stream",
     "text": [
      "/home/harsh/anaconda3/lib/python3.7/site-packages/sklearn/model_selection/_validation.py:479: FitFailedWarning: Classifier fit failed. The score on this train-test partition for these parameters will be set to 0.000000. Details: \n",
      "ValueError(\"Unsupported set of arguments: The combination of penalty='l1' and loss='squared_hinge' are not supported when dual=True, Parameters: penalty='l1', loss='squared_hinge', dual=True\")\n",
      "  \"Details: \\n%r\" % (error_score, e), FitFailedWarning)\n"
     ]
    },
    {
     "name": "stdout",
     "output_type": "stream",
     "text": [
      "[CV]  vect__stop_words=english, vect__ngram_range=(1, 2), tfidf__use_idf=False, clf__penalty=l1, clf__loss=squared_hinge, clf__C=50, total=   8.8s\n",
      "[CV] vect__stop_words=english, vect__ngram_range=(1, 2), tfidf__use_idf=False, clf__penalty=l1, clf__loss=squared_hinge, clf__C=50 \n"
     ]
    },
    {
     "name": "stderr",
     "output_type": "stream",
     "text": [
      "/home/harsh/anaconda3/lib/python3.7/site-packages/sklearn/model_selection/_validation.py:479: FitFailedWarning: Classifier fit failed. The score on this train-test partition for these parameters will be set to 0.000000. Details: \n",
      "ValueError(\"Unsupported set of arguments: The combination of penalty='l1' and loss='squared_hinge' are not supported when dual=True, Parameters: penalty='l1', loss='squared_hinge', dual=True\")\n",
      "  \"Details: \\n%r\" % (error_score, e), FitFailedWarning)\n"
     ]
    },
    {
     "name": "stdout",
     "output_type": "stream",
     "text": [
      "[CV]  vect__stop_words=english, vect__ngram_range=(1, 2), tfidf__use_idf=False, clf__penalty=l1, clf__loss=squared_hinge, clf__C=50, total=   8.6s\n",
      "[CV] vect__stop_words=None, vect__ngram_range=(1, 2), tfidf__use_idf=True, clf__penalty=l2, clf__loss=squared_hinge, clf__C=80 \n",
      "[CV]  vect__stop_words=None, vect__ngram_range=(1, 2), tfidf__use_idf=True, clf__penalty=l2, clf__loss=squared_hinge, clf__C=80, total=  43.1s\n",
      "[CV] vect__stop_words=None, vect__ngram_range=(1, 2), tfidf__use_idf=True, clf__penalty=l2, clf__loss=squared_hinge, clf__C=80 \n",
      "[CV]  vect__stop_words=None, vect__ngram_range=(1, 2), tfidf__use_idf=True, clf__penalty=l2, clf__loss=squared_hinge, clf__C=80, total=  43.8s\n",
      "[CV] vect__stop_words=None, vect__ngram_range=(1, 2), tfidf__use_idf=True, clf__penalty=l2, clf__loss=squared_hinge, clf__C=80 \n",
      "[CV]  vect__stop_words=None, vect__ngram_range=(1, 2), tfidf__use_idf=True, clf__penalty=l2, clf__loss=squared_hinge, clf__C=80, total=  42.6s\n",
      "[CV] vect__stop_words=english, vect__ngram_range=(1, 1), tfidf__use_idf=False, clf__penalty=l2, clf__loss=hinge, clf__C=20 \n",
      "[CV]  vect__stop_words=english, vect__ngram_range=(1, 1), tfidf__use_idf=False, clf__penalty=l2, clf__loss=hinge, clf__C=20, total=   5.3s\n",
      "[CV] vect__stop_words=english, vect__ngram_range=(1, 1), tfidf__use_idf=False, clf__penalty=l2, clf__loss=hinge, clf__C=20 \n",
      "[CV]  vect__stop_words=english, vect__ngram_range=(1, 1), tfidf__use_idf=False, clf__penalty=l2, clf__loss=hinge, clf__C=20, total=   5.9s\n",
      "[CV] vect__stop_words=english, vect__ngram_range=(1, 1), tfidf__use_idf=False, clf__penalty=l2, clf__loss=hinge, clf__C=20 \n",
      "[CV]  vect__stop_words=english, vect__ngram_range=(1, 1), tfidf__use_idf=False, clf__penalty=l2, clf__loss=hinge, clf__C=20, total=   6.0s\n",
      "[CV] vect__stop_words=english, vect__ngram_range=(1, 1), tfidf__use_idf=False, clf__penalty=l1, clf__loss=squared_hinge, clf__C=20 \n"
     ]
    },
    {
     "name": "stderr",
     "output_type": "stream",
     "text": [
      "/home/harsh/anaconda3/lib/python3.7/site-packages/sklearn/model_selection/_validation.py:479: FitFailedWarning: Classifier fit failed. The score on this train-test partition for these parameters will be set to 0.000000. Details: \n",
      "ValueError(\"Unsupported set of arguments: The combination of penalty='l1' and loss='squared_hinge' are not supported when dual=True, Parameters: penalty='l1', loss='squared_hinge', dual=True\")\n",
      "  \"Details: \\n%r\" % (error_score, e), FitFailedWarning)\n"
     ]
    },
    {
     "name": "stdout",
     "output_type": "stream",
     "text": [
      "[CV]  vect__stop_words=english, vect__ngram_range=(1, 1), tfidf__use_idf=False, clf__penalty=l1, clf__loss=squared_hinge, clf__C=20, total=   2.0s\n",
      "[CV] vect__stop_words=english, vect__ngram_range=(1, 1), tfidf__use_idf=False, clf__penalty=l1, clf__loss=squared_hinge, clf__C=20 \n"
     ]
    },
    {
     "name": "stderr",
     "output_type": "stream",
     "text": [
      "/home/harsh/anaconda3/lib/python3.7/site-packages/sklearn/model_selection/_validation.py:479: FitFailedWarning: Classifier fit failed. The score on this train-test partition for these parameters will be set to 0.000000. Details: \n",
      "ValueError(\"Unsupported set of arguments: The combination of penalty='l1' and loss='squared_hinge' are not supported when dual=True, Parameters: penalty='l1', loss='squared_hinge', dual=True\")\n",
      "  \"Details: \\n%r\" % (error_score, e), FitFailedWarning)\n"
     ]
    },
    {
     "name": "stdout",
     "output_type": "stream",
     "text": [
      "[CV]  vect__stop_words=english, vect__ngram_range=(1, 1), tfidf__use_idf=False, clf__penalty=l1, clf__loss=squared_hinge, clf__C=20, total=   2.0s\n",
      "[CV] vect__stop_words=english, vect__ngram_range=(1, 1), tfidf__use_idf=False, clf__penalty=l1, clf__loss=squared_hinge, clf__C=20 \n"
     ]
    },
    {
     "name": "stderr",
     "output_type": "stream",
     "text": [
      "/home/harsh/anaconda3/lib/python3.7/site-packages/sklearn/model_selection/_validation.py:479: FitFailedWarning: Classifier fit failed. The score on this train-test partition for these parameters will be set to 0.000000. Details: \n",
      "ValueError(\"Unsupported set of arguments: The combination of penalty='l1' and loss='squared_hinge' are not supported when dual=True, Parameters: penalty='l1', loss='squared_hinge', dual=True\")\n",
      "  \"Details: \\n%r\" % (error_score, e), FitFailedWarning)\n"
     ]
    },
    {
     "name": "stdout",
     "output_type": "stream",
     "text": [
      "[CV]  vect__stop_words=english, vect__ngram_range=(1, 1), tfidf__use_idf=False, clf__penalty=l1, clf__loss=squared_hinge, clf__C=20, total=   2.1s\n",
      "[CV] vect__stop_words=None, vect__ngram_range=(1, 2), tfidf__use_idf=False, clf__penalty=l2, clf__loss=squared_hinge, clf__C=50 \n",
      "[CV]  vect__stop_words=None, vect__ngram_range=(1, 2), tfidf__use_idf=False, clf__penalty=l2, clf__loss=squared_hinge, clf__C=50, total=  37.7s\n",
      "[CV] vect__stop_words=None, vect__ngram_range=(1, 2), tfidf__use_idf=False, clf__penalty=l2, clf__loss=squared_hinge, clf__C=50 \n",
      "[CV]  vect__stop_words=None, vect__ngram_range=(1, 2), tfidf__use_idf=False, clf__penalty=l2, clf__loss=squared_hinge, clf__C=50, total=  34.5s\n",
      "[CV] vect__stop_words=None, vect__ngram_range=(1, 2), tfidf__use_idf=False, clf__penalty=l2, clf__loss=squared_hinge, clf__C=50 \n",
      "[CV]  vect__stop_words=None, vect__ngram_range=(1, 2), tfidf__use_idf=False, clf__penalty=l2, clf__loss=squared_hinge, clf__C=50, total=  35.2s\n",
      "[CV] vect__stop_words=english, vect__ngram_range=(1, 1), tfidf__use_idf=False, clf__penalty=l1, clf__loss=hinge, clf__C=0.1 \n"
     ]
    },
    {
     "name": "stderr",
     "output_type": "stream",
     "text": [
      "/home/harsh/anaconda3/lib/python3.7/site-packages/sklearn/model_selection/_validation.py:479: FitFailedWarning: Classifier fit failed. The score on this train-test partition for these parameters will be set to 0.000000. Details: \n",
      "ValueError(\"Unsupported set of arguments: The combination of penalty='l1' and loss='hinge' is not supported, Parameters: penalty='l1', loss='hinge', dual=True\")\n",
      "  \"Details: \\n%r\" % (error_score, e), FitFailedWarning)\n"
     ]
    },
    {
     "name": "stdout",
     "output_type": "stream",
     "text": [
      "[CV]  vect__stop_words=english, vect__ngram_range=(1, 1), tfidf__use_idf=False, clf__penalty=l1, clf__loss=hinge, clf__C=0.1, total=   1.9s\n",
      "[CV] vect__stop_words=english, vect__ngram_range=(1, 1), tfidf__use_idf=False, clf__penalty=l1, clf__loss=hinge, clf__C=0.1 \n"
     ]
    },
    {
     "name": "stderr",
     "output_type": "stream",
     "text": [
      "/home/harsh/anaconda3/lib/python3.7/site-packages/sklearn/model_selection/_validation.py:479: FitFailedWarning: Classifier fit failed. The score on this train-test partition for these parameters will be set to 0.000000. Details: \n",
      "ValueError(\"Unsupported set of arguments: The combination of penalty='l1' and loss='hinge' is not supported, Parameters: penalty='l1', loss='hinge', dual=True\")\n",
      "  \"Details: \\n%r\" % (error_score, e), FitFailedWarning)\n"
     ]
    },
    {
     "name": "stdout",
     "output_type": "stream",
     "text": [
      "[CV]  vect__stop_words=english, vect__ngram_range=(1, 1), tfidf__use_idf=False, clf__penalty=l1, clf__loss=hinge, clf__C=0.1, total=   2.0s\n",
      "[CV] vect__stop_words=english, vect__ngram_range=(1, 1), tfidf__use_idf=False, clf__penalty=l1, clf__loss=hinge, clf__C=0.1 \n"
     ]
    },
    {
     "name": "stderr",
     "output_type": "stream",
     "text": [
      "/home/harsh/anaconda3/lib/python3.7/site-packages/sklearn/model_selection/_validation.py:479: FitFailedWarning: Classifier fit failed. The score on this train-test partition for these parameters will be set to 0.000000. Details: \n",
      "ValueError(\"Unsupported set of arguments: The combination of penalty='l1' and loss='hinge' is not supported, Parameters: penalty='l1', loss='hinge', dual=True\")\n",
      "  \"Details: \\n%r\" % (error_score, e), FitFailedWarning)\n"
     ]
    },
    {
     "name": "stdout",
     "output_type": "stream",
     "text": [
      "[CV]  vect__stop_words=english, vect__ngram_range=(1, 1), tfidf__use_idf=False, clf__penalty=l1, clf__loss=hinge, clf__C=0.1, total=   2.0s\n",
      "[CV] vect__stop_words=english, vect__ngram_range=(1, 2), tfidf__use_idf=False, clf__penalty=l2, clf__loss=squared_hinge, clf__C=80 \n",
      "[CV]  vect__stop_words=english, vect__ngram_range=(1, 2), tfidf__use_idf=False, clf__penalty=l2, clf__loss=squared_hinge, clf__C=80, total=  30.4s\n",
      "[CV] vect__stop_words=english, vect__ngram_range=(1, 2), tfidf__use_idf=False, clf__penalty=l2, clf__loss=squared_hinge, clf__C=80 \n",
      "[CV]  vect__stop_words=english, vect__ngram_range=(1, 2), tfidf__use_idf=False, clf__penalty=l2, clf__loss=squared_hinge, clf__C=80, total=  30.0s\n",
      "[CV] vect__stop_words=english, vect__ngram_range=(1, 2), tfidf__use_idf=False, clf__penalty=l2, clf__loss=squared_hinge, clf__C=80 \n",
      "[CV]  vect__stop_words=english, vect__ngram_range=(1, 2), tfidf__use_idf=False, clf__penalty=l2, clf__loss=squared_hinge, clf__C=80, total=  30.2s\n",
      "[CV] vect__stop_words=None, vect__ngram_range=(1, 2), tfidf__use_idf=True, clf__penalty=l1, clf__loss=hinge, clf__C=60 \n"
     ]
    },
    {
     "name": "stderr",
     "output_type": "stream",
     "text": [
      "/home/harsh/anaconda3/lib/python3.7/site-packages/sklearn/model_selection/_validation.py:479: FitFailedWarning: Classifier fit failed. The score on this train-test partition for these parameters will be set to 0.000000. Details: \n",
      "ValueError(\"Unsupported set of arguments: The combination of penalty='l1' and loss='hinge' is not supported, Parameters: penalty='l1', loss='hinge', dual=True\")\n",
      "  \"Details: \\n%r\" % (error_score, e), FitFailedWarning)\n"
     ]
    },
    {
     "name": "stdout",
     "output_type": "stream",
     "text": [
      "[CV]  vect__stop_words=None, vect__ngram_range=(1, 2), tfidf__use_idf=True, clf__penalty=l1, clf__loss=hinge, clf__C=60, total=  11.2s\n",
      "[CV] vect__stop_words=None, vect__ngram_range=(1, 2), tfidf__use_idf=True, clf__penalty=l1, clf__loss=hinge, clf__C=60 \n"
     ]
    },
    {
     "name": "stderr",
     "output_type": "stream",
     "text": [
      "/home/harsh/anaconda3/lib/python3.7/site-packages/sklearn/model_selection/_validation.py:479: FitFailedWarning: Classifier fit failed. The score on this train-test partition for these parameters will be set to 0.000000. Details: \n",
      "ValueError(\"Unsupported set of arguments: The combination of penalty='l1' and loss='hinge' is not supported, Parameters: penalty='l1', loss='hinge', dual=True\")\n",
      "  \"Details: \\n%r\" % (error_score, e), FitFailedWarning)\n"
     ]
    },
    {
     "name": "stdout",
     "output_type": "stream",
     "text": [
      "[CV]  vect__stop_words=None, vect__ngram_range=(1, 2), tfidf__use_idf=True, clf__penalty=l1, clf__loss=hinge, clf__C=60, total=  11.6s\n",
      "[CV] vect__stop_words=None, vect__ngram_range=(1, 2), tfidf__use_idf=True, clf__penalty=l1, clf__loss=hinge, clf__C=60 \n"
     ]
    },
    {
     "name": "stderr",
     "output_type": "stream",
     "text": [
      "/home/harsh/anaconda3/lib/python3.7/site-packages/sklearn/model_selection/_validation.py:479: FitFailedWarning: Classifier fit failed. The score on this train-test partition for these parameters will be set to 0.000000. Details: \n",
      "ValueError(\"Unsupported set of arguments: The combination of penalty='l1' and loss='hinge' is not supported, Parameters: penalty='l1', loss='hinge', dual=True\")\n",
      "  \"Details: \\n%r\" % (error_score, e), FitFailedWarning)\n"
     ]
    },
    {
     "name": "stdout",
     "output_type": "stream",
     "text": [
      "[CV]  vect__stop_words=None, vect__ngram_range=(1, 2), tfidf__use_idf=True, clf__penalty=l1, clf__loss=hinge, clf__C=60, total=  11.4s\n",
      "[CV] vect__stop_words=english, vect__ngram_range=(1, 1), tfidf__use_idf=True, clf__penalty=l2, clf__loss=squared_hinge, clf__C=1.0 \n",
      "[CV]  vect__stop_words=english, vect__ngram_range=(1, 1), tfidf__use_idf=True, clf__penalty=l2, clf__loss=squared_hinge, clf__C=1.0, total=   3.2s\n",
      "[CV] vect__stop_words=english, vect__ngram_range=(1, 1), tfidf__use_idf=True, clf__penalty=l2, clf__loss=squared_hinge, clf__C=1.0 \n",
      "[CV]  vect__stop_words=english, vect__ngram_range=(1, 1), tfidf__use_idf=True, clf__penalty=l2, clf__loss=squared_hinge, clf__C=1.0, total=   3.3s\n",
      "[CV] vect__stop_words=english, vect__ngram_range=(1, 1), tfidf__use_idf=True, clf__penalty=l2, clf__loss=squared_hinge, clf__C=1.0 \n",
      "[CV]  vect__stop_words=english, vect__ngram_range=(1, 1), tfidf__use_idf=True, clf__penalty=l2, clf__loss=squared_hinge, clf__C=1.0, total=   3.3s\n",
      "[CV] vect__stop_words=english, vect__ngram_range=(1, 2), tfidf__use_idf=False, clf__penalty=l2, clf__loss=squared_hinge, clf__C=0.05 \n",
      "[CV]  vect__stop_words=english, vect__ngram_range=(1, 2), tfidf__use_idf=False, clf__penalty=l2, clf__loss=squared_hinge, clf__C=0.05, total=  10.7s\n",
      "[CV] vect__stop_words=english, vect__ngram_range=(1, 2), tfidf__use_idf=False, clf__penalty=l2, clf__loss=squared_hinge, clf__C=0.05 \n",
      "[CV]  vect__stop_words=english, vect__ngram_range=(1, 2), tfidf__use_idf=False, clf__penalty=l2, clf__loss=squared_hinge, clf__C=0.05, total=  11.1s\n",
      "[CV] vect__stop_words=english, vect__ngram_range=(1, 2), tfidf__use_idf=False, clf__penalty=l2, clf__loss=squared_hinge, clf__C=0.05 \n",
      "[CV]  vect__stop_words=english, vect__ngram_range=(1, 2), tfidf__use_idf=False, clf__penalty=l2, clf__loss=squared_hinge, clf__C=0.05, total=  10.7s\n",
      "[CV] vect__stop_words=None, vect__ngram_range=(1, 1), tfidf__use_idf=True, clf__penalty=l1, clf__loss=squared_hinge, clf__C=100 \n"
     ]
    },
    {
     "name": "stderr",
     "output_type": "stream",
     "text": [
      "/home/harsh/anaconda3/lib/python3.7/site-packages/sklearn/model_selection/_validation.py:479: FitFailedWarning: Classifier fit failed. The score on this train-test partition for these parameters will be set to 0.000000. Details: \n",
      "ValueError(\"Unsupported set of arguments: The combination of penalty='l1' and loss='squared_hinge' are not supported when dual=True, Parameters: penalty='l1', loss='squared_hinge', dual=True\")\n",
      "  \"Details: \\n%r\" % (error_score, e), FitFailedWarning)\n"
     ]
    },
    {
     "name": "stdout",
     "output_type": "stream",
     "text": [
      "[CV]  vect__stop_words=None, vect__ngram_range=(1, 1), tfidf__use_idf=True, clf__penalty=l1, clf__loss=squared_hinge, clf__C=100, total=   2.3s\n",
      "[CV] vect__stop_words=None, vect__ngram_range=(1, 1), tfidf__use_idf=True, clf__penalty=l1, clf__loss=squared_hinge, clf__C=100 \n"
     ]
    },
    {
     "name": "stderr",
     "output_type": "stream",
     "text": [
      "/home/harsh/anaconda3/lib/python3.7/site-packages/sklearn/model_selection/_validation.py:479: FitFailedWarning: Classifier fit failed. The score on this train-test partition for these parameters will be set to 0.000000. Details: \n",
      "ValueError(\"Unsupported set of arguments: The combination of penalty='l1' and loss='squared_hinge' are not supported when dual=True, Parameters: penalty='l1', loss='squared_hinge', dual=True\")\n",
      "  \"Details: \\n%r\" % (error_score, e), FitFailedWarning)\n"
     ]
    },
    {
     "name": "stdout",
     "output_type": "stream",
     "text": [
      "[CV]  vect__stop_words=None, vect__ngram_range=(1, 1), tfidf__use_idf=True, clf__penalty=l1, clf__loss=squared_hinge, clf__C=100, total=   2.4s\n",
      "[CV] vect__stop_words=None, vect__ngram_range=(1, 1), tfidf__use_idf=True, clf__penalty=l1, clf__loss=squared_hinge, clf__C=100 \n"
     ]
    },
    {
     "name": "stderr",
     "output_type": "stream",
     "text": [
      "/home/harsh/anaconda3/lib/python3.7/site-packages/sklearn/model_selection/_validation.py:479: FitFailedWarning: Classifier fit failed. The score on this train-test partition for these parameters will be set to 0.000000. Details: \n",
      "ValueError(\"Unsupported set of arguments: The combination of penalty='l1' and loss='squared_hinge' are not supported when dual=True, Parameters: penalty='l1', loss='squared_hinge', dual=True\")\n",
      "  \"Details: \\n%r\" % (error_score, e), FitFailedWarning)\n"
     ]
    },
    {
     "name": "stdout",
     "output_type": "stream",
     "text": [
      "[CV]  vect__stop_words=None, vect__ngram_range=(1, 1), tfidf__use_idf=True, clf__penalty=l1, clf__loss=squared_hinge, clf__C=100, total=   2.4s\n",
      "[CV] vect__stop_words=None, vect__ngram_range=(1, 2), tfidf__use_idf=False, clf__penalty=l2, clf__loss=hinge, clf__C=30 \n",
      "[CV]  vect__stop_words=None, vect__ngram_range=(1, 2), tfidf__use_idf=False, clf__penalty=l2, clf__loss=hinge, clf__C=30, total=  25.0s\n",
      "[CV] vect__stop_words=None, vect__ngram_range=(1, 2), tfidf__use_idf=False, clf__penalty=l2, clf__loss=hinge, clf__C=30 \n",
      "[CV]  vect__stop_words=None, vect__ngram_range=(1, 2), tfidf__use_idf=False, clf__penalty=l2, clf__loss=hinge, clf__C=30, total=  19.8s\n",
      "[CV] vect__stop_words=None, vect__ngram_range=(1, 2), tfidf__use_idf=False, clf__penalty=l2, clf__loss=hinge, clf__C=30 \n",
      "[CV]  vect__stop_words=None, vect__ngram_range=(1, 2), tfidf__use_idf=False, clf__penalty=l2, clf__loss=hinge, clf__C=30, total=  32.1s\n",
      "[CV] vect__stop_words=english, vect__ngram_range=(1, 2), tfidf__use_idf=False, clf__penalty=l2, clf__loss=squared_hinge, clf__C=30 \n",
      "[CV]  vect__stop_words=english, vect__ngram_range=(1, 2), tfidf__use_idf=False, clf__penalty=l2, clf__loss=squared_hinge, clf__C=30, total=  19.5s\n",
      "[CV] vect__stop_words=english, vect__ngram_range=(1, 2), tfidf__use_idf=False, clf__penalty=l2, clf__loss=squared_hinge, clf__C=30 \n",
      "[CV]  vect__stop_words=english, vect__ngram_range=(1, 2), tfidf__use_idf=False, clf__penalty=l2, clf__loss=squared_hinge, clf__C=30, total=  21.4s\n",
      "[CV] vect__stop_words=english, vect__ngram_range=(1, 2), tfidf__use_idf=False, clf__penalty=l2, clf__loss=squared_hinge, clf__C=30 \n",
      "[CV]  vect__stop_words=english, vect__ngram_range=(1, 2), tfidf__use_idf=False, clf__penalty=l2, clf__loss=squared_hinge, clf__C=30, total=  19.4s\n",
      "[CV] vect__stop_words=None, vect__ngram_range=(1, 2), tfidf__use_idf=True, clf__penalty=l1, clf__loss=hinge, clf__C=50 \n"
     ]
    },
    {
     "name": "stderr",
     "output_type": "stream",
     "text": [
      "/home/harsh/anaconda3/lib/python3.7/site-packages/sklearn/model_selection/_validation.py:479: FitFailedWarning: Classifier fit failed. The score on this train-test partition for these parameters will be set to 0.000000. Details: \n",
      "ValueError(\"Unsupported set of arguments: The combination of penalty='l1' and loss='hinge' is not supported, Parameters: penalty='l1', loss='hinge', dual=True\")\n",
      "  \"Details: \\n%r\" % (error_score, e), FitFailedWarning)\n"
     ]
    },
    {
     "name": "stdout",
     "output_type": "stream",
     "text": [
      "[CV]  vect__stop_words=None, vect__ngram_range=(1, 2), tfidf__use_idf=True, clf__penalty=l1, clf__loss=hinge, clf__C=50, total=  11.3s\n",
      "[CV] vect__stop_words=None, vect__ngram_range=(1, 2), tfidf__use_idf=True, clf__penalty=l1, clf__loss=hinge, clf__C=50 \n"
     ]
    },
    {
     "name": "stderr",
     "output_type": "stream",
     "text": [
      "/home/harsh/anaconda3/lib/python3.7/site-packages/sklearn/model_selection/_validation.py:479: FitFailedWarning: Classifier fit failed. The score on this train-test partition for these parameters will be set to 0.000000. Details: \n",
      "ValueError(\"Unsupported set of arguments: The combination of penalty='l1' and loss='hinge' is not supported, Parameters: penalty='l1', loss='hinge', dual=True\")\n",
      "  \"Details: \\n%r\" % (error_score, e), FitFailedWarning)\n"
     ]
    },
    {
     "name": "stdout",
     "output_type": "stream",
     "text": [
      "[CV]  vect__stop_words=None, vect__ngram_range=(1, 2), tfidf__use_idf=True, clf__penalty=l1, clf__loss=hinge, clf__C=50, total=  11.4s\n",
      "[CV] vect__stop_words=None, vect__ngram_range=(1, 2), tfidf__use_idf=True, clf__penalty=l1, clf__loss=hinge, clf__C=50 \n"
     ]
    },
    {
     "name": "stderr",
     "output_type": "stream",
     "text": [
      "/home/harsh/anaconda3/lib/python3.7/site-packages/sklearn/model_selection/_validation.py:479: FitFailedWarning: Classifier fit failed. The score on this train-test partition for these parameters will be set to 0.000000. Details: \n",
      "ValueError(\"Unsupported set of arguments: The combination of penalty='l1' and loss='hinge' is not supported, Parameters: penalty='l1', loss='hinge', dual=True\")\n",
      "  \"Details: \\n%r\" % (error_score, e), FitFailedWarning)\n"
     ]
    },
    {
     "name": "stdout",
     "output_type": "stream",
     "text": [
      "[CV]  vect__stop_words=None, vect__ngram_range=(1, 2), tfidf__use_idf=True, clf__penalty=l1, clf__loss=hinge, clf__C=50, total=  11.2s\n",
      "[CV] vect__stop_words=english, vect__ngram_range=(1, 1), tfidf__use_idf=True, clf__penalty=l1, clf__loss=squared_hinge, clf__C=100 \n"
     ]
    },
    {
     "name": "stderr",
     "output_type": "stream",
     "text": [
      "/home/harsh/anaconda3/lib/python3.7/site-packages/sklearn/model_selection/_validation.py:479: FitFailedWarning: Classifier fit failed. The score on this train-test partition for these parameters will be set to 0.000000. Details: \n",
      "ValueError(\"Unsupported set of arguments: The combination of penalty='l1' and loss='squared_hinge' are not supported when dual=True, Parameters: penalty='l1', loss='squared_hinge', dual=True\")\n",
      "  \"Details: \\n%r\" % (error_score, e), FitFailedWarning)\n"
     ]
    },
    {
     "name": "stdout",
     "output_type": "stream",
     "text": [
      "[CV]  vect__stop_words=english, vect__ngram_range=(1, 1), tfidf__use_idf=True, clf__penalty=l1, clf__loss=squared_hinge, clf__C=100, total=   2.0s\n",
      "[CV] vect__stop_words=english, vect__ngram_range=(1, 1), tfidf__use_idf=True, clf__penalty=l1, clf__loss=squared_hinge, clf__C=100 \n"
     ]
    },
    {
     "name": "stderr",
     "output_type": "stream",
     "text": [
      "/home/harsh/anaconda3/lib/python3.7/site-packages/sklearn/model_selection/_validation.py:479: FitFailedWarning: Classifier fit failed. The score on this train-test partition for these parameters will be set to 0.000000. Details: \n",
      "ValueError(\"Unsupported set of arguments: The combination of penalty='l1' and loss='squared_hinge' are not supported when dual=True, Parameters: penalty='l1', loss='squared_hinge', dual=True\")\n",
      "  \"Details: \\n%r\" % (error_score, e), FitFailedWarning)\n"
     ]
    },
    {
     "name": "stdout",
     "output_type": "stream",
     "text": [
      "[CV]  vect__stop_words=english, vect__ngram_range=(1, 1), tfidf__use_idf=True, clf__penalty=l1, clf__loss=squared_hinge, clf__C=100, total=   2.0s\n",
      "[CV] vect__stop_words=english, vect__ngram_range=(1, 1), tfidf__use_idf=True, clf__penalty=l1, clf__loss=squared_hinge, clf__C=100 \n"
     ]
    },
    {
     "name": "stderr",
     "output_type": "stream",
     "text": [
      "/home/harsh/anaconda3/lib/python3.7/site-packages/sklearn/model_selection/_validation.py:479: FitFailedWarning: Classifier fit failed. The score on this train-test partition for these parameters will be set to 0.000000. Details: \n",
      "ValueError(\"Unsupported set of arguments: The combination of penalty='l1' and loss='squared_hinge' are not supported when dual=True, Parameters: penalty='l1', loss='squared_hinge', dual=True\")\n",
      "  \"Details: \\n%r\" % (error_score, e), FitFailedWarning)\n"
     ]
    },
    {
     "name": "stdout",
     "output_type": "stream",
     "text": [
      "[CV]  vect__stop_words=english, vect__ngram_range=(1, 1), tfidf__use_idf=True, clf__penalty=l1, clf__loss=squared_hinge, clf__C=100, total=   2.0s\n",
      "[CV] vect__stop_words=english, vect__ngram_range=(1, 1), tfidf__use_idf=True, clf__penalty=l1, clf__loss=squared_hinge, clf__C=0.05 \n"
     ]
    },
    {
     "name": "stderr",
     "output_type": "stream",
     "text": [
      "/home/harsh/anaconda3/lib/python3.7/site-packages/sklearn/model_selection/_validation.py:479: FitFailedWarning: Classifier fit failed. The score on this train-test partition for these parameters will be set to 0.000000. Details: \n",
      "ValueError(\"Unsupported set of arguments: The combination of penalty='l1' and loss='squared_hinge' are not supported when dual=True, Parameters: penalty='l1', loss='squared_hinge', dual=True\")\n",
      "  \"Details: \\n%r\" % (error_score, e), FitFailedWarning)\n"
     ]
    },
    {
     "name": "stdout",
     "output_type": "stream",
     "text": [
      "[CV]  vect__stop_words=english, vect__ngram_range=(1, 1), tfidf__use_idf=True, clf__penalty=l1, clf__loss=squared_hinge, clf__C=0.05, total=   2.0s\n",
      "[CV] vect__stop_words=english, vect__ngram_range=(1, 1), tfidf__use_idf=True, clf__penalty=l1, clf__loss=squared_hinge, clf__C=0.05 \n"
     ]
    },
    {
     "name": "stderr",
     "output_type": "stream",
     "text": [
      "/home/harsh/anaconda3/lib/python3.7/site-packages/sklearn/model_selection/_validation.py:479: FitFailedWarning: Classifier fit failed. The score on this train-test partition for these parameters will be set to 0.000000. Details: \n",
      "ValueError(\"Unsupported set of arguments: The combination of penalty='l1' and loss='squared_hinge' are not supported when dual=True, Parameters: penalty='l1', loss='squared_hinge', dual=True\")\n",
      "  \"Details: \\n%r\" % (error_score, e), FitFailedWarning)\n"
     ]
    },
    {
     "name": "stdout",
     "output_type": "stream",
     "text": [
      "[CV]  vect__stop_words=english, vect__ngram_range=(1, 1), tfidf__use_idf=True, clf__penalty=l1, clf__loss=squared_hinge, clf__C=0.05, total=   2.0s\n",
      "[CV] vect__stop_words=english, vect__ngram_range=(1, 1), tfidf__use_idf=True, clf__penalty=l1, clf__loss=squared_hinge, clf__C=0.05 \n"
     ]
    },
    {
     "name": "stderr",
     "output_type": "stream",
     "text": [
      "/home/harsh/anaconda3/lib/python3.7/site-packages/sklearn/model_selection/_validation.py:479: FitFailedWarning: Classifier fit failed. The score on this train-test partition for these parameters will be set to 0.000000. Details: \n",
      "ValueError(\"Unsupported set of arguments: The combination of penalty='l1' and loss='squared_hinge' are not supported when dual=True, Parameters: penalty='l1', loss='squared_hinge', dual=True\")\n",
      "  \"Details: \\n%r\" % (error_score, e), FitFailedWarning)\n"
     ]
    },
    {
     "name": "stdout",
     "output_type": "stream",
     "text": [
      "[CV]  vect__stop_words=english, vect__ngram_range=(1, 1), tfidf__use_idf=True, clf__penalty=l1, clf__loss=squared_hinge, clf__C=0.05, total=   2.0s\n",
      "[CV] vect__stop_words=english, vect__ngram_range=(1, 1), tfidf__use_idf=False, clf__penalty=l2, clf__loss=hinge, clf__C=10 \n",
      "[CV]  vect__stop_words=english, vect__ngram_range=(1, 1), tfidf__use_idf=False, clf__penalty=l2, clf__loss=hinge, clf__C=10, total=   4.2s\n",
      "[CV] vect__stop_words=english, vect__ngram_range=(1, 1), tfidf__use_idf=False, clf__penalty=l2, clf__loss=hinge, clf__C=10 \n",
      "[CV]  vect__stop_words=english, vect__ngram_range=(1, 1), tfidf__use_idf=False, clf__penalty=l2, clf__loss=hinge, clf__C=10, total=   4.7s\n",
      "[CV] vect__stop_words=english, vect__ngram_range=(1, 1), tfidf__use_idf=False, clf__penalty=l2, clf__loss=hinge, clf__C=10 \n",
      "[CV]  vect__stop_words=english, vect__ngram_range=(1, 1), tfidf__use_idf=False, clf__penalty=l2, clf__loss=hinge, clf__C=10, total=   4.6s\n",
      "[CV] vect__stop_words=english, vect__ngram_range=(1, 1), tfidf__use_idf=False, clf__penalty=l1, clf__loss=squared_hinge, clf__C=0.05 \n"
     ]
    },
    {
     "name": "stderr",
     "output_type": "stream",
     "text": [
      "/home/harsh/anaconda3/lib/python3.7/site-packages/sklearn/model_selection/_validation.py:479: FitFailedWarning: Classifier fit failed. The score on this train-test partition for these parameters will be set to 0.000000. Details: \n",
      "ValueError(\"Unsupported set of arguments: The combination of penalty='l1' and loss='squared_hinge' are not supported when dual=True, Parameters: penalty='l1', loss='squared_hinge', dual=True\")\n",
      "  \"Details: \\n%r\" % (error_score, e), FitFailedWarning)\n"
     ]
    },
    {
     "name": "stdout",
     "output_type": "stream",
     "text": [
      "[CV]  vect__stop_words=english, vect__ngram_range=(1, 1), tfidf__use_idf=False, clf__penalty=l1, clf__loss=squared_hinge, clf__C=0.05, total=   2.0s\n",
      "[CV] vect__stop_words=english, vect__ngram_range=(1, 1), tfidf__use_idf=False, clf__penalty=l1, clf__loss=squared_hinge, clf__C=0.05 \n"
     ]
    },
    {
     "name": "stderr",
     "output_type": "stream",
     "text": [
      "/home/harsh/anaconda3/lib/python3.7/site-packages/sklearn/model_selection/_validation.py:479: FitFailedWarning: Classifier fit failed. The score on this train-test partition for these parameters will be set to 0.000000. Details: \n",
      "ValueError(\"Unsupported set of arguments: The combination of penalty='l1' and loss='squared_hinge' are not supported when dual=True, Parameters: penalty='l1', loss='squared_hinge', dual=True\")\n",
      "  \"Details: \\n%r\" % (error_score, e), FitFailedWarning)\n"
     ]
    },
    {
     "name": "stdout",
     "output_type": "stream",
     "text": [
      "[CV]  vect__stop_words=english, vect__ngram_range=(1, 1), tfidf__use_idf=False, clf__penalty=l1, clf__loss=squared_hinge, clf__C=0.05, total=   2.0s\n",
      "[CV] vect__stop_words=english, vect__ngram_range=(1, 1), tfidf__use_idf=False, clf__penalty=l1, clf__loss=squared_hinge, clf__C=0.05 \n"
     ]
    },
    {
     "name": "stderr",
     "output_type": "stream",
     "text": [
      "/home/harsh/anaconda3/lib/python3.7/site-packages/sklearn/model_selection/_validation.py:479: FitFailedWarning: Classifier fit failed. The score on this train-test partition for these parameters will be set to 0.000000. Details: \n",
      "ValueError(\"Unsupported set of arguments: The combination of penalty='l1' and loss='squared_hinge' are not supported when dual=True, Parameters: penalty='l1', loss='squared_hinge', dual=True\")\n",
      "  \"Details: \\n%r\" % (error_score, e), FitFailedWarning)\n"
     ]
    },
    {
     "name": "stdout",
     "output_type": "stream",
     "text": [
      "[CV]  vect__stop_words=english, vect__ngram_range=(1, 1), tfidf__use_idf=False, clf__penalty=l1, clf__loss=squared_hinge, clf__C=0.05, total=   2.0s\n",
      "[CV] vect__stop_words=english, vect__ngram_range=(1, 2), tfidf__use_idf=True, clf__penalty=l1, clf__loss=squared_hinge, clf__C=10 \n"
     ]
    },
    {
     "name": "stderr",
     "output_type": "stream",
     "text": [
      "/home/harsh/anaconda3/lib/python3.7/site-packages/sklearn/model_selection/_validation.py:479: FitFailedWarning: Classifier fit failed. The score on this train-test partition for these parameters will be set to 0.000000. Details: \n",
      "ValueError(\"Unsupported set of arguments: The combination of penalty='l1' and loss='squared_hinge' are not supported when dual=True, Parameters: penalty='l1', loss='squared_hinge', dual=True\")\n",
      "  \"Details: \\n%r\" % (error_score, e), FitFailedWarning)\n"
     ]
    },
    {
     "name": "stdout",
     "output_type": "stream",
     "text": [
      "[CV]  vect__stop_words=english, vect__ngram_range=(1, 2), tfidf__use_idf=True, clf__penalty=l1, clf__loss=squared_hinge, clf__C=10, total=   9.1s\n",
      "[CV] vect__stop_words=english, vect__ngram_range=(1, 2), tfidf__use_idf=True, clf__penalty=l1, clf__loss=squared_hinge, clf__C=10 \n"
     ]
    },
    {
     "name": "stderr",
     "output_type": "stream",
     "text": [
      "/home/harsh/anaconda3/lib/python3.7/site-packages/sklearn/model_selection/_validation.py:479: FitFailedWarning: Classifier fit failed. The score on this train-test partition for these parameters will be set to 0.000000. Details: \n",
      "ValueError(\"Unsupported set of arguments: The combination of penalty='l1' and loss='squared_hinge' are not supported when dual=True, Parameters: penalty='l1', loss='squared_hinge', dual=True\")\n",
      "  \"Details: \\n%r\" % (error_score, e), FitFailedWarning)\n"
     ]
    },
    {
     "name": "stdout",
     "output_type": "stream",
     "text": [
      "[CV]  vect__stop_words=english, vect__ngram_range=(1, 2), tfidf__use_idf=True, clf__penalty=l1, clf__loss=squared_hinge, clf__C=10, total=   9.0s\n",
      "[CV] vect__stop_words=english, vect__ngram_range=(1, 2), tfidf__use_idf=True, clf__penalty=l1, clf__loss=squared_hinge, clf__C=10 \n"
     ]
    },
    {
     "name": "stderr",
     "output_type": "stream",
     "text": [
      "/home/harsh/anaconda3/lib/python3.7/site-packages/sklearn/model_selection/_validation.py:479: FitFailedWarning: Classifier fit failed. The score on this train-test partition for these parameters will be set to 0.000000. Details: \n",
      "ValueError(\"Unsupported set of arguments: The combination of penalty='l1' and loss='squared_hinge' are not supported when dual=True, Parameters: penalty='l1', loss='squared_hinge', dual=True\")\n",
      "  \"Details: \\n%r\" % (error_score, e), FitFailedWarning)\n"
     ]
    },
    {
     "name": "stdout",
     "output_type": "stream",
     "text": [
      "[CV]  vect__stop_words=english, vect__ngram_range=(1, 2), tfidf__use_idf=True, clf__penalty=l1, clf__loss=squared_hinge, clf__C=10, total=   9.0s\n",
      "[CV] vect__stop_words=None, vect__ngram_range=(1, 2), tfidf__use_idf=False, clf__penalty=l2, clf__loss=hinge, clf__C=0.1 \n",
      "[CV]  vect__stop_words=None, vect__ngram_range=(1, 2), tfidf__use_idf=False, clf__penalty=l2, clf__loss=hinge, clf__C=0.1, total=  12.9s\n",
      "[CV] vect__stop_words=None, vect__ngram_range=(1, 2), tfidf__use_idf=False, clf__penalty=l2, clf__loss=hinge, clf__C=0.1 \n",
      "[CV]  vect__stop_words=None, vect__ngram_range=(1, 2), tfidf__use_idf=False, clf__penalty=l2, clf__loss=hinge, clf__C=0.1, total=  12.9s\n",
      "[CV] vect__stop_words=None, vect__ngram_range=(1, 2), tfidf__use_idf=False, clf__penalty=l2, clf__loss=hinge, clf__C=0.1 \n",
      "[CV]  vect__stop_words=None, vect__ngram_range=(1, 2), tfidf__use_idf=False, clf__penalty=l2, clf__loss=hinge, clf__C=0.1, total=  11.9s\n",
      "[CV] vect__stop_words=None, vect__ngram_range=(1, 1), tfidf__use_idf=True, clf__penalty=l2, clf__loss=squared_hinge, clf__C=70 \n",
      "[CV]  vect__stop_words=None, vect__ngram_range=(1, 1), tfidf__use_idf=True, clf__penalty=l2, clf__loss=squared_hinge, clf__C=70, total=   8.0s\n",
      "[CV] vect__stop_words=None, vect__ngram_range=(1, 1), tfidf__use_idf=True, clf__penalty=l2, clf__loss=squared_hinge, clf__C=70 \n",
      "[CV]  vect__stop_words=None, vect__ngram_range=(1, 1), tfidf__use_idf=True, clf__penalty=l2, clf__loss=squared_hinge, clf__C=70, total=   8.3s\n",
      "[CV] vect__stop_words=None, vect__ngram_range=(1, 1), tfidf__use_idf=True, clf__penalty=l2, clf__loss=squared_hinge, clf__C=70 \n",
      "[CV]  vect__stop_words=None, vect__ngram_range=(1, 1), tfidf__use_idf=True, clf__penalty=l2, clf__loss=squared_hinge, clf__C=70, total=   8.0s\n",
      "[CV] vect__stop_words=english, vect__ngram_range=(1, 2), tfidf__use_idf=False, clf__penalty=l2, clf__loss=hinge, clf__C=0.01 \n",
      "[CV]  vect__stop_words=english, vect__ngram_range=(1, 2), tfidf__use_idf=False, clf__penalty=l2, clf__loss=hinge, clf__C=0.01, total=   9.5s\n",
      "[CV] vect__stop_words=english, vect__ngram_range=(1, 2), tfidf__use_idf=False, clf__penalty=l2, clf__loss=hinge, clf__C=0.01 \n",
      "[CV]  vect__stop_words=english, vect__ngram_range=(1, 2), tfidf__use_idf=False, clf__penalty=l2, clf__loss=hinge, clf__C=0.01, total=  10.0s\n",
      "[CV] vect__stop_words=english, vect__ngram_range=(1, 2), tfidf__use_idf=False, clf__penalty=l2, clf__loss=hinge, clf__C=0.01 \n",
      "[CV]  vect__stop_words=english, vect__ngram_range=(1, 2), tfidf__use_idf=False, clf__penalty=l2, clf__loss=hinge, clf__C=0.01, total=   9.8s\n",
      "[CV] vect__stop_words=english, vect__ngram_range=(1, 2), tfidf__use_idf=True, clf__penalty=l1, clf__loss=squared_hinge, clf__C=0.1 \n"
     ]
    },
    {
     "name": "stderr",
     "output_type": "stream",
     "text": [
      "/home/harsh/anaconda3/lib/python3.7/site-packages/sklearn/model_selection/_validation.py:479: FitFailedWarning: Classifier fit failed. The score on this train-test partition for these parameters will be set to 0.000000. Details: \n",
      "ValueError(\"Unsupported set of arguments: The combination of penalty='l1' and loss='squared_hinge' are not supported when dual=True, Parameters: penalty='l1', loss='squared_hinge', dual=True\")\n",
      "  \"Details: \\n%r\" % (error_score, e), FitFailedWarning)\n"
     ]
    },
    {
     "name": "stdout",
     "output_type": "stream",
     "text": [
      "[CV]  vect__stop_words=english, vect__ngram_range=(1, 2), tfidf__use_idf=True, clf__penalty=l1, clf__loss=squared_hinge, clf__C=0.1, total=   8.3s\n",
      "[CV] vect__stop_words=english, vect__ngram_range=(1, 2), tfidf__use_idf=True, clf__penalty=l1, clf__loss=squared_hinge, clf__C=0.1 \n"
     ]
    },
    {
     "name": "stderr",
     "output_type": "stream",
     "text": [
      "/home/harsh/anaconda3/lib/python3.7/site-packages/sklearn/model_selection/_validation.py:479: FitFailedWarning: Classifier fit failed. The score on this train-test partition for these parameters will be set to 0.000000. Details: \n",
      "ValueError(\"Unsupported set of arguments: The combination of penalty='l1' and loss='squared_hinge' are not supported when dual=True, Parameters: penalty='l1', loss='squared_hinge', dual=True\")\n",
      "  \"Details: \\n%r\" % (error_score, e), FitFailedWarning)\n"
     ]
    },
    {
     "name": "stdout",
     "output_type": "stream",
     "text": [
      "[CV]  vect__stop_words=english, vect__ngram_range=(1, 2), tfidf__use_idf=True, clf__penalty=l1, clf__loss=squared_hinge, clf__C=0.1, total=   8.4s\n",
      "[CV] vect__stop_words=english, vect__ngram_range=(1, 2), tfidf__use_idf=True, clf__penalty=l1, clf__loss=squared_hinge, clf__C=0.1 \n"
     ]
    },
    {
     "name": "stderr",
     "output_type": "stream",
     "text": [
      "/home/harsh/anaconda3/lib/python3.7/site-packages/sklearn/model_selection/_validation.py:479: FitFailedWarning: Classifier fit failed. The score on this train-test partition for these parameters will be set to 0.000000. Details: \n",
      "ValueError(\"Unsupported set of arguments: The combination of penalty='l1' and loss='squared_hinge' are not supported when dual=True, Parameters: penalty='l1', loss='squared_hinge', dual=True\")\n",
      "  \"Details: \\n%r\" % (error_score, e), FitFailedWarning)\n"
     ]
    },
    {
     "name": "stdout",
     "output_type": "stream",
     "text": [
      "[CV]  vect__stop_words=english, vect__ngram_range=(1, 2), tfidf__use_idf=True, clf__penalty=l1, clf__loss=squared_hinge, clf__C=0.1, total=   8.2s\n",
      "[CV] vect__stop_words=None, vect__ngram_range=(1, 1), tfidf__use_idf=False, clf__penalty=l2, clf__loss=squared_hinge, clf__C=80 \n",
      "[CV]  vect__stop_words=None, vect__ngram_range=(1, 1), tfidf__use_idf=False, clf__penalty=l2, clf__loss=squared_hinge, clf__C=80, total=  10.6s\n",
      "[CV] vect__stop_words=None, vect__ngram_range=(1, 1), tfidf__use_idf=False, clf__penalty=l2, clf__loss=squared_hinge, clf__C=80 \n",
      "[CV]  vect__stop_words=None, vect__ngram_range=(1, 1), tfidf__use_idf=False, clf__penalty=l2, clf__loss=squared_hinge, clf__C=80, total=  10.4s\n",
      "[CV] vect__stop_words=None, vect__ngram_range=(1, 1), tfidf__use_idf=False, clf__penalty=l2, clf__loss=squared_hinge, clf__C=80 \n",
      "[CV]  vect__stop_words=None, vect__ngram_range=(1, 1), tfidf__use_idf=False, clf__penalty=l2, clf__loss=squared_hinge, clf__C=80, total=  10.7s\n",
      "[CV] vect__stop_words=english, vect__ngram_range=(1, 2), tfidf__use_idf=False, clf__penalty=l1, clf__loss=hinge, clf__C=30 \n"
     ]
    },
    {
     "name": "stderr",
     "output_type": "stream",
     "text": [
      "/home/harsh/anaconda3/lib/python3.7/site-packages/sklearn/model_selection/_validation.py:479: FitFailedWarning: Classifier fit failed. The score on this train-test partition for these parameters will be set to 0.000000. Details: \n",
      "ValueError(\"Unsupported set of arguments: The combination of penalty='l1' and loss='hinge' is not supported, Parameters: penalty='l1', loss='hinge', dual=True\")\n",
      "  \"Details: \\n%r\" % (error_score, e), FitFailedWarning)\n"
     ]
    },
    {
     "name": "stdout",
     "output_type": "stream",
     "text": [
      "[CV]  vect__stop_words=english, vect__ngram_range=(1, 2), tfidf__use_idf=False, clf__penalty=l1, clf__loss=hinge, clf__C=30, total=   8.0s\n",
      "[CV] vect__stop_words=english, vect__ngram_range=(1, 2), tfidf__use_idf=False, clf__penalty=l1, clf__loss=hinge, clf__C=30 \n"
     ]
    },
    {
     "name": "stderr",
     "output_type": "stream",
     "text": [
      "/home/harsh/anaconda3/lib/python3.7/site-packages/sklearn/model_selection/_validation.py:479: FitFailedWarning: Classifier fit failed. The score on this train-test partition for these parameters will be set to 0.000000. Details: \n",
      "ValueError(\"Unsupported set of arguments: The combination of penalty='l1' and loss='hinge' is not supported, Parameters: penalty='l1', loss='hinge', dual=True\")\n",
      "  \"Details: \\n%r\" % (error_score, e), FitFailedWarning)\n"
     ]
    },
    {
     "name": "stdout",
     "output_type": "stream",
     "text": [
      "[CV]  vect__stop_words=english, vect__ngram_range=(1, 2), tfidf__use_idf=False, clf__penalty=l1, clf__loss=hinge, clf__C=30, total=   8.7s\n",
      "[CV] vect__stop_words=english, vect__ngram_range=(1, 2), tfidf__use_idf=False, clf__penalty=l1, clf__loss=hinge, clf__C=30 \n"
     ]
    },
    {
     "name": "stderr",
     "output_type": "stream",
     "text": [
      "/home/harsh/anaconda3/lib/python3.7/site-packages/sklearn/model_selection/_validation.py:479: FitFailedWarning: Classifier fit failed. The score on this train-test partition for these parameters will be set to 0.000000. Details: \n",
      "ValueError(\"Unsupported set of arguments: The combination of penalty='l1' and loss='hinge' is not supported, Parameters: penalty='l1', loss='hinge', dual=True\")\n",
      "  \"Details: \\n%r\" % (error_score, e), FitFailedWarning)\n"
     ]
    },
    {
     "name": "stdout",
     "output_type": "stream",
     "text": [
      "[CV]  vect__stop_words=english, vect__ngram_range=(1, 2), tfidf__use_idf=False, clf__penalty=l1, clf__loss=hinge, clf__C=30, total=   7.7s\n",
      "[CV] vect__stop_words=None, vect__ngram_range=(1, 1), tfidf__use_idf=True, clf__penalty=l1, clf__loss=squared_hinge, clf__C=40 \n"
     ]
    },
    {
     "name": "stderr",
     "output_type": "stream",
     "text": [
      "/home/harsh/anaconda3/lib/python3.7/site-packages/sklearn/model_selection/_validation.py:479: FitFailedWarning: Classifier fit failed. The score on this train-test partition for these parameters will be set to 0.000000. Details: \n",
      "ValueError(\"Unsupported set of arguments: The combination of penalty='l1' and loss='squared_hinge' are not supported when dual=True, Parameters: penalty='l1', loss='squared_hinge', dual=True\")\n",
      "  \"Details: \\n%r\" % (error_score, e), FitFailedWarning)\n"
     ]
    },
    {
     "name": "stdout",
     "output_type": "stream",
     "text": [
      "[CV]  vect__stop_words=None, vect__ngram_range=(1, 1), tfidf__use_idf=True, clf__penalty=l1, clf__loss=squared_hinge, clf__C=40, total=   2.1s\n",
      "[CV] vect__stop_words=None, vect__ngram_range=(1, 1), tfidf__use_idf=True, clf__penalty=l1, clf__loss=squared_hinge, clf__C=40 \n"
     ]
    },
    {
     "name": "stderr",
     "output_type": "stream",
     "text": [
      "/home/harsh/anaconda3/lib/python3.7/site-packages/sklearn/model_selection/_validation.py:479: FitFailedWarning: Classifier fit failed. The score on this train-test partition for these parameters will be set to 0.000000. Details: \n",
      "ValueError(\"Unsupported set of arguments: The combination of penalty='l1' and loss='squared_hinge' are not supported when dual=True, Parameters: penalty='l1', loss='squared_hinge', dual=True\")\n",
      "  \"Details: \\n%r\" % (error_score, e), FitFailedWarning)\n"
     ]
    },
    {
     "name": "stdout",
     "output_type": "stream",
     "text": [
      "[CV]  vect__stop_words=None, vect__ngram_range=(1, 1), tfidf__use_idf=True, clf__penalty=l1, clf__loss=squared_hinge, clf__C=40, total=   2.1s\n",
      "[CV] vect__stop_words=None, vect__ngram_range=(1, 1), tfidf__use_idf=True, clf__penalty=l1, clf__loss=squared_hinge, clf__C=40 \n"
     ]
    },
    {
     "name": "stderr",
     "output_type": "stream",
     "text": [
      "/home/harsh/anaconda3/lib/python3.7/site-packages/sklearn/model_selection/_validation.py:479: FitFailedWarning: Classifier fit failed. The score on this train-test partition for these parameters will be set to 0.000000. Details: \n",
      "ValueError(\"Unsupported set of arguments: The combination of penalty='l1' and loss='squared_hinge' are not supported when dual=True, Parameters: penalty='l1', loss='squared_hinge', dual=True\")\n",
      "  \"Details: \\n%r\" % (error_score, e), FitFailedWarning)\n"
     ]
    },
    {
     "name": "stdout",
     "output_type": "stream",
     "text": [
      "[CV]  vect__stop_words=None, vect__ngram_range=(1, 1), tfidf__use_idf=True, clf__penalty=l1, clf__loss=squared_hinge, clf__C=40, total=   2.1s\n",
      "[CV] vect__stop_words=None, vect__ngram_range=(1, 2), tfidf__use_idf=False, clf__penalty=l2, clf__loss=hinge, clf__C=0.01 \n",
      "[CV]  vect__stop_words=None, vect__ngram_range=(1, 2), tfidf__use_idf=False, clf__penalty=l2, clf__loss=hinge, clf__C=0.01, total=  13.5s\n",
      "[CV] vect__stop_words=None, vect__ngram_range=(1, 2), tfidf__use_idf=False, clf__penalty=l2, clf__loss=hinge, clf__C=0.01 \n",
      "[CV]  vect__stop_words=None, vect__ngram_range=(1, 2), tfidf__use_idf=False, clf__penalty=l2, clf__loss=hinge, clf__C=0.01, total=  13.4s\n",
      "[CV] vect__stop_words=None, vect__ngram_range=(1, 2), tfidf__use_idf=False, clf__penalty=l2, clf__loss=hinge, clf__C=0.01 \n",
      "[CV]  vect__stop_words=None, vect__ngram_range=(1, 2), tfidf__use_idf=False, clf__penalty=l2, clf__loss=hinge, clf__C=0.01, total=  13.4s\n",
      "[CV] vect__stop_words=english, vect__ngram_range=(1, 2), tfidf__use_idf=True, clf__penalty=l1, clf__loss=hinge, clf__C=70 \n"
     ]
    },
    {
     "name": "stderr",
     "output_type": "stream",
     "text": [
      "/home/harsh/anaconda3/lib/python3.7/site-packages/sklearn/model_selection/_validation.py:479: FitFailedWarning: Classifier fit failed. The score on this train-test partition for these parameters will be set to 0.000000. Details: \n",
      "ValueError(\"Unsupported set of arguments: The combination of penalty='l1' and loss='hinge' is not supported, Parameters: penalty='l1', loss='hinge', dual=True\")\n",
      "  \"Details: \\n%r\" % (error_score, e), FitFailedWarning)\n"
     ]
    },
    {
     "name": "stdout",
     "output_type": "stream",
     "text": [
      "[CV]  vect__stop_words=english, vect__ngram_range=(1, 2), tfidf__use_idf=True, clf__penalty=l1, clf__loss=hinge, clf__C=70, total=   9.0s\n",
      "[CV] vect__stop_words=english, vect__ngram_range=(1, 2), tfidf__use_idf=True, clf__penalty=l1, clf__loss=hinge, clf__C=70 \n"
     ]
    },
    {
     "name": "stderr",
     "output_type": "stream",
     "text": [
      "/home/harsh/anaconda3/lib/python3.7/site-packages/sklearn/model_selection/_validation.py:479: FitFailedWarning: Classifier fit failed. The score on this train-test partition for these parameters will be set to 0.000000. Details: \n",
      "ValueError(\"Unsupported set of arguments: The combination of penalty='l1' and loss='hinge' is not supported, Parameters: penalty='l1', loss='hinge', dual=True\")\n",
      "  \"Details: \\n%r\" % (error_score, e), FitFailedWarning)\n"
     ]
    },
    {
     "name": "stdout",
     "output_type": "stream",
     "text": [
      "[CV]  vect__stop_words=english, vect__ngram_range=(1, 2), tfidf__use_idf=True, clf__penalty=l1, clf__loss=hinge, clf__C=70, total=  10.0s\n",
      "[CV] vect__stop_words=english, vect__ngram_range=(1, 2), tfidf__use_idf=True, clf__penalty=l1, clf__loss=hinge, clf__C=70 \n"
     ]
    },
    {
     "name": "stderr",
     "output_type": "stream",
     "text": [
      "/home/harsh/anaconda3/lib/python3.7/site-packages/sklearn/model_selection/_validation.py:479: FitFailedWarning: Classifier fit failed. The score on this train-test partition for these parameters will be set to 0.000000. Details: \n",
      "ValueError(\"Unsupported set of arguments: The combination of penalty='l1' and loss='hinge' is not supported, Parameters: penalty='l1', loss='hinge', dual=True\")\n",
      "  \"Details: \\n%r\" % (error_score, e), FitFailedWarning)\n"
     ]
    },
    {
     "name": "stdout",
     "output_type": "stream",
     "text": [
      "[CV]  vect__stop_words=english, vect__ngram_range=(1, 2), tfidf__use_idf=True, clf__penalty=l1, clf__loss=hinge, clf__C=70, total=   9.2s\n",
      "[CV] vect__stop_words=english, vect__ngram_range=(1, 1), tfidf__use_idf=True, clf__penalty=l1, clf__loss=hinge, clf__C=0.01 \n"
     ]
    },
    {
     "name": "stderr",
     "output_type": "stream",
     "text": [
      "/home/harsh/anaconda3/lib/python3.7/site-packages/sklearn/model_selection/_validation.py:479: FitFailedWarning: Classifier fit failed. The score on this train-test partition for these parameters will be set to 0.000000. Details: \n",
      "ValueError(\"Unsupported set of arguments: The combination of penalty='l1' and loss='hinge' is not supported, Parameters: penalty='l1', loss='hinge', dual=True\")\n",
      "  \"Details: \\n%r\" % (error_score, e), FitFailedWarning)\n"
     ]
    },
    {
     "name": "stdout",
     "output_type": "stream",
     "text": [
      "[CV]  vect__stop_words=english, vect__ngram_range=(1, 1), tfidf__use_idf=True, clf__penalty=l1, clf__loss=hinge, clf__C=0.01, total=   2.0s\n",
      "[CV] vect__stop_words=english, vect__ngram_range=(1, 1), tfidf__use_idf=True, clf__penalty=l1, clf__loss=hinge, clf__C=0.01 \n"
     ]
    },
    {
     "name": "stderr",
     "output_type": "stream",
     "text": [
      "/home/harsh/anaconda3/lib/python3.7/site-packages/sklearn/model_selection/_validation.py:479: FitFailedWarning: Classifier fit failed. The score on this train-test partition for these parameters will be set to 0.000000. Details: \n",
      "ValueError(\"Unsupported set of arguments: The combination of penalty='l1' and loss='hinge' is not supported, Parameters: penalty='l1', loss='hinge', dual=True\")\n",
      "  \"Details: \\n%r\" % (error_score, e), FitFailedWarning)\n"
     ]
    },
    {
     "name": "stdout",
     "output_type": "stream",
     "text": [
      "[CV]  vect__stop_words=english, vect__ngram_range=(1, 1), tfidf__use_idf=True, clf__penalty=l1, clf__loss=hinge, clf__C=0.01, total=   2.0s\n",
      "[CV] vect__stop_words=english, vect__ngram_range=(1, 1), tfidf__use_idf=True, clf__penalty=l1, clf__loss=hinge, clf__C=0.01 \n"
     ]
    },
    {
     "name": "stderr",
     "output_type": "stream",
     "text": [
      "/home/harsh/anaconda3/lib/python3.7/site-packages/sklearn/model_selection/_validation.py:479: FitFailedWarning: Classifier fit failed. The score on this train-test partition for these parameters will be set to 0.000000. Details: \n",
      "ValueError(\"Unsupported set of arguments: The combination of penalty='l1' and loss='hinge' is not supported, Parameters: penalty='l1', loss='hinge', dual=True\")\n",
      "  \"Details: \\n%r\" % (error_score, e), FitFailedWarning)\n"
     ]
    },
    {
     "name": "stdout",
     "output_type": "stream",
     "text": [
      "[CV]  vect__stop_words=english, vect__ngram_range=(1, 1), tfidf__use_idf=True, clf__penalty=l1, clf__loss=hinge, clf__C=0.01, total=   2.0s\n",
      "[CV] vect__stop_words=english, vect__ngram_range=(1, 1), tfidf__use_idf=True, clf__penalty=l2, clf__loss=hinge, clf__C=90 \n",
      "[CV]  vect__stop_words=english, vect__ngram_range=(1, 1), tfidf__use_idf=True, clf__penalty=l2, clf__loss=hinge, clf__C=90, total=   3.9s\n",
      "[CV] vect__stop_words=english, vect__ngram_range=(1, 1), tfidf__use_idf=True, clf__penalty=l2, clf__loss=hinge, clf__C=90 \n",
      "[CV]  vect__stop_words=english, vect__ngram_range=(1, 1), tfidf__use_idf=True, clf__penalty=l2, clf__loss=hinge, clf__C=90, total=   3.7s\n",
      "[CV] vect__stop_words=english, vect__ngram_range=(1, 1), tfidf__use_idf=True, clf__penalty=l2, clf__loss=hinge, clf__C=90 \n",
      "[CV]  vect__stop_words=english, vect__ngram_range=(1, 1), tfidf__use_idf=True, clf__penalty=l2, clf__loss=hinge, clf__C=90, total=   4.0s\n",
      "[CV] vect__stop_words=None, vect__ngram_range=(1, 1), tfidf__use_idf=True, clf__penalty=l2, clf__loss=hinge, clf__C=90 \n",
      "[CV]  vect__stop_words=None, vect__ngram_range=(1, 1), tfidf__use_idf=True, clf__penalty=l2, clf__loss=hinge, clf__C=90, total=   7.7s\n",
      "[CV] vect__stop_words=None, vect__ngram_range=(1, 1), tfidf__use_idf=True, clf__penalty=l2, clf__loss=hinge, clf__C=90 \n",
      "[CV]  vect__stop_words=None, vect__ngram_range=(1, 1), tfidf__use_idf=True, clf__penalty=l2, clf__loss=hinge, clf__C=90, total=   4.4s\n",
      "[CV] vect__stop_words=None, vect__ngram_range=(1, 1), tfidf__use_idf=True, clf__penalty=l2, clf__loss=hinge, clf__C=90 \n",
      "[CV]  vect__stop_words=None, vect__ngram_range=(1, 1), tfidf__use_idf=True, clf__penalty=l2, clf__loss=hinge, clf__C=90, total=   6.1s\n",
      "[CV] vect__stop_words=None, vect__ngram_range=(1, 2), tfidf__use_idf=True, clf__penalty=l1, clf__loss=hinge, clf__C=0.5 \n"
     ]
    },
    {
     "name": "stderr",
     "output_type": "stream",
     "text": [
      "/home/harsh/anaconda3/lib/python3.7/site-packages/sklearn/model_selection/_validation.py:479: FitFailedWarning: Classifier fit failed. The score on this train-test partition for these parameters will be set to 0.000000. Details: \n",
      "ValueError(\"Unsupported set of arguments: The combination of penalty='l1' and loss='hinge' is not supported, Parameters: penalty='l1', loss='hinge', dual=True\")\n",
      "  \"Details: \\n%r\" % (error_score, e), FitFailedWarning)\n"
     ]
    },
    {
     "name": "stdout",
     "output_type": "stream",
     "text": [
      "[CV]  vect__stop_words=None, vect__ngram_range=(1, 2), tfidf__use_idf=True, clf__penalty=l1, clf__loss=hinge, clf__C=0.5, total=  10.4s\n",
      "[CV] vect__stop_words=None, vect__ngram_range=(1, 2), tfidf__use_idf=True, clf__penalty=l1, clf__loss=hinge, clf__C=0.5 \n"
     ]
    },
    {
     "name": "stderr",
     "output_type": "stream",
     "text": [
      "/home/harsh/anaconda3/lib/python3.7/site-packages/sklearn/model_selection/_validation.py:479: FitFailedWarning: Classifier fit failed. The score on this train-test partition for these parameters will be set to 0.000000. Details: \n",
      "ValueError(\"Unsupported set of arguments: The combination of penalty='l1' and loss='hinge' is not supported, Parameters: penalty='l1', loss='hinge', dual=True\")\n",
      "  \"Details: \\n%r\" % (error_score, e), FitFailedWarning)\n"
     ]
    },
    {
     "name": "stdout",
     "output_type": "stream",
     "text": [
      "[CV]  vect__stop_words=None, vect__ngram_range=(1, 2), tfidf__use_idf=True, clf__penalty=l1, clf__loss=hinge, clf__C=0.5, total=  10.5s\n",
      "[CV] vect__stop_words=None, vect__ngram_range=(1, 2), tfidf__use_idf=True, clf__penalty=l1, clf__loss=hinge, clf__C=0.5 \n"
     ]
    },
    {
     "name": "stderr",
     "output_type": "stream",
     "text": [
      "/home/harsh/anaconda3/lib/python3.7/site-packages/sklearn/model_selection/_validation.py:479: FitFailedWarning: Classifier fit failed. The score on this train-test partition for these parameters will be set to 0.000000. Details: \n",
      "ValueError(\"Unsupported set of arguments: The combination of penalty='l1' and loss='hinge' is not supported, Parameters: penalty='l1', loss='hinge', dual=True\")\n",
      "  \"Details: \\n%r\" % (error_score, e), FitFailedWarning)\n"
     ]
    },
    {
     "name": "stdout",
     "output_type": "stream",
     "text": [
      "[CV]  vect__stop_words=None, vect__ngram_range=(1, 2), tfidf__use_idf=True, clf__penalty=l1, clf__loss=hinge, clf__C=0.5, total=  10.2s\n",
      "[CV] vect__stop_words=english, vect__ngram_range=(1, 2), tfidf__use_idf=False, clf__penalty=l1, clf__loss=hinge, clf__C=100 \n"
     ]
    },
    {
     "name": "stderr",
     "output_type": "stream",
     "text": [
      "/home/harsh/anaconda3/lib/python3.7/site-packages/sklearn/model_selection/_validation.py:479: FitFailedWarning: Classifier fit failed. The score on this train-test partition for these parameters will be set to 0.000000. Details: \n",
      "ValueError(\"Unsupported set of arguments: The combination of penalty='l1' and loss='hinge' is not supported, Parameters: penalty='l1', loss='hinge', dual=True\")\n",
      "  \"Details: \\n%r\" % (error_score, e), FitFailedWarning)\n"
     ]
    },
    {
     "name": "stdout",
     "output_type": "stream",
     "text": [
      "[CV]  vect__stop_words=english, vect__ngram_range=(1, 2), tfidf__use_idf=False, clf__penalty=l1, clf__loss=hinge, clf__C=100, total=   7.9s\n",
      "[CV] vect__stop_words=english, vect__ngram_range=(1, 2), tfidf__use_idf=False, clf__penalty=l1, clf__loss=hinge, clf__C=100 \n"
     ]
    },
    {
     "name": "stderr",
     "output_type": "stream",
     "text": [
      "/home/harsh/anaconda3/lib/python3.7/site-packages/sklearn/model_selection/_validation.py:479: FitFailedWarning: Classifier fit failed. The score on this train-test partition for these parameters will be set to 0.000000. Details: \n",
      "ValueError(\"Unsupported set of arguments: The combination of penalty='l1' and loss='hinge' is not supported, Parameters: penalty='l1', loss='hinge', dual=True\")\n",
      "  \"Details: \\n%r\" % (error_score, e), FitFailedWarning)\n"
     ]
    },
    {
     "name": "stdout",
     "output_type": "stream",
     "text": [
      "[CV]  vect__stop_words=english, vect__ngram_range=(1, 2), tfidf__use_idf=False, clf__penalty=l1, clf__loss=hinge, clf__C=100, total=   7.8s\n",
      "[CV] vect__stop_words=english, vect__ngram_range=(1, 2), tfidf__use_idf=False, clf__penalty=l1, clf__loss=hinge, clf__C=100 \n"
     ]
    },
    {
     "name": "stderr",
     "output_type": "stream",
     "text": [
      "/home/harsh/anaconda3/lib/python3.7/site-packages/sklearn/model_selection/_validation.py:479: FitFailedWarning: Classifier fit failed. The score on this train-test partition for these parameters will be set to 0.000000. Details: \n",
      "ValueError(\"Unsupported set of arguments: The combination of penalty='l1' and loss='hinge' is not supported, Parameters: penalty='l1', loss='hinge', dual=True\")\n",
      "  \"Details: \\n%r\" % (error_score, e), FitFailedWarning)\n"
     ]
    },
    {
     "name": "stdout",
     "output_type": "stream",
     "text": [
      "[CV]  vect__stop_words=english, vect__ngram_range=(1, 2), tfidf__use_idf=False, clf__penalty=l1, clf__loss=hinge, clf__C=100, total=   8.2s\n",
      "[CV] vect__stop_words=english, vect__ngram_range=(1, 1), tfidf__use_idf=False, clf__penalty=l1, clf__loss=squared_hinge, clf__C=10 \n"
     ]
    },
    {
     "name": "stderr",
     "output_type": "stream",
     "text": [
      "/home/harsh/anaconda3/lib/python3.7/site-packages/sklearn/model_selection/_validation.py:479: FitFailedWarning: Classifier fit failed. The score on this train-test partition for these parameters will be set to 0.000000. Details: \n",
      "ValueError(\"Unsupported set of arguments: The combination of penalty='l1' and loss='squared_hinge' are not supported when dual=True, Parameters: penalty='l1', loss='squared_hinge', dual=True\")\n",
      "  \"Details: \\n%r\" % (error_score, e), FitFailedWarning)\n"
     ]
    },
    {
     "name": "stdout",
     "output_type": "stream",
     "text": [
      "[CV]  vect__stop_words=english, vect__ngram_range=(1, 1), tfidf__use_idf=False, clf__penalty=l1, clf__loss=squared_hinge, clf__C=10, total=   2.0s\n",
      "[CV] vect__stop_words=english, vect__ngram_range=(1, 1), tfidf__use_idf=False, clf__penalty=l1, clf__loss=squared_hinge, clf__C=10 \n"
     ]
    },
    {
     "name": "stderr",
     "output_type": "stream",
     "text": [
      "/home/harsh/anaconda3/lib/python3.7/site-packages/sklearn/model_selection/_validation.py:479: FitFailedWarning: Classifier fit failed. The score on this train-test partition for these parameters will be set to 0.000000. Details: \n",
      "ValueError(\"Unsupported set of arguments: The combination of penalty='l1' and loss='squared_hinge' are not supported when dual=True, Parameters: penalty='l1', loss='squared_hinge', dual=True\")\n",
      "  \"Details: \\n%r\" % (error_score, e), FitFailedWarning)\n"
     ]
    },
    {
     "name": "stdout",
     "output_type": "stream",
     "text": [
      "[CV]  vect__stop_words=english, vect__ngram_range=(1, 1), tfidf__use_idf=False, clf__penalty=l1, clf__loss=squared_hinge, clf__C=10, total=   2.0s\n",
      "[CV] vect__stop_words=english, vect__ngram_range=(1, 1), tfidf__use_idf=False, clf__penalty=l1, clf__loss=squared_hinge, clf__C=10 \n"
     ]
    },
    {
     "name": "stderr",
     "output_type": "stream",
     "text": [
      "/home/harsh/anaconda3/lib/python3.7/site-packages/sklearn/model_selection/_validation.py:479: FitFailedWarning: Classifier fit failed. The score on this train-test partition for these parameters will be set to 0.000000. Details: \n",
      "ValueError(\"Unsupported set of arguments: The combination of penalty='l1' and loss='squared_hinge' are not supported when dual=True, Parameters: penalty='l1', loss='squared_hinge', dual=True\")\n",
      "  \"Details: \\n%r\" % (error_score, e), FitFailedWarning)\n"
     ]
    },
    {
     "name": "stdout",
     "output_type": "stream",
     "text": [
      "[CV]  vect__stop_words=english, vect__ngram_range=(1, 1), tfidf__use_idf=False, clf__penalty=l1, clf__loss=squared_hinge, clf__C=10, total=   2.0s\n",
      "[CV] vect__stop_words=english, vect__ngram_range=(1, 2), tfidf__use_idf=False, clf__penalty=l2, clf__loss=squared_hinge, clf__C=70 \n",
      "[CV]  vect__stop_words=english, vect__ngram_range=(1, 2), tfidf__use_idf=False, clf__penalty=l2, clf__loss=squared_hinge, clf__C=70, total=  28.0s\n",
      "[CV] vect__stop_words=english, vect__ngram_range=(1, 2), tfidf__use_idf=False, clf__penalty=l2, clf__loss=squared_hinge, clf__C=70 \n",
      "[CV]  vect__stop_words=english, vect__ngram_range=(1, 2), tfidf__use_idf=False, clf__penalty=l2, clf__loss=squared_hinge, clf__C=70, total=  27.1s\n",
      "[CV] vect__stop_words=english, vect__ngram_range=(1, 2), tfidf__use_idf=False, clf__penalty=l2, clf__loss=squared_hinge, clf__C=70 \n",
      "[CV]  vect__stop_words=english, vect__ngram_range=(1, 2), tfidf__use_idf=False, clf__penalty=l2, clf__loss=squared_hinge, clf__C=70, total=  24.1s\n",
      "[CV] vect__stop_words=english, vect__ngram_range=(1, 1), tfidf__use_idf=True, clf__penalty=l1, clf__loss=hinge, clf__C=40 \n"
     ]
    },
    {
     "name": "stderr",
     "output_type": "stream",
     "text": [
      "/home/harsh/anaconda3/lib/python3.7/site-packages/sklearn/model_selection/_validation.py:479: FitFailedWarning: Classifier fit failed. The score on this train-test partition for these parameters will be set to 0.000000. Details: \n",
      "ValueError(\"Unsupported set of arguments: The combination of penalty='l1' and loss='hinge' is not supported, Parameters: penalty='l1', loss='hinge', dual=True\")\n",
      "  \"Details: \\n%r\" % (error_score, e), FitFailedWarning)\n"
     ]
    },
    {
     "name": "stdout",
     "output_type": "stream",
     "text": [
      "[CV]  vect__stop_words=english, vect__ngram_range=(1, 1), tfidf__use_idf=True, clf__penalty=l1, clf__loss=hinge, clf__C=40, total=   2.1s\n",
      "[CV] vect__stop_words=english, vect__ngram_range=(1, 1), tfidf__use_idf=True, clf__penalty=l1, clf__loss=hinge, clf__C=40 \n"
     ]
    },
    {
     "name": "stderr",
     "output_type": "stream",
     "text": [
      "/home/harsh/anaconda3/lib/python3.7/site-packages/sklearn/model_selection/_validation.py:479: FitFailedWarning: Classifier fit failed. The score on this train-test partition for these parameters will be set to 0.000000. Details: \n",
      "ValueError(\"Unsupported set of arguments: The combination of penalty='l1' and loss='hinge' is not supported, Parameters: penalty='l1', loss='hinge', dual=True\")\n",
      "  \"Details: \\n%r\" % (error_score, e), FitFailedWarning)\n"
     ]
    },
    {
     "name": "stdout",
     "output_type": "stream",
     "text": [
      "[CV]  vect__stop_words=english, vect__ngram_range=(1, 1), tfidf__use_idf=True, clf__penalty=l1, clf__loss=hinge, clf__C=40, total=   2.0s\n",
      "[CV] vect__stop_words=english, vect__ngram_range=(1, 1), tfidf__use_idf=True, clf__penalty=l1, clf__loss=hinge, clf__C=40 \n"
     ]
    },
    {
     "name": "stderr",
     "output_type": "stream",
     "text": [
      "/home/harsh/anaconda3/lib/python3.7/site-packages/sklearn/model_selection/_validation.py:479: FitFailedWarning: Classifier fit failed. The score on this train-test partition for these parameters will be set to 0.000000. Details: \n",
      "ValueError(\"Unsupported set of arguments: The combination of penalty='l1' and loss='hinge' is not supported, Parameters: penalty='l1', loss='hinge', dual=True\")\n",
      "  \"Details: \\n%r\" % (error_score, e), FitFailedWarning)\n"
     ]
    },
    {
     "name": "stdout",
     "output_type": "stream",
     "text": [
      "[CV]  vect__stop_words=english, vect__ngram_range=(1, 1), tfidf__use_idf=True, clf__penalty=l1, clf__loss=hinge, clf__C=40, total=   2.0s\n",
      "[CV] vect__stop_words=None, vect__ngram_range=(1, 2), tfidf__use_idf=True, clf__penalty=l1, clf__loss=hinge, clf__C=30 \n"
     ]
    },
    {
     "name": "stderr",
     "output_type": "stream",
     "text": [
      "/home/harsh/anaconda3/lib/python3.7/site-packages/sklearn/model_selection/_validation.py:479: FitFailedWarning: Classifier fit failed. The score on this train-test partition for these parameters will be set to 0.000000. Details: \n",
      "ValueError(\"Unsupported set of arguments: The combination of penalty='l1' and loss='hinge' is not supported, Parameters: penalty='l1', loss='hinge', dual=True\")\n",
      "  \"Details: \\n%r\" % (error_score, e), FitFailedWarning)\n"
     ]
    },
    {
     "name": "stdout",
     "output_type": "stream",
     "text": [
      "[CV]  vect__stop_words=None, vect__ngram_range=(1, 2), tfidf__use_idf=True, clf__penalty=l1, clf__loss=hinge, clf__C=30, total=  11.4s\n",
      "[CV] vect__stop_words=None, vect__ngram_range=(1, 2), tfidf__use_idf=True, clf__penalty=l1, clf__loss=hinge, clf__C=30 \n"
     ]
    },
    {
     "name": "stderr",
     "output_type": "stream",
     "text": [
      "/home/harsh/anaconda3/lib/python3.7/site-packages/sklearn/model_selection/_validation.py:479: FitFailedWarning: Classifier fit failed. The score on this train-test partition for these parameters will be set to 0.000000. Details: \n",
      "ValueError(\"Unsupported set of arguments: The combination of penalty='l1' and loss='hinge' is not supported, Parameters: penalty='l1', loss='hinge', dual=True\")\n",
      "  \"Details: \\n%r\" % (error_score, e), FitFailedWarning)\n"
     ]
    },
    {
     "name": "stdout",
     "output_type": "stream",
     "text": [
      "[CV]  vect__stop_words=None, vect__ngram_range=(1, 2), tfidf__use_idf=True, clf__penalty=l1, clf__loss=hinge, clf__C=30, total=  11.5s\n",
      "[CV] vect__stop_words=None, vect__ngram_range=(1, 2), tfidf__use_idf=True, clf__penalty=l1, clf__loss=hinge, clf__C=30 \n"
     ]
    },
    {
     "name": "stderr",
     "output_type": "stream",
     "text": [
      "/home/harsh/anaconda3/lib/python3.7/site-packages/sklearn/model_selection/_validation.py:479: FitFailedWarning: Classifier fit failed. The score on this train-test partition for these parameters will be set to 0.000000. Details: \n",
      "ValueError(\"Unsupported set of arguments: The combination of penalty='l1' and loss='hinge' is not supported, Parameters: penalty='l1', loss='hinge', dual=True\")\n",
      "  \"Details: \\n%r\" % (error_score, e), FitFailedWarning)\n"
     ]
    },
    {
     "name": "stdout",
     "output_type": "stream",
     "text": [
      "[CV]  vect__stop_words=None, vect__ngram_range=(1, 2), tfidf__use_idf=True, clf__penalty=l1, clf__loss=hinge, clf__C=30, total=  11.4s\n",
      "[CV] vect__stop_words=english, vect__ngram_range=(1, 1), tfidf__use_idf=True, clf__penalty=l1, clf__loss=hinge, clf__C=20 \n"
     ]
    },
    {
     "name": "stderr",
     "output_type": "stream",
     "text": [
      "/home/harsh/anaconda3/lib/python3.7/site-packages/sklearn/model_selection/_validation.py:479: FitFailedWarning: Classifier fit failed. The score on this train-test partition for these parameters will be set to 0.000000. Details: \n",
      "ValueError(\"Unsupported set of arguments: The combination of penalty='l1' and loss='hinge' is not supported, Parameters: penalty='l1', loss='hinge', dual=True\")\n",
      "  \"Details: \\n%r\" % (error_score, e), FitFailedWarning)\n"
     ]
    },
    {
     "name": "stdout",
     "output_type": "stream",
     "text": [
      "[CV]  vect__stop_words=english, vect__ngram_range=(1, 1), tfidf__use_idf=True, clf__penalty=l1, clf__loss=hinge, clf__C=20, total=   2.0s\n",
      "[CV] vect__stop_words=english, vect__ngram_range=(1, 1), tfidf__use_idf=True, clf__penalty=l1, clf__loss=hinge, clf__C=20 \n"
     ]
    },
    {
     "name": "stderr",
     "output_type": "stream",
     "text": [
      "/home/harsh/anaconda3/lib/python3.7/site-packages/sklearn/model_selection/_validation.py:479: FitFailedWarning: Classifier fit failed. The score on this train-test partition for these parameters will be set to 0.000000. Details: \n",
      "ValueError(\"Unsupported set of arguments: The combination of penalty='l1' and loss='hinge' is not supported, Parameters: penalty='l1', loss='hinge', dual=True\")\n",
      "  \"Details: \\n%r\" % (error_score, e), FitFailedWarning)\n"
     ]
    },
    {
     "name": "stdout",
     "output_type": "stream",
     "text": [
      "[CV]  vect__stop_words=english, vect__ngram_range=(1, 1), tfidf__use_idf=True, clf__penalty=l1, clf__loss=hinge, clf__C=20, total=   2.0s\n",
      "[CV] vect__stop_words=english, vect__ngram_range=(1, 1), tfidf__use_idf=True, clf__penalty=l1, clf__loss=hinge, clf__C=20 \n"
     ]
    },
    {
     "name": "stderr",
     "output_type": "stream",
     "text": [
      "/home/harsh/anaconda3/lib/python3.7/site-packages/sklearn/model_selection/_validation.py:479: FitFailedWarning: Classifier fit failed. The score on this train-test partition for these parameters will be set to 0.000000. Details: \n",
      "ValueError(\"Unsupported set of arguments: The combination of penalty='l1' and loss='hinge' is not supported, Parameters: penalty='l1', loss='hinge', dual=True\")\n",
      "  \"Details: \\n%r\" % (error_score, e), FitFailedWarning)\n",
      "[Parallel(n_jobs=1)]: Done 300 out of 300 | elapsed: 58.1min finished\n"
     ]
    },
    {
     "name": "stdout",
     "output_type": "stream",
     "text": [
      "[CV]  vect__stop_words=english, vect__ngram_range=(1, 1), tfidf__use_idf=True, clf__penalty=l1, clf__loss=hinge, clf__C=20, total=   2.0s\n",
      "Time taken:  3514.392676115036\n",
      "Best score :  0.90684\n",
      "Best params:  {'vect__stop_words': None, 'vect__ngram_range': (1, 2), 'tfidf__use_idf': True, 'clf__penalty': 'l2', 'clf__loss': 'squared_hinge', 'clf__C': 10}\n",
      "\n",
      "\n",
      "\n"
     ]
    }
   ],
   "source": [
    "runRandomizedSearchCV(linear_svc_rs, [models[0]], [model_names[0]])"
   ]
  },
  {
   "cell_type": "code",
   "execution_count": null,
   "metadata": {},
   "outputs": [],
   "source": [
    "runGridSearchCV(linear_svc_pg, [models[0]], [model_names[0]])"
   ]
  },
  {
   "cell_type": "markdown",
   "metadata": {},
   "source": [
    "### Logistic Regression Parameters"
   ]
  },
  {
   "cell_type": "code",
   "execution_count": 8,
   "metadata": {},
   "outputs": [],
   "source": [
    "logistic_regression_rs = [\n",
    "        {\n",
    "            'vect__ngram_range': [(1,1),(1,2)],\n",
    "            'vect__stop_words': ['english',None],\n",
    "            'tfidf__use_idf': [True,False],\n",
    "            'clf__C': [0.01, 0.05, 0.1, 0.5, 1.0, 10, 20 , 30, 40, 50, 60, 70, 80, 90, 100],\n",
    "            'clf__penalty': ['l2','l1','elasticnet'],\n",
    "            'clf__solver': ['newton-cg','sag','lbfgs','liblinear','saga'],\n",
    "        }\n",
    "]"
   ]
  },
  {
   "cell_type": "code",
   "execution_count": 10,
   "metadata": {},
   "outputs": [
    {
     "name": "stdout",
     "output_type": "stream",
     "text": [
      "Currently training model:  Logistic Regression\n"
     ]
    },
    {
     "name": "stderr",
     "output_type": "stream",
     "text": [
      "C:\\Users\\heath\\Anaconda3\\lib\\site-packages\\sklearn\\linear_model\\logistic.py:432: FutureWarning: Default solver will be changed to 'lbfgs' in 0.22. Specify a solver to silence this warning.\n",
      "  FutureWarning)\n"
     ]
    },
    {
     "name": "stdout",
     "output_type": "stream",
     "text": [
      "Fitting 3 folds for each of 100 candidates, totalling 300 fits\n"
     ]
    },
    {
     "name": "stderr",
     "output_type": "stream",
     "text": [
      "[Parallel(n_jobs=-1)]: Using backend LokyBackend with 8 concurrent workers.\n",
      "[Parallel(n_jobs=-1)]: Done  25 tasks      | elapsed:  2.1min\n",
      "[Parallel(n_jobs=-1)]: Done 146 tasks      | elapsed: 18.0min\n",
      "[Parallel(n_jobs=-1)]: Done 300 out of 300 | elapsed: 78.1min finished\n"
     ]
    },
    {
     "name": "stdout",
     "output_type": "stream",
     "text": [
      "Time taken:  4746.452325344086\n",
      "Best score :  0.90212\n",
      "Best params:  {'vect__stop_words': None, 'vect__ngram_range': (1, 2), 'tfidf__use_idf': True, 'clf__solver': 'sag', 'clf__penalty': 'l2', 'clf__C': 60}\n",
      "\n",
      "\n",
      "\n"
     ]
    }
   ],
   "source": [
    "runRandomizedSearchCV(logistic_regression_rs, [models[1]], [model_names[1]])"
   ]
  },
  {
   "cell_type": "code",
   "execution_count": 11,
   "metadata": {},
   "outputs": [],
   "source": [
    "logistic_regression_pg = [\n",
    "        {\n",
    "            'vect__ngram_range': [(1,1)],\n",
    "            'vect__stop_words': ['english'],\n",
    "            'tfidf__use_idf': [True],\n",
    "            'clf__C': [55, 60, 65],\n",
    "            'clf__penalty': ['l2','l1','elasticnet'],\n",
    "            'clf__solver': ['newton-cg','sag','lbfgs','liblinear','saga'],\n",
    "        }\n",
    "]"
   ]
  },
  {
   "cell_type": "code",
   "execution_count": 12,
   "metadata": {},
   "outputs": [
    {
     "name": "stdout",
     "output_type": "stream",
     "text": [
      "Currently training model:  Logistic Regression\n"
     ]
    },
    {
     "name": "stderr",
     "output_type": "stream",
     "text": [
      "C:\\Users\\heath\\Anaconda3\\lib\\site-packages\\sklearn\\linear_model\\logistic.py:432: FutureWarning: Default solver will be changed to 'lbfgs' in 0.22. Specify a solver to silence this warning.\n",
      "  FutureWarning)\n"
     ]
    },
    {
     "name": "stdout",
     "output_type": "stream",
     "text": [
      "Time taken:  1224.9758758544922\n",
      "Best score :  0.8828\n",
      "Best params:  {'clf__C': 55, 'clf__penalty': 'l2', 'clf__solver': 'saga', 'tfidf__use_idf': True, 'vect__ngram_range': (1, 1), 'vect__stop_words': 'english'}\n",
      "\n",
      "\n",
      "\n"
     ]
    }
   ],
   "source": [
    "runGridSearchCV(logistic_regression_pg, [models[1]], [model_names[1]])"
   ]
  },
  {
   "cell_type": "markdown",
   "metadata": {},
   "source": [
    "### Random Forest Parameters"
   ]
  },
  {
   "cell_type": "code",
   "execution_count": 8,
   "metadata": {},
   "outputs": [],
   "source": [
    "random_forest_rs = [\n",
    "        {\n",
    "            'vect__ngram_range': [(1,1),(1,2)],\n",
    "            'vect__stop_words': ['english',None],\n",
    "            'tfidf__use_idf': [True,False],\n",
    "            'clf__bootstrap': [True,False],\n",
    "            'clf__max_depth' : [10,20,30,40,50,60,70,80,90,100,None],\n",
    "            'clf__n_estimators' : [100, 200, 400, 700, 800, 1000, 1200, 1400, 1600, 1800, 2000],\n",
    "#             'clf__C': [0.01, 0.05, 0.1, 0.5, 1.0, 10, 20 , 30, 40, 50, 60, 70, 80, 90, 100],\n",
    "            'clf__min_samples_split': [2,5,10],\n",
    "            'clf__max_features': ['auto','sqrt'],\n",
    "#             'clf__penalty': ['l2','l1','elasticnet'],\n",
    "#             'clf__solver': ['newton-cg','sag','lbfgs','liblinear','saga'],\n",
    "        }\n",
    "]"
   ]
  },
  {
   "cell_type": "code",
   "execution_count": null,
   "metadata": {},
   "outputs": [
    {
     "name": "stdout",
     "output_type": "stream",
     "text": [
      "Currently training model:  Random Forest\n"
     ]
    },
    {
     "name": "stderr",
     "output_type": "stream",
     "text": [
      "C:\\ProgramData\\Anaconda3\\lib\\site-packages\\sklearn\\ensemble\\forest.py:245: FutureWarning: The default value of n_estimators will change from 10 in version 0.20 to 100 in 0.22.\n",
      "  \"10 in version 0.20 to 100 in 0.22.\", FutureWarning)\n",
      "[Parallel(n_jobs=-1)]: Using backend LokyBackend with 16 concurrent workers.\n"
     ]
    },
    {
     "name": "stdout",
     "output_type": "stream",
     "text": [
      "Fitting 3 folds for each of 100 candidates, totalling 300 fits\n"
     ]
    }
   ],
   "source": [
    "runRandomizedSearchCV(random_forest_rs, [models[4]], [model_names[4]])"
   ]
  },
  {
   "cell_type": "markdown",
   "metadata": {},
   "source": [
    "### Decision Tree Parameters"
   ]
  },
  {
   "cell_type": "code",
   "execution_count": 13,
   "metadata": {},
   "outputs": [],
   "source": [
    "decision_tree_rs = [\n",
    "        {\n",
    "            'vect__ngram_range': [(1,1)],\n",
    "            'vect__stop_words': ['english'],\n",
    "            'tfidf__use_idf': [True],\n",
    "            'clf__max_features': [None,'auto','sqrt','log2'],\n",
    "            'clf__max_depth': [1,2,3,4,5,6,7,8,9,10,11,12,13,14,15],\n",
    "            'clf__min_impurity_decrease': [0.00005,0.0001,0.0002,0.0005,0.001,0.0015,0.002,0.005,0.01]\n",
    "        }\n",
    "]"
   ]
  },
  {
   "cell_type": "code",
   "execution_count": 14,
   "metadata": {},
   "outputs": [
    {
     "name": "stdout",
     "output_type": "stream",
     "text": [
      "Currently training model:  Decision Tree\n",
      "Fitting 3 folds for each of 100 candidates, totalling 300 fits\n"
     ]
    },
    {
     "name": "stderr",
     "output_type": "stream",
     "text": [
      "[Parallel(n_jobs=-1)]: Using backend LokyBackend with 8 concurrent workers.\n",
      "[Parallel(n_jobs=-1)]: Done  25 tasks      | elapsed:   43.1s\n",
      "[Parallel(n_jobs=-1)]: Done 146 tasks      | elapsed:  3.7min\n",
      "[Parallel(n_jobs=-1)]: Done 300 out of 300 | elapsed:  7.5min finished\n"
     ]
    },
    {
     "name": "stdout",
     "output_type": "stream",
     "text": [
      "Time taken:  491.74345421791077\n",
      "Best score :  0.72184\n",
      "Best params:  {'vect__stop_words': 'english', 'vect__ngram_range': (1, 1), 'tfidf__use_idf': True, 'clf__min_impurity_decrease': 0.002, 'clf__max_features': None, 'clf__max_depth': 14}\n",
      "\n",
      "\n",
      "\n"
     ]
    }
   ],
   "source": [
    "runRandomizedSearchCV(decision_tree_rs, [models[3]], [model_names[3]])"
   ]
  },
  {
   "cell_type": "code",
   "execution_count": 15,
   "metadata": {},
   "outputs": [],
   "source": [
    "decision_tree_pg = [\n",
    "        {\n",
    "            'vect__ngram_range': [(1,1)],\n",
    "            'vect__stop_words': ['english'],\n",
    "            'tfidf__use_idf': [True],\n",
    "            'clf__max_features': [None,'auto','sqrt','log2'],\n",
    "            'clf__max_depth': [12,13,14,15,16],\n",
    "            'clf__min_impurity_decrease': [0.001,0.002,0.003]\n",
    "        }\n",
    "]"
   ]
  },
  {
   "cell_type": "code",
   "execution_count": 16,
   "metadata": {},
   "outputs": [
    {
     "name": "stdout",
     "output_type": "stream",
     "text": [
      "Currently training model:  Decision Tree\n",
      "Time taken:  328.3461666107178\n",
      "Best score :  0.7306\n",
      "Best params:  {'clf__max_depth': 16, 'clf__max_features': None, 'clf__min_impurity_decrease': 0.001, 'tfidf__use_idf': True, 'vect__ngram_range': (1, 1), 'vect__stop_words': 'english'}\n",
      "\n",
      "\n",
      "\n"
     ]
    }
   ],
   "source": [
    "runGridSearchCV(decision_tree_pg, [models[3]], [model_names[3]])"
   ]
  },
  {
   "cell_type": "code",
   "execution_count": 17,
   "metadata": {},
   "outputs": [],
   "source": [
    "decision_tree_pg2 = [\n",
    "        {\n",
    "            'vect__ngram_range': [(1,1)],\n",
    "            'vect__stop_words': ['english'],\n",
    "            'tfidf__use_idf': [True],\n",
    "            'clf__max_features': [None],\n",
    "            'clf__max_depth': [14,15,16,17],\n",
    "            'clf__min_impurity_decrease': [0.0005, 0.001,0.002]\n",
    "        }\n",
    "]"
   ]
  },
  {
   "cell_type": "code",
   "execution_count": 18,
   "metadata": {},
   "outputs": [
    {
     "name": "stdout",
     "output_type": "stream",
     "text": [
      "Currently training model:  Decision Tree\n",
      "Time taken:  107.41896724700928\n",
      "Best score :  0.73568\n",
      "Best params:  {'clf__max_depth': 17, 'clf__max_features': None, 'clf__min_impurity_decrease': 0.0005, 'tfidf__use_idf': True, 'vect__ngram_range': (1, 1), 'vect__stop_words': 'english'}\n",
      "\n",
      "\n",
      "\n"
     ]
    }
   ],
   "source": [
    "runGridSearchCV(decision_tree_pg2, [models[3]], [model_names[3]])"
   ]
  },
  {
   "cell_type": "code",
   "execution_count": 19,
   "metadata": {},
   "outputs": [],
   "source": [
    "decision_tree_pg3 = [\n",
    "        {\n",
    "            'vect__ngram_range': [(1,1)],\n",
    "            'vect__stop_words': ['english'],\n",
    "            'tfidf__use_idf': [True],\n",
    "            'clf__max_features': [None],\n",
    "            'clf__max_depth': [16,17,18,19],\n",
    "            'clf__min_impurity_decrease': [0.0001, 0.0005, 0.001,]\n",
    "        }\n",
    "]"
   ]
  },
  {
   "cell_type": "code",
   "execution_count": 21,
   "metadata": {},
   "outputs": [
    {
     "name": "stdout",
     "output_type": "stream",
     "text": [
      "Currently training model:  Decision Tree\n",
      "Time taken:  126.65679788589478\n",
      "Best score :  0.73888\n",
      "Best params:  {'clf__max_depth': 19, 'clf__max_features': None, 'clf__min_impurity_decrease': 0.0005, 'tfidf__use_idf': True, 'vect__ngram_range': (1, 1), 'vect__stop_words': 'english'}\n",
      "\n",
      "\n",
      "\n"
     ]
    }
   ],
   "source": [
    "runGridSearchCV(decision_tree_pg3, [models[3]], [model_names[3]])"
   ]
  },
  {
   "cell_type": "code",
   "execution_count": 29,
   "metadata": {},
   "outputs": [],
   "source": [
    "decision_tree_pg4 = [\n",
    "        {\n",
    "            'vect__ngram_range': [(1,1)],\n",
    "            'vect__stop_words': ['english'],\n",
    "            'tfidf__use_idf': [True],\n",
    "            'clf__max_features': [None],\n",
    "            'clf__max_depth': [35,40,45],\n",
    "            'clf__min_impurity_decrease': [0.0005]\n",
    "        }\n",
    "]"
   ]
  },
  {
   "cell_type": "code",
   "execution_count": 30,
   "metadata": {},
   "outputs": [
    {
     "name": "stdout",
     "output_type": "stream",
     "text": [
      "Currently training model:  Decision Tree\n",
      "Time taken:  68.89858627319336\n",
      "Best score :  0.74916\n",
      "Best params:  {'clf__max_depth': 40, 'clf__max_features': None, 'clf__min_impurity_decrease': 0.0005, 'tfidf__use_idf': True, 'vect__ngram_range': (1, 1), 'vect__stop_words': 'english'}\n",
      "\n",
      "\n",
      "\n"
     ]
    }
   ],
   "source": [
    "runGridSearchCV(decision_tree_pg4, [models[3]], [model_names[3]])"
   ]
  },
  {
   "cell_type": "code",
   "execution_count": null,
   "metadata": {},
   "outputs": [],
   "source": []
  }
 ],
 "metadata": {
  "kernelspec": {
   "display_name": "Python 3",
   "language": "python",
   "name": "python3"
  },
  "language_info": {
   "codemirror_mode": {
    "name": "ipython",
    "version": 3
   },
   "file_extension": ".py",
   "mimetype": "text/x-python",
   "name": "python",
   "nbconvert_exporter": "python",
   "pygments_lexer": "ipython3",
   "version": "3.6.8"
  }
 },
 "nbformat": 4,
 "nbformat_minor": 2
}
