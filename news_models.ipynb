{
 "cells": [
  {
   "cell_type": "code",
   "execution_count": 59,
   "metadata": {},
   "outputs": [],
   "source": [
    "import numpy as np\n",
    "import time\n",
    "from sklearn.datasets import fetch_20newsgroups \n",
    "\n",
    "from sklearn.feature_extraction.text import CountVectorizer \n",
    "from sklearn.feature_extraction.text import TfidfTransformer \n",
    "\n",
    "from sklearn.linear_model import SGDClassifier \n",
    "from sklearn.pipeline import Pipeline\n",
    "from sklearn.svm import LinearSVC\n",
    "from sklearn.linear_model import LogisticRegression\n",
    "from sklearn.ensemble import AdaBoostClassifier\n",
    "from sklearn.tree import DecisionTreeClassifier\n",
    "from sklearn.ensemble import RandomForestClassifier\n",
    "\n",
    "from sklearn.model_selection import GridSearchCV,RandomizedSearchCV\n"
   ]
  },
  {
   "cell_type": "markdown",
   "metadata": {},
   "source": [
    "## Creating test + train sets"
   ]
  },
  {
   "cell_type": "code",
   "execution_count": 4,
   "metadata": {},
   "outputs": [],
   "source": [
    "categories = ['alt.atheism', 'soc.religion.christian', \n",
    "              'comp.graphics', 'sci.med']\n",
    "\n",
    "# currently looking at all categories \n",
    "twenty_train = fetch_20newsgroups(subset='train', shuffle=True, remove=('headers', 'footers', 'quotes'))\n",
    "twenty_test = fetch_20newsgroups(subset='test', shuffle=True, remove=('headers', 'footers', 'quotes'))\n"
   ]
  },
  {
   "cell_type": "code",
   "execution_count": 6,
   "metadata": {},
   "outputs": [],
   "source": [
    "model_names = ['SVM', 'Logistic Regression', 'AdaBoost', 'Decision Tree', 'Random Forest']\n",
    "\n",
    "# just need to add randomforest \n",
    "models = [\n",
    "    LinearSVC(random_state=0),\n",
    "    LogisticRegression(random_state=0),\n",
    "    AdaBoostClassifier(n_estimators=50, learning_rate=1,random_state=0),\n",
    "    DecisionTreeClassifier(random_state=0),\n",
    "    RandomForestClassifier(max_depth=2, random_state=0)\n",
    "]\n",
    "\n",
    "parameter_grids = [\n",
    "    [ # Parameter Grid for Linear SVC.\n",
    "#         { # l1 Case: Dual False, Squared_hinge\n",
    "#             'vect__ngram_range': [(1, 1), (1, 2)],\n",
    "#             'tfidf__use_idf': [True, False],\n",
    "#             'clf__loss': ['squared_hinge'],\n",
    "#             'clf__penalty': ['l1'],\n",
    "#             'clf__C': range(1,100,10),\n",
    "#             'clf__tol': [1e-2, 1e-4, 1e-9],\n",
    "#             'clf__dual': [False]\n",
    "#         },\n",
    "#         { # l2 Hinge Case: Dual True\n",
    "#             'vect__ngram_range': [(1, 1), (1, 2)],\n",
    "#             'tfidf__use_idf': [True, False],\n",
    "#             'clf__loss': ['hinge'],\n",
    "#             'clf__penalty': ['l2'],\n",
    "#             'clf__C': range(1,100,10),\n",
    "#             'clf__tol': [1e-2, 1e-4, 1e-9],\n",
    "#             'clf__dual': [True]\n",
    "#         },\n",
    "#         { # l2 Square Hinged Case\n",
    "#             'vect__ngram_range': [(1, 1), (1, 2)],\n",
    "#             'tfidf__use_idf': [True, False],\n",
    "#             'clf__loss': ['squared_hinge'],\n",
    "#             'clf__penalty': ['l2'],\n",
    "#             'clf__C': range(1,100,10),\n",
    "#             'clf__tol': [1e-2, 1e-4, 1e-9],\n",
    "#             'clf__dual': [True,False]\n",
    "#         },\n",
    "        {\n",
    "            'vect__ngram_range': [(1,1), (1,2)],\n",
    "            'tfidf__use_idf': (True, False),\n",
    "            'vect__stop_words': ('english', None)\n",
    "        }\n",
    "    ],\n",
    "    [\n",
    "        {\n",
    "            'vect__ngram_range': [(1, 1), (1, 2)],\n",
    "            'tfidf__use_idf': (True, False),\n",
    "            'clf__penalty': ('l2', 'l1')\n",
    "        }\n",
    "    ],\n",
    "    [\n",
    "        {\n",
    "            'vect__ngram_range': [(1, 1), (1, 2)],\n",
    "            'tfidf__use_idf': (True, False),\n",
    "            'clf__learning_rate': (1, 2, 0.5),\n",
    "            'clf__n_estimators': (10, 50, 100)\n",
    "        }\n",
    "    ],\n",
    "    [\n",
    "        {\n",
    "            'vect__ngram_range': [(1, 1), (1, 2)],\n",
    "            'tfidf__use_idf': (True, False),\n",
    "            'clf__criterion': ('gini', 'entropy'),\n",
    "        },\n",
    "    ],\n",
    "    [\n",
    "        {\n",
    "            'vect__ngram_range': [(1, 1), (1, 2)],\n",
    "            'tfidf__use_idf': (True, False),\n",
    "            'clf__criterion': ('gini', 'entropy'),\n",
    "        }\n",
    "    ]\n",
    "]"
   ]
  },
  {
   "cell_type": "code",
   "execution_count": 29,
   "metadata": {},
   "outputs": [],
   "source": [
    "def runGridSearchCV(parameter_grids, models, model_names):\n",
    "    start = time.time()\n",
    "    i = 0\n",
    "    best_scores = []\n",
    "    best_params = []\n",
    "    for model in models: \n",
    "        print(\"Currently training model: \", model_names[i])\n",
    "\n",
    "        text_clf = Pipeline([('vect', CountVectorizer()),\n",
    "                            ('tfidf', TfidfTransformer()),\n",
    "                            ('clf', model)])\n",
    "\n",
    "        _  = text_clf.fit(twenty_train.data, twenty_train.target)    \n",
    "\n",
    "        gs_clf = GridSearchCV(text_clf, parameter_grids[i], n_jobs=-1, cv=3,error_score=0.0)\n",
    "        gs_clf = gs_clf.fit(twenty_train.data, twenty_train.target)\n",
    "\n",
    "        best_scores.append(gs_clf.best_score_)\n",
    "        best_params.append(gs_clf.best_params_)\n",
    "\n",
    "        print(\"Time taken: \", time.time()-start)\n",
    "        print(\"Best score : \", gs_clf.best_score_)\n",
    "        print(\"Best params: \", gs_clf.best_params_)\n",
    "        print(\"\\n\\n\")\n",
    "\n",
    "        i+=1"
   ]
  },
  {
   "cell_type": "code",
   "execution_count": 53,
   "metadata": {},
   "outputs": [],
   "source": [
    "def runRandomizedSearchCV(parameter_grids, models, model_names, num_iters=100):\n",
    "    start = time.time()\n",
    "    i = 0\n",
    "    best_scores = []\n",
    "    best_params = []\n",
    "    for model in models: \n",
    "        print(\"Currently training model: \", model_names[i])\n",
    "\n",
    "        text_clf = Pipeline([('vect', CountVectorizer()),\n",
    "                            ('tfidf', TfidfTransformer()),\n",
    "                            ('clf', model)])\n",
    "\n",
    "        _  = text_clf.fit(twenty_train.data, twenty_train.target)    \n",
    "\n",
    "        rs_clf = RandomizedSearchCV(text_clf, parameter_grids[i], n_jobs=-1, cv=3,error_score=0.0,n_iter = num_iters, verbose = 2, random_state=0)\n",
    "        rs_clf = rs_clf.fit(twenty_train.data, twenty_train.target)\n",
    "\n",
    "        best_scores.append(rs_clf.best_score_)\n",
    "        best_params.append(rs_clf.best_params_)\n",
    "\n",
    "        print(\"Time taken: \", time.time()-start)\n",
    "        print(\"Best score : \", rs_clf.best_score_)\n",
    "        print(\"Best params: \", rs_clf.best_params_)\n",
    "        print(\"\\n\\n\")\n",
    "\n",
    "        i+=1"
   ]
  },
  {
   "cell_type": "code",
   "execution_count": 21,
   "metadata": {},
   "outputs": [
    {
     "ename": "TypeError",
     "evalue": "runGridSearchCV() takes 2 positional arguments but 3 were given",
     "output_type": "error",
     "traceback": [
      "\u001b[0;31m---------------------------------------------------------------------------\u001b[0m",
      "\u001b[0;31mTypeError\u001b[0m                                 Traceback (most recent call last)",
      "\u001b[0;32m<ipython-input-21-94141bf6c078>\u001b[0m in \u001b[0;36m<module>\u001b[0;34m()\u001b[0m\n\u001b[0;32m----> 1\u001b[0;31m \u001b[0mrunGridSearchCV\u001b[0m\u001b[0;34m(\u001b[0m\u001b[0mparameter_grids\u001b[0m\u001b[0;34m,\u001b[0m \u001b[0mmodels\u001b[0m\u001b[0;34m,\u001b[0m \u001b[0mmodel_names\u001b[0m\u001b[0;34m)\u001b[0m\u001b[0;34m\u001b[0m\u001b[0m\n\u001b[0m",
      "\u001b[0;31mTypeError\u001b[0m: runGridSearchCV() takes 2 positional arguments but 3 were given"
     ]
    }
   ],
   "source": [
    "runGridSearchCV(parameter_grids, models, model_names)"
   ]
  },
  {
   "cell_type": "markdown",
   "metadata": {},
   "source": [
    "## Finding Hyperparameters For Each Model"
   ]
  },
  {
   "cell_type": "markdown",
   "metadata": {},
   "source": [
    "### Linear SVC Parameters"
   ]
  },
  {
   "cell_type": "code",
   "execution_count": 62,
   "metadata": {},
   "outputs": [],
   "source": [
    "linear_svc_rs = [\n",
    "    {\n",
    "        'vect__ngram_range': [(1,1),(1,2)],\n",
    "        'tfidf__use_idf': [True,False],\n",
    "        'clf__C': [0.01, 0.05, 0.1, 0.5, 1.0, 10, 20 , 30, 40, 50, 60, 70, 80, 90, 100],\n",
    "        'clf__penalty': ['l2','l1'],\n",
    "        'clf__loss': ['hinge','squared_hinge'],\n",
    "    }\n",
    "]"
   ]
  },
  {
   "cell_type": "code",
   "execution_count": 36,
   "metadata": {},
   "outputs": [],
   "source": [
    "# Narrowed from randomized search\n",
    "linear_svc_gs = [\n",
    "    {\n",
    "        'vect__ngram_range': [(1,1),(1,2)],\n",
    "        'tfidf__use_idf': [True,False],\n",
    "        'clf__C': [0.01, 1.0, 100.],\n",
    "        'clf__penalty': ['l2','l1'],\n",
    "        'clf__loss': ['hinge','squared_hinge'],\n",
    "    }\n",
    "]\n"
   ]
  },
  {
   "cell_type": "code",
   "execution_count": null,
   "metadata": {},
   "outputs": [
    {
     "name": "stdout",
     "output_type": "stream",
     "text": [
      "Currently training model:  SVM\n",
      "Fitting 3 folds for each of 100 candidates, totalling 300 fits\n",
      "[CV] vect__ngram_range=(1, 2), tfidf__use_idf=True, clf__penalty=l1, clf__loss=squared_hinge, clf__C=20 \n",
      "[CV] vect__ngram_range=(1, 2), tfidf__use_idf=True, clf__penalty=l1, clf__loss=squared_hinge, clf__C=20 \n",
      "[CV] vect__ngram_range=(1, 2), tfidf__use_idf=True, clf__penalty=l1, clf__loss=squared_hinge, clf__C=20 \n",
      "[CV] vect__ngram_range=(1, 2), tfidf__use_idf=False, clf__penalty=l1, clf__loss=hinge, clf__C=1.0 \n"
     ]
    },
    {
     "name": "stderr",
     "output_type": "stream",
     "text": [
      "/Users/Harsh-Mac/anaconda3/lib/python3.6/site-packages/sklearn/model_selection/_validation.py:479: FitFailedWarning: Classifier fit failed. The score on this train-test partition for these parameters will be set to 0.000000. Details: \n",
      "ValueError(\"Unsupported set of arguments: The combination of penalty='l1' and loss='hinge' is not supported, Parameters: penalty='l1', loss='hinge', dual=True\",)\n",
      "  \"Details: \\n%r\" % (error_score, e), FitFailedWarning)\n"
     ]
    },
    {
     "name": "stdout",
     "output_type": "stream",
     "text": [
      "[CV]  vect__ngram_range=(1, 2), tfidf__use_idf=False, clf__penalty=l1, clf__loss=hinge, clf__C=1.0, total=  11.8s\n",
      "[CV] vect__ngram_range=(1, 2), tfidf__use_idf=False, clf__penalty=l1, clf__loss=hinge, clf__C=1.0 \n"
     ]
    },
    {
     "name": "stderr",
     "output_type": "stream",
     "text": [
      "/Users/Harsh-Mac/anaconda3/lib/python3.6/site-packages/sklearn/model_selection/_validation.py:479: FitFailedWarning: Classifier fit failed. The score on this train-test partition for these parameters will be set to 0.000000. Details: \n",
      "ValueError(\"Unsupported set of arguments: The combination of penalty='l1' and loss='squared_hinge' are not supported when dual=True, Parameters: penalty='l1', loss='squared_hinge', dual=True\",)\n",
      "  \"Details: \\n%r\" % (error_score, e), FitFailedWarning)\n"
     ]
    },
    {
     "name": "stdout",
     "output_type": "stream",
     "text": [
      "[CV]  vect__ngram_range=(1, 2), tfidf__use_idf=True, clf__penalty=l1, clf__loss=squared_hinge, clf__C=20, total=  12.7s\n"
     ]
    },
    {
     "name": "stderr",
     "output_type": "stream",
     "text": [
      "/Users/Harsh-Mac/anaconda3/lib/python3.6/site-packages/sklearn/model_selection/_validation.py:479: FitFailedWarning: Classifier fit failed. The score on this train-test partition for these parameters will be set to 0.000000. Details: \n",
      "ValueError(\"Unsupported set of arguments: The combination of penalty='l1' and loss='squared_hinge' are not supported when dual=True, Parameters: penalty='l1', loss='squared_hinge', dual=True\",)\n",
      "  \"Details: \\n%r\" % (error_score, e), FitFailedWarning)\n"
     ]
    },
    {
     "name": "stdout",
     "output_type": "stream",
     "text": [
      "[CV]  vect__ngram_range=(1, 2), tfidf__use_idf=True, clf__penalty=l1, clf__loss=squared_hinge, clf__C=20, total=  13.1s\n",
      "[CV] vect__ngram_range=(1, 2), tfidf__use_idf=False, clf__penalty=l1, clf__loss=hinge, clf__C=1.0 \n",
      "[CV] vect__ngram_range=(1, 2), tfidf__use_idf=True, clf__penalty=l1, clf__loss=hinge, clf__C=0.1 \n"
     ]
    },
    {
     "name": "stderr",
     "output_type": "stream",
     "text": [
      "/Users/Harsh-Mac/anaconda3/lib/python3.6/site-packages/sklearn/model_selection/_validation.py:479: FitFailedWarning: Classifier fit failed. The score on this train-test partition for these parameters will be set to 0.000000. Details: \n",
      "ValueError(\"Unsupported set of arguments: The combination of penalty='l1' and loss='squared_hinge' are not supported when dual=True, Parameters: penalty='l1', loss='squared_hinge', dual=True\",)\n",
      "  \"Details: \\n%r\" % (error_score, e), FitFailedWarning)\n"
     ]
    },
    {
     "name": "stdout",
     "output_type": "stream",
     "text": [
      "[CV]  vect__ngram_range=(1, 2), tfidf__use_idf=True, clf__penalty=l1, clf__loss=squared_hinge, clf__C=20, total=  13.5s\n",
      "[CV] vect__ngram_range=(1, 2), tfidf__use_idf=True, clf__penalty=l1, clf__loss=hinge, clf__C=0.1 \n"
     ]
    },
    {
     "name": "stderr",
     "output_type": "stream",
     "text": [
      "/Users/Harsh-Mac/anaconda3/lib/python3.6/site-packages/sklearn/model_selection/_validation.py:479: FitFailedWarning: Classifier fit failed. The score on this train-test partition for these parameters will be set to 0.000000. Details: \n",
      "ValueError(\"Unsupported set of arguments: The combination of penalty='l1' and loss='hinge' is not supported, Parameters: penalty='l1', loss='hinge', dual=True\",)\n",
      "  \"Details: \\n%r\" % (error_score, e), FitFailedWarning)\n"
     ]
    },
    {
     "name": "stdout",
     "output_type": "stream",
     "text": [
      "[CV]  vect__ngram_range=(1, 2), tfidf__use_idf=False, clf__penalty=l1, clf__loss=hinge, clf__C=1.0, total=  11.8s\n",
      "[CV] vect__ngram_range=(1, 2), tfidf__use_idf=True, clf__penalty=l1, clf__loss=hinge, clf__C=0.1 \n"
     ]
    },
    {
     "name": "stderr",
     "output_type": "stream",
     "text": [
      "/Users/Harsh-Mac/anaconda3/lib/python3.6/site-packages/sklearn/model_selection/_validation.py:479: FitFailedWarning: Classifier fit failed. The score on this train-test partition for these parameters will be set to 0.000000. Details: \n",
      "ValueError(\"Unsupported set of arguments: The combination of penalty='l1' and loss='hinge' is not supported, Parameters: penalty='l1', loss='hinge', dual=True\",)\n",
      "  \"Details: \\n%r\" % (error_score, e), FitFailedWarning)\n"
     ]
    },
    {
     "name": "stdout",
     "output_type": "stream",
     "text": [
      "[CV]  vect__ngram_range=(1, 2), tfidf__use_idf=False, clf__penalty=l1, clf__loss=hinge, clf__C=1.0, total=  13.6s\n",
      "[CV] vect__ngram_range=(1, 1), tfidf__use_idf=False, clf__penalty=l2, clf__loss=squared_hinge, clf__C=1.0 \n"
     ]
    },
    {
     "name": "stderr",
     "output_type": "stream",
     "text": [
      "/Users/Harsh-Mac/anaconda3/lib/python3.6/site-packages/sklearn/model_selection/_validation.py:479: FitFailedWarning: Classifier fit failed. The score on this train-test partition for these parameters will be set to 0.000000. Details: \n",
      "ValueError(\"Unsupported set of arguments: The combination of penalty='l1' and loss='hinge' is not supported, Parameters: penalty='l1', loss='hinge', dual=True\",)\n",
      "  \"Details: \\n%r\" % (error_score, e), FitFailedWarning)\n"
     ]
    },
    {
     "name": "stdout",
     "output_type": "stream",
     "text": [
      "[CV]  vect__ngram_range=(1, 2), tfidf__use_idf=True, clf__penalty=l1, clf__loss=hinge, clf__C=0.1, total=  14.8s\n"
     ]
    },
    {
     "name": "stderr",
     "output_type": "stream",
     "text": [
      "/Users/Harsh-Mac/anaconda3/lib/python3.6/site-packages/sklearn/model_selection/_validation.py:479: FitFailedWarning: Classifier fit failed. The score on this train-test partition for these parameters will be set to 0.000000. Details: \n",
      "ValueError(\"Unsupported set of arguments: The combination of penalty='l1' and loss='hinge' is not supported, Parameters: penalty='l1', loss='hinge', dual=True\",)\n",
      "  \"Details: \\n%r\" % (error_score, e), FitFailedWarning)\n"
     ]
    },
    {
     "name": "stdout",
     "output_type": "stream",
     "text": [
      "[CV]  vect__ngram_range=(1, 2), tfidf__use_idf=True, clf__penalty=l1, clf__loss=hinge, clf__C=0.1, total=  14.5s\n",
      "[CV] vect__ngram_range=(1, 1), tfidf__use_idf=False, clf__penalty=l2, clf__loss=squared_hinge, clf__C=1.0 \n",
      "[CV] vect__ngram_range=(1, 1), tfidf__use_idf=False, clf__penalty=l2, clf__loss=squared_hinge, clf__C=1.0 \n",
      "[CV]  vect__ngram_range=(1, 1), tfidf__use_idf=False, clf__penalty=l2, clf__loss=squared_hinge, clf__C=1.0, total=   9.4s\n",
      "[CV] vect__ngram_range=(1, 1), tfidf__use_idf=True, clf__penalty=l1, clf__loss=squared_hinge, clf__C=20 \n"
     ]
    },
    {
     "name": "stderr",
     "output_type": "stream",
     "text": [
      "/Users/Harsh-Mac/anaconda3/lib/python3.6/site-packages/sklearn/model_selection/_validation.py:479: FitFailedWarning: Classifier fit failed. The score on this train-test partition for these parameters will be set to 0.000000. Details: \n",
      "ValueError(\"Unsupported set of arguments: The combination of penalty='l1' and loss='hinge' is not supported, Parameters: penalty='l1', loss='hinge', dual=True\",)\n",
      "  \"Details: \\n%r\" % (error_score, e), FitFailedWarning)\n"
     ]
    },
    {
     "name": "stdout",
     "output_type": "stream",
     "text": [
      "[CV]  vect__ngram_range=(1, 2), tfidf__use_idf=True, clf__penalty=l1, clf__loss=hinge, clf__C=0.1, total=  15.1s\n",
      "[CV] vect__ngram_range=(1, 1), tfidf__use_idf=True, clf__penalty=l1, clf__loss=squared_hinge, clf__C=20 \n",
      "[CV]  vect__ngram_range=(1, 1), tfidf__use_idf=False, clf__penalty=l2, clf__loss=squared_hinge, clf__C=1.0, total=   8.9s\n",
      "[CV] vect__ngram_range=(1, 1), tfidf__use_idf=True, clf__penalty=l1, clf__loss=squared_hinge, clf__C=20 \n",
      "[CV]  vect__ngram_range=(1, 1), tfidf__use_idf=False, clf__penalty=l2, clf__loss=squared_hinge, clf__C=1.0, total=   9.1s\n",
      "[CV] vect__ngram_range=(1, 2), tfidf__use_idf=False, clf__penalty=l2, clf__loss=hinge, clf__C=100 \n"
     ]
    },
    {
     "name": "stderr",
     "output_type": "stream",
     "text": [
      "/Users/Harsh-Mac/anaconda3/lib/python3.6/site-packages/sklearn/model_selection/_validation.py:479: FitFailedWarning: Classifier fit failed. The score on this train-test partition for these parameters will be set to 0.000000. Details: \n",
      "ValueError(\"Unsupported set of arguments: The combination of penalty='l1' and loss='squared_hinge' are not supported when dual=True, Parameters: penalty='l1', loss='squared_hinge', dual=True\",)\n",
      "  \"Details: \\n%r\" % (error_score, e), FitFailedWarning)\n"
     ]
    },
    {
     "name": "stdout",
     "output_type": "stream",
     "text": [
      "[CV]  vect__ngram_range=(1, 1), tfidf__use_idf=True, clf__penalty=l1, clf__loss=squared_hinge, clf__C=20, total=   3.6s\n",
      "[CV] vect__ngram_range=(1, 2), tfidf__use_idf=False, clf__penalty=l2, clf__loss=hinge, clf__C=100 \n"
     ]
    },
    {
     "name": "stderr",
     "output_type": "stream",
     "text": [
      "/Users/Harsh-Mac/anaconda3/lib/python3.6/site-packages/sklearn/model_selection/_validation.py:479: FitFailedWarning: Classifier fit failed. The score on this train-test partition for these parameters will be set to 0.000000. Details: \n",
      "ValueError(\"Unsupported set of arguments: The combination of penalty='l1' and loss='squared_hinge' are not supported when dual=True, Parameters: penalty='l1', loss='squared_hinge', dual=True\",)\n",
      "  \"Details: \\n%r\" % (error_score, e), FitFailedWarning)\n"
     ]
    },
    {
     "name": "stdout",
     "output_type": "stream",
     "text": [
      "[CV]  vect__ngram_range=(1, 1), tfidf__use_idf=True, clf__penalty=l1, clf__loss=squared_hinge, clf__C=20, total=   3.4s\n",
      "[CV] vect__ngram_range=(1, 2), tfidf__use_idf=False, clf__penalty=l2, clf__loss=hinge, clf__C=100 \n"
     ]
    },
    {
     "name": "stderr",
     "output_type": "stream",
     "text": [
      "/Users/Harsh-Mac/anaconda3/lib/python3.6/site-packages/sklearn/model_selection/_validation.py:479: FitFailedWarning: Classifier fit failed. The score on this train-test partition for these parameters will be set to 0.000000. Details: \n",
      "ValueError(\"Unsupported set of arguments: The combination of penalty='l1' and loss='squared_hinge' are not supported when dual=True, Parameters: penalty='l1', loss='squared_hinge', dual=True\",)\n",
      "  \"Details: \\n%r\" % (error_score, e), FitFailedWarning)\n"
     ]
    },
    {
     "name": "stdout",
     "output_type": "stream",
     "text": [
      "[CV]  vect__ngram_range=(1, 1), tfidf__use_idf=True, clf__penalty=l1, clf__loss=squared_hinge, clf__C=20, total=   3.5s\n",
      "[CV] vect__ngram_range=(1, 1), tfidf__use_idf=True, clf__penalty=l1, clf__loss=squared_hinge, clf__C=50 \n"
     ]
    },
    {
     "name": "stderr",
     "output_type": "stream",
     "text": [
      "/Users/Harsh-Mac/anaconda3/lib/python3.6/site-packages/sklearn/model_selection/_validation.py:479: FitFailedWarning: Classifier fit failed. The score on this train-test partition for these parameters will be set to 0.000000. Details: \n",
      "ValueError(\"Unsupported set of arguments: The combination of penalty='l1' and loss='squared_hinge' are not supported when dual=True, Parameters: penalty='l1', loss='squared_hinge', dual=True\",)\n",
      "  \"Details: \\n%r\" % (error_score, e), FitFailedWarning)\n"
     ]
    },
    {
     "name": "stdout",
     "output_type": "stream",
     "text": [
      "[CV]  vect__ngram_range=(1, 1), tfidf__use_idf=True, clf__penalty=l1, clf__loss=squared_hinge, clf__C=50, total=   3.6s\n",
      "[CV] vect__ngram_range=(1, 1), tfidf__use_idf=True, clf__penalty=l1, clf__loss=squared_hinge, clf__C=50 \n"
     ]
    },
    {
     "name": "stderr",
     "output_type": "stream",
     "text": [
      "/Users/Harsh-Mac/anaconda3/lib/python3.6/site-packages/sklearn/model_selection/_validation.py:479: FitFailedWarning: Classifier fit failed. The score on this train-test partition for these parameters will be set to 0.000000. Details: \n",
      "ValueError(\"Unsupported set of arguments: The combination of penalty='l1' and loss='squared_hinge' are not supported when dual=True, Parameters: penalty='l1', loss='squared_hinge', dual=True\",)\n",
      "  \"Details: \\n%r\" % (error_score, e), FitFailedWarning)\n"
     ]
    },
    {
     "name": "stdout",
     "output_type": "stream",
     "text": [
      "[CV]  vect__ngram_range=(1, 1), tfidf__use_idf=True, clf__penalty=l1, clf__loss=squared_hinge, clf__C=50, total=   3.0s\n",
      "[CV] vect__ngram_range=(1, 1), tfidf__use_idf=True, clf__penalty=l1, clf__loss=squared_hinge, clf__C=50 \n"
     ]
    },
    {
     "name": "stderr",
     "output_type": "stream",
     "text": [
      "/Users/Harsh-Mac/anaconda3/lib/python3.6/site-packages/sklearn/model_selection/_validation.py:479: FitFailedWarning: Classifier fit failed. The score on this train-test partition for these parameters will be set to 0.000000. Details: \n",
      "ValueError(\"Unsupported set of arguments: The combination of penalty='l1' and loss='squared_hinge' are not supported when dual=True, Parameters: penalty='l1', loss='squared_hinge', dual=True\",)\n",
      "  \"Details: \\n%r\" % (error_score, e), FitFailedWarning)\n"
     ]
    },
    {
     "name": "stdout",
     "output_type": "stream",
     "text": [
      "[CV]  vect__ngram_range=(1, 1), tfidf__use_idf=True, clf__penalty=l1, clf__loss=squared_hinge, clf__C=50, total=   3.8s\n",
      "[CV] vect__ngram_range=(1, 1), tfidf__use_idf=True, clf__penalty=l1, clf__loss=squared_hinge, clf__C=90 \n"
     ]
    },
    {
     "name": "stderr",
     "output_type": "stream",
     "text": [
      "/Users/Harsh-Mac/anaconda3/lib/python3.6/site-packages/sklearn/model_selection/_validation.py:479: FitFailedWarning: Classifier fit failed. The score on this train-test partition for these parameters will be set to 0.000000. Details: \n",
      "ValueError(\"Unsupported set of arguments: The combination of penalty='l1' and loss='squared_hinge' are not supported when dual=True, Parameters: penalty='l1', loss='squared_hinge', dual=True\",)\n",
      "  \"Details: \\n%r\" % (error_score, e), FitFailedWarning)\n"
     ]
    },
    {
     "name": "stdout",
     "output_type": "stream",
     "text": [
      "[CV]  vect__ngram_range=(1, 1), tfidf__use_idf=True, clf__penalty=l1, clf__loss=squared_hinge, clf__C=90, total=   4.2s\n",
      "[CV] vect__ngram_range=(1, 1), tfidf__use_idf=True, clf__penalty=l1, clf__loss=squared_hinge, clf__C=90 \n"
     ]
    },
    {
     "name": "stderr",
     "output_type": "stream",
     "text": [
      "/Users/Harsh-Mac/anaconda3/lib/python3.6/site-packages/sklearn/model_selection/_validation.py:479: FitFailedWarning: Classifier fit failed. The score on this train-test partition for these parameters will be set to 0.000000. Details: \n",
      "ValueError(\"Unsupported set of arguments: The combination of penalty='l1' and loss='squared_hinge' are not supported when dual=True, Parameters: penalty='l1', loss='squared_hinge', dual=True\",)\n",
      "  \"Details: \\n%r\" % (error_score, e), FitFailedWarning)\n"
     ]
    },
    {
     "name": "stdout",
     "output_type": "stream",
     "text": [
      "[CV]  vect__ngram_range=(1, 1), tfidf__use_idf=True, clf__penalty=l1, clf__loss=squared_hinge, clf__C=90, total=   3.9s\n",
      "[CV] vect__ngram_range=(1, 1), tfidf__use_idf=True, clf__penalty=l1, clf__loss=squared_hinge, clf__C=90 \n"
     ]
    },
    {
     "name": "stderr",
     "output_type": "stream",
     "text": [
      "/Users/Harsh-Mac/anaconda3/lib/python3.6/site-packages/sklearn/model_selection/_validation.py:479: FitFailedWarning: Classifier fit failed. The score on this train-test partition for these parameters will be set to 0.000000. Details: \n",
      "ValueError(\"Unsupported set of arguments: The combination of penalty='l1' and loss='squared_hinge' are not supported when dual=True, Parameters: penalty='l1', loss='squared_hinge', dual=True\",)\n",
      "  \"Details: \\n%r\" % (error_score, e), FitFailedWarning)\n"
     ]
    },
    {
     "name": "stdout",
     "output_type": "stream",
     "text": [
      "[CV]  vect__ngram_range=(1, 1), tfidf__use_idf=True, clf__penalty=l1, clf__loss=squared_hinge, clf__C=90, total=   4.2s\n",
      "[CV] vect__ngram_range=(1, 1), tfidf__use_idf=True, clf__penalty=l2, clf__loss=squared_hinge, clf__C=50 \n",
      "[CV]  vect__ngram_range=(1, 1), tfidf__use_idf=True, clf__penalty=l2, clf__loss=squared_hinge, clf__C=50, total= 1.8min\n",
      "[CV] vect__ngram_range=(1, 1), tfidf__use_idf=True, clf__penalty=l2, clf__loss=squared_hinge, clf__C=50 \n",
      "[CV]  vect__ngram_range=(1, 2), tfidf__use_idf=False, clf__penalty=l2, clf__loss=hinge, clf__C=100, total= 3.9min\n",
      "[CV]  vect__ngram_range=(1, 1), tfidf__use_idf=True, clf__penalty=l2, clf__loss=squared_hinge, clf__C=50, total= 1.6min\n",
      "[CV] vect__ngram_range=(1, 1), tfidf__use_idf=True, clf__penalty=l2, clf__loss=squared_hinge, clf__C=50 \n",
      "[CV] vect__ngram_range=(1, 1), tfidf__use_idf=False, clf__penalty=l2, clf__loss=hinge, clf__C=80 \n",
      "[CV]  vect__ngram_range=(1, 2), tfidf__use_idf=False, clf__penalty=l2, clf__loss=hinge, clf__C=100, total= 4.1min\n",
      "[CV] vect__ngram_range=(1, 1), tfidf__use_idf=False, clf__penalty=l2, clf__loss=hinge, clf__C=80 \n",
      "[CV]  vect__ngram_range=(1, 2), tfidf__use_idf=False, clf__penalty=l2, clf__loss=hinge, clf__C=100, total= 4.3min\n",
      "[CV] vect__ngram_range=(1, 1), tfidf__use_idf=False, clf__penalty=l2, clf__loss=hinge, clf__C=80 \n",
      "[CV]  vect__ngram_range=(1, 1), tfidf__use_idf=False, clf__penalty=l2, clf__loss=hinge, clf__C=80, total=  44.8s\n",
      "[CV] vect__ngram_range=(1, 1), tfidf__use_idf=True, clf__penalty=l1, clf__loss=squared_hinge, clf__C=1.0 \n"
     ]
    },
    {
     "name": "stderr",
     "output_type": "stream",
     "text": [
      "/Users/Harsh-Mac/anaconda3/lib/python3.6/site-packages/sklearn/model_selection/_validation.py:479: FitFailedWarning: Classifier fit failed. The score on this train-test partition for these parameters will be set to 0.000000. Details: \n",
      "ValueError(\"Unsupported set of arguments: The combination of penalty='l1' and loss='squared_hinge' are not supported when dual=True, Parameters: penalty='l1', loss='squared_hinge', dual=True\",)\n",
      "  \"Details: \\n%r\" % (error_score, e), FitFailedWarning)\n"
     ]
    },
    {
     "name": "stdout",
     "output_type": "stream",
     "text": [
      "[CV]  vect__ngram_range=(1, 1), tfidf__use_idf=True, clf__penalty=l1, clf__loss=squared_hinge, clf__C=1.0, total=   3.4s\n",
      "[CV] vect__ngram_range=(1, 1), tfidf__use_idf=True, clf__penalty=l1, clf__loss=squared_hinge, clf__C=1.0 \n"
     ]
    },
    {
     "name": "stderr",
     "output_type": "stream",
     "text": [
      "/Users/Harsh-Mac/anaconda3/lib/python3.6/site-packages/sklearn/model_selection/_validation.py:479: FitFailedWarning: Classifier fit failed. The score on this train-test partition for these parameters will be set to 0.000000. Details: \n",
      "ValueError(\"Unsupported set of arguments: The combination of penalty='l1' and loss='squared_hinge' are not supported when dual=True, Parameters: penalty='l1', loss='squared_hinge', dual=True\",)\n",
      "  \"Details: \\n%r\" % (error_score, e), FitFailedWarning)\n"
     ]
    },
    {
     "name": "stdout",
     "output_type": "stream",
     "text": [
      "[CV]  vect__ngram_range=(1, 1), tfidf__use_idf=True, clf__penalty=l1, clf__loss=squared_hinge, clf__C=1.0, total=   3.3s\n",
      "[CV] vect__ngram_range=(1, 1), tfidf__use_idf=True, clf__penalty=l1, clf__loss=squared_hinge, clf__C=1.0 \n"
     ]
    },
    {
     "name": "stderr",
     "output_type": "stream",
     "text": [
      "/Users/Harsh-Mac/anaconda3/lib/python3.6/site-packages/sklearn/model_selection/_validation.py:479: FitFailedWarning: Classifier fit failed. The score on this train-test partition for these parameters will be set to 0.000000. Details: \n",
      "ValueError(\"Unsupported set of arguments: The combination of penalty='l1' and loss='squared_hinge' are not supported when dual=True, Parameters: penalty='l1', loss='squared_hinge', dual=True\",)\n",
      "  \"Details: \\n%r\" % (error_score, e), FitFailedWarning)\n"
     ]
    },
    {
     "name": "stdout",
     "output_type": "stream",
     "text": [
      "[CV]  vect__ngram_range=(1, 1), tfidf__use_idf=True, clf__penalty=l1, clf__loss=squared_hinge, clf__C=1.0, total=   3.4s\n",
      "[CV] vect__ngram_range=(1, 1), tfidf__use_idf=False, clf__penalty=l2, clf__loss=squared_hinge, clf__C=80 \n",
      "[CV]  vect__ngram_range=(1, 1), tfidf__use_idf=False, clf__penalty=l2, clf__loss=hinge, clf__C=80, total=  42.1s\n",
      "[CV] vect__ngram_range=(1, 1), tfidf__use_idf=False, clf__penalty=l2, clf__loss=squared_hinge, clf__C=80 \n",
      "[CV]  vect__ngram_range=(1, 1), tfidf__use_idf=False, clf__penalty=l2, clf__loss=hinge, clf__C=80, total=  44.1s\n",
      "[CV] vect__ngram_range=(1, 1), tfidf__use_idf=False, clf__penalty=l2, clf__loss=squared_hinge, clf__C=80 \n",
      "[CV]  vect__ngram_range=(1, 1), tfidf__use_idf=True, clf__penalty=l2, clf__loss=squared_hinge, clf__C=50, total= 1.2min\n"
     ]
    },
    {
     "name": "stderr",
     "output_type": "stream",
     "text": [
      "[Parallel(n_jobs=-1)]: Done  33 tasks      | elapsed:  5.9min\n"
     ]
    },
    {
     "name": "stdout",
     "output_type": "stream",
     "text": [
      "[CV] vect__ngram_range=(1, 2), tfidf__use_idf=False, clf__penalty=l2, clf__loss=hinge, clf__C=10 \n"
     ]
    }
   ],
   "source": [
    "runRandomizedSearchCV(linear_svc_rs, [models[0]], [model_names[0]])"
   ]
  },
  {
   "cell_type": "code",
   "execution_count": null,
   "metadata": {},
   "outputs": [],
   "source": [
    "runGridSearchCV(linear_svc_pg, [models[0]], [model_names[0]])"
   ]
  },
  {
   "cell_type": "markdown",
   "metadata": {},
   "source": [
    "### Logistic Regression Parameters"
   ]
  },
  {
   "cell_type": "code",
   "execution_count": 46,
   "metadata": {},
   "outputs": [],
   "source": [
    "logistic_regression_pg = [\n",
    "        {\n",
    "            'vect__ngram_range': [(1,1),(1,2)],\n",
    "            'tfidf__use_idf': [True,False],\n",
    "            'clf__C': [0.01, 1.0, 100.],\n",
    "            'clf__penalty': ['l2','l1','elasticnet'],\n",
    "            'clf__solver': ['newton-cg','sag','lbfgs','liblinear','saga'],\n",
    "        }\n",
    "]"
   ]
  },
  {
   "cell_type": "code",
   "execution_count": 55,
   "metadata": {},
   "outputs": [
    {
     "name": "stdout",
     "output_type": "stream",
     "text": [
      "Currently training model:  Logistic Regression\n",
      "Fitting 3 folds for each of 100 candidates, totalling 300 fits\n",
      "[CV] vect__ngram_range=(1, 1), tfidf__use_idf=False, clf__solver=sag, clf__penalty=elasticnet, clf__C=1.0 \n",
      "[CV] vect__ngram_range=(1, 1), tfidf__use_idf=False, clf__solver=sag, clf__penalty=elasticnet, clf__C=1.0 \n",
      "[CV] vect__ngram_range=(1, 1), tfidf__use_idf=False, clf__solver=sag, clf__penalty=elasticnet, clf__C=1.0 \n",
      "[CV] vect__ngram_range=(1, 2), tfidf__use_idf=False, clf__solver=sag, clf__penalty=l2, clf__C=0.01 \n"
     ]
    },
    {
     "name": "stderr",
     "output_type": "stream",
     "text": [
      "/Users/Harsh-Mac/anaconda3/lib/python3.6/site-packages/sklearn/model_selection/_validation.py:479: FitFailedWarning: Classifier fit failed. The score on this train-test partition for these parameters will be set to 0.000000. Details: \n",
      "ValueError('Solver sag supports only l2 penalties, got elasticnet penalty.',)\n",
      "  \"Details: \\n%r\" % (error_score, e), FitFailedWarning)\n"
     ]
    },
    {
     "name": "stdout",
     "output_type": "stream",
     "text": [
      "[CV]  vect__ngram_range=(1, 1), tfidf__use_idf=False, clf__solver=sag, clf__penalty=elasticnet, clf__C=1.0, total=   3.0s\n"
     ]
    },
    {
     "name": "stderr",
     "output_type": "stream",
     "text": [
      "/Users/Harsh-Mac/anaconda3/lib/python3.6/site-packages/sklearn/model_selection/_validation.py:479: FitFailedWarning: Classifier fit failed. The score on this train-test partition for these parameters will be set to 0.000000. Details: \n",
      "ValueError('Solver sag supports only l2 penalties, got elasticnet penalty.',)\n",
      "  \"Details: \\n%r\" % (error_score, e), FitFailedWarning)\n"
     ]
    },
    {
     "name": "stdout",
     "output_type": "stream",
     "text": [
      "[CV]  vect__ngram_range=(1, 1), tfidf__use_idf=False, clf__solver=sag, clf__penalty=elasticnet, clf__C=1.0, total=   3.0s\n",
      "[CV] vect__ngram_range=(1, 2), tfidf__use_idf=False, clf__solver=sag, clf__penalty=l2, clf__C=0.01 \n",
      "[CV] vect__ngram_range=(1, 2), tfidf__use_idf=False, clf__solver=sag, clf__penalty=l2, clf__C=0.01 \n"
     ]
    },
    {
     "name": "stderr",
     "output_type": "stream",
     "text": [
      "/Users/Harsh-Mac/anaconda3/lib/python3.6/site-packages/sklearn/model_selection/_validation.py:479: FitFailedWarning: Classifier fit failed. The score on this train-test partition for these parameters will be set to 0.000000. Details: \n",
      "ValueError('Solver sag supports only l2 penalties, got elasticnet penalty.',)\n",
      "  \"Details: \\n%r\" % (error_score, e), FitFailedWarning)\n"
     ]
    },
    {
     "name": "stdout",
     "output_type": "stream",
     "text": [
      "[CV]  vect__ngram_range=(1, 1), tfidf__use_idf=False, clf__solver=sag, clf__penalty=elasticnet, clf__C=1.0, total=   3.3s\n",
      "[CV] vect__ngram_range=(1, 2), tfidf__use_idf=True, clf__solver=sag, clf__penalty=l2, clf__C=100.0 \n"
     ]
    },
    {
     "name": "stderr",
     "output_type": "stream",
     "text": [
      "/Users/Harsh-Mac/anaconda3/lib/python3.6/site-packages/sklearn/linear_model/sag.py:326: ConvergenceWarning: The max_iter was reached which means the coef_ did not converge\n",
      "  \"the coef_ did not converge\", ConvergenceWarning)\n"
     ]
    },
    {
     "name": "stdout",
     "output_type": "stream",
     "text": [
      "[CV]  vect__ngram_range=(1, 2), tfidf__use_idf=False, clf__solver=sag, clf__penalty=l2, clf__C=0.01, total= 2.1min\n",
      "[CV] vect__ngram_range=(1, 2), tfidf__use_idf=True, clf__solver=sag, clf__penalty=l2, clf__C=100.0 \n",
      "[CV]  vect__ngram_range=(1, 2), tfidf__use_idf=False, clf__solver=sag, clf__penalty=l2, clf__C=0.01, total= 2.2min\n",
      "[CV] vect__ngram_range=(1, 2), tfidf__use_idf=True, clf__solver=sag, clf__penalty=l2, clf__C=100.0 \n",
      "[CV]  vect__ngram_range=(1, 2), tfidf__use_idf=False, clf__solver=sag, clf__penalty=l2, clf__C=0.01, total= 2.2min\n",
      "[CV] vect__ngram_range=(1, 1), tfidf__use_idf=True, clf__solver=newton-cg, clf__penalty=elasticnet, clf__C=100.0 \n"
     ]
    },
    {
     "name": "stderr",
     "output_type": "stream",
     "text": [
      "/Users/Harsh-Mac/anaconda3/lib/python3.6/site-packages/sklearn/model_selection/_validation.py:479: FitFailedWarning: Classifier fit failed. The score on this train-test partition for these parameters will be set to 0.000000. Details: \n",
      "ValueError('Solver newton-cg supports only l2 penalties, got elasticnet penalty.',)\n",
      "  \"Details: \\n%r\" % (error_score, e), FitFailedWarning)\n"
     ]
    },
    {
     "name": "stdout",
     "output_type": "stream",
     "text": [
      "[CV]  vect__ngram_range=(1, 1), tfidf__use_idf=True, clf__solver=newton-cg, clf__penalty=elasticnet, clf__C=100.0, total=   3.8s\n",
      "[CV] vect__ngram_range=(1, 1), tfidf__use_idf=True, clf__solver=newton-cg, clf__penalty=elasticnet, clf__C=100.0 \n"
     ]
    },
    {
     "name": "stderr",
     "output_type": "stream",
     "text": [
      "/Users/Harsh-Mac/anaconda3/lib/python3.6/site-packages/sklearn/model_selection/_validation.py:479: FitFailedWarning: Classifier fit failed. The score on this train-test partition for these parameters will be set to 0.000000. Details: \n",
      "ValueError('Solver newton-cg supports only l2 penalties, got elasticnet penalty.',)\n",
      "  \"Details: \\n%r\" % (error_score, e), FitFailedWarning)\n"
     ]
    },
    {
     "name": "stdout",
     "output_type": "stream",
     "text": [
      "[CV]  vect__ngram_range=(1, 1), tfidf__use_idf=True, clf__solver=newton-cg, clf__penalty=elasticnet, clf__C=100.0, total=   3.2s\n",
      "[CV] vect__ngram_range=(1, 1), tfidf__use_idf=True, clf__solver=newton-cg, clf__penalty=elasticnet, clf__C=100.0 \n"
     ]
    },
    {
     "name": "stderr",
     "output_type": "stream",
     "text": [
      "/Users/Harsh-Mac/anaconda3/lib/python3.6/site-packages/sklearn/model_selection/_validation.py:479: FitFailedWarning: Classifier fit failed. The score on this train-test partition for these parameters will be set to 0.000000. Details: \n",
      "ValueError('Solver newton-cg supports only l2 penalties, got elasticnet penalty.',)\n",
      "  \"Details: \\n%r\" % (error_score, e), FitFailedWarning)\n"
     ]
    },
    {
     "name": "stdout",
     "output_type": "stream",
     "text": [
      "[CV]  vect__ngram_range=(1, 1), tfidf__use_idf=True, clf__solver=newton-cg, clf__penalty=elasticnet, clf__C=100.0, total=   4.9s\n",
      "[CV] vect__ngram_range=(1, 1), tfidf__use_idf=True, clf__solver=saga, clf__penalty=l2, clf__C=100.0 \n"
     ]
    },
    {
     "name": "stderr",
     "output_type": "stream",
     "text": [
      "/Users/Harsh-Mac/anaconda3/lib/python3.6/site-packages/sklearn/linear_model/sag.py:326: ConvergenceWarning: The max_iter was reached which means the coef_ did not converge\n",
      "  \"the coef_ did not converge\", ConvergenceWarning)\n",
      "/Users/Harsh-Mac/anaconda3/lib/python3.6/site-packages/sklearn/linear_model/sag.py:326: ConvergenceWarning: The max_iter was reached which means the coef_ did not converge\n",
      "  \"the coef_ did not converge\", ConvergenceWarning)\n",
      "/Users/Harsh-Mac/anaconda3/lib/python3.6/site-packages/sklearn/linear_model/sag.py:326: ConvergenceWarning: The max_iter was reached which means the coef_ did not converge\n",
      "  \"the coef_ did not converge\", ConvergenceWarning)\n"
     ]
    },
    {
     "name": "stdout",
     "output_type": "stream",
     "text": [
      "[CV]  vect__ngram_range=(1, 1), tfidf__use_idf=True, clf__solver=saga, clf__penalty=l2, clf__C=100.0, total= 2.1min\n",
      "[CV] vect__ngram_range=(1, 1), tfidf__use_idf=True, clf__solver=saga, clf__penalty=l2, clf__C=100.0 \n"
     ]
    },
    {
     "name": "stderr",
     "output_type": "stream",
     "text": [
      "/Users/Harsh-Mac/anaconda3/lib/python3.6/site-packages/sklearn/linear_model/sag.py:326: ConvergenceWarning: The max_iter was reached which means the coef_ did not converge\n",
      "  \"the coef_ did not converge\", ConvergenceWarning)\n"
     ]
    },
    {
     "name": "stdout",
     "output_type": "stream",
     "text": [
      "[CV]  vect__ngram_range=(1, 1), tfidf__use_idf=True, clf__solver=saga, clf__penalty=l2, clf__C=100.0, total= 2.1min\n",
      "[CV] vect__ngram_range=(1, 1), tfidf__use_idf=True, clf__solver=saga, clf__penalty=l2, clf__C=100.0 \n"
     ]
    },
    {
     "name": "stderr",
     "output_type": "stream",
     "text": [
      "/Users/Harsh-Mac/anaconda3/lib/python3.6/site-packages/sklearn/linear_model/sag.py:326: ConvergenceWarning: The max_iter was reached which means the coef_ did not converge\n",
      "  \"the coef_ did not converge\", ConvergenceWarning)\n"
     ]
    },
    {
     "name": "stdout",
     "output_type": "stream",
     "text": [
      "[CV]  vect__ngram_range=(1, 2), tfidf__use_idf=True, clf__solver=sag, clf__penalty=l2, clf__C=100.0, total= 8.8min\n",
      "[CV] vect__ngram_range=(1, 2), tfidf__use_idf=False, clf__solver=lbfgs, clf__penalty=l2, clf__C=1.0 \n",
      "[CV]  vect__ngram_range=(1, 1), tfidf__use_idf=True, clf__solver=saga, clf__penalty=l2, clf__C=100.0, total= 2.2min\n",
      "[CV] vect__ngram_range=(1, 2), tfidf__use_idf=False, clf__solver=lbfgs, clf__penalty=l2, clf__C=1.0 \n"
     ]
    },
    {
     "ename": "KeyboardInterrupt",
     "evalue": "",
     "output_type": "error",
     "traceback": [
      "\u001b[0;31m---------------------------------------------------------------------------\u001b[0m",
      "\u001b[0;31mKeyboardInterrupt\u001b[0m                         Traceback (most recent call last)",
      "\u001b[0;32m<ipython-input-55-857f0495dce4>\u001b[0m in \u001b[0;36m<module>\u001b[0;34m()\u001b[0m\n\u001b[0;32m----> 1\u001b[0;31m \u001b[0mrunRandomizedSearchCV\u001b[0m\u001b[0;34m(\u001b[0m\u001b[0mlogistic_regression_pg\u001b[0m\u001b[0;34m,\u001b[0m \u001b[0;34m[\u001b[0m\u001b[0mmodels\u001b[0m\u001b[0;34m[\u001b[0m\u001b[0;36m1\u001b[0m\u001b[0;34m]\u001b[0m\u001b[0;34m]\u001b[0m\u001b[0;34m,\u001b[0m \u001b[0;34m[\u001b[0m\u001b[0mmodel_names\u001b[0m\u001b[0;34m[\u001b[0m\u001b[0;36m1\u001b[0m\u001b[0;34m]\u001b[0m\u001b[0;34m]\u001b[0m\u001b[0;34m)\u001b[0m\u001b[0;34m\u001b[0m\u001b[0m\n\u001b[0m",
      "\u001b[0;32m<ipython-input-53-88fbb16b660f>\u001b[0m in \u001b[0;36mrunRandomizedSearchCV\u001b[0;34m(parameter_grids, models, model_names)\u001b[0m\n\u001b[1;32m     14\u001b[0m \u001b[0;34m\u001b[0m\u001b[0m\n\u001b[1;32m     15\u001b[0m         \u001b[0mrs_clf\u001b[0m \u001b[0;34m=\u001b[0m \u001b[0mRandomizedSearchCV\u001b[0m\u001b[0;34m(\u001b[0m\u001b[0mtext_clf\u001b[0m\u001b[0;34m,\u001b[0m \u001b[0mparameter_grids\u001b[0m\u001b[0;34m[\u001b[0m\u001b[0mi\u001b[0m\u001b[0;34m]\u001b[0m\u001b[0;34m,\u001b[0m \u001b[0mn_jobs\u001b[0m\u001b[0;34m=\u001b[0m\u001b[0;34m-\u001b[0m\u001b[0;36m1\u001b[0m\u001b[0;34m,\u001b[0m \u001b[0mcv\u001b[0m\u001b[0;34m=\u001b[0m\u001b[0;36m3\u001b[0m\u001b[0;34m,\u001b[0m\u001b[0merror_score\u001b[0m\u001b[0;34m=\u001b[0m\u001b[0;36m0.0\u001b[0m\u001b[0;34m,\u001b[0m\u001b[0mn_iter\u001b[0m \u001b[0;34m=\u001b[0m \u001b[0;36m100\u001b[0m\u001b[0;34m,\u001b[0m \u001b[0mverbose\u001b[0m \u001b[0;34m=\u001b[0m \u001b[0;36m2\u001b[0m\u001b[0;34m,\u001b[0m \u001b[0mrandom_state\u001b[0m\u001b[0;34m=\u001b[0m\u001b[0;36m0\u001b[0m\u001b[0;34m)\u001b[0m\u001b[0;34m\u001b[0m\u001b[0m\n\u001b[0;32m---> 16\u001b[0;31m         \u001b[0mrs_clf\u001b[0m \u001b[0;34m=\u001b[0m \u001b[0mrs_clf\u001b[0m\u001b[0;34m.\u001b[0m\u001b[0mfit\u001b[0m\u001b[0;34m(\u001b[0m\u001b[0mtwenty_train\u001b[0m\u001b[0;34m.\u001b[0m\u001b[0mdata\u001b[0m\u001b[0;34m,\u001b[0m \u001b[0mtwenty_train\u001b[0m\u001b[0;34m.\u001b[0m\u001b[0mtarget\u001b[0m\u001b[0;34m)\u001b[0m\u001b[0;34m\u001b[0m\u001b[0m\n\u001b[0m\u001b[1;32m     17\u001b[0m \u001b[0;34m\u001b[0m\u001b[0m\n\u001b[1;32m     18\u001b[0m         \u001b[0mbest_scores\u001b[0m\u001b[0;34m.\u001b[0m\u001b[0mappend\u001b[0m\u001b[0;34m(\u001b[0m\u001b[0mrs_clf\u001b[0m\u001b[0;34m.\u001b[0m\u001b[0mbest_score_\u001b[0m\u001b[0;34m)\u001b[0m\u001b[0;34m\u001b[0m\u001b[0m\n",
      "\u001b[0;32m~/anaconda3/lib/python3.6/site-packages/sklearn/model_selection/_search.py\u001b[0m in \u001b[0;36mfit\u001b[0;34m(self, X, y, groups, **fit_params)\u001b[0m\n\u001b[1;32m    637\u001b[0m                                   error_score=self.error_score)\n\u001b[1;32m    638\u001b[0m           for parameters, (train, test) in product(candidate_params,\n\u001b[0;32m--> 639\u001b[0;31m                                                    cv.split(X, y, groups)))\n\u001b[0m\u001b[1;32m    640\u001b[0m \u001b[0;34m\u001b[0m\u001b[0m\n\u001b[1;32m    641\u001b[0m         \u001b[0;31m# if one choose to see train score, \"out\" will contain train score info\u001b[0m\u001b[0;34m\u001b[0m\u001b[0;34m\u001b[0m\u001b[0m\n",
      "\u001b[0;32m~/anaconda3/lib/python3.6/site-packages/sklearn/externals/joblib/parallel.py\u001b[0m in \u001b[0;36m__call__\u001b[0;34m(self, iterable)\u001b[0m\n\u001b[1;32m    787\u001b[0m                 \u001b[0;31m# consumption.\u001b[0m\u001b[0;34m\u001b[0m\u001b[0;34m\u001b[0m\u001b[0m\n\u001b[1;32m    788\u001b[0m                 \u001b[0mself\u001b[0m\u001b[0;34m.\u001b[0m\u001b[0m_iterating\u001b[0m \u001b[0;34m=\u001b[0m \u001b[0;32mFalse\u001b[0m\u001b[0;34m\u001b[0m\u001b[0m\n\u001b[0;32m--> 789\u001b[0;31m             \u001b[0mself\u001b[0m\u001b[0;34m.\u001b[0m\u001b[0mretrieve\u001b[0m\u001b[0;34m(\u001b[0m\u001b[0;34m)\u001b[0m\u001b[0;34m\u001b[0m\u001b[0m\n\u001b[0m\u001b[1;32m    790\u001b[0m             \u001b[0;31m# Make sure that we get a last message telling us we are done\u001b[0m\u001b[0;34m\u001b[0m\u001b[0;34m\u001b[0m\u001b[0m\n\u001b[1;32m    791\u001b[0m             \u001b[0melapsed_time\u001b[0m \u001b[0;34m=\u001b[0m \u001b[0mtime\u001b[0m\u001b[0;34m.\u001b[0m\u001b[0mtime\u001b[0m\u001b[0;34m(\u001b[0m\u001b[0;34m)\u001b[0m \u001b[0;34m-\u001b[0m \u001b[0mself\u001b[0m\u001b[0;34m.\u001b[0m\u001b[0m_start_time\u001b[0m\u001b[0;34m\u001b[0m\u001b[0m\n",
      "\u001b[0;32m~/anaconda3/lib/python3.6/site-packages/sklearn/externals/joblib/parallel.py\u001b[0m in \u001b[0;36mretrieve\u001b[0;34m(self)\u001b[0m\n\u001b[1;32m    697\u001b[0m             \u001b[0;32mtry\u001b[0m\u001b[0;34m:\u001b[0m\u001b[0;34m\u001b[0m\u001b[0m\n\u001b[1;32m    698\u001b[0m                 \u001b[0;32mif\u001b[0m \u001b[0mgetattr\u001b[0m\u001b[0;34m(\u001b[0m\u001b[0mself\u001b[0m\u001b[0;34m.\u001b[0m\u001b[0m_backend\u001b[0m\u001b[0;34m,\u001b[0m \u001b[0;34m'supports_timeout'\u001b[0m\u001b[0;34m,\u001b[0m \u001b[0;32mFalse\u001b[0m\u001b[0;34m)\u001b[0m\u001b[0;34m:\u001b[0m\u001b[0;34m\u001b[0m\u001b[0m\n\u001b[0;32m--> 699\u001b[0;31m                     \u001b[0mself\u001b[0m\u001b[0;34m.\u001b[0m\u001b[0m_output\u001b[0m\u001b[0;34m.\u001b[0m\u001b[0mextend\u001b[0m\u001b[0;34m(\u001b[0m\u001b[0mjob\u001b[0m\u001b[0;34m.\u001b[0m\u001b[0mget\u001b[0m\u001b[0;34m(\u001b[0m\u001b[0mtimeout\u001b[0m\u001b[0;34m=\u001b[0m\u001b[0mself\u001b[0m\u001b[0;34m.\u001b[0m\u001b[0mtimeout\u001b[0m\u001b[0;34m)\u001b[0m\u001b[0;34m)\u001b[0m\u001b[0;34m\u001b[0m\u001b[0m\n\u001b[0m\u001b[1;32m    700\u001b[0m                 \u001b[0;32melse\u001b[0m\u001b[0;34m:\u001b[0m\u001b[0;34m\u001b[0m\u001b[0m\n\u001b[1;32m    701\u001b[0m                     \u001b[0mself\u001b[0m\u001b[0;34m.\u001b[0m\u001b[0m_output\u001b[0m\u001b[0;34m.\u001b[0m\u001b[0mextend\u001b[0m\u001b[0;34m(\u001b[0m\u001b[0mjob\u001b[0m\u001b[0;34m.\u001b[0m\u001b[0mget\u001b[0m\u001b[0;34m(\u001b[0m\u001b[0;34m)\u001b[0m\u001b[0;34m)\u001b[0m\u001b[0;34m\u001b[0m\u001b[0m\n",
      "\u001b[0;32m~/anaconda3/lib/python3.6/multiprocessing/pool.py\u001b[0m in \u001b[0;36mget\u001b[0;34m(self, timeout)\u001b[0m\n\u001b[1;32m    636\u001b[0m \u001b[0;34m\u001b[0m\u001b[0m\n\u001b[1;32m    637\u001b[0m     \u001b[0;32mdef\u001b[0m \u001b[0mget\u001b[0m\u001b[0;34m(\u001b[0m\u001b[0mself\u001b[0m\u001b[0;34m,\u001b[0m \u001b[0mtimeout\u001b[0m\u001b[0;34m=\u001b[0m\u001b[0;32mNone\u001b[0m\u001b[0;34m)\u001b[0m\u001b[0;34m:\u001b[0m\u001b[0;34m\u001b[0m\u001b[0m\n\u001b[0;32m--> 638\u001b[0;31m         \u001b[0mself\u001b[0m\u001b[0;34m.\u001b[0m\u001b[0mwait\u001b[0m\u001b[0;34m(\u001b[0m\u001b[0mtimeout\u001b[0m\u001b[0;34m)\u001b[0m\u001b[0;34m\u001b[0m\u001b[0m\n\u001b[0m\u001b[1;32m    639\u001b[0m         \u001b[0;32mif\u001b[0m \u001b[0;32mnot\u001b[0m \u001b[0mself\u001b[0m\u001b[0;34m.\u001b[0m\u001b[0mready\u001b[0m\u001b[0;34m(\u001b[0m\u001b[0;34m)\u001b[0m\u001b[0;34m:\u001b[0m\u001b[0;34m\u001b[0m\u001b[0m\n\u001b[1;32m    640\u001b[0m             \u001b[0;32mraise\u001b[0m \u001b[0mTimeoutError\u001b[0m\u001b[0;34m\u001b[0m\u001b[0m\n",
      "\u001b[0;32m~/anaconda3/lib/python3.6/multiprocessing/pool.py\u001b[0m in \u001b[0;36mwait\u001b[0;34m(self, timeout)\u001b[0m\n\u001b[1;32m    633\u001b[0m \u001b[0;34m\u001b[0m\u001b[0m\n\u001b[1;32m    634\u001b[0m     \u001b[0;32mdef\u001b[0m \u001b[0mwait\u001b[0m\u001b[0;34m(\u001b[0m\u001b[0mself\u001b[0m\u001b[0;34m,\u001b[0m \u001b[0mtimeout\u001b[0m\u001b[0;34m=\u001b[0m\u001b[0;32mNone\u001b[0m\u001b[0;34m)\u001b[0m\u001b[0;34m:\u001b[0m\u001b[0;34m\u001b[0m\u001b[0m\n\u001b[0;32m--> 635\u001b[0;31m         \u001b[0mself\u001b[0m\u001b[0;34m.\u001b[0m\u001b[0m_event\u001b[0m\u001b[0;34m.\u001b[0m\u001b[0mwait\u001b[0m\u001b[0;34m(\u001b[0m\u001b[0mtimeout\u001b[0m\u001b[0;34m)\u001b[0m\u001b[0;34m\u001b[0m\u001b[0m\n\u001b[0m\u001b[1;32m    636\u001b[0m \u001b[0;34m\u001b[0m\u001b[0m\n\u001b[1;32m    637\u001b[0m     \u001b[0;32mdef\u001b[0m \u001b[0mget\u001b[0m\u001b[0;34m(\u001b[0m\u001b[0mself\u001b[0m\u001b[0;34m,\u001b[0m \u001b[0mtimeout\u001b[0m\u001b[0;34m=\u001b[0m\u001b[0;32mNone\u001b[0m\u001b[0;34m)\u001b[0m\u001b[0;34m:\u001b[0m\u001b[0;34m\u001b[0m\u001b[0m\n",
      "\u001b[0;32m~/anaconda3/lib/python3.6/threading.py\u001b[0m in \u001b[0;36mwait\u001b[0;34m(self, timeout)\u001b[0m\n\u001b[1;32m    549\u001b[0m             \u001b[0msignaled\u001b[0m \u001b[0;34m=\u001b[0m \u001b[0mself\u001b[0m\u001b[0;34m.\u001b[0m\u001b[0m_flag\u001b[0m\u001b[0;34m\u001b[0m\u001b[0m\n\u001b[1;32m    550\u001b[0m             \u001b[0;32mif\u001b[0m \u001b[0;32mnot\u001b[0m \u001b[0msignaled\u001b[0m\u001b[0;34m:\u001b[0m\u001b[0;34m\u001b[0m\u001b[0m\n\u001b[0;32m--> 551\u001b[0;31m                 \u001b[0msignaled\u001b[0m \u001b[0;34m=\u001b[0m \u001b[0mself\u001b[0m\u001b[0;34m.\u001b[0m\u001b[0m_cond\u001b[0m\u001b[0;34m.\u001b[0m\u001b[0mwait\u001b[0m\u001b[0;34m(\u001b[0m\u001b[0mtimeout\u001b[0m\u001b[0;34m)\u001b[0m\u001b[0;34m\u001b[0m\u001b[0m\n\u001b[0m\u001b[1;32m    552\u001b[0m             \u001b[0;32mreturn\u001b[0m \u001b[0msignaled\u001b[0m\u001b[0;34m\u001b[0m\u001b[0m\n\u001b[1;32m    553\u001b[0m \u001b[0;34m\u001b[0m\u001b[0m\n",
      "\u001b[0;32m~/anaconda3/lib/python3.6/threading.py\u001b[0m in \u001b[0;36mwait\u001b[0;34m(self, timeout)\u001b[0m\n\u001b[1;32m    293\u001b[0m         \u001b[0;32mtry\u001b[0m\u001b[0;34m:\u001b[0m    \u001b[0;31m# restore state no matter what (e.g., KeyboardInterrupt)\u001b[0m\u001b[0;34m\u001b[0m\u001b[0m\n\u001b[1;32m    294\u001b[0m             \u001b[0;32mif\u001b[0m \u001b[0mtimeout\u001b[0m \u001b[0;32mis\u001b[0m \u001b[0;32mNone\u001b[0m\u001b[0;34m:\u001b[0m\u001b[0;34m\u001b[0m\u001b[0m\n\u001b[0;32m--> 295\u001b[0;31m                 \u001b[0mwaiter\u001b[0m\u001b[0;34m.\u001b[0m\u001b[0macquire\u001b[0m\u001b[0;34m(\u001b[0m\u001b[0;34m)\u001b[0m\u001b[0;34m\u001b[0m\u001b[0m\n\u001b[0m\u001b[1;32m    296\u001b[0m                 \u001b[0mgotit\u001b[0m \u001b[0;34m=\u001b[0m \u001b[0;32mTrue\u001b[0m\u001b[0;34m\u001b[0m\u001b[0m\n\u001b[1;32m    297\u001b[0m             \u001b[0;32melse\u001b[0m\u001b[0;34m:\u001b[0m\u001b[0;34m\u001b[0m\u001b[0m\n",
      "\u001b[0;31mKeyboardInterrupt\u001b[0m: "
     ]
    }
   ],
   "source": [
    "runRandomizedSearchCV(logistic_regression_pg, [models[1]], [model_names[1]])"
   ]
  },
  {
   "cell_type": "code",
   "execution_count": null,
   "metadata": {},
   "outputs": [],
   "source": [
    "runGridSearchCV(logistic_regression_pg, [models[1]], [model_names[1]])"
   ]
  },
  {
   "cell_type": "code",
   "execution_count": null,
   "metadata": {},
   "outputs": [],
   "source": []
  }
 ],
 "metadata": {
  "kernelspec": {
   "display_name": "Python 3",
   "language": "python",
   "name": "python3"
  },
  "language_info": {
   "codemirror_mode": {
    "name": "ipython",
    "version": 3
   },
   "file_extension": ".py",
   "mimetype": "text/x-python",
   "name": "python",
   "nbconvert_exporter": "python",
   "pygments_lexer": "ipython3",
   "version": "3.6.5"
  }
 },
 "nbformat": 4,
 "nbformat_minor": 2
}
