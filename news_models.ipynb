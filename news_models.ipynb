{
 "cells": [
  {
   "cell_type": "code",
   "execution_count": 27,
   "metadata": {},
   "outputs": [],
   "source": [
    "import numpy as np\n",
    "\n",
    "from sklearn.datasets import fetch_20newsgroups \n",
    "\n",
    "from sklearn.feature_extraction.text import CountVectorizer \n",
    "from sklearn.feature_extraction.text import TfidfTransformer \n",
    "\n",
    "from sklearn.linear_model import SGDClassifier \n",
    "from sklearn.pipeline import Pipeline\n",
    "from sklearn.svm import LinearSVC\n",
    "from sklearn.linear_model import LogisticRegression\n",
    "from sklearn.ensemble import AdaBoostClassifier\n",
    "from sklearn.tree import DecisionTreeClassifier\n",
    "from sklearn.ensemble import RandomForestClassifier\n",
    "\n",
    "from sklearn.model_selection import GridSearchCV\n"
   ]
  },
  {
   "cell_type": "markdown",
   "metadata": {},
   "source": [
    "## Creating test + train sets"
   ]
  },
  {
   "cell_type": "code",
   "execution_count": 28,
   "metadata": {},
   "outputs": [],
   "source": [
    "categories = ['alt.atheism', 'soc.religion.christian', \n",
    "              'comp.graphics', 'sci.med']\n",
    "\n",
    "# currently looking at all categories \n",
    "twenty_train = fetch_20newsgroups(subset='train', shuffle=True, remove=('headers', 'footers', 'quotes'))\n",
    "twenty_test = fetch_20newsgroups(subset='test', shuffle=True, remove=('headers', 'footers', 'quotes'))\n"
   ]
  },
  {
   "cell_type": "code",
   "execution_count": 46,
   "metadata": {},
   "outputs": [],
   "source": [
    "model_names = ['SVM', 'Logistic Regression', 'AdaBoost', 'Decision Tree', 'Random Forest']\n",
    "\n",
    "# just need to add randomforest \n",
    "models = [\n",
    "    LinearSVC(),\n",
    "    LogisticRegression(random_state=0),\n",
    "    AdaBoostClassifier(n_estimators=50, learning_rate=1),\n",
    "    DecisionTreeClassifier(random_state=0),\n",
    "    RandomForestClassifier(max_depth=2, random_state=0)\n",
    "]\n",
    "\n",
    "parameter_grids = [\n",
    "    [ # Parameter Grid for Linear SVC.\n",
    "        { # l1 Case: Dual False, Squared_hinge\n",
    "            'vect__ngram_range': [(1, 1), (1, 2)],\n",
    "            'tfidf__use_idf': [True, False],\n",
    "            'clf__loss': ['squared_hinge'],\n",
    "            'clf__penalty': ['l1'],\n",
    "            'clf__C': range(1,100,10),\n",
    "            'clf__tol': [1e-2, 1e-4, 1e-9],\n",
    "            'clf__dual': [False]\n",
    "        },\n",
    "        { # l2 Hinge Case: Dual True\n",
    "            'vect__ngram_range': [(1, 1), (1, 2)],\n",
    "            'tfidf__use_idf': [True, False],\n",
    "            'clf__loss': ['hinge'],\n",
    "            'clf__penalty': ['l2'],\n",
    "            'clf__C': range(1,100,10),\n",
    "            'clf__tol': [1e-2, 1e-4, 1e-9],\n",
    "            'clf__dual': [True]\n",
    "        },\n",
    "        { # l2 Square Hinged Case\n",
    "            'vect__ngram_range': [(1, 1), (1, 2)],\n",
    "            'tfidf__use_idf': [True, False],\n",
    "            'clf__loss': ['squared_hinge'],\n",
    "            'clf__penalty': ['l2'],\n",
    "            'clf__C': range(1,100,10),\n",
    "            'clf__tol': [1e-2, 1e-4, 1e-9],\n",
    "            'clf__dual': [True,False]\n",
    "        }\n",
    "    ],\n",
    "    [\n",
    "        {\n",
    "            'vect__ngram_range': [(1, 1), (1, 2)],\n",
    "            'tfidf__use_idf': (True, False),\n",
    "            'clf__penalty': ('l2', 'l1')\n",
    "        }\n",
    "    ],\n",
    "    [\n",
    "        {\n",
    "            'vect__ngram_range': [(1, 1), (1, 2)],\n",
    "            'tfidf__use_idf': (True, False),\n",
    "            'clf__learning_rate': (1, 2, 0.5),\n",
    "            'clf__n_estimators': (10, 50, 100)\n",
    "        }\n",
    "    ],\n",
    "    [\n",
    "        {\n",
    "            'vect__ngram_range': [(1, 1), (1, 2)],\n",
    "            'tfidf__use_idf': (True, False),\n",
    "            'clf__criterion': ('gini', 'entropy'),\n",
    "        },\n",
    "    ],\n",
    "    [\n",
    "        {\n",
    "            'vect__ngram_range': [(1, 1), (1, 2)],\n",
    "            'tfidf__use_idf': (True, False),\n",
    "            'clf__criterion': ('gini', 'entropy'),\n",
    "        }\n",
    "    ]\n",
    "]"
   ]
  },
  {
   "cell_type": "code",
   "execution_count": null,
   "metadata": {},
   "outputs": [
    {
     "name": "stdout",
     "output_type": "stream",
     "text": [
      "Currently training model:  SVM\n"
     ]
    }
   ],
   "source": [
    "i = 0\n",
    "best_scores = []\n",
    "best_params = []\n",
    "for model in models: \n",
    "    print(\"Currently training model: \", model_names[i])\n",
    "    \n",
    "    text_clf = Pipeline([('vect', CountVectorizer()),\n",
    "                        ('tfidf', TfidfTransformer()),\n",
    "                        ('clf', model)])\n",
    "\n",
    "    _  = text_clf.fit(twenty_train.data, twenty_train.target)    \n",
    "    \n",
    "    gs_clf = GridSearchCV(text_clf, parameter_grids[i], n_jobs=-1, cv=3,error_score=0.0)\n",
    "    gs_clf = gs_clf.fit(twenty_train.data, twenty_train.target)\n",
    "    \n",
    "    best_scores.append(gs_clf.best_score_)\n",
    "    best_params.append(gs_clf.best_params_)\n",
    "    \n",
    "    print(\"Best score : \", gs_clf.best_score_)\n",
    "    print(\"Best params: \", gs_clf.best_params_)\n",
    "    print(\"\\n\\n\")\n",
    "    \n",
    "    i+=1 \n"
   ]
  },
  {
   "cell_type": "code",
   "execution_count": null,
   "metadata": {},
   "outputs": [],
   "source": []
  }
 ],
 "metadata": {
  "kernelspec": {
   "display_name": "Python 3",
   "language": "python",
   "name": "python3"
  },
  "language_info": {
   "codemirror_mode": {
    "name": "ipython",
    "version": 3
   },
   "file_extension": ".py",
   "mimetype": "text/x-python",
   "name": "python",
   "nbconvert_exporter": "python",
   "pygments_lexer": "ipython3",
   "version": "3.6.5"
  }
 },
 "nbformat": 4,
 "nbformat_minor": 2
}
