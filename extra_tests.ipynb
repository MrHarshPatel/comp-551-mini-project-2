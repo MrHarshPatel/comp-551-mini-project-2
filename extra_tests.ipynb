{
 "cells": [
  {
   "cell_type": "code",
   "execution_count": 40,
   "metadata": {},
   "outputs": [],
   "source": [
    "import numpy as np\n",
    "import time\n",
    "import pandas as pd\n",
    "from sklearn.datasets import fetch_20newsgroups\n",
    "from sklearn.feature_extraction.text import CountVectorizer\n",
    "from sklearn.feature_extraction.text import TfidfTransformer\n",
    "from sklearn.linear_model import SGDClassifier\n",
    "from sklearn.pipeline import Pipeline\n",
    "from sklearn.svm import LinearSVC\n",
    "from sklearn.linear_model import LogisticRegression\n",
    "from sklearn.ensemble import AdaBoostClassifier\n",
    "from sklearn.tree import DecisionTreeClassifier\n",
    "from sklearn.ensemble import RandomForestClassifier\n",
    "from sklearn.naive_bayes import MultinomialNB\n",
    "from sklearn.model_selection import GridSearchCV,RandomizedSearchCV"
   ]
  },
  {
   "cell_type": "code",
   "execution_count": 42,
   "metadata": {},
   "outputs": [
    {
     "name": "stderr",
     "output_type": "stream",
     "text": [
      "[nltk_data] Downloading package wordnet to\n",
      "[nltk_data]     C:\\Users\\heath\\AppData\\Roaming\\nltk_data...\n",
      "[nltk_data]   Package wordnet is already up-to-date!\n",
      "[nltk_data] Downloading package punkt to\n",
      "[nltk_data]     C:\\Users\\heath\\AppData\\Roaming\\nltk_data...\n",
      "[nltk_data]   Unzipping tokenizers\\punkt.zip.\n"
     ]
    }
   ],
   "source": [
    "from nltk import word_tokenize\n",
    "from nltk.stem import WordNetLemmatizer\n",
    "import nltk\n",
    "nltk.download('wordnet')\n",
    "nltk.download('punkt')\n",
    "\n",
    "class LemmaTokenizer(object):\n",
    "  def __init__(self):\n",
    "    self.wnl = WordNetLemmatizer()\n",
    "  def __call__(self, articles):\n",
    "    return [self.wnl.lemmatize(t) for t in word_tokenize(articles)]\n"
   ]
  },
  {
   "cell_type": "code",
   "execution_count": 36,
   "metadata": {},
   "outputs": [],
   "source": [
    "# currently looking at all categories\n",
    "twenty_train = fetch_20newsgroups(subset='train', shuffle=True, remove=('headers', 'footers', 'quotes'))\n",
    "1\n",
    "twenty_test = fetch_20newsgroups(subset='test', shuffle=True, remove=('headers', 'footers', 'quotes'))\n",
    "# For IMDB\n",
    "train = pd.read_csv('train_IMDb.csv')\n",
    "test = pd.read_csv('test_IMDb.csv')\n"
   ]
  },
  {
   "cell_type": "code",
   "execution_count": 37,
   "metadata": {},
   "outputs": [],
   "source": [
    "class IMDB:\n",
    "  def __init__(self,subset = 'train'):\n",
    "    if (subset == 'train'):\n",
    "      self.allData = train.to_numpy()\n",
    "    else:\n",
    "      self.allData = test.to_numpy()\n",
    "    np.random.shuffle(self.allData)\n",
    "    self.data = self.allData[:,0]\n",
    "    self.target = self.allData[:,1]\n",
    "    self.target=self.target.astype('int')\n"
   ]
  },
  {
   "cell_type": "code",
   "execution_count": 32,
   "metadata": {},
   "outputs": [],
   "source": [
    "imdb_train = IMDB()\n",
    "imdb_test = IMDB('test')"
   ]
  },
  {
   "cell_type": "code",
   "execution_count": 18,
   "metadata": {},
   "outputs": [],
   "source": [
    "model_names = ['SVM', 'Logistic Regression', 'AdaBoost', 'Decision Tree', 'Random Forest']\n",
    "# just need to add the FINAL PARAMETERS!!!!!!!\n",
    "models = [\n",
    "LinearSVC(random_state=0,max_iter=2000),\n",
    "LogisticRegression(random_state=0,max_iter=1000),\n",
    "AdaBoostClassifier(n_estimators=50, learning_rate=1,random_state=0),\n",
    "DecisionTreeClassifier(random_state=0),\n",
    "RandomForestClassifier(max_depth=2, random_state=0)]\n"
   ]
  },
  {
   "cell_type": "code",
   "execution_count": 19,
   "metadata": {},
   "outputs": [],
   "source": [
    "def get_final_accuracy(train, test, model, model_name, parameters):\n",
    "  start = time.time()\n",
    "  text_clf = Pipeline([('vect', CountVectorizer()),\n",
    "  ('tfidf', TfidfTransformer()),\n",
    "  ('clf', model)])\n",
    "  text_clf.set_params(**parameters)\n",
    "  print(\"About to fit \",model_name, \" with \", text_clf.get_params)\n",
    "  text_clf.fit(train.data, train.target)\n",
    "  print(\"Final accuracy for: \", model_name)\n",
    "  print(text_clf.score(test.data, test.target))\n",
    "  print(\"Time taken: \", time.time()-start)\n"
   ]
  },
  {
   "cell_type": "code",
   "execution_count": 20,
   "metadata": {},
   "outputs": [],
   "source": [
    "def get_final_accuracy_lemm(train, test, model, model_name, parameters):\n",
    "  start = time.time()\n",
    "\n",
    "  text_clf = Pipeline([('vect', CountVectorizer(tokenizer=LemmaTokenizer())),\n",
    "  ('tfidf', TfidfTransformer()),\n",
    "  ('clf', model)])\n",
    "  text_clf.set_params(**parameters)\n",
    "  print(\"About to fit \",model_name, \" with \", text_clf.get_params)\n",
    "  text_clf.fit(train.data, train.target)\n",
    "  print(\"Final accuracy for: \", model_name)\n",
    "  print(text_clf.score(test.data, test.target))\n",
    "  print(\"Time taken: \", time.time()-start)\n"
   ]
  },
  {
   "cell_type": "markdown",
   "metadata": {},
   "source": [
    "### LR News --- Stop Words = None "
   ]
  },
  {
   "cell_type": "code",
   "execution_count": 24,
   "metadata": {},
   "outputs": [
    {
     "name": "stdout",
     "output_type": "stream",
     "text": [
      "About to fit  Logistic Reg  with  <bound method Pipeline.get_params of Pipeline(memory=None,\n",
      "         steps=[('vect',\n",
      "                 CountVectorizer(analyzer='word', binary=False,\n",
      "                                 decode_error='strict',\n",
      "                                 dtype=<class 'numpy.int64'>, encoding='utf-8',\n",
      "                                 input='content', lowercase=True, max_df=1.0,\n",
      "                                 max_features=None, min_df=1,\n",
      "                                 ngram_range=(1, 2), preprocessor=None,\n",
      "                                 stop_words=None, strip_accents=None,\n",
      "                                 token_pattern='(?u)\\\\b\\\\w\\\\w+\\\\b',\n",
      "                                 tokenizer=None, vocabulary=None)),\n",
      "                ('tfidf',\n",
      "                 TfidfTransformer(norm='l2', smooth_idf=True,\n",
      "                                  sublinear_tf=False, use_idf=True)),\n",
      "                ('clf',\n",
      "                 LogisticRegression(C=60, class_weight=None, dual=False,\n",
      "                                    fit_intercept=True, intercept_scaling=1,\n",
      "                                    l1_ratio=None, max_iter=1000,\n",
      "                                    multi_class='warn', n_jobs=None,\n",
      "                                    penalty='l2', random_state=0, solver='saga',\n",
      "                                    tol=0.0001, verbose=0, warm_start=False))],\n",
      "         verbose=False)>\n"
     ]
    },
    {
     "name": "stderr",
     "output_type": "stream",
     "text": [
      "C:\\Users\\heath\\Anaconda3\\lib\\site-packages\\sklearn\\linear_model\\logistic.py:469: FutureWarning: Default multi_class will be changed to 'auto' in 0.22. Specify the multi_class option to silence this warning.\n",
      "  \"this warning.\", FutureWarning)\n"
     ]
    },
    {
     "name": "stdout",
     "output_type": "stream",
     "text": [
      "Final accuracy for:  Logistic Reg\n",
      "0.6890600106213489\n",
      "Time taken:  606.0015366077423\n"
     ]
    }
   ],
   "source": [
    "lr_parameters = {\n",
    "'vect__ngram_range': (1,2),\n",
    "'vect__stop_words': None,\n",
    "'tfidf__use_idf': True,\n",
    "'clf__C': 60,\n",
    "'clf__penalty': 'l2',\n",
    "'clf__solver': 'saga'\n",
    "}\n",
    "\n",
    "lr = LogisticRegression(random_state=0,max_iter=1000)\n",
    "\n",
    "\n",
    "get_final_accuracy(twenty_train, twenty_test, lr, 'Logistic Reg', lr_parameters)"
   ]
  },
  {
   "cell_type": "markdown",
   "metadata": {},
   "source": [
    "### LR News --- Unigrams"
   ]
  },
  {
   "cell_type": "code",
   "execution_count": 46,
   "metadata": {},
   "outputs": [
    {
     "name": "stdout",
     "output_type": "stream",
     "text": [
      "About to fit  Logistic Reg  with  <bound method Pipeline.get_params of Pipeline(memory=None,\n",
      "         steps=[('vect',\n",
      "                 CountVectorizer(analyzer='word', binary=False,\n",
      "                                 decode_error='strict',\n",
      "                                 dtype=<class 'numpy.int64'>, encoding='utf-8',\n",
      "                                 input='content', lowercase=True, max_df=1.0,\n",
      "                                 max_features=None, min_df=1,\n",
      "                                 ngram_range=(1, 1), preprocessor=None,\n",
      "                                 stop_words='english', strip_accents=None,\n",
      "                                 token_pattern='(?u)\\\\b\\\\w\\\\w+\\\\b',\n",
      "                                 tokenizer=None, vocabulary=None)),\n",
      "                ('tfidf',\n",
      "                 TfidfTransformer(norm='l2', smooth_idf=True,\n",
      "                                  sublinear_tf=False, use_idf=True)),\n",
      "                ('clf',\n",
      "                 LogisticRegression(C=60, class_weight=None, dual=False,\n",
      "                                    fit_intercept=True, intercept_scaling=1,\n",
      "                                    l1_ratio=None, max_iter=1000,\n",
      "                                    multi_class='warn', n_jobs=None,\n",
      "                                    penalty='l2', random_state=0, solver='saga',\n",
      "                                    tol=0.0001, verbose=0, warm_start=False))],\n",
      "         verbose=False)>\n"
     ]
    },
    {
     "name": "stderr",
     "output_type": "stream",
     "text": [
      "C:\\Users\\heath\\Anaconda3\\lib\\site-packages\\sklearn\\linear_model\\logistic.py:469: FutureWarning: Default multi_class will be changed to 'auto' in 0.22. Specify the multi_class option to silence this warning.\n",
      "  \"this warning.\", FutureWarning)\n"
     ]
    },
    {
     "name": "stdout",
     "output_type": "stream",
     "text": [
      "Final accuracy for:  Logistic Reg\n",
      "0.6886617100371747\n",
      "Time taken:  129.280113697052\n"
     ]
    }
   ],
   "source": [
    "lr_parameters = {\n",
    "'vect__ngram_range': (1,1),\n",
    "'vect__stop_words': 'english',\n",
    "'tfidf__use_idf': True,\n",
    "'clf__C': 60,\n",
    "'clf__penalty': 'l2',\n",
    "'clf__solver': 'saga'\n",
    "}\n",
    "\n",
    "lr = LogisticRegression(random_state=0,max_iter=1000)\n",
    "\n",
    "\n",
    "get_final_accuracy(twenty_train, twenty_test, lr, 'Logistic Reg', lr_parameters)"
   ]
  },
  {
   "cell_type": "markdown",
   "metadata": {},
   "source": [
    "### LR News --- Unigrams, Bigrams"
   ]
  },
  {
   "cell_type": "code",
   "execution_count": 47,
   "metadata": {},
   "outputs": [
    {
     "name": "stdout",
     "output_type": "stream",
     "text": [
      "About to fit  Logistic Reg  with  <bound method Pipeline.get_params of Pipeline(memory=None,\n",
      "         steps=[('vect',\n",
      "                 CountVectorizer(analyzer='word', binary=False,\n",
      "                                 decode_error='strict',\n",
      "                                 dtype=<class 'numpy.int64'>, encoding='utf-8',\n",
      "                                 input='content', lowercase=True, max_df=1.0,\n",
      "                                 max_features=None, min_df=1,\n",
      "                                 ngram_range=(1, 2), preprocessor=None,\n",
      "                                 stop_words='english', strip_accents=None,\n",
      "                                 token_pattern='(?u)\\\\b\\\\w\\\\w+\\\\b',\n",
      "                                 tokenizer=None, vocabulary=None)),\n",
      "                ('tfidf',\n",
      "                 TfidfTransformer(norm='l2', smooth_idf=True,\n",
      "                                  sublinear_tf=False, use_idf=True)),\n",
      "                ('clf',\n",
      "                 LogisticRegression(C=60, class_weight=None, dual=False,\n",
      "                                    fit_intercept=True, intercept_scaling=1,\n",
      "                                    l1_ratio=None, max_iter=1000,\n",
      "                                    multi_class='warn', n_jobs=None,\n",
      "                                    penalty='l2', random_state=0, solver='saga',\n",
      "                                    tol=0.0001, verbose=0, warm_start=False))],\n",
      "         verbose=False)>\n"
     ]
    },
    {
     "name": "stderr",
     "output_type": "stream",
     "text": [
      "C:\\Users\\heath\\Anaconda3\\lib\\site-packages\\sklearn\\linear_model\\logistic.py:469: FutureWarning: Default multi_class will be changed to 'auto' in 0.22. Specify the multi_class option to silence this warning.\n",
      "  \"this warning.\", FutureWarning)\n"
     ]
    },
    {
     "name": "stdout",
     "output_type": "stream",
     "text": [
      "Final accuracy for:  Logistic Reg\n",
      "0.7027349973446628\n",
      "Time taken:  426.02043175697327\n"
     ]
    }
   ],
   "source": [
    "lr_parameters = {\n",
    "'vect__ngram_range': (1,2),\n",
    "'vect__stop_words': 'english',\n",
    "'tfidf__use_idf': True,\n",
    "'clf__C': 60,\n",
    "'clf__penalty': 'l2',\n",
    "'clf__solver': 'saga'\n",
    "}\n",
    "\n",
    "lr = LogisticRegression(random_state=0,max_iter=1000)\n",
    "\n",
    "\n",
    "get_final_accuracy(twenty_train, twenty_test, lr, 'Logistic Reg', lr_parameters)"
   ]
  },
  {
   "cell_type": "markdown",
   "metadata": {},
   "source": [
    "### LR News --- Unigrams, Bigrams, Trigrams"
   ]
  },
  {
   "cell_type": "code",
   "execution_count": 48,
   "metadata": {},
   "outputs": [
    {
     "name": "stdout",
     "output_type": "stream",
     "text": [
      "About to fit  Logistic Reg  with  <bound method Pipeline.get_params of Pipeline(memory=None,\n",
      "         steps=[('vect',\n",
      "                 CountVectorizer(analyzer='word', binary=False,\n",
      "                                 decode_error='strict',\n",
      "                                 dtype=<class 'numpy.int64'>, encoding='utf-8',\n",
      "                                 input='content', lowercase=True, max_df=1.0,\n",
      "                                 max_features=None, min_df=1,\n",
      "                                 ngram_range=(1, 3), preprocessor=None,\n",
      "                                 stop_words='english', strip_accents=None,\n",
      "                                 token_pattern='(?u)\\\\b\\\\w\\\\w+\\\\b',\n",
      "                                 tokenizer=None, vocabulary=None)),\n",
      "                ('tfidf',\n",
      "                 TfidfTransformer(norm='l2', smooth_idf=True,\n",
      "                                  sublinear_tf=False, use_idf=True)),\n",
      "                ('clf',\n",
      "                 LogisticRegression(C=60, class_weight=None, dual=False,\n",
      "                                    fit_intercept=True, intercept_scaling=1,\n",
      "                                    l1_ratio=None, max_iter=1000,\n",
      "                                    multi_class='warn', n_jobs=None,\n",
      "                                    penalty='l2', random_state=0, solver='saga',\n",
      "                                    tol=0.0001, verbose=0, warm_start=False))],\n",
      "         verbose=False)>\n"
     ]
    },
    {
     "name": "stderr",
     "output_type": "stream",
     "text": [
      "C:\\Users\\heath\\Anaconda3\\lib\\site-packages\\sklearn\\linear_model\\logistic.py:469: FutureWarning: Default multi_class will be changed to 'auto' in 0.22. Specify the multi_class option to silence this warning.\n",
      "  \"this warning.\", FutureWarning)\n"
     ]
    },
    {
     "name": "stdout",
     "output_type": "stream",
     "text": [
      "Final accuracy for:  Logistic Reg\n",
      "0.6995485926712692\n",
      "Time taken:  654.2867667675018\n"
     ]
    }
   ],
   "source": [
    "lr_parameters = {\n",
    "'vect__ngram_range': (1,3),\n",
    "'vect__stop_words': 'english',\n",
    "'tfidf__use_idf': True,\n",
    "'clf__C': 60,\n",
    "'clf__penalty': 'l2',\n",
    "'clf__solver': 'saga'\n",
    "}\n",
    "\n",
    "lr = LogisticRegression(random_state=0,max_iter=1000)\n",
    "\n",
    "\n",
    "get_final_accuracy(twenty_train, twenty_test, lr, 'Logistic Reg', lr_parameters)"
   ]
  },
  {
   "cell_type": "markdown",
   "metadata": {},
   "source": [
    "### LR News --- Lemmatization included "
   ]
  },
  {
   "cell_type": "code",
   "execution_count": 49,
   "metadata": {},
   "outputs": [
    {
     "name": "stdout",
     "output_type": "stream",
     "text": [
      "About to fit  Logistic Reg  with  <bound method Pipeline.get_params of Pipeline(memory=None,\n",
      "         steps=[('vect',\n",
      "                 CountVectorizer(analyzer='word', binary=False,\n",
      "                                 decode_error='strict',\n",
      "                                 dtype=<class 'numpy.int64'>, encoding='utf-8',\n",
      "                                 input='content', lowercase=True, max_df=1.0,\n",
      "                                 max_features=None, min_df=1,\n",
      "                                 ngram_range=(1, 2), preprocessor=None,\n",
      "                                 stop_words='english', strip_accents=None,\n",
      "                                 token_pattern='(?u)\\\\b\\\\w\\\\w+\\\\b',\n",
      "                                 tokenizer=<__main__.Lemm...\n",
      "                                 vocabulary=None)),\n",
      "                ('tfidf',\n",
      "                 TfidfTransformer(norm='l2', smooth_idf=True,\n",
      "                                  sublinear_tf=False, use_idf=True)),\n",
      "                ('clf',\n",
      "                 LogisticRegression(C=60, class_weight=None, dual=False,\n",
      "                                    fit_intercept=True, intercept_scaling=1,\n",
      "                                    l1_ratio=None, max_iter=1000,\n",
      "                                    multi_class='warn', n_jobs=None,\n",
      "                                    penalty='l2', random_state=0, solver='saga',\n",
      "                                    tol=0.0001, verbose=0, warm_start=False))],\n",
      "         verbose=False)>\n"
     ]
    },
    {
     "name": "stderr",
     "output_type": "stream",
     "text": [
      "C:\\Users\\heath\\Anaconda3\\lib\\site-packages\\sklearn\\feature_extraction\\text.py:300: UserWarning: Your stop_words may be inconsistent with your preprocessing. Tokenizing the stop words generated tokens ['ha', 'le', 'u', 'wa'] not in stop_words.\n",
      "  'stop_words.' % sorted(inconsistent))\n",
      "C:\\Users\\heath\\Anaconda3\\lib\\site-packages\\sklearn\\linear_model\\logistic.py:469: FutureWarning: Default multi_class will be changed to 'auto' in 0.22. Specify the multi_class option to silence this warning.\n",
      "  \"this warning.\", FutureWarning)\n"
     ]
    },
    {
     "name": "stdout",
     "output_type": "stream",
     "text": [
      "Final accuracy for:  Logistic Reg\n",
      "0.6856080722251726\n",
      "Time taken:  840.8142807483673\n"
     ]
    }
   ],
   "source": [
    "lr_parameters = {\n",
    "'vect__ngram_range': (1,2),\n",
    "'vect__stop_words': 'english',\n",
    "'tfidf__use_idf': True,\n",
    "'clf__C': 60,\n",
    "'clf__penalty': 'l2',\n",
    "'clf__solver': 'saga'\n",
    "}\n",
    "\n",
    "lr = LogisticRegression(random_state=0,max_iter=1000)\n",
    "\n",
    "\n",
    "get_final_accuracy_lemm(twenty_train, twenty_test, lr, 'Logistic Reg', lr_parameters)"
   ]
  },
  {
   "cell_type": "markdown",
   "metadata": {},
   "source": [
    "### LR IMDb --- StopWords = None "
   ]
  },
  {
   "cell_type": "code",
   "execution_count": 33,
   "metadata": {},
   "outputs": [
    {
     "name": "stdout",
     "output_type": "stream",
     "text": [
      "About to fit  Logistic Reg  with  <bound method Pipeline.get_params of Pipeline(memory=None,\n",
      "         steps=[('vect',\n",
      "                 CountVectorizer(analyzer='word', binary=False,\n",
      "                                 decode_error='strict',\n",
      "                                 dtype=<class 'numpy.int64'>, encoding='utf-8',\n",
      "                                 input='content', lowercase=True, max_df=1.0,\n",
      "                                 max_features=None, min_df=1,\n",
      "                                 ngram_range=(1, 2), preprocessor=None,\n",
      "                                 stop_words=None, strip_accents=None,\n",
      "                                 token_pattern='(?u)\\\\b\\\\w\\\\w+\\\\b',\n",
      "                                 tokenizer=None, vocabulary=None)),\n",
      "                ('tfidf',\n",
      "                 TfidfTransformer(norm='l2', smooth_idf=True,\n",
      "                                  sublinear_tf=False, use_idf=True)),\n",
      "                ('clf',\n",
      "                 LogisticRegression(C=55, class_weight=None, dual=False,\n",
      "                                    fit_intercept=True, intercept_scaling=1,\n",
      "                                    l1_ratio=None, max_iter=1000,\n",
      "                                    multi_class='warn', n_jobs=None,\n",
      "                                    penalty='l2', random_state=0, solver='saga',\n",
      "                                    tol=0.0001, verbose=0, warm_start=False))],\n",
      "         verbose=False)>\n",
      "Final accuracy for:  Logistic Reg\n",
      "0.90248\n",
      "Time taken:  130.54509711265564\n"
     ]
    }
   ],
   "source": [
    "lr_parameters = {\n",
    "'vect__ngram_range': (1,2),\n",
    "'vect__stop_words': None,\n",
    "'tfidf__use_idf': True,\n",
    "'clf__C': 55,\n",
    "'clf__penalty': 'l2',\n",
    "'clf__solver': 'saga'\n",
    "}\n",
    "\n",
    "lr = LogisticRegression(random_state=0,max_iter=1000)\n",
    "\n",
    "\n",
    "get_final_accuracy(imdb_train, imdb_test, lr, 'Logistic Reg', lr_parameters)"
   ]
  },
  {
   "cell_type": "markdown",
   "metadata": {},
   "source": [
    "### LR IMDb --- Lemmatization Included"
   ]
  },
  {
   "cell_type": "code",
   "execution_count": 50,
   "metadata": {},
   "outputs": [
    {
     "name": "stdout",
     "output_type": "stream",
     "text": [
      "About to fit  Logistic Reg  with  <bound method Pipeline.get_params of Pipeline(memory=None,\n",
      "         steps=[('vect',\n",
      "                 CountVectorizer(analyzer='word', binary=False,\n",
      "                                 decode_error='strict',\n",
      "                                 dtype=<class 'numpy.int64'>, encoding='utf-8',\n",
      "                                 input='content', lowercase=True, max_df=1.0,\n",
      "                                 max_features=None, min_df=1,\n",
      "                                 ngram_range=(1, 2), preprocessor=None,\n",
      "                                 stop_words='english', strip_accents=None,\n",
      "                                 token_pattern='(?u)\\\\b\\\\w\\\\w+\\\\b',\n",
      "                                 tokenizer=<__main__.Lemm...\n",
      "                                 vocabulary=None)),\n",
      "                ('tfidf',\n",
      "                 TfidfTransformer(norm='l2', smooth_idf=True,\n",
      "                                  sublinear_tf=False, use_idf=True)),\n",
      "                ('clf',\n",
      "                 LogisticRegression(C=55, class_weight=None, dual=False,\n",
      "                                    fit_intercept=True, intercept_scaling=1,\n",
      "                                    l1_ratio=None, max_iter=1000,\n",
      "                                    multi_class='warn', n_jobs=None,\n",
      "                                    penalty='l2', random_state=0, solver='saga',\n",
      "                                    tol=0.0001, verbose=0, warm_start=False))],\n",
      "         verbose=False)>\n"
     ]
    },
    {
     "name": "stderr",
     "output_type": "stream",
     "text": [
      "C:\\Users\\heath\\Anaconda3\\lib\\site-packages\\sklearn\\feature_extraction\\text.py:300: UserWarning: Your stop_words may be inconsistent with your preprocessing. Tokenizing the stop words generated tokens ['ha', 'le', 'u', 'wa'] not in stop_words.\n",
      "  'stop_words.' % sorted(inconsistent))\n"
     ]
    },
    {
     "name": "stdout",
     "output_type": "stream",
     "text": [
      "Final accuracy for:  Logistic Reg\n",
      "0.887\n",
      "Time taken:  374.9038083553314\n"
     ]
    }
   ],
   "source": [
    "lr_parameters = {\n",
    "'vect__ngram_range': (1,2),\n",
    "'vect__stop_words': 'english',\n",
    "'tfidf__use_idf': True,\n",
    "'clf__C': 55,\n",
    "'clf__penalty': 'l2',\n",
    "'clf__solver': 'saga'\n",
    "}\n",
    "\n",
    "lr = LogisticRegression(random_state=0,max_iter=1000)\n",
    "\n",
    "get_final_accuracy_lemm(imdb_train, imdb_test, lr, 'Logistic Reg', lr_parameters)"
   ]
  },
  {
   "cell_type": "markdown",
   "metadata": {},
   "source": [
    "### LR IMDb --- Unigrams "
   ]
  },
  {
   "cell_type": "code",
   "execution_count": 51,
   "metadata": {},
   "outputs": [
    {
     "name": "stdout",
     "output_type": "stream",
     "text": [
      "About to fit  Logistic Reg  with  <bound method Pipeline.get_params of Pipeline(memory=None,\n",
      "         steps=[('vect',\n",
      "                 CountVectorizer(analyzer='word', binary=False,\n",
      "                                 decode_error='strict',\n",
      "                                 dtype=<class 'numpy.int64'>, encoding='utf-8',\n",
      "                                 input='content', lowercase=True, max_df=1.0,\n",
      "                                 max_features=None, min_df=1,\n",
      "                                 ngram_range=(1, 1), preprocessor=None,\n",
      "                                 stop_words='english', strip_accents=None,\n",
      "                                 token_pattern='(?u)\\\\b\\\\w\\\\w+\\\\b',\n",
      "                                 tokenizer=None, vocabulary=None)),\n",
      "                ('tfidf',\n",
      "                 TfidfTransformer(norm='l2', smooth_idf=True,\n",
      "                                  sublinear_tf=False, use_idf=True)),\n",
      "                ('clf',\n",
      "                 LogisticRegression(C=55, class_weight=None, dual=False,\n",
      "                                    fit_intercept=True, intercept_scaling=1,\n",
      "                                    l1_ratio=None, max_iter=1000,\n",
      "                                    multi_class='warn', n_jobs=None,\n",
      "                                    penalty='l2', random_state=0, solver='saga',\n",
      "                                    tol=0.0001, verbose=0, warm_start=False))],\n",
      "         verbose=False)>\n",
      "Final accuracy for:  Logistic Reg\n",
      "0.86048\n",
      "Time taken:  31.554136514663696\n"
     ]
    }
   ],
   "source": [
    "lr_parameters = {\n",
    "'vect__ngram_range': (1,1),\n",
    "'vect__stop_words': 'english',\n",
    "'tfidf__use_idf': True,\n",
    "'clf__C': 55,\n",
    "'clf__penalty': 'l2',\n",
    "'clf__solver': 'saga'\n",
    "}\n",
    "\n",
    "lr = LogisticRegression(random_state=0,max_iter=1000)\n",
    "\n",
    "get_final_accuracy(imdb_train, imdb_test, lr, 'Logistic Reg', lr_parameters)"
   ]
  },
  {
   "cell_type": "markdown",
   "metadata": {},
   "source": [
    "### LR IMDb --- Unigrams, Bigrams"
   ]
  },
  {
   "cell_type": "code",
   "execution_count": 52,
   "metadata": {},
   "outputs": [
    {
     "name": "stdout",
     "output_type": "stream",
     "text": [
      "About to fit  Logistic Reg  with  <bound method Pipeline.get_params of Pipeline(memory=None,\n",
      "         steps=[('vect',\n",
      "                 CountVectorizer(analyzer='word', binary=False,\n",
      "                                 decode_error='strict',\n",
      "                                 dtype=<class 'numpy.int64'>, encoding='utf-8',\n",
      "                                 input='content', lowercase=True, max_df=1.0,\n",
      "                                 max_features=None, min_df=1,\n",
      "                                 ngram_range=(1, 2), preprocessor=None,\n",
      "                                 stop_words='english', strip_accents=None,\n",
      "                                 token_pattern='(?u)\\\\b\\\\w\\\\w+\\\\b',\n",
      "                                 tokenizer=None, vocabulary=None)),\n",
      "                ('tfidf',\n",
      "                 TfidfTransformer(norm='l2', smooth_idf=True,\n",
      "                                  sublinear_tf=False, use_idf=True)),\n",
      "                ('clf',\n",
      "                 LogisticRegression(C=55, class_weight=None, dual=False,\n",
      "                                    fit_intercept=True, intercept_scaling=1,\n",
      "                                    l1_ratio=None, max_iter=1000,\n",
      "                                    multi_class='warn', n_jobs=None,\n",
      "                                    penalty='l2', random_state=0, solver='saga',\n",
      "                                    tol=0.0001, verbose=0, warm_start=False))],\n",
      "         verbose=False)>\n",
      "Final accuracy for:  Logistic Reg\n",
      "0.88708\n",
      "Time taken:  90.48582768440247\n"
     ]
    }
   ],
   "source": [
    "lr_parameters = {\n",
    "'vect__ngram_range': (1,2),\n",
    "'vect__stop_words': 'english',\n",
    "'tfidf__use_idf': True,\n",
    "'clf__C': 55,\n",
    "'clf__penalty': 'l2',\n",
    "'clf__solver': 'saga'\n",
    "}\n",
    "\n",
    "lr = LogisticRegression(random_state=0,max_iter=1000)\n",
    "\n",
    "get_final_accuracy(imdb_train, imdb_test, lr, 'Logistic Reg', lr_parameters)"
   ]
  },
  {
   "cell_type": "markdown",
   "metadata": {},
   "source": [
    "### LR IMDb --- Unigrams, Bigrams, Trigrams"
   ]
  },
  {
   "cell_type": "code",
   "execution_count": 53,
   "metadata": {},
   "outputs": [
    {
     "name": "stdout",
     "output_type": "stream",
     "text": [
      "About to fit  Logistic Reg  with  <bound method Pipeline.get_params of Pipeline(memory=None,\n",
      "         steps=[('vect',\n",
      "                 CountVectorizer(analyzer='word', binary=False,\n",
      "                                 decode_error='strict',\n",
      "                                 dtype=<class 'numpy.int64'>, encoding='utf-8',\n",
      "                                 input='content', lowercase=True, max_df=1.0,\n",
      "                                 max_features=None, min_df=1,\n",
      "                                 ngram_range=(1, 3), preprocessor=None,\n",
      "                                 stop_words='english', strip_accents=None,\n",
      "                                 token_pattern='(?u)\\\\b\\\\w\\\\w+\\\\b',\n",
      "                                 tokenizer=None, vocabulary=None)),\n",
      "                ('tfidf',\n",
      "                 TfidfTransformer(norm='l2', smooth_idf=True,\n",
      "                                  sublinear_tf=False, use_idf=True)),\n",
      "                ('clf',\n",
      "                 LogisticRegression(C=55, class_weight=None, dual=False,\n",
      "                                    fit_intercept=True, intercept_scaling=1,\n",
      "                                    l1_ratio=None, max_iter=1000,\n",
      "                                    multi_class='warn', n_jobs=None,\n",
      "                                    penalty='l2', random_state=0, solver='saga',\n",
      "                                    tol=0.0001, verbose=0, warm_start=False))],\n",
      "         verbose=False)>\n",
      "Final accuracy for:  Logistic Reg\n",
      "0.88368\n",
      "Time taken:  142.8490505218506\n"
     ]
    }
   ],
   "source": [
    "lr_parameters = {\n",
    "'vect__ngram_range': (1,3),\n",
    "'vect__stop_words': 'english',\n",
    "'tfidf__use_idf': True,\n",
    "'clf__C': 55,\n",
    "'clf__penalty': 'l2',\n",
    "'clf__solver': 'saga'\n",
    "}\n",
    "\n",
    "lr = LogisticRegression(random_state=0,max_iter=1000)\n",
    "\n",
    "get_final_accuracy(imdb_train, imdb_test, lr, 'Logistic Reg', lr_parameters)"
   ]
  },
  {
   "cell_type": "markdown",
   "metadata": {},
   "source": [
    "### SVM News --- StopWords = None"
   ]
  },
  {
   "cell_type": "code",
   "execution_count": 55,
   "metadata": {},
   "outputs": [
    {
     "name": "stdout",
     "output_type": "stream",
     "text": [
      "About to fit  Linear SVM News  with  <bound method Pipeline.get_params of Pipeline(memory=None,\n",
      "         steps=[('vect',\n",
      "                 CountVectorizer(analyzer='word', binary=False,\n",
      "                                 decode_error='strict',\n",
      "                                 dtype=<class 'numpy.int64'>, encoding='utf-8',\n",
      "                                 input='content', lowercase=True, max_df=1.0,\n",
      "                                 max_features=None, min_df=1,\n",
      "                                 ngram_range=(1, 2), preprocessor=None,\n",
      "                                 stop_words=None, strip_accents=None,\n",
      "                                 token_pattern='(?u)\\\\b\\\\w\\\\w+\\\\b',\n",
      "                                 tokenizer=None, vocabulary=None)),\n",
      "                ('tfidf',\n",
      "                 TfidfTransformer(norm='l2', smooth_idf=True,\n",
      "                                  sublinear_tf=False, use_idf=True)),\n",
      "                ('clf',\n",
      "                 LinearSVC(C=75, class_weight=None, dual=True,\n",
      "                           fit_intercept=True, intercept_scaling=1,\n",
      "                           loss='squared_hinge', max_iter=2000,\n",
      "                           multi_class='ovr', penalty='l2', random_state=0,\n",
      "                           tol=0.0001, verbose=0))],\n",
      "         verbose=False)>\n"
     ]
    },
    {
     "name": "stderr",
     "output_type": "stream",
     "text": [
      "C:\\Users\\heath\\Anaconda3\\lib\\site-packages\\sklearn\\svm\\base.py:929: ConvergenceWarning: Liblinear failed to converge, increase the number of iterations.\n",
      "  \"the number of iterations.\", ConvergenceWarning)\n"
     ]
    },
    {
     "name": "stdout",
     "output_type": "stream",
     "text": [
      "Final accuracy for:  Linear SVM News\n",
      "0.695432819968136\n",
      "Time taken:  434.29689836502075\n"
     ]
    }
   ],
   "source": [
    "svm_parameters = {\n",
    "'vect__ngram_range': (1,2),\n",
    "'vect__stop_words': None,\n",
    "'tfidf__use_idf': True,\n",
    "'clf__C': 75,\n",
    "'clf__penalty': 'l2',\n",
    "'clf__loss': 'squared_hinge'\n",
    "}\n",
    "\n",
    "svm = LinearSVC(random_state=0,max_iter=2000)\n",
    "\n",
    "get_final_accuracy(twenty_train, twenty_test, svm, 'Linear SVM News', svm_parameters)"
   ]
  },
  {
   "cell_type": "markdown",
   "metadata": {},
   "source": [
    "### SVM News --- Lemmatization Included"
   ]
  },
  {
   "cell_type": "code",
   "execution_count": 56,
   "metadata": {},
   "outputs": [
    {
     "name": "stdout",
     "output_type": "stream",
     "text": [
      "About to fit  Linear SVM News  with  <bound method Pipeline.get_params of Pipeline(memory=None,\n",
      "         steps=[('vect',\n",
      "                 CountVectorizer(analyzer='word', binary=False,\n",
      "                                 decode_error='strict',\n",
      "                                 dtype=<class 'numpy.int64'>, encoding='utf-8',\n",
      "                                 input='content', lowercase=True, max_df=1.0,\n",
      "                                 max_features=None, min_df=1,\n",
      "                                 ngram_range=(1, 2), preprocessor=None,\n",
      "                                 stop_words='english', strip_accents=None,\n",
      "                                 token_pattern='(?u)\\\\b\\\\w\\\\w+\\\\b',\n",
      "                                 tokenizer=<__main__.LemmaTokenizer object at 0x000001A21CEADDC8>,\n",
      "                                 vocabulary=None)),\n",
      "                ('tfidf',\n",
      "                 TfidfTransformer(norm='l2', smooth_idf=True,\n",
      "                                  sublinear_tf=False, use_idf=True)),\n",
      "                ('clf',\n",
      "                 LinearSVC(C=75, class_weight=None, dual=True,\n",
      "                           fit_intercept=True, intercept_scaling=1,\n",
      "                           loss='squared_hinge', max_iter=2000,\n",
      "                           multi_class='ovr', penalty='l2', random_state=0,\n",
      "                           tol=0.0001, verbose=0))],\n",
      "         verbose=False)>\n"
     ]
    },
    {
     "name": "stderr",
     "output_type": "stream",
     "text": [
      "C:\\Users\\heath\\Anaconda3\\lib\\site-packages\\sklearn\\feature_extraction\\text.py:300: UserWarning: Your stop_words may be inconsistent with your preprocessing. Tokenizing the stop words generated tokens ['ha', 'le', 'u', 'wa'] not in stop_words.\n",
      "  'stop_words.' % sorted(inconsistent))\n",
      "C:\\Users\\heath\\Anaconda3\\lib\\site-packages\\sklearn\\svm\\base.py:929: ConvergenceWarning: Liblinear failed to converge, increase the number of iterations.\n",
      "  \"the number of iterations.\", ConvergenceWarning)\n"
     ]
    },
    {
     "name": "stdout",
     "output_type": "stream",
     "text": [
      "Final accuracy for:  Linear SVM News\n",
      "0.6848114710568242\n",
      "Time taken:  471.4971921443939\n"
     ]
    }
   ],
   "source": [
    "svm_parameters = {\n",
    "'vect__ngram_range': (1,2),\n",
    "'vect__stop_words': 'english',\n",
    "'tfidf__use_idf': True,\n",
    "'clf__C': 75,\n",
    "'clf__penalty': 'l2',\n",
    "'clf__loss': 'squared_hinge'\n",
    "}\n",
    "\n",
    "svm = LinearSVC(random_state=0,max_iter=2000)\n",
    "\n",
    "get_final_accuracy_lemm(twenty_train, twenty_test, svm, 'Linear SVM News', svm_parameters)"
   ]
  },
  {
   "cell_type": "markdown",
   "metadata": {},
   "source": [
    "### SVM News --- Unigrams"
   ]
  },
  {
   "cell_type": "code",
   "execution_count": 57,
   "metadata": {},
   "outputs": [
    {
     "name": "stdout",
     "output_type": "stream",
     "text": [
      "About to fit  Linear SVM News  with  <bound method Pipeline.get_params of Pipeline(memory=None,\n",
      "         steps=[('vect',\n",
      "                 CountVectorizer(analyzer='word', binary=False,\n",
      "                                 decode_error='strict',\n",
      "                                 dtype=<class 'numpy.int64'>, encoding='utf-8',\n",
      "                                 input='content', lowercase=True, max_df=1.0,\n",
      "                                 max_features=None, min_df=1,\n",
      "                                 ngram_range=(1, 1), preprocessor=None,\n",
      "                                 stop_words='english', strip_accents=None,\n",
      "                                 token_pattern='(?u)\\\\b\\\\w\\\\w+\\\\b',\n",
      "                                 tokenizer=None, vocabulary=None)),\n",
      "                ('tfidf',\n",
      "                 TfidfTransformer(norm='l2', smooth_idf=True,\n",
      "                                  sublinear_tf=False, use_idf=True)),\n",
      "                ('clf',\n",
      "                 LinearSVC(C=75, class_weight=None, dual=True,\n",
      "                           fit_intercept=True, intercept_scaling=1,\n",
      "                           loss='squared_hinge', max_iter=2000,\n",
      "                           multi_class='ovr', penalty='l2', random_state=0,\n",
      "                           tol=0.0001, verbose=0))],\n",
      "         verbose=False)>\n"
     ]
    },
    {
     "name": "stderr",
     "output_type": "stream",
     "text": [
      "C:\\Users\\heath\\Anaconda3\\lib\\site-packages\\sklearn\\svm\\base.py:929: ConvergenceWarning: Liblinear failed to converge, increase the number of iterations.\n",
      "  \"the number of iterations.\", ConvergenceWarning)\n"
     ]
    },
    {
     "name": "stdout",
     "output_type": "stream",
     "text": [
      "Final accuracy for:  Linear SVM News\n",
      "0.6678173127987255\n",
      "Time taken:  71.43506026268005\n"
     ]
    }
   ],
   "source": [
    "svm_parameters = {\n",
    "'vect__ngram_range': (1,1),\n",
    "'vect__stop_words': 'english',\n",
    "'tfidf__use_idf': True,\n",
    "'clf__C': 75,\n",
    "'clf__penalty': 'l2',\n",
    "'clf__loss': 'squared_hinge'\n",
    "}\n",
    "\n",
    "svm = LinearSVC(random_state=0,max_iter=2000)\n",
    "\n",
    "get_final_accuracy(twenty_train, twenty_test, svm, 'Linear SVM News', svm_parameters)"
   ]
  },
  {
   "cell_type": "markdown",
   "metadata": {},
   "source": [
    "### SVM News --- Unigrams, Bigrams"
   ]
  },
  {
   "cell_type": "code",
   "execution_count": 58,
   "metadata": {},
   "outputs": [
    {
     "name": "stdout",
     "output_type": "stream",
     "text": [
      "About to fit  Linear SVM News  with  <bound method Pipeline.get_params of Pipeline(memory=None,\n",
      "         steps=[('vect',\n",
      "                 CountVectorizer(analyzer='word', binary=False,\n",
      "                                 decode_error='strict',\n",
      "                                 dtype=<class 'numpy.int64'>, encoding='utf-8',\n",
      "                                 input='content', lowercase=True, max_df=1.0,\n",
      "                                 max_features=None, min_df=1,\n",
      "                                 ngram_range=(1, 2), preprocessor=None,\n",
      "                                 stop_words='english', strip_accents=None,\n",
      "                                 token_pattern='(?u)\\\\b\\\\w\\\\w+\\\\b',\n",
      "                                 tokenizer=None, vocabulary=None)),\n",
      "                ('tfidf',\n",
      "                 TfidfTransformer(norm='l2', smooth_idf=True,\n",
      "                                  sublinear_tf=False, use_idf=True)),\n",
      "                ('clf',\n",
      "                 LinearSVC(C=75, class_weight=None, dual=True,\n",
      "                           fit_intercept=True, intercept_scaling=1,\n",
      "                           loss='squared_hinge', max_iter=2000,\n",
      "                           multi_class='ovr', penalty='l2', random_state=0,\n",
      "                           tol=0.0001, verbose=0))],\n",
      "         verbose=False)>\n"
     ]
    },
    {
     "name": "stderr",
     "output_type": "stream",
     "text": [
      "C:\\Users\\heath\\Anaconda3\\lib\\site-packages\\sklearn\\svm\\base.py:929: ConvergenceWarning: Liblinear failed to converge, increase the number of iterations.\n",
      "  \"the number of iterations.\", ConvergenceWarning)\n"
     ]
    },
    {
     "name": "stdout",
     "output_type": "stream",
     "text": [
      "Final accuracy for:  Linear SVM News\n",
      "0.7035315985130112\n",
      "Time taken:  344.3998954296112\n"
     ]
    }
   ],
   "source": [
    "svm_parameters = {\n",
    "'vect__ngram_range': (1,2),\n",
    "'vect__stop_words': 'english',\n",
    "'tfidf__use_idf': True,\n",
    "'clf__C': 75,\n",
    "'clf__penalty': 'l2',\n",
    "'clf__loss': 'squared_hinge'\n",
    "}\n",
    "\n",
    "svm = LinearSVC(random_state=0,max_iter=2000)\n",
    "\n",
    "get_final_accuracy(twenty_train, twenty_test, svm, 'Linear SVM News', svm_parameters)"
   ]
  },
  {
   "cell_type": "markdown",
   "metadata": {},
   "source": [
    "### SVM News --- Unigrams, Bigrams, Trigrams"
   ]
  },
  {
   "cell_type": "code",
   "execution_count": 59,
   "metadata": {},
   "outputs": [
    {
     "name": "stdout",
     "output_type": "stream",
     "text": [
      "About to fit  Linear SVM News  with  <bound method Pipeline.get_params of Pipeline(memory=None,\n",
      "         steps=[('vect',\n",
      "                 CountVectorizer(analyzer='word', binary=False,\n",
      "                                 decode_error='strict',\n",
      "                                 dtype=<class 'numpy.int64'>, encoding='utf-8',\n",
      "                                 input='content', lowercase=True, max_df=1.0,\n",
      "                                 max_features=None, min_df=1,\n",
      "                                 ngram_range=(1, 3), preprocessor=None,\n",
      "                                 stop_words='english', strip_accents=None,\n",
      "                                 token_pattern='(?u)\\\\b\\\\w\\\\w+\\\\b',\n",
      "                                 tokenizer=None, vocabulary=None)),\n",
      "                ('tfidf',\n",
      "                 TfidfTransformer(norm='l2', smooth_idf=True,\n",
      "                                  sublinear_tf=False, use_idf=True)),\n",
      "                ('clf',\n",
      "                 LinearSVC(C=75, class_weight=None, dual=True,\n",
      "                           fit_intercept=True, intercept_scaling=1,\n",
      "                           loss='squared_hinge', max_iter=2000,\n",
      "                           multi_class='ovr', penalty='l2', random_state=0,\n",
      "                           tol=0.0001, verbose=0))],\n",
      "         verbose=False)>\n"
     ]
    },
    {
     "name": "stderr",
     "output_type": "stream",
     "text": [
      "C:\\Users\\heath\\Anaconda3\\lib\\site-packages\\sklearn\\svm\\base.py:929: ConvergenceWarning: Liblinear failed to converge, increase the number of iterations.\n",
      "  \"the number of iterations.\", ConvergenceWarning)\n"
     ]
    },
    {
     "name": "stdout",
     "output_type": "stream",
     "text": [
      "Final accuracy for:  Linear SVM News\n",
      "0.703797132235794\n",
      "Time taken:  598.383136510849\n"
     ]
    }
   ],
   "source": [
    "svm_parameters = {\n",
    "'vect__ngram_range': (1,3),\n",
    "'vect__stop_words': 'english',\n",
    "'tfidf__use_idf': True,\n",
    "'clf__C': 75,\n",
    "'clf__penalty': 'l2',\n",
    "'clf__loss': 'squared_hinge'\n",
    "}\n",
    "\n",
    "svm = LinearSVC(random_state=0,max_iter=2000)\n",
    "\n",
    "get_final_accuracy(twenty_train, twenty_test, svm, 'Linear SVM News', svm_parameters)"
   ]
  },
  {
   "cell_type": "markdown",
   "metadata": {},
   "source": [
    "### SVM IMDb --- StopWords = None"
   ]
  },
  {
   "cell_type": "code",
   "execution_count": 60,
   "metadata": {},
   "outputs": [
    {
     "name": "stdout",
     "output_type": "stream",
     "text": [
      "About to fit  Linear SVM News  with  <bound method Pipeline.get_params of Pipeline(memory=None,\n",
      "         steps=[('vect',\n",
      "                 CountVectorizer(analyzer='word', binary=False,\n",
      "                                 decode_error='strict',\n",
      "                                 dtype=<class 'numpy.int64'>, encoding='utf-8',\n",
      "                                 input='content', lowercase=True, max_df=1.0,\n",
      "                                 max_features=None, min_df=1,\n",
      "                                 ngram_range=(1, 2), preprocessor=None,\n",
      "                                 stop_words=None, strip_accents=None,\n",
      "                                 token_pattern='(?u)\\\\b\\\\w\\\\w+\\\\b',\n",
      "                                 tokenizer=None, vocabulary=None)),\n",
      "                ('tfidf',\n",
      "                 TfidfTransformer(norm='l2', smooth_idf=True,\n",
      "                                  sublinear_tf=False, use_idf=True)),\n",
      "                ('clf',\n",
      "                 LinearSVC(C=5, class_weight=None, dual=True,\n",
      "                           fit_intercept=True, intercept_scaling=1,\n",
      "                           loss='squared_hinge', max_iter=2000,\n",
      "                           multi_class='ovr', penalty='l2', random_state=0,\n",
      "                           tol=0.0001, verbose=0))],\n",
      "         verbose=False)>\n",
      "Final accuracy for:  Linear SVM News\n",
      "0.6968932554434413\n",
      "Time taken:  29.323123455047607\n"
     ]
    }
   ],
   "source": [
    "svm_parameters = {\n",
    "'vect__ngram_range': (1,2),\n",
    "'vect__stop_words': None,\n",
    "'tfidf__use_idf': True,\n",
    "'clf__C': 5,\n",
    "'clf__penalty': 'l2',\n",
    "'clf__loss': 'squared_hinge'\n",
    "}\n",
    "\n",
    "svm = LinearSVC(random_state=0,max_iter=2000)\n",
    "\n",
    "get_final_accuracy(twenty_train, twenty_test, svm, 'Linear SVM News', svm_parameters)"
   ]
  },
  {
   "cell_type": "markdown",
   "metadata": {},
   "source": [
    "### SVM IMDb --- Lemmatization Included"
   ]
  },
  {
   "cell_type": "code",
   "execution_count": 61,
   "metadata": {},
   "outputs": [
    {
     "name": "stdout",
     "output_type": "stream",
     "text": [
      "About to fit  Linear SVM News  with  <bound method Pipeline.get_params of Pipeline(memory=None,\n",
      "         steps=[('vect',\n",
      "                 CountVectorizer(analyzer='word', binary=False,\n",
      "                                 decode_error='strict',\n",
      "                                 dtype=<class 'numpy.int64'>, encoding='utf-8',\n",
      "                                 input='content', lowercase=True, max_df=1.0,\n",
      "                                 max_features=None, min_df=1,\n",
      "                                 ngram_range=(1, 2), preprocessor=None,\n",
      "                                 stop_words='english', strip_accents=None,\n",
      "                                 token_pattern='(?u)\\\\b\\\\w\\\\w+\\\\b',\n",
      "                                 tokenizer=<__main__.LemmaTokenizer object at 0x000001A20FA86A08>,\n",
      "                                 vocabulary=None)),\n",
      "                ('tfidf',\n",
      "                 TfidfTransformer(norm='l2', smooth_idf=True,\n",
      "                                  sublinear_tf=False, use_idf=True)),\n",
      "                ('clf',\n",
      "                 LinearSVC(C=5, class_weight=None, dual=True,\n",
      "                           fit_intercept=True, intercept_scaling=1,\n",
      "                           loss='squared_hinge', max_iter=2000,\n",
      "                           multi_class='ovr', penalty='l2', random_state=0,\n",
      "                           tol=0.0001, verbose=0))],\n",
      "         verbose=False)>\n"
     ]
    },
    {
     "name": "stderr",
     "output_type": "stream",
     "text": [
      "C:\\Users\\heath\\Anaconda3\\lib\\site-packages\\sklearn\\feature_extraction\\text.py:300: UserWarning: Your stop_words may be inconsistent with your preprocessing. Tokenizing the stop words generated tokens ['ha', 'le', 'u', 'wa'] not in stop_words.\n",
      "  'stop_words.' % sorted(inconsistent))\n"
     ]
    },
    {
     "name": "stdout",
     "output_type": "stream",
     "text": [
      "Final accuracy for:  Linear SVM News\n",
      "0.6930430164630909\n",
      "Time taken:  63.99591779708862\n"
     ]
    }
   ],
   "source": [
    "svm_parameters = {\n",
    "'vect__ngram_range': (1,2),\n",
    "'vect__stop_words': 'english',\n",
    "'tfidf__use_idf': True,\n",
    "'clf__C': 5,\n",
    "'clf__penalty': 'l2',\n",
    "'clf__loss': 'squared_hinge'\n",
    "}\n",
    "\n",
    "svm = LinearSVC(random_state=0,max_iter=2000)\n",
    "\n",
    "get_final_accuracy_lemm(twenty_train, twenty_test, svm, 'Linear SVM News', svm_parameters)"
   ]
  },
  {
   "cell_type": "markdown",
   "metadata": {},
   "source": [
    "### SVM IMDb --- Unigrams"
   ]
  },
  {
   "cell_type": "code",
   "execution_count": 62,
   "metadata": {},
   "outputs": [
    {
     "name": "stdout",
     "output_type": "stream",
     "text": [
      "About to fit  Linear SVM News  with  <bound method Pipeline.get_params of Pipeline(memory=None,\n",
      "         steps=[('vect',\n",
      "                 CountVectorizer(analyzer='word', binary=False,\n",
      "                                 decode_error='strict',\n",
      "                                 dtype=<class 'numpy.int64'>, encoding='utf-8',\n",
      "                                 input='content', lowercase=True, max_df=1.0,\n",
      "                                 max_features=None, min_df=1,\n",
      "                                 ngram_range=(1, 1), preprocessor=None,\n",
      "                                 stop_words='english', strip_accents=None,\n",
      "                                 token_pattern='(?u)\\\\b\\\\w\\\\w+\\\\b',\n",
      "                                 tokenizer=None, vocabulary=None)),\n",
      "                ('tfidf',\n",
      "                 TfidfTransformer(norm='l2', smooth_idf=True,\n",
      "                                  sublinear_tf=False, use_idf=True)),\n",
      "                ('clf',\n",
      "                 LinearSVC(C=5, class_weight=None, dual=True,\n",
      "                           fit_intercept=True, intercept_scaling=1,\n",
      "                           loss='squared_hinge', max_iter=2000,\n",
      "                           multi_class='ovr', penalty='l2', random_state=0,\n",
      "                           tol=0.0001, verbose=0))],\n",
      "         verbose=False)>\n",
      "Final accuracy for:  Linear SVM News\n",
      "0.6781731279872544\n",
      "Time taken:  4.88507866859436\n"
     ]
    }
   ],
   "source": [
    "svm_parameters = {\n",
    "'vect__ngram_range': (1,1),\n",
    "'vect__stop_words': 'english',\n",
    "'tfidf__use_idf': True,\n",
    "'clf__C': 5,\n",
    "'clf__penalty': 'l2',\n",
    "'clf__loss': 'squared_hinge'\n",
    "}\n",
    "\n",
    "svm = LinearSVC(random_state=0,max_iter=2000)\n",
    "\n",
    "get_final_accuracy(twenty_train, twenty_test, svm, 'Linear SVM News', svm_parameters)"
   ]
  },
  {
   "cell_type": "markdown",
   "metadata": {},
   "source": [
    "### SVM IMDb --- Unigrams, Bigrams"
   ]
  },
  {
   "cell_type": "code",
   "execution_count": 63,
   "metadata": {},
   "outputs": [
    {
     "name": "stdout",
     "output_type": "stream",
     "text": [
      "About to fit  Linear SVM News  with  <bound method Pipeline.get_params of Pipeline(memory=None,\n",
      "         steps=[('vect',\n",
      "                 CountVectorizer(analyzer='word', binary=False,\n",
      "                                 decode_error='strict',\n",
      "                                 dtype=<class 'numpy.int64'>, encoding='utf-8',\n",
      "                                 input='content', lowercase=True, max_df=1.0,\n",
      "                                 max_features=None, min_df=1,\n",
      "                                 ngram_range=(1, 2), preprocessor=None,\n",
      "                                 stop_words='english', strip_accents=None,\n",
      "                                 token_pattern='(?u)\\\\b\\\\w\\\\w+\\\\b',\n",
      "                                 tokenizer=None, vocabulary=None)),\n",
      "                ('tfidf',\n",
      "                 TfidfTransformer(norm='l2', smooth_idf=True,\n",
      "                                  sublinear_tf=False, use_idf=True)),\n",
      "                ('clf',\n",
      "                 LinearSVC(C=5, class_weight=None, dual=True,\n",
      "                           fit_intercept=True, intercept_scaling=1,\n",
      "                           loss='squared_hinge', max_iter=2000,\n",
      "                           multi_class='ovr', penalty='l2', random_state=0,\n",
      "                           tol=0.0001, verbose=0))],\n",
      "         verbose=False)>\n",
      "Final accuracy for:  Linear SVM News\n",
      "0.7040626659585767\n",
      "Time taken:  22.903122901916504\n"
     ]
    }
   ],
   "source": [
    "svm_parameters = {\n",
    "'vect__ngram_range': (1,2),\n",
    "'vect__stop_words': 'english',\n",
    "'tfidf__use_idf': True,\n",
    "'clf__C': 5,\n",
    "'clf__penalty': 'l2',\n",
    "'clf__loss': 'squared_hinge'\n",
    "}\n",
    "\n",
    "svm = LinearSVC(random_state=0,max_iter=2000)\n",
    "\n",
    "get_final_accuracy(twenty_train, twenty_test, svm, 'Linear SVM News', svm_parameters)"
   ]
  },
  {
   "cell_type": "markdown",
   "metadata": {},
   "source": [
    "### SVM IMDb --- Unigrams, Bigrams, Trigrams"
   ]
  },
  {
   "cell_type": "code",
   "execution_count": 64,
   "metadata": {},
   "outputs": [
    {
     "name": "stdout",
     "output_type": "stream",
     "text": [
      "About to fit  Linear SVM News  with  <bound method Pipeline.get_params of Pipeline(memory=None,\n",
      "         steps=[('vect',\n",
      "                 CountVectorizer(analyzer='word', binary=False,\n",
      "                                 decode_error='strict',\n",
      "                                 dtype=<class 'numpy.int64'>, encoding='utf-8',\n",
      "                                 input='content', lowercase=True, max_df=1.0,\n",
      "                                 max_features=None, min_df=1,\n",
      "                                 ngram_range=(1, 3), preprocessor=None,\n",
      "                                 stop_words='english', strip_accents=None,\n",
      "                                 token_pattern='(?u)\\\\b\\\\w\\\\w+\\\\b',\n",
      "                                 tokenizer=None, vocabulary=None)),\n",
      "                ('tfidf',\n",
      "                 TfidfTransformer(norm='l2', smooth_idf=True,\n",
      "                                  sublinear_tf=False, use_idf=True)),\n",
      "                ('clf',\n",
      "                 LinearSVC(C=5, class_weight=None, dual=True,\n",
      "                           fit_intercept=True, intercept_scaling=1,\n",
      "                           loss='squared_hinge', max_iter=2000,\n",
      "                           multi_class='ovr', penalty='l2', random_state=0,\n",
      "                           tol=0.0001, verbose=0))],\n",
      "         verbose=False)>\n",
      "Final accuracy for:  Linear SVM News\n",
      "0.703797132235794\n",
      "Time taken:  47.35708427429199\n"
     ]
    }
   ],
   "source": [
    "svm_parameters = {\n",
    "'vect__ngram_range': (1,3),\n",
    "'vect__stop_words': 'english',\n",
    "'tfidf__use_idf': True,\n",
    "'clf__C': 5,\n",
    "'clf__penalty': 'l2',\n",
    "'clf__loss': 'squared_hinge'\n",
    "}\n",
    "\n",
    "svm = LinearSVC(random_state=0,max_iter=2000)\n",
    "\n",
    "get_final_accuracy(twenty_train, twenty_test, svm, 'Linear SVM News', svm_parameters)"
   ]
  },
  {
   "cell_type": "markdown",
   "metadata": {},
   "source": [
    "### Decision Tree News --- StopWords = None"
   ]
  },
  {
   "cell_type": "code",
   "execution_count": 65,
   "metadata": {},
   "outputs": [
    {
     "name": "stdout",
     "output_type": "stream",
     "text": [
      "About to fit  Decision Tree  with  <bound method Pipeline.get_params of Pipeline(memory=None,\n",
      "         steps=[('vect',\n",
      "                 CountVectorizer(analyzer='word', binary=False,\n",
      "                                 decode_error='strict',\n",
      "                                 dtype=<class 'numpy.int64'>, encoding='utf-8',\n",
      "                                 input='content', lowercase=True, max_df=1.0,\n",
      "                                 max_features=None, min_df=1,\n",
      "                                 ngram_range=(1, 2), preprocessor=None,\n",
      "                                 stop_words=None, strip_accents=None,\n",
      "                                 token_pattern='(?u)\\\\b\\\\w\\\\w+\\\\b',\n",
      "                                 tokenizer=None, vocabulary=Non...\n",
      "                 TfidfTransformer(norm='l2', smooth_idf=True,\n",
      "                                  sublinear_tf=False, use_idf=True)),\n",
      "                ('clf',\n",
      "                 DecisionTreeClassifier(class_weight=None, criterion='gini',\n",
      "                                        max_depth=15, max_features=None,\n",
      "                                        max_leaf_nodes=None,\n",
      "                                        min_impurity_decrease=0.0015,\n",
      "                                        min_impurity_split=None,\n",
      "                                        min_samples_leaf=1, min_samples_split=2,\n",
      "                                        min_weight_fraction_leaf=0.0,\n",
      "                                        presort=False, random_state=0,\n",
      "                                        splitter='best'))],\n",
      "         verbose=False)>\n",
      "Final accuracy for:  Decision Tree\n",
      "0.24375995751460436\n",
      "Time taken:  17.934128046035767\n"
     ]
    }
   ],
   "source": [
    "dt_parameters = {\n",
    "'vect__ngram_range': (1,2),\n",
    "'vect__stop_words': None,\n",
    "'tfidf__use_idf': True,\n",
    "'clf__max_depth': 15,\n",
    "'clf__max_features': None,\n",
    "'clf__min_impurity_decrease': 0.0015\n",
    "}\n",
    "\n",
    "dt = DecisionTreeClassifier(random_state=0)\n",
    "\n",
    "get_final_accuracy(twenty_train, twenty_test, dt, 'Decision Tree', dt_parameters)"
   ]
  },
  {
   "cell_type": "code",
   "execution_count": 82,
   "metadata": {},
   "outputs": [
    {
     "name": "stdout",
     "output_type": "stream",
     "text": [
      "About to fit  Decision Tree CHANGED DEPTH  with  <bound method Pipeline.get_params of Pipeline(memory=None,\n",
      "         steps=[('vect',\n",
      "                 CountVectorizer(analyzer='word', binary=False,\n",
      "                                 decode_error='strict',\n",
      "                                 dtype=<class 'numpy.int64'>, encoding='utf-8',\n",
      "                                 input='content', lowercase=True, max_df=1.0,\n",
      "                                 max_features=None, min_df=1,\n",
      "                                 ngram_range=(1, 2), preprocessor=None,\n",
      "                                 stop_words=None, strip_accents=None,\n",
      "                                 token_pattern='(?u)\\\\b\\\\w\\\\w+\\\\b',\n",
      "                                 tokenizer=None, vocabulary=Non...\n",
      "                 TfidfTransformer(norm='l2', smooth_idf=True,\n",
      "                                  sublinear_tf=False, use_idf=True)),\n",
      "                ('clf',\n",
      "                 DecisionTreeClassifier(class_weight=None, criterion='gini',\n",
      "                                        max_depth=40, max_features=None,\n",
      "                                        max_leaf_nodes=None,\n",
      "                                        min_impurity_decrease=0.0015,\n",
      "                                        min_impurity_split=None,\n",
      "                                        min_samples_leaf=1, min_samples_split=2,\n",
      "                                        min_weight_fraction_leaf=0.0,\n",
      "                                        presort=False, random_state=0,\n",
      "                                        splitter='best'))],\n",
      "         verbose=False)>\n",
      "Final accuracy for:  Decision Tree CHANGED DEPTH\n",
      "0.33935209771641\n",
      "Time taken:  25.86360263824463\n"
     ]
    }
   ],
   "source": []
  },
  {
   "cell_type": "markdown",
   "metadata": {},
   "source": [
    "### Decision Tree News --- Lemmatization Included"
   ]
  },
  {
   "cell_type": "code",
   "execution_count": 66,
   "metadata": {},
   "outputs": [
    {
     "name": "stdout",
     "output_type": "stream",
     "text": [
      "About to fit  Decision Tree  with  <bound method Pipeline.get_params of Pipeline(memory=None,\n",
      "         steps=[('vect',\n",
      "                 CountVectorizer(analyzer='word', binary=False,\n",
      "                                 decode_error='strict',\n",
      "                                 dtype=<class 'numpy.int64'>, encoding='utf-8',\n",
      "                                 input='content', lowercase=True, max_df=1.0,\n",
      "                                 max_features=None, min_df=1,\n",
      "                                 ngram_range=(1, 2), preprocessor=None,\n",
      "                                 stop_words='english', strip_accents=None,\n",
      "                                 token_pattern='(?u)\\\\b\\\\w\\\\w+\\\\b',\n",
      "                                 tokenizer=<__main__.Lemm...\n",
      "                 TfidfTransformer(norm='l2', smooth_idf=True,\n",
      "                                  sublinear_tf=False, use_idf=True)),\n",
      "                ('clf',\n",
      "                 DecisionTreeClassifier(class_weight=None, criterion='gini',\n",
      "                                        max_depth=15, max_features=None,\n",
      "                                        max_leaf_nodes=None,\n",
      "                                        min_impurity_decrease=0.0015,\n",
      "                                        min_impurity_split=None,\n",
      "                                        min_samples_leaf=1, min_samples_split=2,\n",
      "                                        min_weight_fraction_leaf=0.0,\n",
      "                                        presort=False, random_state=0,\n",
      "                                        splitter='best'))],\n",
      "         verbose=False)>\n"
     ]
    },
    {
     "name": "stderr",
     "output_type": "stream",
     "text": [
      "C:\\Users\\heath\\Anaconda3\\lib\\site-packages\\sklearn\\feature_extraction\\text.py:300: UserWarning: Your stop_words may be inconsistent with your preprocessing. Tokenizing the stop words generated tokens ['ha', 'le', 'u', 'wa'] not in stop_words.\n",
      "  'stop_words.' % sorted(inconsistent))\n"
     ]
    },
    {
     "name": "stdout",
     "output_type": "stream",
     "text": [
      "Final accuracy for:  Decision Tree\n",
      "0.26447158789166225\n",
      "Time taken:  52.10894846916199\n"
     ]
    }
   ],
   "source": [
    "dt_parameters = {\n",
    "'vect__ngram_range': (1,2),\n",
    "'vect__stop_words': 'english',\n",
    "'tfidf__use_idf': True,\n",
    "'clf__max_depth': 15,\n",
    "'clf__max_features': None,\n",
    "'clf__min_impurity_decrease': 0.0015\n",
    "}\n",
    "\n",
    "dt = DecisionTreeClassifier(random_state=0)\n",
    "\n",
    "get_final_accuracy_lemm(twenty_train, twenty_test, dt, 'Decision Tree', dt_parameters)"
   ]
  },
  {
   "cell_type": "markdown",
   "metadata": {},
   "source": [
    "### Decision Tree News --- Unigrams"
   ]
  },
  {
   "cell_type": "code",
   "execution_count": 67,
   "metadata": {},
   "outputs": [
    {
     "name": "stdout",
     "output_type": "stream",
     "text": [
      "About to fit  Decision Tree  with  <bound method Pipeline.get_params of Pipeline(memory=None,\n",
      "         steps=[('vect',\n",
      "                 CountVectorizer(analyzer='word', binary=False,\n",
      "                                 decode_error='strict',\n",
      "                                 dtype=<class 'numpy.int64'>, encoding='utf-8',\n",
      "                                 input='content', lowercase=True, max_df=1.0,\n",
      "                                 max_features=None, min_df=1,\n",
      "                                 ngram_range=(1, 1), preprocessor=None,\n",
      "                                 stop_words='english', strip_accents=None,\n",
      "                                 token_pattern='(?u)\\\\b\\\\w\\\\w+\\\\b',\n",
      "                                 tokenizer=None, vocabular...\n",
      "                 TfidfTransformer(norm='l2', smooth_idf=True,\n",
      "                                  sublinear_tf=False, use_idf=True)),\n",
      "                ('clf',\n",
      "                 DecisionTreeClassifier(class_weight=None, criterion='gini',\n",
      "                                        max_depth=15, max_features=None,\n",
      "                                        max_leaf_nodes=None,\n",
      "                                        min_impurity_decrease=0.0015,\n",
      "                                        min_impurity_split=None,\n",
      "                                        min_samples_leaf=1, min_samples_split=2,\n",
      "                                        min_weight_fraction_leaf=0.0,\n",
      "                                        presort=False, random_state=0,\n",
      "                                        splitter='best'))],\n",
      "         verbose=False)>\n",
      "Final accuracy for:  Decision Tree\n",
      "0.242963356346256\n",
      "Time taken:  3.81139874458313\n"
     ]
    }
   ],
   "source": [
    "dt_parameters = {\n",
    "'vect__ngram_range': (1,1),\n",
    "'vect__stop_words': 'english',\n",
    "'tfidf__use_idf': True,\n",
    "'clf__max_depth': 15,\n",
    "'clf__max_features': None,\n",
    "'clf__min_impurity_decrease': 0.0015\n",
    "}\n",
    "\n",
    "dt = DecisionTreeClassifier(random_state=0)\n",
    "\n",
    "get_final_accuracy(twenty_train, twenty_test, dt, 'Decision Tree', dt_parameters)"
   ]
  },
  {
   "cell_type": "markdown",
   "metadata": {},
   "source": [
    "### Decision Tree News --- Unigrams, Bigrams"
   ]
  },
  {
   "cell_type": "code",
   "execution_count": 68,
   "metadata": {},
   "outputs": [
    {
     "name": "stdout",
     "output_type": "stream",
     "text": [
      "About to fit  Decision Tree  with  <bound method Pipeline.get_params of Pipeline(memory=None,\n",
      "         steps=[('vect',\n",
      "                 CountVectorizer(analyzer='word', binary=False,\n",
      "                                 decode_error='strict',\n",
      "                                 dtype=<class 'numpy.int64'>, encoding='utf-8',\n",
      "                                 input='content', lowercase=True, max_df=1.0,\n",
      "                                 max_features=None, min_df=1,\n",
      "                                 ngram_range=(1, 2), preprocessor=None,\n",
      "                                 stop_words='english', strip_accents=None,\n",
      "                                 token_pattern='(?u)\\\\b\\\\w\\\\w+\\\\b',\n",
      "                                 tokenizer=None, vocabular...\n",
      "                 TfidfTransformer(norm='l2', smooth_idf=True,\n",
      "                                  sublinear_tf=False, use_idf=True)),\n",
      "                ('clf',\n",
      "                 DecisionTreeClassifier(class_weight=None, criterion='gini',\n",
      "                                        max_depth=15, max_features=None,\n",
      "                                        max_leaf_nodes=None,\n",
      "                                        min_impurity_decrease=0.0015,\n",
      "                                        min_impurity_split=None,\n",
      "                                        min_samples_leaf=1, min_samples_split=2,\n",
      "                                        min_weight_fraction_leaf=0.0,\n",
      "                                        presort=False, random_state=0,\n",
      "                                        splitter='best'))],\n",
      "         verbose=False)>\n",
      "Final accuracy for:  Decision Tree\n",
      "0.24442379182156135\n",
      "Time taken:  13.47058391571045\n"
     ]
    }
   ],
   "source": [
    "dt_parameters = {\n",
    "'vect__ngram_range': (1,2),\n",
    "'vect__stop_words': 'english',\n",
    "'tfidf__use_idf': True,\n",
    "'clf__max_depth': 15,\n",
    "'clf__max_features': None,\n",
    "'clf__min_impurity_decrease': 0.0015\n",
    "}\n",
    "\n",
    "dt = DecisionTreeClassifier(random_state=0)\n",
    "\n",
    "get_final_accuracy(twenty_train, twenty_test, dt, 'Decision Tree', dt_parameters)"
   ]
  },
  {
   "cell_type": "markdown",
   "metadata": {},
   "source": [
    "### Decision Tree News --- Unigrams, Bigrams, Trigrams"
   ]
  },
  {
   "cell_type": "code",
   "execution_count": 69,
   "metadata": {},
   "outputs": [
    {
     "name": "stdout",
     "output_type": "stream",
     "text": [
      "About to fit  Decision Tree  with  <bound method Pipeline.get_params of Pipeline(memory=None,\n",
      "         steps=[('vect',\n",
      "                 CountVectorizer(analyzer='word', binary=False,\n",
      "                                 decode_error='strict',\n",
      "                                 dtype=<class 'numpy.int64'>, encoding='utf-8',\n",
      "                                 input='content', lowercase=True, max_df=1.0,\n",
      "                                 max_features=None, min_df=1,\n",
      "                                 ngram_range=(1, 3), preprocessor=None,\n",
      "                                 stop_words='english', strip_accents=None,\n",
      "                                 token_pattern='(?u)\\\\b\\\\w\\\\w+\\\\b',\n",
      "                                 tokenizer=None, vocabular...\n",
      "                 TfidfTransformer(norm='l2', smooth_idf=True,\n",
      "                                  sublinear_tf=False, use_idf=True)),\n",
      "                ('clf',\n",
      "                 DecisionTreeClassifier(class_weight=None, criterion='gini',\n",
      "                                        max_depth=15, max_features=None,\n",
      "                                        max_leaf_nodes=None,\n",
      "                                        min_impurity_decrease=0.0015,\n",
      "                                        min_impurity_split=None,\n",
      "                                        min_samples_leaf=1, min_samples_split=2,\n",
      "                                        min_weight_fraction_leaf=0.0,\n",
      "                                        presort=False, random_state=0,\n",
      "                                        splitter='best'))],\n",
      "         verbose=False)>\n",
      "Final accuracy for:  Decision Tree\n",
      "0.24336165693043016\n",
      "Time taken:  25.750720977783203\n"
     ]
    }
   ],
   "source": [
    "dt_parameters = {\n",
    "'vect__ngram_range': (1,3),\n",
    "'vect__stop_words': 'english',\n",
    "'tfidf__use_idf': True,\n",
    "'clf__max_depth': 15,\n",
    "'clf__max_features': None,\n",
    "'clf__min_impurity_decrease': 0.0015\n",
    "}\n",
    "\n",
    "dt = DecisionTreeClassifier(random_state=0)\n",
    "\n",
    "get_final_accuracy(twenty_train, twenty_test, dt, 'Decision Tree', dt_parameters)"
   ]
  },
  {
   "cell_type": "markdown",
   "metadata": {},
   "source": [
    "### Decision Tree IMDb --- StopWords = None"
   ]
  },
  {
   "cell_type": "code",
   "execution_count": 70,
   "metadata": {},
   "outputs": [
    {
     "name": "stdout",
     "output_type": "stream",
     "text": [
      "About to fit  Decision Tree  with  <bound method Pipeline.get_params of Pipeline(memory=None,\n",
      "         steps=[('vect',\n",
      "                 CountVectorizer(analyzer='word', binary=False,\n",
      "                                 decode_error='strict',\n",
      "                                 dtype=<class 'numpy.int64'>, encoding='utf-8',\n",
      "                                 input='content', lowercase=True, max_df=1.0,\n",
      "                                 max_features=None, min_df=1,\n",
      "                                 ngram_range=(1, 2), preprocessor=None,\n",
      "                                 stop_words=None, strip_accents=None,\n",
      "                                 token_pattern='(?u)\\\\b\\\\w\\\\w+\\\\b',\n",
      "                                 tokenizer=None, vocabulary=Non...\n",
      "                 TfidfTransformer(norm='l2', smooth_idf=True,\n",
      "                                  sublinear_tf=False, use_idf=True)),\n",
      "                ('clf',\n",
      "                 DecisionTreeClassifier(class_weight=None, criterion='gini',\n",
      "                                        max_depth=40, max_features=None,\n",
      "                                        max_leaf_nodes=None,\n",
      "                                        min_impurity_decrease=0.0005,\n",
      "                                        min_impurity_split=None,\n",
      "                                        min_samples_leaf=1, min_samples_split=2,\n",
      "                                        min_weight_fraction_leaf=0.0,\n",
      "                                        presort=False, random_state=0,\n",
      "                                        splitter='best'))],\n",
      "         verbose=False)>\n",
      "Final accuracy for:  Decision Tree\n",
      "0.7466\n",
      "Time taken:  58.252663135528564\n"
     ]
    }
   ],
   "source": [
    "dt_parameters = {\n",
    "'vect__ngram_range': (1,2),\n",
    "'vect__stop_words': None,\n",
    "'tfidf__use_idf': True,\n",
    "'clf__max_depth': 40,\n",
    "'clf__max_features': None,\n",
    "'clf__min_impurity_decrease': 0.0005\n",
    "}\n",
    "\n",
    "dt = DecisionTreeClassifier(random_state=0)\n",
    "\n",
    "get_final_accuracy(imdb_train, imdb_test, dt, 'Decision Tree', dt_parameters)"
   ]
  },
  {
   "cell_type": "markdown",
   "metadata": {},
   "source": [
    "### Decision Tree IMDb --- Lemmatization Included"
   ]
  },
  {
   "cell_type": "code",
   "execution_count": 71,
   "metadata": {},
   "outputs": [
    {
     "name": "stdout",
     "output_type": "stream",
     "text": [
      "About to fit  Decision Tree  with  <bound method Pipeline.get_params of Pipeline(memory=None,\n",
      "         steps=[('vect',\n",
      "                 CountVectorizer(analyzer='word', binary=False,\n",
      "                                 decode_error='strict',\n",
      "                                 dtype=<class 'numpy.int64'>, encoding='utf-8',\n",
      "                                 input='content', lowercase=True, max_df=1.0,\n",
      "                                 max_features=None, min_df=1,\n",
      "                                 ngram_range=(1, 2), preprocessor=None,\n",
      "                                 stop_words='english', strip_accents=None,\n",
      "                                 token_pattern='(?u)\\\\b\\\\w\\\\w+\\\\b',\n",
      "                                 tokenizer=<__main__.Lemm...\n",
      "                 TfidfTransformer(norm='l2', smooth_idf=True,\n",
      "                                  sublinear_tf=False, use_idf=True)),\n",
      "                ('clf',\n",
      "                 DecisionTreeClassifier(class_weight=None, criterion='gini',\n",
      "                                        max_depth=40, max_features=None,\n",
      "                                        max_leaf_nodes=None,\n",
      "                                        min_impurity_decrease=0.0005,\n",
      "                                        min_impurity_split=None,\n",
      "                                        min_samples_leaf=1, min_samples_split=2,\n",
      "                                        min_weight_fraction_leaf=0.0,\n",
      "                                        presort=False, random_state=0,\n",
      "                                        splitter='best'))],\n",
      "         verbose=False)>\n"
     ]
    },
    {
     "name": "stderr",
     "output_type": "stream",
     "text": [
      "C:\\Users\\heath\\Anaconda3\\lib\\site-packages\\sklearn\\feature_extraction\\text.py:300: UserWarning: Your stop_words may be inconsistent with your preprocessing. Tokenizing the stop words generated tokens ['ha', 'le', 'u', 'wa'] not in stop_words.\n",
      "  'stop_words.' % sorted(inconsistent))\n"
     ]
    },
    {
     "name": "stdout",
     "output_type": "stream",
     "text": [
      "Final accuracy for:  Decision Tree\n",
      "0.74376\n",
      "Time taken:  150.08497786521912\n"
     ]
    }
   ],
   "source": [
    "dt_parameters = {\n",
    "'vect__ngram_range': (1,2),\n",
    "'vect__stop_words': 'english',\n",
    "'tfidf__use_idf': True,\n",
    "'clf__max_depth': 40,\n",
    "'clf__max_features': None,\n",
    "'clf__min_impurity_decrease': 0.0005\n",
    "}\n",
    "\n",
    "dt = DecisionTreeClassifier(random_state=0)\n",
    "\n",
    "get_final_accuracy_lemm(imdb_train, imdb_test, dt, 'Decision Tree', dt_parameters)"
   ]
  },
  {
   "cell_type": "markdown",
   "metadata": {},
   "source": [
    "### Decision tree IMDb --- Unigrams"
   ]
  },
  {
   "cell_type": "code",
   "execution_count": 72,
   "metadata": {},
   "outputs": [
    {
     "name": "stdout",
     "output_type": "stream",
     "text": [
      "About to fit  Decision Tree  with  <bound method Pipeline.get_params of Pipeline(memory=None,\n",
      "         steps=[('vect',\n",
      "                 CountVectorizer(analyzer='word', binary=False,\n",
      "                                 decode_error='strict',\n",
      "                                 dtype=<class 'numpy.int64'>, encoding='utf-8',\n",
      "                                 input='content', lowercase=True, max_df=1.0,\n",
      "                                 max_features=None, min_df=1,\n",
      "                                 ngram_range=(1, 1), preprocessor=None,\n",
      "                                 stop_words='english', strip_accents=None,\n",
      "                                 token_pattern='(?u)\\\\b\\\\w\\\\w+\\\\b',\n",
      "                                 tokenizer=None, vocabular...\n",
      "                 TfidfTransformer(norm='l2', smooth_idf=True,\n",
      "                                  sublinear_tf=False, use_idf=True)),\n",
      "                ('clf',\n",
      "                 DecisionTreeClassifier(class_weight=None, criterion='gini',\n",
      "                                        max_depth=40, max_features=None,\n",
      "                                        max_leaf_nodes=None,\n",
      "                                        min_impurity_decrease=0.0005,\n",
      "                                        min_impurity_split=None,\n",
      "                                        min_samples_leaf=1, min_samples_split=2,\n",
      "                                        min_weight_fraction_leaf=0.0,\n",
      "                                        presort=False, random_state=0,\n",
      "                                        splitter='best'))],\n",
      "         verbose=False)>\n",
      "Final accuracy for:  Decision Tree\n",
      "0.74576\n",
      "Time taken:  10.95675015449524\n"
     ]
    }
   ],
   "source": [
    "dt_parameters = {\n",
    "'vect__ngram_range': (1,1),\n",
    "'vect__stop_words': 'english',\n",
    "'tfidf__use_idf': True,\n",
    "'clf__max_depth': 40,\n",
    "'clf__max_features': None,\n",
    "'clf__min_impurity_decrease': 0.0005\n",
    "}\n",
    "\n",
    "dt = DecisionTreeClassifier(random_state=0)\n",
    "\n",
    "get_final_accuracy(imdb_train, imdb_test, dt, 'Decision Tree', dt_parameters)"
   ]
  },
  {
   "cell_type": "markdown",
   "metadata": {},
   "source": [
    "### DEcision Tree IMDb --- Unigrams, Bigrams"
   ]
  },
  {
   "cell_type": "code",
   "execution_count": 73,
   "metadata": {},
   "outputs": [
    {
     "name": "stdout",
     "output_type": "stream",
     "text": [
      "About to fit  Decision Tree  with  <bound method Pipeline.get_params of Pipeline(memory=None,\n",
      "         steps=[('vect',\n",
      "                 CountVectorizer(analyzer='word', binary=False,\n",
      "                                 decode_error='strict',\n",
      "                                 dtype=<class 'numpy.int64'>, encoding='utf-8',\n",
      "                                 input='content', lowercase=True, max_df=1.0,\n",
      "                                 max_features=None, min_df=1,\n",
      "                                 ngram_range=(1, 2), preprocessor=None,\n",
      "                                 stop_words='english', strip_accents=None,\n",
      "                                 token_pattern='(?u)\\\\b\\\\w\\\\w+\\\\b',\n",
      "                                 tokenizer=None, vocabular...\n",
      "                 TfidfTransformer(norm='l2', smooth_idf=True,\n",
      "                                  sublinear_tf=False, use_idf=True)),\n",
      "                ('clf',\n",
      "                 DecisionTreeClassifier(class_weight=None, criterion='gini',\n",
      "                                        max_depth=40, max_features=None,\n",
      "                                        max_leaf_nodes=None,\n",
      "                                        min_impurity_decrease=0.0005,\n",
      "                                        min_impurity_split=None,\n",
      "                                        min_samples_leaf=1, min_samples_split=2,\n",
      "                                        min_weight_fraction_leaf=0.0,\n",
      "                                        presort=False, random_state=0,\n",
      "                                        splitter='best'))],\n",
      "         verbose=False)>\n",
      "Final accuracy for:  Decision Tree\n",
      "0.7486\n",
      "Time taken:  44.262340784072876\n"
     ]
    }
   ],
   "source": [
    "dt_parameters = {\n",
    "'vect__ngram_range': (1,2),\n",
    "'vect__stop_words': 'english',\n",
    "'tfidf__use_idf': True,\n",
    "'clf__max_depth': 40,\n",
    "'clf__max_features': None,\n",
    "'clf__min_impurity_decrease': 0.0005\n",
    "}\n",
    "\n",
    "dt = DecisionTreeClassifier(random_state=0)\n",
    "\n",
    "get_final_accuracy(imdb_train, imdb_test, dt, 'Decision Tree', dt_parameters)"
   ]
  },
  {
   "cell_type": "markdown",
   "metadata": {},
   "source": [
    "### dt imdb uni, bi, tri"
   ]
  },
  {
   "cell_type": "code",
   "execution_count": 74,
   "metadata": {},
   "outputs": [
    {
     "name": "stdout",
     "output_type": "stream",
     "text": [
      "About to fit  Decision Tree  with  <bound method Pipeline.get_params of Pipeline(memory=None,\n",
      "         steps=[('vect',\n",
      "                 CountVectorizer(analyzer='word', binary=False,\n",
      "                                 decode_error='strict',\n",
      "                                 dtype=<class 'numpy.int64'>, encoding='utf-8',\n",
      "                                 input='content', lowercase=True, max_df=1.0,\n",
      "                                 max_features=None, min_df=1,\n",
      "                                 ngram_range=(1, 3), preprocessor=None,\n",
      "                                 stop_words='english', strip_accents=None,\n",
      "                                 token_pattern='(?u)\\\\b\\\\w\\\\w+\\\\b',\n",
      "                                 tokenizer=None, vocabular...\n",
      "                 TfidfTransformer(norm='l2', smooth_idf=True,\n",
      "                                  sublinear_tf=False, use_idf=True)),\n",
      "                ('clf',\n",
      "                 DecisionTreeClassifier(class_weight=None, criterion='gini',\n",
      "                                        max_depth=40, max_features=None,\n",
      "                                        max_leaf_nodes=None,\n",
      "                                        min_impurity_decrease=0.0005,\n",
      "                                        min_impurity_split=None,\n",
      "                                        min_samples_leaf=1, min_samples_split=2,\n",
      "                                        min_weight_fraction_leaf=0.0,\n",
      "                                        presort=False, random_state=0,\n",
      "                                        splitter='best'))],\n",
      "         verbose=False)>\n",
      "Final accuracy for:  Decision Tree\n",
      "0.74672\n",
      "Time taken:  95.7635850906372\n"
     ]
    }
   ],
   "source": [
    "dt_parameters = {\n",
    "'vect__ngram_range': (1,3),\n",
    "'vect__stop_words': 'english',\n",
    "'tfidf__use_idf': True,\n",
    "'clf__max_depth': 40,\n",
    "'clf__max_features': None,\n",
    "'clf__min_impurity_decrease': 0.0005\n",
    "}\n",
    "\n",
    "dt = DecisionTreeClassifier(random_state=0)\n",
    "\n",
    "get_final_accuracy(imdb_train, imdb_test, dt, 'Decision Tree', dt_parameters)"
   ]
  },
  {
   "cell_type": "markdown",
   "metadata": {},
   "source": [
    "### Naive Bayes News StopWords = None "
   ]
  },
  {
   "cell_type": "code",
   "execution_count": 75,
   "metadata": {},
   "outputs": [
    {
     "name": "stdout",
     "output_type": "stream",
     "text": [
      "About to fit  Naive Bayes  with  <bound method Pipeline.get_params of Pipeline(memory=None,\n",
      "         steps=[('vect',\n",
      "                 CountVectorizer(analyzer='word', binary=False,\n",
      "                                 decode_error='strict',\n",
      "                                 dtype=<class 'numpy.int64'>, encoding='utf-8',\n",
      "                                 input='content', lowercase=True, max_df=1.0,\n",
      "                                 max_features=None, min_df=1,\n",
      "                                 ngram_range=(1, 2), preprocessor=None,\n",
      "                                 stop_words=None, strip_accents=None,\n",
      "                                 token_pattern='(?u)\\\\b\\\\w\\\\w+\\\\b',\n",
      "                                 tokenizer=None, vocabulary=None)),\n",
      "                ('tfidf',\n",
      "                 TfidfTransformer(norm='l2', smooth_idf=True,\n",
      "                                  sublinear_tf=False, use_idf=True)),\n",
      "                ('clf',\n",
      "                 MultinomialNB(alpha=1.0, class_prior=None, fit_prior=True))],\n",
      "         verbose=False)>\n",
      "Final accuracy for:  Naive Bayes\n",
      "0.54753053637812\n",
      "Time taken:  9.015357971191406\n"
     ]
    }
   ],
   "source": [
    "nb_parameters = {\n",
    "'vect__ngram_range': (1,2),\n",
    "'vect__stop_words': None,\n",
    "'tfidf__use_idf': True,\n",
    "}\n",
    "\n",
    "nb = MultinomialNB()\n",
    "\n",
    "get_final_accuracy(twenty_train, twenty_test, nb, 'Naive Bayes', nb_parameters)"
   ]
  },
  {
   "cell_type": "markdown",
   "metadata": {},
   "source": [
    "### Naive Bayes News --- Lemmatization Included"
   ]
  },
  {
   "cell_type": "code",
   "execution_count": 76,
   "metadata": {},
   "outputs": [
    {
     "name": "stdout",
     "output_type": "stream",
     "text": [
      "About to fit  Naive Bayes  with  <bound method Pipeline.get_params of Pipeline(memory=None,\n",
      "         steps=[('vect',\n",
      "                 CountVectorizer(analyzer='word', binary=False,\n",
      "                                 decode_error='strict',\n",
      "                                 dtype=<class 'numpy.int64'>, encoding='utf-8',\n",
      "                                 input='content', lowercase=True, max_df=1.0,\n",
      "                                 max_features=None, min_df=1,\n",
      "                                 ngram_range=(1, 2), preprocessor=None,\n",
      "                                 stop_words='english', strip_accents=None,\n",
      "                                 token_pattern='(?u)\\\\b\\\\w\\\\w+\\\\b',\n",
      "                                 tokenizer=<__main__.LemmaTokenizer object at 0x000001A20DF27308>,\n",
      "                                 vocabulary=None)),\n",
      "                ('tfidf',\n",
      "                 TfidfTransformer(norm='l2', smooth_idf=True,\n",
      "                                  sublinear_tf=False, use_idf=True)),\n",
      "                ('clf',\n",
      "                 MultinomialNB(alpha=1.0, class_prior=None, fit_prior=True))],\n",
      "         verbose=False)>\n"
     ]
    },
    {
     "name": "stderr",
     "output_type": "stream",
     "text": [
      "C:\\Users\\heath\\Anaconda3\\lib\\site-packages\\sklearn\\feature_extraction\\text.py:300: UserWarning: Your stop_words may be inconsistent with your preprocessing. Tokenizing the stop words generated tokens ['ha', 'le', 'u', 'wa'] not in stop_words.\n",
      "  'stop_words.' % sorted(inconsistent))\n"
     ]
    },
    {
     "name": "stdout",
     "output_type": "stream",
     "text": [
      "Final accuracy for:  Naive Bayes\n",
      "0.605416887944769\n",
      "Time taken:  44.95395755767822\n"
     ]
    }
   ],
   "source": [
    "nb_parameters = {\n",
    "'vect__ngram_range': (1,2),\n",
    "'vect__stop_words': 'english',\n",
    "'tfidf__use_idf': True,\n",
    "}\n",
    "\n",
    "nb = MultinomialNB()\n",
    "\n",
    "get_final_accuracy_lemm(twenty_train, twenty_test, nb, 'Naive Bayes', nb_parameters)"
   ]
  },
  {
   "cell_type": "markdown",
   "metadata": {},
   "source": [
    "### Naive Bayes News --- Unigrams"
   ]
  },
  {
   "cell_type": "code",
   "execution_count": 77,
   "metadata": {},
   "outputs": [
    {
     "name": "stdout",
     "output_type": "stream",
     "text": [
      "About to fit  Naive Bayes  with  <bound method Pipeline.get_params of Pipeline(memory=None,\n",
      "         steps=[('vect',\n",
      "                 CountVectorizer(analyzer='word', binary=False,\n",
      "                                 decode_error='strict',\n",
      "                                 dtype=<class 'numpy.int64'>, encoding='utf-8',\n",
      "                                 input='content', lowercase=True, max_df=1.0,\n",
      "                                 max_features=None, min_df=1,\n",
      "                                 ngram_range=(1, 1), preprocessor=None,\n",
      "                                 stop_words='english', strip_accents=None,\n",
      "                                 token_pattern='(?u)\\\\b\\\\w\\\\w+\\\\b',\n",
      "                                 tokenizer=None, vocabulary=None)),\n",
      "                ('tfidf',\n",
      "                 TfidfTransformer(norm='l2', smooth_idf=True,\n",
      "                                  sublinear_tf=False, use_idf=True)),\n",
      "                ('clf',\n",
      "                 MultinomialNB(alpha=1.0, class_prior=None, fit_prior=True))],\n",
      "         verbose=False)>\n",
      "Final accuracy for:  Naive Bayes\n",
      "0.6779075942644716\n",
      "Time taken:  2.2971322536468506\n"
     ]
    }
   ],
   "source": [
    "nb_parameters = {\n",
    "'vect__ngram_range': (1,1),\n",
    "'vect__stop_words': 'english',\n",
    "'tfidf__use_idf': True,\n",
    "}\n",
    "\n",
    "nb = MultinomialNB()\n",
    "\n",
    "get_final_accuracy(twenty_train, twenty_test, nb, 'Naive Bayes', nb_parameters)"
   ]
  },
  {
   "cell_type": "markdown",
   "metadata": {},
   "source": [
    "### Naive Bayes News --- Unigrams, Bigrams\n"
   ]
  },
  {
   "cell_type": "code",
   "execution_count": 78,
   "metadata": {},
   "outputs": [
    {
     "name": "stdout",
     "output_type": "stream",
     "text": [
      "About to fit  Naive Bayes  with  <bound method Pipeline.get_params of Pipeline(memory=None,\n",
      "         steps=[('vect',\n",
      "                 CountVectorizer(analyzer='word', binary=False,\n",
      "                                 decode_error='strict',\n",
      "                                 dtype=<class 'numpy.int64'>, encoding='utf-8',\n",
      "                                 input='content', lowercase=True, max_df=1.0,\n",
      "                                 max_features=None, min_df=1,\n",
      "                                 ngram_range=(1, 2), preprocessor=None,\n",
      "                                 stop_words='english', strip_accents=None,\n",
      "                                 token_pattern='(?u)\\\\b\\\\w\\\\w+\\\\b',\n",
      "                                 tokenizer=None, vocabulary=None)),\n",
      "                ('tfidf',\n",
      "                 TfidfTransformer(norm='l2', smooth_idf=True,\n",
      "                                  sublinear_tf=False, use_idf=True)),\n",
      "                ('clf',\n",
      "                 MultinomialNB(alpha=1.0, class_prior=None, fit_prior=True))],\n",
      "         verbose=False)>\n",
      "Final accuracy for:  Naive Bayes\n",
      "0.6741901221455124\n",
      "Time taken:  7.220492362976074\n"
     ]
    }
   ],
   "source": [
    "nb_parameters = {\n",
    "'vect__ngram_range': (1,2),\n",
    "'vect__stop_words': 'english',\n",
    "'tfidf__use_idf': True,\n",
    "}\n",
    "\n",
    "nb = MultinomialNB()\n",
    "\n",
    "get_final_accuracy(twenty_train, twenty_test, nb, 'Naive Bayes', nb_parameters)"
   ]
  },
  {
   "cell_type": "markdown",
   "metadata": {},
   "source": [
    "### Naive Bayes News --- Unigrams, Bigrams, Trigrams"
   ]
  },
  {
   "cell_type": "code",
   "execution_count": 79,
   "metadata": {},
   "outputs": [
    {
     "name": "stdout",
     "output_type": "stream",
     "text": [
      "About to fit  Naive Bayes  with  <bound method Pipeline.get_params of Pipeline(memory=None,\n",
      "         steps=[('vect',\n",
      "                 CountVectorizer(analyzer='word', binary=False,\n",
      "                                 decode_error='strict',\n",
      "                                 dtype=<class 'numpy.int64'>, encoding='utf-8',\n",
      "                                 input='content', lowercase=True, max_df=1.0,\n",
      "                                 max_features=None, min_df=1,\n",
      "                                 ngram_range=(1, 3), preprocessor=None,\n",
      "                                 stop_words='english', strip_accents=None,\n",
      "                                 token_pattern='(?u)\\\\b\\\\w\\\\w+\\\\b',\n",
      "                                 tokenizer=None, vocabulary=None)),\n",
      "                ('tfidf',\n",
      "                 TfidfTransformer(norm='l2', smooth_idf=True,\n",
      "                                  sublinear_tf=False, use_idf=True)),\n",
      "                ('clf',\n",
      "                 MultinomialNB(alpha=1.0, class_prior=None, fit_prior=True))],\n",
      "         verbose=False)>\n",
      "Final accuracy for:  Naive Bayes\n",
      "0.6695432819968136\n",
      "Time taken:  12.897570610046387\n"
     ]
    }
   ],
   "source": [
    "nb_parameters = {\n",
    "'vect__ngram_range': (1,3),\n",
    "'vect__stop_words': 'english',\n",
    "'tfidf__use_idf': True,\n",
    "}\n",
    "\n",
    "nb = MultinomialNB()\n",
    "\n",
    "get_final_accuracy(twenty_train, twenty_test, nb, 'Naive Bayes', nb_parameters)"
   ]
  },
  {
   "cell_type": "markdown",
   "metadata": {},
   "source": [
    "### Naive Bayes IMDb --- StopWords=None"
   ]
  },
  {
   "cell_type": "code",
   "execution_count": 44,
   "metadata": {},
   "outputs": [
    {
     "name": "stdout",
     "output_type": "stream",
     "text": [
      "About to fit  Naive Bayes  with  <bound method Pipeline.get_params of Pipeline(memory=None,\n",
      "         steps=[('vect',\n",
      "                 CountVectorizer(analyzer='word', binary=False,\n",
      "                                 decode_error='strict',\n",
      "                                 dtype=<class 'numpy.int64'>, encoding='utf-8',\n",
      "                                 input='content', lowercase=True, max_df=1.0,\n",
      "                                 max_features=None, min_df=1,\n",
      "                                 ngram_range=(1, 2), preprocessor=None,\n",
      "                                 stop_words=None, strip_accents=None,\n",
      "                                 token_pattern='(?u)\\\\b\\\\w\\\\w+\\\\b',\n",
      "                                 tokenizer=None, vocabulary=None)),\n",
      "                ('tfidf',\n",
      "                 TfidfTransformer(norm='l2', smooth_idf=True,\n",
      "                                  sublinear_tf=False, use_idf=True)),\n",
      "                ('clf',\n",
      "                 MultinomialNB(alpha=1.0, class_prior=None, fit_prior=True))],\n",
      "         verbose=False)>\n",
      "Final accuracy for:  Naive Bayes\n",
      "0.86832\n",
      "Time taken:  64.3916187286377\n"
     ]
    }
   ],
   "source": [
    "nb_parameters = {\n",
    "'vect__ngram_range': (1,2),\n",
    "'vect__stop_words': None,\n",
    "'tfidf__use_idf': True,\n",
    "}\n",
    "\n",
    "nb = MultinomialNB()\n",
    "\n",
    "get_final_accuracy(imdb_train, imdb_test, nb, 'Naive Bayes', nb_parameters)"
   ]
  },
  {
   "cell_type": "markdown",
   "metadata": {},
   "source": [
    "### Naive Bayes IMDb --- Lemmatization Included"
   ]
  },
  {
   "cell_type": "code",
   "execution_count": 83,
   "metadata": {},
   "outputs": [
    {
     "name": "stdout",
     "output_type": "stream",
     "text": [
      "About to fit  Naive Bayes  with  <bound method Pipeline.get_params of Pipeline(memory=None,\n",
      "         steps=[('vect',\n",
      "                 CountVectorizer(analyzer='word', binary=False,\n",
      "                                 decode_error='strict',\n",
      "                                 dtype=<class 'numpy.int64'>, encoding='utf-8',\n",
      "                                 input='content', lowercase=True, max_df=1.0,\n",
      "                                 max_features=None, min_df=1,\n",
      "                                 ngram_range=(1, 2), preprocessor=None,\n",
      "                                 stop_words='english', strip_accents=None,\n",
      "                                 token_pattern='(?u)\\\\b\\\\w\\\\w+\\\\b',\n",
      "                                 tokenizer=<__main__.LemmaTokenizer object at 0x000001A21A33F288>,\n",
      "                                 vocabulary=None)),\n",
      "                ('tfidf',\n",
      "                 TfidfTransformer(norm='l2', smooth_idf=True,\n",
      "                                  sublinear_tf=False, use_idf=True)),\n",
      "                ('clf',\n",
      "                 MultinomialNB(alpha=1.0, class_prior=None, fit_prior=True))],\n",
      "         verbose=False)>\n"
     ]
    },
    {
     "name": "stderr",
     "output_type": "stream",
     "text": [
      "C:\\Users\\heath\\Anaconda3\\lib\\site-packages\\sklearn\\feature_extraction\\text.py:300: UserWarning: Your stop_words may be inconsistent with your preprocessing. Tokenizing the stop words generated tokens ['ha', 'le', 'u', 'wa'] not in stop_words.\n",
      "  'stop_words.' % sorted(inconsistent))\n"
     ]
    },
    {
     "name": "stdout",
     "output_type": "stream",
     "text": [
      "Final accuracy for:  Naive Bayes\n",
      "0.85292\n",
      "Time taken:  125.98744058609009\n"
     ]
    }
   ],
   "source": [
    "nb_parameters = {\n",
    "'vect__ngram_range': (1,2),\n",
    "'vect__stop_words': 'english',\n",
    "'tfidf__use_idf': True,\n",
    "}\n",
    "\n",
    "nb = MultinomialNB()\n",
    "\n",
    "get_final_accuracy_lemm(imdb_train, imdb_test, nb, 'Naive Bayes', nb_parameters)"
   ]
  },
  {
   "cell_type": "markdown",
   "metadata": {},
   "source": [
    "### Naive Bayes IMDb --- Unigrams"
   ]
  },
  {
   "cell_type": "code",
   "execution_count": 45,
   "metadata": {},
   "outputs": [
    {
     "name": "stdout",
     "output_type": "stream",
     "text": [
      "About to fit  Naive Bayes  with  <bound method Pipeline.get_params of Pipeline(memory=None,\n",
      "         steps=[('vect',\n",
      "                 CountVectorizer(analyzer='word', binary=False,\n",
      "                                 decode_error='strict',\n",
      "                                 dtype=<class 'numpy.int64'>, encoding='utf-8',\n",
      "                                 input='content', lowercase=True, max_df=1.0,\n",
      "                                 max_features=None, min_df=1,\n",
      "                                 ngram_range=(1, 1), preprocessor=None,\n",
      "                                 stop_words='english', strip_accents=None,\n",
      "                                 token_pattern='(?u)\\\\b\\\\w\\\\w+\\\\b',\n",
      "                                 tokenizer=None, vocabulary=None)),\n",
      "                ('tfidf',\n",
      "                 TfidfTransformer(norm='l2', smooth_idf=True,\n",
      "                                  sublinear_tf=False, use_idf=True)),\n",
      "                ('clf',\n",
      "                 MultinomialNB(alpha=1.0, class_prior=None, fit_prior=True))],\n",
      "         verbose=False)>\n",
      "Final accuracy for:  Naive Bayes\n",
      "0.82992\n",
      "Time taken:  18.539979934692383\n"
     ]
    }
   ],
   "source": [
    "nb_parameters = {\n",
    "'vect__ngram_range': (1,1),\n",
    "'vect__stop_words': 'english',\n",
    "'tfidf__use_idf': True,\n",
    "}\n",
    "\n",
    "nb = MultinomialNB()\n",
    "\n",
    "get_final_accuracy(imdb_train, imdb_test, nb, 'Naive Bayes', nb_parameters)"
   ]
  },
  {
   "cell_type": "markdown",
   "metadata": {},
   "source": [
    "### Naive Bayes IMDb --- Unigrams, Bigrams"
   ]
  },
  {
   "cell_type": "code",
   "execution_count": 80,
   "metadata": {},
   "outputs": [
    {
     "name": "stdout",
     "output_type": "stream",
     "text": [
      "About to fit  Naive Bayes  with  <bound method Pipeline.get_params of Pipeline(memory=None,\n",
      "         steps=[('vect',\n",
      "                 CountVectorizer(analyzer='word', binary=False,\n",
      "                                 decode_error='strict',\n",
      "                                 dtype=<class 'numpy.int64'>, encoding='utf-8',\n",
      "                                 input='content', lowercase=True, max_df=1.0,\n",
      "                                 max_features=None, min_df=1,\n",
      "                                 ngram_range=(1, 2), preprocessor=None,\n",
      "                                 stop_words='english', strip_accents=None,\n",
      "                                 token_pattern='(?u)\\\\b\\\\w\\\\w+\\\\b',\n",
      "                                 tokenizer=None, vocabulary=None)),\n",
      "                ('tfidf',\n",
      "                 TfidfTransformer(norm='l2', smooth_idf=True,\n",
      "                                  sublinear_tf=False, use_idf=True)),\n",
      "                ('clf',\n",
      "                 MultinomialNB(alpha=1.0, class_prior=None, fit_prior=True))],\n",
      "         verbose=False)>\n",
      "Final accuracy for:  Naive Bayes\n",
      "0.85444\n",
      "Time taken:  20.276583909988403\n"
     ]
    }
   ],
   "source": [
    "nb_parameters = {\n",
    "'vect__ngram_range': (1,2),\n",
    "'vect__stop_words': 'english',\n",
    "'tfidf__use_idf': True,\n",
    "}\n",
    "\n",
    "nb = MultinomialNB()\n",
    "\n",
    "get_final_accuracy(imdb_train, imdb_test, nb, 'Naive Bayes', nb_parameters)"
   ]
  },
  {
   "cell_type": "markdown",
   "metadata": {},
   "source": [
    "### Naive Bayes IMDb --- Unigrams, Bigrams, Trigrams"
   ]
  },
  {
   "cell_type": "code",
   "execution_count": 81,
   "metadata": {},
   "outputs": [
    {
     "name": "stdout",
     "output_type": "stream",
     "text": [
      "About to fit  Naive Bayes  with  <bound method Pipeline.get_params of Pipeline(memory=None,\n",
      "         steps=[('vect',\n",
      "                 CountVectorizer(analyzer='word', binary=False,\n",
      "                                 decode_error='strict',\n",
      "                                 dtype=<class 'numpy.int64'>, encoding='utf-8',\n",
      "                                 input='content', lowercase=True, max_df=1.0,\n",
      "                                 max_features=None, min_df=1,\n",
      "                                 ngram_range=(1, 3), preprocessor=None,\n",
      "                                 stop_words='english', strip_accents=None,\n",
      "                                 token_pattern='(?u)\\\\b\\\\w\\\\w+\\\\b',\n",
      "                                 tokenizer=None, vocabulary=None)),\n",
      "                ('tfidf',\n",
      "                 TfidfTransformer(norm='l2', smooth_idf=True,\n",
      "                                  sublinear_tf=False, use_idf=True)),\n",
      "                ('clf',\n",
      "                 MultinomialNB(alpha=1.0, class_prior=None, fit_prior=True))],\n",
      "         verbose=False)>\n",
      "Final accuracy for:  Naive Bayes\n",
      "0.8572\n",
      "Time taken:  34.51307034492493\n"
     ]
    }
   ],
   "source": [
    "nb_parameters = {\n",
    "'vect__ngram_range': (1,3),\n",
    "'vect__stop_words': 'english',\n",
    "'tfidf__use_idf': True,\n",
    "}\n",
    "\n",
    "nb = MultinomialNB()\n",
    "\n",
    "get_final_accuracy(imdb_train, imdb_test, nb, 'Naive Bayes', nb_parameters)"
   ]
  },
  {
   "cell_type": "code",
   "execution_count": null,
   "metadata": {},
   "outputs": [],
   "source": []
  }
 ],
 "metadata": {
  "kernelspec": {
   "display_name": "Python 3",
   "language": "python",
   "name": "python3"
  },
  "language_info": {
   "codemirror_mode": {
    "name": "ipython",
    "version": 3
   },
   "file_extension": ".py",
   "mimetype": "text/x-python",
   "name": "python",
   "nbconvert_exporter": "python",
   "pygments_lexer": "ipython3",
   "version": "3.7.4"
  }
 },
 "nbformat": 4,
 "nbformat_minor": 2
}
