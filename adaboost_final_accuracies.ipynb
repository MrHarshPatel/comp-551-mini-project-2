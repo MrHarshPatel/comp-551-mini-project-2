{
 "cells": [
  {
   "cell_type": "code",
   "execution_count": 1,
   "metadata": {},
   "outputs": [],
   "source": [
    "import numpy as np\n",
    "import time\n",
    "import pandas as pd\n",
    "from sklearn.datasets import fetch_20newsgroups \n",
    "\n",
    "from sklearn.feature_extraction.text import CountVectorizer \n",
    "from sklearn.feature_extraction.text import TfidfTransformer \n",
    "\n",
    "from sklearn.linear_model import SGDClassifier \n",
    "from sklearn.pipeline import Pipeline\n",
    "from sklearn.svm import LinearSVC\n",
    "from sklearn.linear_model import LogisticRegression\n",
    "from sklearn.ensemble import AdaBoostClassifier\n",
    "from sklearn.tree import DecisionTreeClassifier\n",
    "from sklearn.ensemble import RandomForestClassifier\n",
    "\n",
    "from sklearn.model_selection import GridSearchCV,RandomizedSearchCV\n"
   ]
  },
  {
   "cell_type": "code",
   "execution_count": 2,
   "metadata": {},
   "outputs": [],
   "source": [
    "categories = ['alt.atheism', 'soc.religion.christian', \n",
    "              'comp.graphics', 'sci.med']\n",
    "\n",
    "# currently looking at all categories \n",
    "twenty_train = fetch_20newsgroups(subset='train', shuffle=True, remove=('headers', 'footers', 'quotes'))\n",
    "twenty_test = fetch_20newsgroups(subset='test', shuffle=True, remove=('headers', 'footers', 'quotes'))\n",
    "\n",
    "# For IMDB \n",
    "train = pd.read_csv('train_IMDb.csv')\n",
    "test = pd.read_csv('test_IMDb.csv')"
   ]
  },
  {
   "cell_type": "code",
   "execution_count": 3,
   "metadata": {},
   "outputs": [],
   "source": [
    "class IMDB:\n",
    "    \n",
    "    def __init__(self,subset = 'train'):\n",
    "        if (subset == 'train'):\n",
    "            self.allData = train.to_numpy()\n",
    "        else:\n",
    "            self.allData = test.to_numpy()\n",
    "\n",
    "        np.random.shuffle(self.allData)\n",
    "\n",
    "        self.data = self.allData[:,0]\n",
    "        self.target = self.allData[:,1]\n",
    "        self.target=self.target.astype('int')"
   ]
  },
  {
   "cell_type": "code",
   "execution_count": 4,
   "metadata": {},
   "outputs": [],
   "source": [
    "imdb_train = IMDB()\n",
    "imdb_test = IMDB('test')"
   ]
  },
  {
   "cell_type": "code",
   "execution_count": 5,
   "metadata": {},
   "outputs": [],
   "source": [
    "model_names = ['SVM', 'Logistic Regression', 'AdaBoost', 'Decision Tree', 'Random Forest']\n",
    "\n",
    "# just need to add the FINAL PARAMETERS!!!!!!! \n",
    "models = [\n",
    "    LinearSVC(random_state=0,max_iter=2000),\n",
    "    LogisticRegression(random_state=0,max_iter=1000),\n",
    "    AdaBoostClassifier(n_estimators=50, learning_rate=1,random_state=0),\n",
    "    DecisionTreeClassifier(random_state=0),\n",
    "    RandomForestClassifier(max_depth=2, random_state=0)\n",
    "]"
   ]
  },
  {
   "cell_type": "code",
   "execution_count": 6,
   "metadata": {},
   "outputs": [],
   "source": [
    "def get_final_accuracy(train, test, estimator, model_name, parameters):\n",
    "    \n",
    "    adaboost = AdaBoostClassifier(random_state=0)\n",
    "    \n",
    "    start = time.time()\n",
    "\n",
    "    text_clf = Pipeline([('vect', CountVectorizer()),\n",
    "                                ('tfidf', TfidfTransformer()),\n",
    "                                ('clf', adaboost)])\n",
    "            \n",
    "        \n",
    "    text_clf.set_params(clf__base_estimator=estimator)\n",
    "    print(\"About to fit \",model_name, \" with \", text_clf.get_params)\n",
    "    text_clf.fit(train.data, train.target)\n",
    "    print(\"Final accuracy for: \", model_name)\n",
    "    print(text_clf.score(test.data, test.target))\n",
    "    print(\"Time taken: \", time.time()-start)"
   ]
  },
  {
   "cell_type": "markdown",
   "metadata": {},
   "source": [
    "### Logistic Regression News"
   ]
  },
  {
   "cell_type": "code",
   "execution_count": null,
   "metadata": {},
   "outputs": [
    {
     "name": "stdout",
     "output_type": "stream",
     "text": [
      "About to fit  Adaboost Logistic Reg News  with  <bound method Pipeline.get_params of Pipeline(memory=None,\n",
      "         steps=[('vect',\n",
      "                 CountVectorizer(analyzer='word', binary=False,\n",
      "                                 decode_error='strict',\n",
      "                                 dtype=<class 'numpy.int64'>, encoding='utf-8',\n",
      "                                 input='content', lowercase=True, max_df=1.0,\n",
      "                                 max_features=None, min_df=1,\n",
      "                                 ngram_range=(1, 1), preprocessor=None,\n",
      "                                 stop_words=None, strip_accents=None,\n",
      "                                 token_pattern='(?u)\\\\b\\\\w\\\\w+\\\\b',\n",
      "                                 tokenizer=None, vocabulary=Non...\n",
      "                 AdaBoostClassifier(algorithm='SAMME.R',\n",
      "                                    base_estimator=LogisticRegression(C=60,\n",
      "                                                                      class_weight=None,\n",
      "                                                                      dual=False,\n",
      "                                                                      fit_intercept=True,\n",
      "                                                                      intercept_scaling=1,\n",
      "                                                                      l1_ratio=None,\n",
      "                                                                      max_iter=1000,\n",
      "                                                                      multi_class='auto',\n",
      "                                                                      n_jobs=None,\n",
      "                                                                      penalty='l2',\n",
      "                                                                      random_state=0,\n",
      "                                                                      solver='saga',\n",
      "                                                                      tol=0.0001,\n",
      "                                                                      verbose=0,\n",
      "                                                                      warm_start=False),\n",
      "                                    learning_rate=1.0, n_estimators=50,\n",
      "                                    random_state=0))],\n",
      "         verbose=False)>\n"
     ]
    },
    {
     "name": "stderr",
     "output_type": "stream",
     "text": [
      "/usr/local/lib/python3.6/dist-packages/sklearn/linear_model/_sag.py:330: ConvergenceWarning: The max_iter was reached which means the coef_ did not converge\n",
      "  \"the coef_ did not converge\", ConvergenceWarning)\n"
     ]
    }
   ],
   "source": [
    "lr_parameters = {\n",
    "    'vect__ngram_range': (1,2),\n",
    "    'vect__stop_words': 'english',\n",
    "    'tfidf__use_idf': True,\n",
    "}\n",
    "\n",
    "lr_news = LogisticRegression(random_state=0,max_iter=1000,C=60,penalty='l2',solver='saga')\n",
    "\n",
    "# Just testing\n",
    "get_final_accuracy(twenty_train, twenty_test, lr_news, 'Adaboost Logistic Reg News', lr_parameters)"
   ]
  },
  {
   "cell_type": "markdown",
   "metadata": {},
   "source": [
    "### Logistic Regression IMDB"
   ]
  },
  {
   "cell_type": "code",
   "execution_count": null,
   "metadata": {},
   "outputs": [],
   "source": [
    "lr_parameters = {\n",
    "    'vect__ngram_range': (1,2),\n",
    "    'vect__stop_words': 'english',\n",
    "    'tfidf__use_idf': True,\n",
    "}\n",
    "\n",
    "lr_imdb = LogisticRegression(random_state=0,max_iter=1000,C=55,penalty='l2',solver='saga')\n",
    "\n",
    "\n",
    "# Just testing\n",
    "get_final_accuracy(imdb_train, imdb_test, lr_imdb, 'Adaboost Logistic Reg IMDB', lr_parameters)"
   ]
  },
  {
   "cell_type": "markdown",
   "metadata": {},
   "source": [
    "### SVM News"
   ]
  },
  {
   "cell_type": "code",
   "execution_count": null,
   "metadata": {},
   "outputs": [],
   "source": [
    "svm_parameters = {\n",
    "    'vect__ngram_range': (1,2),\n",
    "    'vect__stop_words': 'english',\n",
    "    'tfidf__use_idf': True,\n",
    "    'clf__algorithm': 'SAMME'\n",
    "}\n",
    "\n",
    "svm_news = LinearSVC(random_state=0,max_iter=2000, C=75,loss='squared_hinge',penalty='l2')\n",
    "\n",
    "\n",
    "# Just testing\n",
    "get_final_accuracy(twenty_train, twenty_test, models[0], 'Adaboost Linear SVM News', svm_parameters)"
   ]
  },
  {
   "cell_type": "markdown",
   "metadata": {},
   "source": [
    "### SVM IMDb\n"
   ]
  },
  {
   "cell_type": "code",
   "execution_count": null,
   "metadata": {},
   "outputs": [],
   "source": [
    "svm_parameters = {\n",
    "    'vect__ngram_range': (1,2),\n",
    "    'vect__stop_words': 'english',\n",
    "    'tfidf__use_idf': True,\n",
    "    'clf__algorithm': 'SAMME'\n",
    "}\n",
    "\n",
    "svm_imdb = LinearSVC(random_state=0,max_iter=2000, C=5,loss='squared_hinge',penalty='l2')\n",
    "\n",
    "# Just testing\n",
    "get_final_accuracy(imdb_train, imdb_test, svm_imdb, 'Adaboost Linear SVM IMDb', svm_parameters)"
   ]
  },
  {
   "cell_type": "markdown",
   "metadata": {},
   "source": [
    "### Decision Tree News\n"
   ]
  },
  {
   "cell_type": "code",
   "execution_count": null,
   "metadata": {},
   "outputs": [],
   "source": [
    "dt_parameters = {\n",
    "    'vect__ngram_range': (1,2),\n",
    "    'vect__stop_words': 'english',\n",
    "    'tfidf__use_idf': True,\n",
    "}\n",
    "        \n",
    "dt_news = DecisionTreeClassifier(random_state=0, max_depth=15, max_features=None, min_impurity_decrease=0.0015)\n",
    "\n",
    "# Just testing\n",
    "get_final_accuracy(twenty_train, twenty_test, dt_news, 'Adaboost Decision Tree News', dt_parameters)"
   ]
  },
  {
   "cell_type": "markdown",
   "metadata": {},
   "source": [
    "### Decision Tree IMDb"
   ]
  },
  {
   "cell_type": "code",
   "execution_count": null,
   "metadata": {},
   "outputs": [],
   "source": [
    "dt_parameters = {\n",
    "    'vect__ngram_range': (1,2),\n",
    "    'vect__stop_words': 'english',\n",
    "    'tfidf__use_idf': True,\n",
    "}\n",
    "\n",
    "dt_imdb = DecisionTreeClassifier(random_state=0, max_depth=40, max_features=None, min_impurity_decrease=0.0005)\n",
    "\n",
    "# Just testing\n",
    "get_final_accuracy(imdb_train, imdb_test, dt_imdb, 'Adaboost Decision Tree IMDb', dt_parameters)"
   ]
  },
  {
   "cell_type": "markdown",
   "metadata": {},
   "source": [
    "### Random Forest News"
   ]
  },
  {
   "cell_type": "code",
   "execution_count": null,
   "metadata": {},
   "outputs": [],
   "source": [
    "rf_parameters = {\n",
    "    'vect__ngram_range': (1,2),\n",
    "    'vect__stop_words': 'english',\n",
    "    'tfidf__use_idf': True,\n",
    "\n",
    "}\n",
    "\n",
    "    'clf__bootstrap': False,\n",
    "    'clf__max_depth': None,\n",
    "    'clf__max_features': 'auto',\n",
    "    'clf__min_samples_split': 10, \n",
    "    'clf__n_estimators': 800\n",
    "        \n",
    "rf_news = RandomForestClassifier(max_depth=None, random_state=0, bootstrap=False, max_features='auto', min_samples_split=10,n_estimators=800)\n",
    "\n",
    "# Just testing\n",
    "get_final_accuracy(twenty_train, twenty_test, models[3], 'Random Forest News', rf_parameters)"
   ]
  },
  {
   "cell_type": "markdown",
   "metadata": {},
   "source": [
    "### Random Forest IMDb"
   ]
  },
  {
   "cell_type": "code",
   "execution_count": null,
   "metadata": {},
   "outputs": [],
   "source": []
  },
  {
   "cell_type": "markdown",
   "metadata": {},
   "source": [
    "### Naive Bayes News"
   ]
  },
  {
   "cell_type": "code",
   "execution_count": null,
   "metadata": {},
   "outputs": [],
   "source": []
  }
 ],
 "metadata": {
  "kernelspec": {
   "display_name": "Python 3",
   "language": "python",
   "name": "python3"
  },
  "language_info": {
   "codemirror_mode": {
    "name": "ipython",
    "version": 3
   },
   "file_extension": ".py",
   "mimetype": "text/x-python",
   "name": "python",
   "nbconvert_exporter": "python",
   "pygments_lexer": "ipython3",
   "version": "3.6.8"
  }
 },
 "nbformat": 4,
 "nbformat_minor": 2
}
