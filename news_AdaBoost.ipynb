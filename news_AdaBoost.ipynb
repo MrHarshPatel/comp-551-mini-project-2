{
 "cells": [
  {
   "cell_type": "code",
   "execution_count": 1,
   "metadata": {},
   "outputs": [],
   "source": [
    "import numpy as np\n",
    "import time\n",
    "from sklearn.datasets import fetch_20newsgroups \n",
    "\n",
    "from sklearn.feature_extraction.text import CountVectorizer \n",
    "from sklearn.feature_extraction.text import TfidfTransformer \n",
    "\n",
    "from sklearn.linear_model import SGDClassifier \n",
    "from sklearn.pipeline import Pipeline\n",
    "from sklearn.svm import LinearSVC\n",
    "from sklearn.linear_model import LogisticRegression\n",
    "from sklearn.ensemble import AdaBoostClassifier\n",
    "from sklearn.tree import DecisionTreeClassifier\n",
    "from sklearn.ensemble import RandomForestClassifier\n",
    "\n",
    "from sklearn.model_selection import GridSearchCV,RandomizedSearchCV"
   ]
  },
  {
   "cell_type": "code",
   "execution_count": 2,
   "metadata": {},
   "outputs": [],
   "source": [
    "categories = ['alt.atheism', 'soc.religion.christian', \n",
    "              'comp.graphics', 'sci.med']\n",
    "\n",
    "# currently looking at all categories \n",
    "twenty_train = fetch_20newsgroups(subset='train', shuffle=True, remove=('headers', 'footers', 'quotes'))\n",
    "twenty_test = fetch_20newsgroups(subset='test', shuffle=True, remove=('headers', 'footers', 'quotes'))\n"
   ]
  },
  {
   "cell_type": "code",
   "execution_count": 3,
   "metadata": {},
   "outputs": [],
   "source": [
    "ensembleModels_names = ['AdaBoost']#we can add bagging here if we want later\n",
    "\n",
    "ensembleModels = [\n",
    "    AdaBoostClassifier(random_state=0)\n",
    "]\n",
    "\n",
    "baseEstimators_names = ['SVM', 'Logistic Regression', 'Random Forest','Decision Tree']\n",
    "\n",
    "#add the optimal paramaters once we finish our gridSearch\n",
    "baseEstimators = [\n",
    "    LinearSVC(C=80,penalty = 'l2',loss = 'squared_hinge',random_state=0),\n",
    "    LogisticRegression(random_state=0),\n",
    "    RandomForestClassifier(max_depth=2, random_state=0),\n",
    "    DecisionTreeClassifier(random_state=0)\n",
    "]"
   ]
  },
  {
   "cell_type": "code",
   "execution_count": 4,
   "metadata": {},
   "outputs": [],
   "source": [
    "def runAdaBoost(parameter_grids, models, model_names):\n",
    "    start = time.time()\n",
    "    i = 0\n",
    "    best_scores = []\n",
    "    best_params = []\n",
    "    for model in models: \n",
    "        print(\"Currently training model: \", model_names[i])\n",
    "\n",
    "        text_clf = Pipeline([('vect', CountVectorizer()),\n",
    "                            ('tfidf', TfidfTransformer()),\n",
    "                            ('clf', model)])\n",
    "\n",
    "        _  = text_clf.fit(twenty_train.data, twenty_train.target)    \n",
    "\n",
    "        gs_clf = GridSearchCV(text_clf, parameter_grids[i], n_jobs=-1, cv=3,error_score=0.0)\n",
    "        gs_clf = gs_clf.fit(twenty_train.data, twenty_train.target)\n",
    "\n",
    "        best_scores.append(gs_clf.best_score_)\n",
    "        best_params.append(gs_clf.best_params_)\n",
    "\n",
    "        print(\"Time taken: \", time.time()-start)\n",
    "        print(\"Best score : \", gs_clf.best_score_)\n",
    "        print(\"Best params: \", gs_clf.best_params_)\n",
    "        print(\"\\n\\n\")\n",
    "\n",
    "        i+=1\n",
    "    "
   ]
  },
  {
   "cell_type": "markdown",
   "metadata": {},
   "source": [
    "### Linear AdaBoost "
   ]
  },
  {
   "cell_type": "code",
   "execution_count": 5,
   "metadata": {},
   "outputs": [],
   "source": [
    "#adjust the vect/tfidf to be optimal for each model (stop words, ngram)\n",
    "Ada_linear_svc = [\n",
    "    {\n",
    "        'vect__ngram_range': [(1,2)],\n",
    "        'vect__stop_words': ['english'],\n",
    "        'tfidf__use_idf': [True],\n",
    "        'clf__base_estimator': [baseEstimators[0]], #adjust the index to switch to other base_estimators\n",
    "        \n",
    "        #AdaBoost Paramaters\n",
    "        'clf__algorithm': ['SAMME'], #SVC is a strong learner, so this is needed, possibly will overfit\n",
    "        'clf__n_estimators': [50, 100],\n",
    "        'clf__learning_rate' : [0.01,0.05,0.1,0.3,1],\n",
    "    }\n",
    "]"
   ]
  },
  {
   "cell_type": "code",
   "execution_count": null,
   "metadata": {},
   "outputs": [
    {
     "name": "stdout",
     "output_type": "stream",
     "text": [
      "Currently training model:  AdaBoost\n"
     ]
    }
   ],
   "source": [
    "runAdaBoost(Ada_linear_svc, [ensembleModels[0]], [ensembleModels_names[0]])"
   ]
  },
  {
   "cell_type": "markdown",
   "metadata": {},
   "source": [
    "### Logistic Regression AdaBoost"
   ]
  },
  {
   "cell_type": "code",
   "execution_count": null,
   "metadata": {},
   "outputs": [],
   "source": [
    "#adjust the vect/tfidf to be optimal for each model (stop words, ngram)\n",
    "Ada_Logistic_Reg = [\n",
    "    {\n",
    "        'vect__ngram_range': [(1,2)],\n",
    "        'vect__stop_words': ['english'],\n",
    "        'tfidf__use_idf': [True],\n",
    "        'clf__base_estimator': [baseEstimators[1]], #adjust the index to switch to other base_estimators\n",
    "        \n",
    "        #AdaBoost Paramaters\n",
    "        'clf__n_estimators': [50, 100],\n",
    "        'clf__learning_rate' : [0.01,0.05,0.1,0.3,1],\n",
    "    }\n",
    "]"
   ]
  }
 ],
 "metadata": {
  "kernelspec": {
   "display_name": "Python 3",
   "language": "python",
   "name": "python3"
  },
  "language_info": {
   "codemirror_mode": {
    "name": "ipython",
    "version": 3
   },
   "file_extension": ".py",
   "mimetype": "text/x-python",
   "name": "python",
   "nbconvert_exporter": "python",
   "pygments_lexer": "ipython3",
   "version": "3.7.4"
  }
 },
 "nbformat": 4,
 "nbformat_minor": 2
}
